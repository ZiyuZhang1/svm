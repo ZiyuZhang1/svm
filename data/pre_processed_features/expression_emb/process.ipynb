{
 "cells": [
  {
   "cell_type": "code",
   "execution_count": 1,
   "metadata": {},
   "outputs": [],
   "source": [
    "import pandas as pd"
   ]
  },
  {
   "cell_type": "code",
   "execution_count": 2,
   "metadata": {},
   "outputs": [],
   "source": [
    "path = '/itf-fi-ml/shared/users/ziyuzh/svm/data/pre_processed_features/expression_emb/gene2vec_dim_200_iter_9.txt'\n",
    "\n",
    "# Read the data from the text file\n",
    "with open(path, 'r') as file:\n",
    "    lines = file.readlines()\n",
    "\n",
    "# Create a dictionary to store the data\n",
    "data_dict = {}\n",
    "\n",
    "# Loop through each line and capture the information in the dictionary\n",
    "for line in lines:\n",
    "    parts = line.strip().split('\\t')\n",
    "    key = parts[0]\n",
    "    values = list(map(float, parts[1].split()))\n",
    "    data_dict[key] = values\n",
    "\n",
    "# Convert the dictionary to a DataFrame\n",
    "df = pd.DataFrame.from_dict(data_dict, orient='index')\n"
   ]
  },
  {
   "cell_type": "code",
   "execution_count": 3,
   "metadata": {},
   "outputs": [],
   "source": [
    "import os\n",
    "local_stringdb = os.path.join('/itf-fi-ml/shared/users/ziyuzh/svm/data/stringdb','2023')\n",
    "\n",
    "ppidf = pd.read_csv(os.path.join(local_stringdb,'9606.protein.info.v12.0.txt'), sep='\\t', header=0, usecols=['#string_protein_id', 'preferred_name'])\n",
    "ppidf['preferred_name'] = ppidf['preferred_name'].str.upper()\n",
    "stringId2name = ppidf.set_index('#string_protein_id')['preferred_name'].to_dict()\n",
    "name2stringId = ppidf.set_index('preferred_name')['#string_protein_id'].to_dict()\n",
    "ppidf = pd.read_csv(os.path.join(local_stringdb,'9606.protein.aliases.v12.0.txt'), sep='\\t', header=0, usecols=['#string_protein_id', 'alias']).drop_duplicates(['alias'], keep='first')\n",
    "ppidf['alias'] = ppidf['alias'].str.upper()\n",
    "aliases2stringId = ppidf.set_index('alias')['#string_protein_id'].to_dict()\n",
    "\n",
    "def string_convert(gene):\n",
    "    if gene in name2stringId.keys():\n",
    "        return name2stringId[gene]\n",
    "    elif gene in aliases2stringId.keys():\n",
    "        return aliases2stringId[gene]\n",
    "    else:\n",
    "        return None\n",
    "    \n"
   ]
  },
  {
   "cell_type": "code",
   "execution_count": 4,
   "metadata": {},
   "outputs": [
    {
     "data": {
      "text/plain": [
       "(24447, 200)"
      ]
     },
     "execution_count": 4,
     "metadata": {},
     "output_type": "execute_result"
    }
   ],
   "source": [
    "df.shape"
   ]
  },
  {
   "cell_type": "code",
   "execution_count": 5,
   "metadata": {},
   "outputs": [
    {
     "data": {
      "text/plain": [
       "(24447, 201)"
      ]
     },
     "execution_count": 5,
     "metadata": {},
     "output_type": "execute_result"
    }
   ],
   "source": [
    "string_dict = dict()\n",
    "for gene in df.index.tolist():\n",
    "    string_dict[gene] = string_convert(gene)\n",
    "df['string_id'] = df.index.map(string_dict)\n",
    "df.shape"
   ]
  },
  {
   "cell_type": "code",
   "execution_count": 19,
   "metadata": {},
   "outputs": [
    {
     "data": {
      "text/plain": [
       "17481"
      ]
     },
     "execution_count": 19,
     "metadata": {},
     "output_type": "execute_result"
    }
   ],
   "source": [
    "df[~df['string_id'].isna()]['string_id'].nunique()"
   ]
  },
  {
   "cell_type": "code",
   "execution_count": 6,
   "metadata": {},
   "outputs": [
    {
     "data": {
      "text/plain": [
       "17622"
      ]
     },
     "execution_count": 6,
     "metadata": {},
     "output_type": "execute_result"
    }
   ],
   "source": [
    "df = df.dropna(subset='string_id')\n",
    "len(df)"
   ]
  },
  {
   "cell_type": "code",
   "execution_count": 7,
   "metadata": {},
   "outputs": [
    {
     "data": {
      "text/plain": [
       "17481"
      ]
     },
     "execution_count": 7,
     "metadata": {},
     "output_type": "execute_result"
    }
   ],
   "source": [
    "df_unique = df.drop_duplicates(subset='string_id')\n",
    "len(df_unique)"
   ]
  },
  {
   "cell_type": "code",
   "execution_count": 8,
   "metadata": {},
   "outputs": [],
   "source": [
    "# Assuming you have a DataFrame df and a dictionary name2stringId\n",
    "# Find duplicated rows based on 'string_id'\n",
    "duplicated_rows = df[df.duplicated(subset='string_id', keep=False)]\n",
    "\n",
    "# Filter rows based on the condition\n",
    "rows_to_keep = duplicated_rows.index.isin(name2stringId.keys())\n",
    "\n",
    "# Create a new DataFrame with the rows to keep\n",
    "df_filtered = duplicated_rows[rows_to_keep]\n",
    "\n",
    "# If you want to remove these from the original df:\n",
    "df = df.drop(df.index.difference(df_filtered.index))\n",
    "\n",
    "# Alternatively, if you want only the remaining DataFrame:\n",
    "# df_filtered will be your final DataFrame with rows you want to keep\n"
   ]
  },
  {
   "cell_type": "code",
   "execution_count": 9,
   "metadata": {},
   "outputs": [
    {
     "data": {
      "text/plain": [
       "95"
      ]
     },
     "execution_count": 9,
     "metadata": {},
     "output_type": "execute_result"
    }
   ],
   "source": [
    "len(df)"
   ]
  },
  {
   "cell_type": "code",
   "execution_count": 10,
   "metadata": {},
   "outputs": [
    {
     "data": {
      "text/plain": [
       "17576"
      ]
     },
     "execution_count": 10,
     "metadata": {},
     "output_type": "execute_result"
    }
   ],
   "source": [
    "df_combined = pd.concat([df_unique, df], axis=0)\n",
    "len(df_combined)"
   ]
  },
  {
   "cell_type": "code",
   "execution_count": 11,
   "metadata": {},
   "outputs": [
    {
     "data": {
      "application/vnd.microsoft.datawrangler.viewer.v0+json": {
       "columns": [
        {
         "name": "index",
         "rawType": "object",
         "type": "string"
        },
        {
         "name": "0",
         "rawType": "float64",
         "type": "float"
        },
        {
         "name": "1",
         "rawType": "float64",
         "type": "float"
        },
        {
         "name": "2",
         "rawType": "float64",
         "type": "float"
        },
        {
         "name": "3",
         "rawType": "float64",
         "type": "float"
        },
        {
         "name": "4",
         "rawType": "float64",
         "type": "float"
        },
        {
         "name": "5",
         "rawType": "float64",
         "type": "float"
        },
        {
         "name": "6",
         "rawType": "float64",
         "type": "float"
        },
        {
         "name": "7",
         "rawType": "float64",
         "type": "float"
        },
        {
         "name": "8",
         "rawType": "float64",
         "type": "float"
        },
        {
         "name": "9",
         "rawType": "float64",
         "type": "float"
        },
        {
         "name": "10",
         "rawType": "float64",
         "type": "float"
        },
        {
         "name": "11",
         "rawType": "float64",
         "type": "float"
        },
        {
         "name": "12",
         "rawType": "float64",
         "type": "float"
        },
        {
         "name": "13",
         "rawType": "float64",
         "type": "float"
        },
        {
         "name": "14",
         "rawType": "float64",
         "type": "float"
        },
        {
         "name": "15",
         "rawType": "float64",
         "type": "float"
        },
        {
         "name": "16",
         "rawType": "float64",
         "type": "float"
        },
        {
         "name": "17",
         "rawType": "float64",
         "type": "float"
        },
        {
         "name": "18",
         "rawType": "float64",
         "type": "float"
        },
        {
         "name": "19",
         "rawType": "float64",
         "type": "float"
        },
        {
         "name": "20",
         "rawType": "float64",
         "type": "float"
        },
        {
         "name": "21",
         "rawType": "float64",
         "type": "float"
        },
        {
         "name": "22",
         "rawType": "float64",
         "type": "float"
        },
        {
         "name": "23",
         "rawType": "float64",
         "type": "float"
        },
        {
         "name": "24",
         "rawType": "float64",
         "type": "float"
        },
        {
         "name": "25",
         "rawType": "float64",
         "type": "float"
        },
        {
         "name": "26",
         "rawType": "float64",
         "type": "float"
        },
        {
         "name": "27",
         "rawType": "float64",
         "type": "float"
        },
        {
         "name": "28",
         "rawType": "float64",
         "type": "float"
        },
        {
         "name": "29",
         "rawType": "float64",
         "type": "float"
        },
        {
         "name": "30",
         "rawType": "float64",
         "type": "float"
        },
        {
         "name": "31",
         "rawType": "float64",
         "type": "float"
        },
        {
         "name": "32",
         "rawType": "float64",
         "type": "float"
        },
        {
         "name": "33",
         "rawType": "float64",
         "type": "float"
        },
        {
         "name": "34",
         "rawType": "float64",
         "type": "float"
        },
        {
         "name": "35",
         "rawType": "float64",
         "type": "float"
        },
        {
         "name": "36",
         "rawType": "float64",
         "type": "float"
        },
        {
         "name": "37",
         "rawType": "float64",
         "type": "float"
        },
        {
         "name": "38",
         "rawType": "float64",
         "type": "float"
        },
        {
         "name": "39",
         "rawType": "float64",
         "type": "float"
        },
        {
         "name": "40",
         "rawType": "float64",
         "type": "float"
        },
        {
         "name": "41",
         "rawType": "float64",
         "type": "float"
        },
        {
         "name": "42",
         "rawType": "float64",
         "type": "float"
        },
        {
         "name": "43",
         "rawType": "float64",
         "type": "float"
        },
        {
         "name": "44",
         "rawType": "float64",
         "type": "float"
        },
        {
         "name": "45",
         "rawType": "float64",
         "type": "float"
        },
        {
         "name": "46",
         "rawType": "float64",
         "type": "float"
        },
        {
         "name": "47",
         "rawType": "float64",
         "type": "float"
        },
        {
         "name": "48",
         "rawType": "float64",
         "type": "float"
        },
        {
         "name": "49",
         "rawType": "float64",
         "type": "float"
        },
        {
         "name": "50",
         "rawType": "float64",
         "type": "float"
        },
        {
         "name": "51",
         "rawType": "float64",
         "type": "float"
        },
        {
         "name": "52",
         "rawType": "float64",
         "type": "float"
        },
        {
         "name": "53",
         "rawType": "float64",
         "type": "float"
        },
        {
         "name": "54",
         "rawType": "float64",
         "type": "float"
        },
        {
         "name": "55",
         "rawType": "float64",
         "type": "float"
        },
        {
         "name": "56",
         "rawType": "float64",
         "type": "float"
        },
        {
         "name": "57",
         "rawType": "float64",
         "type": "float"
        },
        {
         "name": "58",
         "rawType": "float64",
         "type": "float"
        },
        {
         "name": "59",
         "rawType": "float64",
         "type": "float"
        },
        {
         "name": "60",
         "rawType": "float64",
         "type": "float"
        },
        {
         "name": "61",
         "rawType": "float64",
         "type": "float"
        },
        {
         "name": "62",
         "rawType": "float64",
         "type": "float"
        },
        {
         "name": "63",
         "rawType": "float64",
         "type": "float"
        },
        {
         "name": "64",
         "rawType": "float64",
         "type": "float"
        },
        {
         "name": "65",
         "rawType": "float64",
         "type": "float"
        },
        {
         "name": "66",
         "rawType": "float64",
         "type": "float"
        },
        {
         "name": "67",
         "rawType": "float64",
         "type": "float"
        },
        {
         "name": "68",
         "rawType": "float64",
         "type": "float"
        },
        {
         "name": "69",
         "rawType": "float64",
         "type": "float"
        },
        {
         "name": "70",
         "rawType": "float64",
         "type": "float"
        },
        {
         "name": "71",
         "rawType": "float64",
         "type": "float"
        },
        {
         "name": "72",
         "rawType": "float64",
         "type": "float"
        },
        {
         "name": "73",
         "rawType": "float64",
         "type": "float"
        },
        {
         "name": "74",
         "rawType": "float64",
         "type": "float"
        },
        {
         "name": "75",
         "rawType": "float64",
         "type": "float"
        },
        {
         "name": "76",
         "rawType": "float64",
         "type": "float"
        },
        {
         "name": "77",
         "rawType": "float64",
         "type": "float"
        },
        {
         "name": "78",
         "rawType": "float64",
         "type": "float"
        },
        {
         "name": "79",
         "rawType": "float64",
         "type": "float"
        },
        {
         "name": "80",
         "rawType": "float64",
         "type": "float"
        },
        {
         "name": "81",
         "rawType": "float64",
         "type": "float"
        },
        {
         "name": "82",
         "rawType": "float64",
         "type": "float"
        },
        {
         "name": "83",
         "rawType": "float64",
         "type": "float"
        },
        {
         "name": "84",
         "rawType": "float64",
         "type": "float"
        },
        {
         "name": "85",
         "rawType": "float64",
         "type": "float"
        },
        {
         "name": "86",
         "rawType": "float64",
         "type": "float"
        },
        {
         "name": "87",
         "rawType": "float64",
         "type": "float"
        },
        {
         "name": "88",
         "rawType": "float64",
         "type": "float"
        },
        {
         "name": "89",
         "rawType": "float64",
         "type": "float"
        },
        {
         "name": "90",
         "rawType": "float64",
         "type": "float"
        },
        {
         "name": "91",
         "rawType": "float64",
         "type": "float"
        },
        {
         "name": "92",
         "rawType": "float64",
         "type": "float"
        },
        {
         "name": "93",
         "rawType": "float64",
         "type": "float"
        },
        {
         "name": "94",
         "rawType": "float64",
         "type": "float"
        },
        {
         "name": "95",
         "rawType": "float64",
         "type": "float"
        },
        {
         "name": "96",
         "rawType": "float64",
         "type": "float"
        },
        {
         "name": "97",
         "rawType": "float64",
         "type": "float"
        },
        {
         "name": "98",
         "rawType": "float64",
         "type": "float"
        },
        {
         "name": "99",
         "rawType": "float64",
         "type": "float"
        },
        {
         "name": "100",
         "rawType": "float64",
         "type": "float"
        },
        {
         "name": "101",
         "rawType": "float64",
         "type": "float"
        },
        {
         "name": "102",
         "rawType": "float64",
         "type": "float"
        },
        {
         "name": "103",
         "rawType": "float64",
         "type": "float"
        },
        {
         "name": "104",
         "rawType": "float64",
         "type": "float"
        },
        {
         "name": "105",
         "rawType": "float64",
         "type": "float"
        },
        {
         "name": "106",
         "rawType": "float64",
         "type": "float"
        },
        {
         "name": "107",
         "rawType": "float64",
         "type": "float"
        },
        {
         "name": "108",
         "rawType": "float64",
         "type": "float"
        },
        {
         "name": "109",
         "rawType": "float64",
         "type": "float"
        },
        {
         "name": "110",
         "rawType": "float64",
         "type": "float"
        },
        {
         "name": "111",
         "rawType": "float64",
         "type": "float"
        },
        {
         "name": "112",
         "rawType": "float64",
         "type": "float"
        },
        {
         "name": "113",
         "rawType": "float64",
         "type": "float"
        },
        {
         "name": "114",
         "rawType": "float64",
         "type": "float"
        },
        {
         "name": "115",
         "rawType": "float64",
         "type": "float"
        },
        {
         "name": "116",
         "rawType": "float64",
         "type": "float"
        },
        {
         "name": "117",
         "rawType": "float64",
         "type": "float"
        },
        {
         "name": "118",
         "rawType": "float64",
         "type": "float"
        },
        {
         "name": "119",
         "rawType": "float64",
         "type": "float"
        },
        {
         "name": "120",
         "rawType": "float64",
         "type": "float"
        },
        {
         "name": "121",
         "rawType": "float64",
         "type": "float"
        },
        {
         "name": "122",
         "rawType": "float64",
         "type": "float"
        },
        {
         "name": "123",
         "rawType": "float64",
         "type": "float"
        },
        {
         "name": "124",
         "rawType": "float64",
         "type": "float"
        },
        {
         "name": "125",
         "rawType": "float64",
         "type": "float"
        },
        {
         "name": "126",
         "rawType": "float64",
         "type": "float"
        },
        {
         "name": "127",
         "rawType": "float64",
         "type": "float"
        },
        {
         "name": "128",
         "rawType": "float64",
         "type": "float"
        },
        {
         "name": "129",
         "rawType": "float64",
         "type": "float"
        },
        {
         "name": "130",
         "rawType": "float64",
         "type": "float"
        },
        {
         "name": "131",
         "rawType": "float64",
         "type": "float"
        },
        {
         "name": "132",
         "rawType": "float64",
         "type": "float"
        },
        {
         "name": "133",
         "rawType": "float64",
         "type": "float"
        },
        {
         "name": "134",
         "rawType": "float64",
         "type": "float"
        },
        {
         "name": "135",
         "rawType": "float64",
         "type": "float"
        },
        {
         "name": "136",
         "rawType": "float64",
         "type": "float"
        },
        {
         "name": "137",
         "rawType": "float64",
         "type": "float"
        },
        {
         "name": "138",
         "rawType": "float64",
         "type": "float"
        },
        {
         "name": "139",
         "rawType": "float64",
         "type": "float"
        },
        {
         "name": "140",
         "rawType": "float64",
         "type": "float"
        },
        {
         "name": "141",
         "rawType": "float64",
         "type": "float"
        },
        {
         "name": "142",
         "rawType": "float64",
         "type": "float"
        },
        {
         "name": "143",
         "rawType": "float64",
         "type": "float"
        },
        {
         "name": "144",
         "rawType": "float64",
         "type": "float"
        },
        {
         "name": "145",
         "rawType": "float64",
         "type": "float"
        },
        {
         "name": "146",
         "rawType": "float64",
         "type": "float"
        },
        {
         "name": "147",
         "rawType": "float64",
         "type": "float"
        },
        {
         "name": "148",
         "rawType": "float64",
         "type": "float"
        },
        {
         "name": "149",
         "rawType": "float64",
         "type": "float"
        },
        {
         "name": "150",
         "rawType": "float64",
         "type": "float"
        },
        {
         "name": "151",
         "rawType": "float64",
         "type": "float"
        },
        {
         "name": "152",
         "rawType": "float64",
         "type": "float"
        },
        {
         "name": "153",
         "rawType": "float64",
         "type": "float"
        },
        {
         "name": "154",
         "rawType": "float64",
         "type": "float"
        },
        {
         "name": "155",
         "rawType": "float64",
         "type": "float"
        },
        {
         "name": "156",
         "rawType": "float64",
         "type": "float"
        },
        {
         "name": "157",
         "rawType": "float64",
         "type": "float"
        },
        {
         "name": "158",
         "rawType": "float64",
         "type": "float"
        },
        {
         "name": "159",
         "rawType": "float64",
         "type": "float"
        },
        {
         "name": "160",
         "rawType": "float64",
         "type": "float"
        },
        {
         "name": "161",
         "rawType": "float64",
         "type": "float"
        },
        {
         "name": "162",
         "rawType": "float64",
         "type": "float"
        },
        {
         "name": "163",
         "rawType": "float64",
         "type": "float"
        },
        {
         "name": "164",
         "rawType": "float64",
         "type": "float"
        },
        {
         "name": "165",
         "rawType": "float64",
         "type": "float"
        },
        {
         "name": "166",
         "rawType": "float64",
         "type": "float"
        },
        {
         "name": "167",
         "rawType": "float64",
         "type": "float"
        },
        {
         "name": "168",
         "rawType": "float64",
         "type": "float"
        },
        {
         "name": "169",
         "rawType": "float64",
         "type": "float"
        },
        {
         "name": "170",
         "rawType": "float64",
         "type": "float"
        },
        {
         "name": "171",
         "rawType": "float64",
         "type": "float"
        },
        {
         "name": "172",
         "rawType": "float64",
         "type": "float"
        },
        {
         "name": "173",
         "rawType": "float64",
         "type": "float"
        },
        {
         "name": "174",
         "rawType": "float64",
         "type": "float"
        },
        {
         "name": "175",
         "rawType": "float64",
         "type": "float"
        },
        {
         "name": "176",
         "rawType": "float64",
         "type": "float"
        },
        {
         "name": "177",
         "rawType": "float64",
         "type": "float"
        },
        {
         "name": "178",
         "rawType": "float64",
         "type": "float"
        },
        {
         "name": "179",
         "rawType": "float64",
         "type": "float"
        },
        {
         "name": "180",
         "rawType": "float64",
         "type": "float"
        },
        {
         "name": "181",
         "rawType": "float64",
         "type": "float"
        },
        {
         "name": "182",
         "rawType": "float64",
         "type": "float"
        },
        {
         "name": "183",
         "rawType": "float64",
         "type": "float"
        },
        {
         "name": "184",
         "rawType": "float64",
         "type": "float"
        },
        {
         "name": "185",
         "rawType": "float64",
         "type": "float"
        },
        {
         "name": "186",
         "rawType": "float64",
         "type": "float"
        },
        {
         "name": "187",
         "rawType": "float64",
         "type": "float"
        },
        {
         "name": "188",
         "rawType": "float64",
         "type": "float"
        },
        {
         "name": "189",
         "rawType": "float64",
         "type": "float"
        },
        {
         "name": "190",
         "rawType": "float64",
         "type": "float"
        },
        {
         "name": "191",
         "rawType": "float64",
         "type": "float"
        },
        {
         "name": "192",
         "rawType": "float64",
         "type": "float"
        },
        {
         "name": "193",
         "rawType": "float64",
         "type": "float"
        },
        {
         "name": "194",
         "rawType": "float64",
         "type": "float"
        },
        {
         "name": "195",
         "rawType": "float64",
         "type": "float"
        },
        {
         "name": "196",
         "rawType": "float64",
         "type": "float"
        },
        {
         "name": "197",
         "rawType": "float64",
         "type": "float"
        },
        {
         "name": "198",
         "rawType": "float64",
         "type": "float"
        },
        {
         "name": "199",
         "rawType": "float64",
         "type": "float"
        },
        {
         "name": "string_id",
         "rawType": "object",
         "type": "string"
        }
       ],
       "conversionMethod": "pd.DataFrame",
       "ref": "255fbc56-5a8f-4912-8d79-c0b740066a36",
       "rows": [
        [
         "CISD3",
         "0.14881516",
         "-0.10039369",
         "0.13984413",
         "-0.15674932",
         "-0.0008145623",
         "0.115267",
         "0.101777524",
         "0.15858003",
         "0.28784156",
         "0.049861126",
         "0.05508068",
         "0.31938317",
         "0.0744167",
         "-0.46276715",
         "-0.080828585",
         "-0.23749486",
         "-0.2757898",
         "-0.111326754",
         "0.2443317",
         "0.29209268",
         "-0.18827976",
         "-0.09697722",
         "-0.015499108",
         "0.14983544",
         "0.2944479",
         "-0.07906171",
         "0.08936186",
         "-0.09839872",
         "0.021313613",
         "0.14321515",
         "0.09088723",
         "-0.091501765",
         "-0.0066033495",
         "-0.2824887",
         "0.1760195",
         "-0.074847735",
         "0.020705208",
         "0.37253404",
         "-0.03844826",
         "-0.03785147",
         "-0.05852876",
         "0.073017046",
         "0.056950092",
         "0.06930716",
         "0.19125733",
         "0.2909663",
         "0.13598561",
         "0.12112752",
         "-0.34132877",
         "0.03415891",
         "0.021843588",
         "-0.09262081",
         "-0.25504604",
         "-0.010989919",
         "-0.1515521",
         "-0.26190028",
         "-0.31763238",
         "0.12580569",
         "-0.30054623",
         "-0.20776077",
         "-0.09150617",
         "0.074072964",
         "-0.205391",
         "0.08784759",
         "0.020208418",
         "-0.029549662",
         "-0.3229215",
         "0.006815554",
         "0.12319341",
         "-0.105861574",
         "-0.09661091",
         "0.2094022",
         "0.26805416",
         "-0.18681498",
         "0.010993058",
         "-0.029751176",
         "0.04035534",
         "0.19490501",
         "-0.0843781",
         "0.10869794",
         "0.08394316",
         "0.09527991",
         "-0.038133778",
         "-0.11532484",
         "0.25902018",
         "-0.092172705",
         "-0.12288964",
         "0.10135714",
         "0.024893878",
         "-0.31080955",
         "-0.008527259",
         "-0.22841126",
         "0.097972326",
         "-0.31300515",
         "-0.3093688",
         "0.2592903",
         "-0.085345306",
         "-0.0634123",
         "0.037406404",
         "0.17319846",
         "0.14496048",
         "0.1307142",
         "-0.21446149",
         "-0.43915352",
         "0.2645827",
         "-0.11521252",
         "0.18129806",
         "-0.062316008",
         "0.21656898",
         "0.059227407",
         "0.34988827",
         "-0.11914179",
         "-0.038567465",
         "0.07616172",
         "-0.053728238",
         "0.08024872",
         "-0.0035424565",
         "0.02239146",
         "-0.014923915",
         "-0.18861552",
         "-0.11011165",
         "0.29606223",
         "0.09745975",
         "-0.13019049",
         "-0.30811942",
         "-0.08660158",
         "-0.3487878",
         "-0.016953882",
         "0.044928502",
         "-0.13587753",
         "0.13477826",
         "-0.22136573",
         "0.0825674",
         "0.28926647",
         "-0.11770205",
         "-0.12085383",
         "0.2991895",
         "0.07317293",
         "0.2961024",
         "0.001530163",
         "-0.06986419",
         "-0.16693488",
         "0.32940742",
         "-0.026975151",
         "0.10843562",
         "-0.016099248",
         "-0.100580506",
         "0.011749377",
         "0.10955904",
         "-0.17139237",
         "0.13882478",
         "-0.01584757",
         "0.15362526",
         "-0.07099354",
         "0.0041354",
         "-0.26055875",
         "0.17677666",
         "-0.25485024",
         "0.022568142",
         "-0.33441892",
         "0.015814805",
         "0.15931341",
         "-0.52797043",
         "0.023783037",
         "0.15628645",
         "-0.34081724",
         "0.056533795",
         "-0.29654506",
         "0.23802084",
         "-0.058475576",
         "0.08998877",
         "-0.03774519",
         "-0.19230984",
         "0.10517092",
         "-0.3611655",
         "0.14624757",
         "-0.25329694",
         "-0.24722396",
         "0.14524513",
         "-0.13530537",
         "0.37481898",
         "-0.2593594",
         "0.045929704",
         "0.006426371",
         "0.013790457",
         "0.37829408",
         "-0.100395925",
         "-0.2675986",
         "0.3781749",
         "-0.08509002",
         "0.22786321",
         "0.0869678",
         "0.062115178",
         "0.31448886",
         "-0.14882381",
         "-0.121337585",
         "-0.24510562",
         "0.24789304",
         "-0.034497235",
         "0.038108572",
         "9606.ENSP00000483781"
        ],
        [
         "KDM1A",
         "-0.037153807",
         "0.038769744",
         "-0.10082144",
         "0.16551983",
         "0.32418764",
         "0.09591095",
         "0.09076634",
         "0.33621305",
         "0.33416617",
         "-0.29603058",
         "0.012117479",
         "0.05381308",
         "0.067572996",
         "0.12351878",
         "-0.040442873",
         "-0.38033512",
         "0.23932296",
         "-0.075632796",
         "-0.1966593",
         "-0.4040454",
         "0.03254523",
         "-0.30419165",
         "0.01633578",
         "-0.23002036",
         "0.06932319",
         "0.0043662162",
         "-0.3859902",
         "-0.15051536",
         "0.22380856",
         "-0.5984656",
         "-0.12555657",
         "-0.31916127",
         "0.009278463",
         "0.20234202",
         "0.2829377",
         "0.5901603",
         "-0.37841502",
         "0.20687456",
         "-0.013405023",
         "0.3738107",
         "0.51368034",
         "0.24411425",
         "-0.15106694",
         "-0.06360848",
         "-0.11113537",
         "-0.07734583",
         "0.038884234",
         "0.04555745",
         "-0.11803135",
         "0.32028762",
         "-0.13544223",
         "-0.15880604",
         "0.086261906",
         "-0.3189918",
         "-0.50293684",
         "0.32850233",
         "0.021329584",
         "0.4225297",
         "-0.29782692",
         "-0.22313558",
         "0.30496407",
         "0.0046207462",
         "0.13709746",
         "0.15834117",
         "0.5435982",
         "0.3799651",
         "0.19698137",
         "0.3608118",
         "0.009800759",
         "-0.25783452",
         "0.15355332",
         "0.058179297",
         "-0.27795163",
         "-0.2749723",
         "-0.10740297",
         "-0.13151176",
         "-0.057957716",
         "-0.2482089",
         "-0.17552425",
         "0.018321555",
         "-0.3256654",
         "-0.0035988407",
         "0.073634684",
         "0.2354467",
         "0.27995795",
         "-0.059671156",
         "0.015389846",
         "-0.543728",
         "-0.39827627",
         "-0.5389953",
         "-0.0056653926",
         "-0.6865041",
         "0.36651474",
         "0.059382983",
         "-0.056644343",
         "0.12299599",
         "0.45986605",
         "0.09104125",
         "0.26006526",
         "0.3738739",
         "0.21421732",
         "0.24754027",
         "-0.41512746",
         "0.10472882",
         "-0.09701443",
         "-0.101319075",
         "0.66144115",
         "-0.014683436",
         "0.0013883123",
         "0.3308736",
         "0.25429845",
         "-0.38301745",
         "-0.40585792",
         "0.23741858",
         "0.0443265",
         "-0.21022327",
         "0.041867014",
         "-0.0006430455",
         "0.055556715",
         "-0.11105215",
         "-0.37295452",
         "0.088924825",
         "-0.20976985",
         "0.12211143",
         "-0.48804393",
         "0.006869071",
         "-0.010846127",
         "0.05888999",
         "0.103115104",
         "0.53552914",
         "0.36969942",
         "-0.3534297",
         "0.041975364",
         "0.30293083",
         "-0.023935515",
         "0.01586507",
         "0.14633153",
         "-0.10367326",
         "0.07327901",
         "-0.02420231",
         "0.35295314",
         "-0.33035892",
         "-0.0743214",
         "0.023886811",
         "-0.044500742",
         "0.19468577",
         "-0.30238518",
         "-0.08790943",
         "-0.3546028",
         "-0.1266099",
         "-0.20314208",
         "-0.32577038",
         "0.021086134",
         "0.20870012",
         "-0.27197424",
         "-0.5523982",
         "0.2309696",
         "-0.012603501",
         "0.113026",
         "0.07503452",
         "-0.24764392",
         "0.11338347",
         "0.16368714",
         "-0.5201831",
         "0.30546138",
         "-0.333701",
         "0.106233135",
         "-0.41458732",
         "0.1482568",
         "-0.09267267",
         "0.1281568",
         "0.15347396",
         "-0.18713847",
         "0.01953163",
         "-0.10716366",
         "-0.2818126",
         "-0.52112126",
         "0.2782356",
         "0.0914623",
         "-0.2605797",
         "0.21512036",
         "-0.3481994",
         "-0.37577206",
         "-0.15831655",
         "-0.19747765",
         "0.19892561",
         "0.37935007",
         "-0.3174318",
         "-0.1879087",
         "-0.32499367",
         "0.2097349",
         "-0.2520967",
         "0.26691675",
         "-0.33378237",
         "-0.0114491815",
         "0.06420722",
         "0.033128157",
         "0.22275412",
         "0.23488498",
         "-0.41036645",
         "9606.ENSP00000383042"
        ],
        [
         "HIST1H2BN",
         "-0.2930387",
         "-0.049834",
         "-0.07451718",
         "-0.0036065432",
         "0.067420326",
         "-0.15478915",
         "0.11342808",
         "-0.11436573",
         "0.048270978",
         "0.18691202",
         "0.12531386",
         "0.37048042",
         "0.045979906",
         "0.42737314",
         "0.07766596",
         "-0.025269648",
         "0.07153197",
         "-0.13546166",
         "-0.10280819",
         "-0.14573164",
         "-0.18722335",
         "0.031895097",
         "-0.2749741",
         "0.19183682",
         "-0.23805672",
         "-0.050797798",
         "-0.13910827",
         "0.19077966",
         "-0.064649306",
         "-0.31062484",
         "0.076957576",
         "0.55131215",
         "0.2738513",
         "-0.14612767",
         "0.0020875556",
         "0.095536225",
         "0.0935238",
         "-0.086945385",
         "-0.24020241",
         "0.08097876",
         "0.0637071",
         "-0.19820744",
         "-0.1694523",
         "0.032662563",
         "0.12772878",
         "0.46278924",
         "0.041151006",
         "0.096861355",
         "-0.08212051",
         "-0.24066524",
         "-0.13306461",
         "0.2566198",
         "-0.037086345",
         "-0.051467754",
         "-0.2725658",
         "0.15368466",
         "-0.0608768",
         "0.007333988",
         "-0.06319627",
         "0.15988529",
         "0.010211911",
         "-0.15720993",
         "-0.09383326",
         "-0.08575367",
         "-0.069833934",
         "0.07206079",
         "-0.09245571",
         "0.03409602",
         "0.1471127",
         "-0.06332332",
         "-0.05951859",
         "-0.044555385",
         "-0.16836126",
         "-0.11148509",
         "-0.17550135",
         "-0.08128328",
         "-0.007553195",
         "0.035522982",
         "0.2692076",
         "0.58329874",
         "-0.0196208",
         "0.13500284",
         "-0.045729067",
         "0.4732635",
         "-0.15564409",
         "-0.036403053",
         "-0.002234834",
         "-0.14689945",
         "0.1808201",
         "0.2926177",
         "0.0243945",
         "-0.22089814",
         "-0.08355355",
         "0.13878334",
         "-0.14169124",
         "-0.101750344",
         "-0.14094925",
         "-0.082169816",
         "-0.07156821",
         "-0.016362594",
         "0.21883495",
         "0.2997238",
         "-0.20090288",
         "0.107604526",
         "-0.07493607",
         "0.19877341",
         "0.11202277",
         "0.08884059",
         "0.3891231",
         "-0.22371306",
         "-0.052447334",
         "0.074149035",
         "0.16272247",
         "0.24030377",
         "0.40920892",
         "0.24819389",
         "0.10011147",
         "0.057996664",
         "0.16203322",
         "-0.5259655",
         "0.22109742",
         "-0.016065905",
         "0.15262763",
         "0.148755",
         "0.09694952",
         "-0.10926128",
         "0.05452983",
         "-0.10423261",
         "0.016778462",
         "0.016241977",
         "0.017200671",
         "-0.42424414",
         "-0.0014873528",
         "0.063117854",
         "0.18803103",
         "0.1359615",
         "-0.11575631",
         "0.16235784",
         "0.009103786",
         "-0.11937819",
         "0.32743627",
         "0.19485176",
         "0.15513642",
         "0.26346672",
         "-0.14425623",
         "-0.072731905",
         "-0.01371551",
         "0.17418735",
         "0.2605484",
         "-0.18353501",
         "-0.07156155",
         "-0.15787089",
         "-0.012573795",
         "0.023563776",
         "0.464228",
         "-0.08473282",
         "-0.077671",
         "-0.1801253",
         "-0.12035202",
         "-0.21184976",
         "0.16841036",
         "0.07254513",
         "-0.19572006",
         "0.4234204",
         "-0.17795311",
         "-0.12255587",
         "0.11410721",
         "-0.13597105",
         "0.20464954",
         "0.06441724",
         "0.08586231",
         "-0.13910477",
         "0.16219662",
         "0.05975744",
         "-0.29626632",
         "0.2880496",
         "-0.42513803",
         "-0.068581186",
         "0.23628701",
         "-0.26476473",
         "0.013306581",
         "0.10624421",
         "-0.22340702",
         "0.14759408",
         "-0.057435855",
         "0.07337751",
         "0.2716095",
         "0.27781972",
         "-0.012283665",
         "-0.13303572",
         "0.118423656",
         "0.056385443",
         "0.14647518",
         "-0.034893453",
         "0.039808203",
         "-0.1651664",
         "0.16856623",
         "-0.207136",
         "-0.07934547",
         "0.19121356",
         "9606.ENSP00000483903"
        ]
       ],
       "shape": {
        "columns": 201,
        "rows": 3
       }
      },
      "text/html": [
       "<div>\n",
       "<style scoped>\n",
       "    .dataframe tbody tr th:only-of-type {\n",
       "        vertical-align: middle;\n",
       "    }\n",
       "\n",
       "    .dataframe tbody tr th {\n",
       "        vertical-align: top;\n",
       "    }\n",
       "\n",
       "    .dataframe thead th {\n",
       "        text-align: right;\n",
       "    }\n",
       "</style>\n",
       "<table border=\"1\" class=\"dataframe\">\n",
       "  <thead>\n",
       "    <tr style=\"text-align: right;\">\n",
       "      <th></th>\n",
       "      <th>0</th>\n",
       "      <th>1</th>\n",
       "      <th>2</th>\n",
       "      <th>3</th>\n",
       "      <th>4</th>\n",
       "      <th>5</th>\n",
       "      <th>6</th>\n",
       "      <th>7</th>\n",
       "      <th>8</th>\n",
       "      <th>9</th>\n",
       "      <th>...</th>\n",
       "      <th>191</th>\n",
       "      <th>192</th>\n",
       "      <th>193</th>\n",
       "      <th>194</th>\n",
       "      <th>195</th>\n",
       "      <th>196</th>\n",
       "      <th>197</th>\n",
       "      <th>198</th>\n",
       "      <th>199</th>\n",
       "      <th>string_id</th>\n",
       "    </tr>\n",
       "  </thead>\n",
       "  <tbody>\n",
       "    <tr>\n",
       "      <th>CISD3</th>\n",
       "      <td>0.148815</td>\n",
       "      <td>-0.100394</td>\n",
       "      <td>0.139844</td>\n",
       "      <td>-0.156749</td>\n",
       "      <td>-0.000815</td>\n",
       "      <td>0.115267</td>\n",
       "      <td>0.101778</td>\n",
       "      <td>0.158580</td>\n",
       "      <td>0.287842</td>\n",
       "      <td>0.049861</td>\n",
       "      <td>...</td>\n",
       "      <td>0.086968</td>\n",
       "      <td>0.062115</td>\n",
       "      <td>0.314489</td>\n",
       "      <td>-0.148824</td>\n",
       "      <td>-0.121338</td>\n",
       "      <td>-0.245106</td>\n",
       "      <td>0.247893</td>\n",
       "      <td>-0.034497</td>\n",
       "      <td>0.038109</td>\n",
       "      <td>9606.ENSP00000483781</td>\n",
       "    </tr>\n",
       "    <tr>\n",
       "      <th>KDM1A</th>\n",
       "      <td>-0.037154</td>\n",
       "      <td>0.038770</td>\n",
       "      <td>-0.100821</td>\n",
       "      <td>0.165520</td>\n",
       "      <td>0.324188</td>\n",
       "      <td>0.095911</td>\n",
       "      <td>0.090766</td>\n",
       "      <td>0.336213</td>\n",
       "      <td>0.334166</td>\n",
       "      <td>-0.296031</td>\n",
       "      <td>...</td>\n",
       "      <td>-0.252097</td>\n",
       "      <td>0.266917</td>\n",
       "      <td>-0.333782</td>\n",
       "      <td>-0.011449</td>\n",
       "      <td>0.064207</td>\n",
       "      <td>0.033128</td>\n",
       "      <td>0.222754</td>\n",
       "      <td>0.234885</td>\n",
       "      <td>-0.410366</td>\n",
       "      <td>9606.ENSP00000383042</td>\n",
       "    </tr>\n",
       "    <tr>\n",
       "      <th>HIST1H2BN</th>\n",
       "      <td>-0.293039</td>\n",
       "      <td>-0.049834</td>\n",
       "      <td>-0.074517</td>\n",
       "      <td>-0.003607</td>\n",
       "      <td>0.067420</td>\n",
       "      <td>-0.154789</td>\n",
       "      <td>0.113428</td>\n",
       "      <td>-0.114366</td>\n",
       "      <td>0.048271</td>\n",
       "      <td>0.186912</td>\n",
       "      <td>...</td>\n",
       "      <td>0.056385</td>\n",
       "      <td>0.146475</td>\n",
       "      <td>-0.034893</td>\n",
       "      <td>0.039808</td>\n",
       "      <td>-0.165166</td>\n",
       "      <td>0.168566</td>\n",
       "      <td>-0.207136</td>\n",
       "      <td>-0.079345</td>\n",
       "      <td>0.191214</td>\n",
       "      <td>9606.ENSP00000483903</td>\n",
       "    </tr>\n",
       "  </tbody>\n",
       "</table>\n",
       "<p>3 rows × 201 columns</p>\n",
       "</div>"
      ],
      "text/plain": [
       "                  0         1         2         3         4         5  \\\n",
       "CISD3      0.148815 -0.100394  0.139844 -0.156749 -0.000815  0.115267   \n",
       "KDM1A     -0.037154  0.038770 -0.100821  0.165520  0.324188  0.095911   \n",
       "HIST1H2BN -0.293039 -0.049834 -0.074517 -0.003607  0.067420 -0.154789   \n",
       "\n",
       "                  6         7         8         9  ...       191       192  \\\n",
       "CISD3      0.101778  0.158580  0.287842  0.049861  ...  0.086968  0.062115   \n",
       "KDM1A      0.090766  0.336213  0.334166 -0.296031  ... -0.252097  0.266917   \n",
       "HIST1H2BN  0.113428 -0.114366  0.048271  0.186912  ...  0.056385  0.146475   \n",
       "\n",
       "                193       194       195       196       197       198  \\\n",
       "CISD3      0.314489 -0.148824 -0.121338 -0.245106  0.247893 -0.034497   \n",
       "KDM1A     -0.333782 -0.011449  0.064207  0.033128  0.222754  0.234885   \n",
       "HIST1H2BN -0.034893  0.039808 -0.165166  0.168566 -0.207136 -0.079345   \n",
       "\n",
       "                199             string_id  \n",
       "CISD3      0.038109  9606.ENSP00000483781  \n",
       "KDM1A     -0.410366  9606.ENSP00000383042  \n",
       "HIST1H2BN  0.191214  9606.ENSP00000483903  \n",
       "\n",
       "[3 rows x 201 columns]"
      ]
     },
     "execution_count": 11,
     "metadata": {},
     "output_type": "execute_result"
    }
   ],
   "source": [
    "df_combined.head(3)"
   ]
  },
  {
   "cell_type": "code",
   "execution_count": 12,
   "metadata": {},
   "outputs": [
    {
     "data": {
      "application/vnd.microsoft.datawrangler.viewer.v0+json": {
       "columns": [
        {
         "name": "index",
         "rawType": "object",
         "type": "string"
        },
        {
         "name": "string_id",
         "rawType": "object",
         "type": "string"
        },
        {
         "name": "feature_0",
         "rawType": "float64",
         "type": "float"
        },
        {
         "name": "feature_1",
         "rawType": "float64",
         "type": "float"
        },
        {
         "name": "feature_2",
         "rawType": "float64",
         "type": "float"
        },
        {
         "name": "feature_3",
         "rawType": "float64",
         "type": "float"
        },
        {
         "name": "feature_4",
         "rawType": "float64",
         "type": "float"
        },
        {
         "name": "feature_5",
         "rawType": "float64",
         "type": "float"
        },
        {
         "name": "feature_6",
         "rawType": "float64",
         "type": "float"
        },
        {
         "name": "feature_7",
         "rawType": "float64",
         "type": "float"
        },
        {
         "name": "feature_8",
         "rawType": "float64",
         "type": "float"
        },
        {
         "name": "feature_9",
         "rawType": "float64",
         "type": "float"
        },
        {
         "name": "feature_10",
         "rawType": "float64",
         "type": "float"
        },
        {
         "name": "feature_11",
         "rawType": "float64",
         "type": "float"
        },
        {
         "name": "feature_12",
         "rawType": "float64",
         "type": "float"
        },
        {
         "name": "feature_13",
         "rawType": "float64",
         "type": "float"
        },
        {
         "name": "feature_14",
         "rawType": "float64",
         "type": "float"
        },
        {
         "name": "feature_15",
         "rawType": "float64",
         "type": "float"
        },
        {
         "name": "feature_16",
         "rawType": "float64",
         "type": "float"
        },
        {
         "name": "feature_17",
         "rawType": "float64",
         "type": "float"
        },
        {
         "name": "feature_18",
         "rawType": "float64",
         "type": "float"
        },
        {
         "name": "feature_19",
         "rawType": "float64",
         "type": "float"
        },
        {
         "name": "feature_20",
         "rawType": "float64",
         "type": "float"
        },
        {
         "name": "feature_21",
         "rawType": "float64",
         "type": "float"
        },
        {
         "name": "feature_22",
         "rawType": "float64",
         "type": "float"
        },
        {
         "name": "feature_23",
         "rawType": "float64",
         "type": "float"
        },
        {
         "name": "feature_24",
         "rawType": "float64",
         "type": "float"
        },
        {
         "name": "feature_25",
         "rawType": "float64",
         "type": "float"
        },
        {
         "name": "feature_26",
         "rawType": "float64",
         "type": "float"
        },
        {
         "name": "feature_27",
         "rawType": "float64",
         "type": "float"
        },
        {
         "name": "feature_28",
         "rawType": "float64",
         "type": "float"
        },
        {
         "name": "feature_29",
         "rawType": "float64",
         "type": "float"
        },
        {
         "name": "feature_30",
         "rawType": "float64",
         "type": "float"
        },
        {
         "name": "feature_31",
         "rawType": "float64",
         "type": "float"
        },
        {
         "name": "feature_32",
         "rawType": "float64",
         "type": "float"
        },
        {
         "name": "feature_33",
         "rawType": "float64",
         "type": "float"
        },
        {
         "name": "feature_34",
         "rawType": "float64",
         "type": "float"
        },
        {
         "name": "feature_35",
         "rawType": "float64",
         "type": "float"
        },
        {
         "name": "feature_36",
         "rawType": "float64",
         "type": "float"
        },
        {
         "name": "feature_37",
         "rawType": "float64",
         "type": "float"
        },
        {
         "name": "feature_38",
         "rawType": "float64",
         "type": "float"
        },
        {
         "name": "feature_39",
         "rawType": "float64",
         "type": "float"
        },
        {
         "name": "feature_40",
         "rawType": "float64",
         "type": "float"
        },
        {
         "name": "feature_41",
         "rawType": "float64",
         "type": "float"
        },
        {
         "name": "feature_42",
         "rawType": "float64",
         "type": "float"
        },
        {
         "name": "feature_43",
         "rawType": "float64",
         "type": "float"
        },
        {
         "name": "feature_44",
         "rawType": "float64",
         "type": "float"
        },
        {
         "name": "feature_45",
         "rawType": "float64",
         "type": "float"
        },
        {
         "name": "feature_46",
         "rawType": "float64",
         "type": "float"
        },
        {
         "name": "feature_47",
         "rawType": "float64",
         "type": "float"
        },
        {
         "name": "feature_48",
         "rawType": "float64",
         "type": "float"
        },
        {
         "name": "feature_49",
         "rawType": "float64",
         "type": "float"
        },
        {
         "name": "feature_50",
         "rawType": "float64",
         "type": "float"
        },
        {
         "name": "feature_51",
         "rawType": "float64",
         "type": "float"
        },
        {
         "name": "feature_52",
         "rawType": "float64",
         "type": "float"
        },
        {
         "name": "feature_53",
         "rawType": "float64",
         "type": "float"
        },
        {
         "name": "feature_54",
         "rawType": "float64",
         "type": "float"
        },
        {
         "name": "feature_55",
         "rawType": "float64",
         "type": "float"
        },
        {
         "name": "feature_56",
         "rawType": "float64",
         "type": "float"
        },
        {
         "name": "feature_57",
         "rawType": "float64",
         "type": "float"
        },
        {
         "name": "feature_58",
         "rawType": "float64",
         "type": "float"
        },
        {
         "name": "feature_59",
         "rawType": "float64",
         "type": "float"
        },
        {
         "name": "feature_60",
         "rawType": "float64",
         "type": "float"
        },
        {
         "name": "feature_61",
         "rawType": "float64",
         "type": "float"
        },
        {
         "name": "feature_62",
         "rawType": "float64",
         "type": "float"
        },
        {
         "name": "feature_63",
         "rawType": "float64",
         "type": "float"
        },
        {
         "name": "feature_64",
         "rawType": "float64",
         "type": "float"
        },
        {
         "name": "feature_65",
         "rawType": "float64",
         "type": "float"
        },
        {
         "name": "feature_66",
         "rawType": "float64",
         "type": "float"
        },
        {
         "name": "feature_67",
         "rawType": "float64",
         "type": "float"
        },
        {
         "name": "feature_68",
         "rawType": "float64",
         "type": "float"
        },
        {
         "name": "feature_69",
         "rawType": "float64",
         "type": "float"
        },
        {
         "name": "feature_70",
         "rawType": "float64",
         "type": "float"
        },
        {
         "name": "feature_71",
         "rawType": "float64",
         "type": "float"
        },
        {
         "name": "feature_72",
         "rawType": "float64",
         "type": "float"
        },
        {
         "name": "feature_73",
         "rawType": "float64",
         "type": "float"
        },
        {
         "name": "feature_74",
         "rawType": "float64",
         "type": "float"
        },
        {
         "name": "feature_75",
         "rawType": "float64",
         "type": "float"
        },
        {
         "name": "feature_76",
         "rawType": "float64",
         "type": "float"
        },
        {
         "name": "feature_77",
         "rawType": "float64",
         "type": "float"
        },
        {
         "name": "feature_78",
         "rawType": "float64",
         "type": "float"
        },
        {
         "name": "feature_79",
         "rawType": "float64",
         "type": "float"
        },
        {
         "name": "feature_80",
         "rawType": "float64",
         "type": "float"
        },
        {
         "name": "feature_81",
         "rawType": "float64",
         "type": "float"
        },
        {
         "name": "feature_82",
         "rawType": "float64",
         "type": "float"
        },
        {
         "name": "feature_83",
         "rawType": "float64",
         "type": "float"
        },
        {
         "name": "feature_84",
         "rawType": "float64",
         "type": "float"
        },
        {
         "name": "feature_85",
         "rawType": "float64",
         "type": "float"
        },
        {
         "name": "feature_86",
         "rawType": "float64",
         "type": "float"
        },
        {
         "name": "feature_87",
         "rawType": "float64",
         "type": "float"
        },
        {
         "name": "feature_88",
         "rawType": "float64",
         "type": "float"
        },
        {
         "name": "feature_89",
         "rawType": "float64",
         "type": "float"
        },
        {
         "name": "feature_90",
         "rawType": "float64",
         "type": "float"
        },
        {
         "name": "feature_91",
         "rawType": "float64",
         "type": "float"
        },
        {
         "name": "feature_92",
         "rawType": "float64",
         "type": "float"
        },
        {
         "name": "feature_93",
         "rawType": "float64",
         "type": "float"
        },
        {
         "name": "feature_94",
         "rawType": "float64",
         "type": "float"
        },
        {
         "name": "feature_95",
         "rawType": "float64",
         "type": "float"
        },
        {
         "name": "feature_96",
         "rawType": "float64",
         "type": "float"
        },
        {
         "name": "feature_97",
         "rawType": "float64",
         "type": "float"
        },
        {
         "name": "feature_98",
         "rawType": "float64",
         "type": "float"
        },
        {
         "name": "feature_99",
         "rawType": "float64",
         "type": "float"
        },
        {
         "name": "feature_100",
         "rawType": "float64",
         "type": "float"
        },
        {
         "name": "feature_101",
         "rawType": "float64",
         "type": "float"
        },
        {
         "name": "feature_102",
         "rawType": "float64",
         "type": "float"
        },
        {
         "name": "feature_103",
         "rawType": "float64",
         "type": "float"
        },
        {
         "name": "feature_104",
         "rawType": "float64",
         "type": "float"
        },
        {
         "name": "feature_105",
         "rawType": "float64",
         "type": "float"
        },
        {
         "name": "feature_106",
         "rawType": "float64",
         "type": "float"
        },
        {
         "name": "feature_107",
         "rawType": "float64",
         "type": "float"
        },
        {
         "name": "feature_108",
         "rawType": "float64",
         "type": "float"
        },
        {
         "name": "feature_109",
         "rawType": "float64",
         "type": "float"
        },
        {
         "name": "feature_110",
         "rawType": "float64",
         "type": "float"
        },
        {
         "name": "feature_111",
         "rawType": "float64",
         "type": "float"
        },
        {
         "name": "feature_112",
         "rawType": "float64",
         "type": "float"
        },
        {
         "name": "feature_113",
         "rawType": "float64",
         "type": "float"
        },
        {
         "name": "feature_114",
         "rawType": "float64",
         "type": "float"
        },
        {
         "name": "feature_115",
         "rawType": "float64",
         "type": "float"
        },
        {
         "name": "feature_116",
         "rawType": "float64",
         "type": "float"
        },
        {
         "name": "feature_117",
         "rawType": "float64",
         "type": "float"
        },
        {
         "name": "feature_118",
         "rawType": "float64",
         "type": "float"
        },
        {
         "name": "feature_119",
         "rawType": "float64",
         "type": "float"
        },
        {
         "name": "feature_120",
         "rawType": "float64",
         "type": "float"
        },
        {
         "name": "feature_121",
         "rawType": "float64",
         "type": "float"
        },
        {
         "name": "feature_122",
         "rawType": "float64",
         "type": "float"
        },
        {
         "name": "feature_123",
         "rawType": "float64",
         "type": "float"
        },
        {
         "name": "feature_124",
         "rawType": "float64",
         "type": "float"
        },
        {
         "name": "feature_125",
         "rawType": "float64",
         "type": "float"
        },
        {
         "name": "feature_126",
         "rawType": "float64",
         "type": "float"
        },
        {
         "name": "feature_127",
         "rawType": "float64",
         "type": "float"
        },
        {
         "name": "feature_128",
         "rawType": "float64",
         "type": "float"
        },
        {
         "name": "feature_129",
         "rawType": "float64",
         "type": "float"
        },
        {
         "name": "feature_130",
         "rawType": "float64",
         "type": "float"
        },
        {
         "name": "feature_131",
         "rawType": "float64",
         "type": "float"
        },
        {
         "name": "feature_132",
         "rawType": "float64",
         "type": "float"
        },
        {
         "name": "feature_133",
         "rawType": "float64",
         "type": "float"
        },
        {
         "name": "feature_134",
         "rawType": "float64",
         "type": "float"
        },
        {
         "name": "feature_135",
         "rawType": "float64",
         "type": "float"
        },
        {
         "name": "feature_136",
         "rawType": "float64",
         "type": "float"
        },
        {
         "name": "feature_137",
         "rawType": "float64",
         "type": "float"
        },
        {
         "name": "feature_138",
         "rawType": "float64",
         "type": "float"
        },
        {
         "name": "feature_139",
         "rawType": "float64",
         "type": "float"
        },
        {
         "name": "feature_140",
         "rawType": "float64",
         "type": "float"
        },
        {
         "name": "feature_141",
         "rawType": "float64",
         "type": "float"
        },
        {
         "name": "feature_142",
         "rawType": "float64",
         "type": "float"
        },
        {
         "name": "feature_143",
         "rawType": "float64",
         "type": "float"
        },
        {
         "name": "feature_144",
         "rawType": "float64",
         "type": "float"
        },
        {
         "name": "feature_145",
         "rawType": "float64",
         "type": "float"
        },
        {
         "name": "feature_146",
         "rawType": "float64",
         "type": "float"
        },
        {
         "name": "feature_147",
         "rawType": "float64",
         "type": "float"
        },
        {
         "name": "feature_148",
         "rawType": "float64",
         "type": "float"
        },
        {
         "name": "feature_149",
         "rawType": "float64",
         "type": "float"
        },
        {
         "name": "feature_150",
         "rawType": "float64",
         "type": "float"
        },
        {
         "name": "feature_151",
         "rawType": "float64",
         "type": "float"
        },
        {
         "name": "feature_152",
         "rawType": "float64",
         "type": "float"
        },
        {
         "name": "feature_153",
         "rawType": "float64",
         "type": "float"
        },
        {
         "name": "feature_154",
         "rawType": "float64",
         "type": "float"
        },
        {
         "name": "feature_155",
         "rawType": "float64",
         "type": "float"
        },
        {
         "name": "feature_156",
         "rawType": "float64",
         "type": "float"
        },
        {
         "name": "feature_157",
         "rawType": "float64",
         "type": "float"
        },
        {
         "name": "feature_158",
         "rawType": "float64",
         "type": "float"
        },
        {
         "name": "feature_159",
         "rawType": "float64",
         "type": "float"
        },
        {
         "name": "feature_160",
         "rawType": "float64",
         "type": "float"
        },
        {
         "name": "feature_161",
         "rawType": "float64",
         "type": "float"
        },
        {
         "name": "feature_162",
         "rawType": "float64",
         "type": "float"
        },
        {
         "name": "feature_163",
         "rawType": "float64",
         "type": "float"
        },
        {
         "name": "feature_164",
         "rawType": "float64",
         "type": "float"
        },
        {
         "name": "feature_165",
         "rawType": "float64",
         "type": "float"
        },
        {
         "name": "feature_166",
         "rawType": "float64",
         "type": "float"
        },
        {
         "name": "feature_167",
         "rawType": "float64",
         "type": "float"
        },
        {
         "name": "feature_168",
         "rawType": "float64",
         "type": "float"
        },
        {
         "name": "feature_169",
         "rawType": "float64",
         "type": "float"
        },
        {
         "name": "feature_170",
         "rawType": "float64",
         "type": "float"
        },
        {
         "name": "feature_171",
         "rawType": "float64",
         "type": "float"
        },
        {
         "name": "feature_172",
         "rawType": "float64",
         "type": "float"
        },
        {
         "name": "feature_173",
         "rawType": "float64",
         "type": "float"
        },
        {
         "name": "feature_174",
         "rawType": "float64",
         "type": "float"
        },
        {
         "name": "feature_175",
         "rawType": "float64",
         "type": "float"
        },
        {
         "name": "feature_176",
         "rawType": "float64",
         "type": "float"
        },
        {
         "name": "feature_177",
         "rawType": "float64",
         "type": "float"
        },
        {
         "name": "feature_178",
         "rawType": "float64",
         "type": "float"
        },
        {
         "name": "feature_179",
         "rawType": "float64",
         "type": "float"
        },
        {
         "name": "feature_180",
         "rawType": "float64",
         "type": "float"
        },
        {
         "name": "feature_181",
         "rawType": "float64",
         "type": "float"
        },
        {
         "name": "feature_182",
         "rawType": "float64",
         "type": "float"
        },
        {
         "name": "feature_183",
         "rawType": "float64",
         "type": "float"
        },
        {
         "name": "feature_184",
         "rawType": "float64",
         "type": "float"
        },
        {
         "name": "feature_185",
         "rawType": "float64",
         "type": "float"
        },
        {
         "name": "feature_186",
         "rawType": "float64",
         "type": "float"
        },
        {
         "name": "feature_187",
         "rawType": "float64",
         "type": "float"
        },
        {
         "name": "feature_188",
         "rawType": "float64",
         "type": "float"
        },
        {
         "name": "feature_189",
         "rawType": "float64",
         "type": "float"
        },
        {
         "name": "feature_190",
         "rawType": "float64",
         "type": "float"
        },
        {
         "name": "feature_191",
         "rawType": "float64",
         "type": "float"
        },
        {
         "name": "feature_192",
         "rawType": "float64",
         "type": "float"
        },
        {
         "name": "feature_193",
         "rawType": "float64",
         "type": "float"
        },
        {
         "name": "feature_194",
         "rawType": "float64",
         "type": "float"
        },
        {
         "name": "feature_195",
         "rawType": "float64",
         "type": "float"
        },
        {
         "name": "feature_196",
         "rawType": "float64",
         "type": "float"
        },
        {
         "name": "feature_197",
         "rawType": "float64",
         "type": "float"
        },
        {
         "name": "feature_198",
         "rawType": "float64",
         "type": "float"
        },
        {
         "name": "feature_199",
         "rawType": "float64",
         "type": "float"
        }
       ],
       "conversionMethod": "pd.DataFrame",
       "ref": "aa198531-6b85-4055-80f2-7e3fa7144f83",
       "rows": [
        [
         "CISD3",
         "9606.ENSP00000483781",
         "0.14881516",
         "-0.10039369",
         "0.13984413",
         "-0.15674932",
         "-0.0008145623",
         "0.115267",
         "0.101777524",
         "0.15858003",
         "0.28784156",
         "0.049861126",
         "0.05508068",
         "0.31938317",
         "0.0744167",
         "-0.46276715",
         "-0.080828585",
         "-0.23749486",
         "-0.2757898",
         "-0.111326754",
         "0.2443317",
         "0.29209268",
         "-0.18827976",
         "-0.09697722",
         "-0.015499108",
         "0.14983544",
         "0.2944479",
         "-0.07906171",
         "0.08936186",
         "-0.09839872",
         "0.021313613",
         "0.14321515",
         "0.09088723",
         "-0.091501765",
         "-0.0066033495",
         "-0.2824887",
         "0.1760195",
         "-0.074847735",
         "0.020705208",
         "0.37253404",
         "-0.03844826",
         "-0.03785147",
         "-0.05852876",
         "0.073017046",
         "0.056950092",
         "0.06930716",
         "0.19125733",
         "0.2909663",
         "0.13598561",
         "0.12112752",
         "-0.34132877",
         "0.03415891",
         "0.021843588",
         "-0.09262081",
         "-0.25504604",
         "-0.010989919",
         "-0.1515521",
         "-0.26190028",
         "-0.31763238",
         "0.12580569",
         "-0.30054623",
         "-0.20776077",
         "-0.09150617",
         "0.074072964",
         "-0.205391",
         "0.08784759",
         "0.020208418",
         "-0.029549662",
         "-0.3229215",
         "0.006815554",
         "0.12319341",
         "-0.105861574",
         "-0.09661091",
         "0.2094022",
         "0.26805416",
         "-0.18681498",
         "0.010993058",
         "-0.029751176",
         "0.04035534",
         "0.19490501",
         "-0.0843781",
         "0.10869794",
         "0.08394316",
         "0.09527991",
         "-0.038133778",
         "-0.11532484",
         "0.25902018",
         "-0.092172705",
         "-0.12288964",
         "0.10135714",
         "0.024893878",
         "-0.31080955",
         "-0.008527259",
         "-0.22841126",
         "0.097972326",
         "-0.31300515",
         "-0.3093688",
         "0.2592903",
         "-0.085345306",
         "-0.0634123",
         "0.037406404",
         "0.17319846",
         "0.14496048",
         "0.1307142",
         "-0.21446149",
         "-0.43915352",
         "0.2645827",
         "-0.11521252",
         "0.18129806",
         "-0.062316008",
         "0.21656898",
         "0.059227407",
         "0.34988827",
         "-0.11914179",
         "-0.038567465",
         "0.07616172",
         "-0.053728238",
         "0.08024872",
         "-0.0035424565",
         "0.02239146",
         "-0.014923915",
         "-0.18861552",
         "-0.11011165",
         "0.29606223",
         "0.09745975",
         "-0.13019049",
         "-0.30811942",
         "-0.08660158",
         "-0.3487878",
         "-0.016953882",
         "0.044928502",
         "-0.13587753",
         "0.13477826",
         "-0.22136573",
         "0.0825674",
         "0.28926647",
         "-0.11770205",
         "-0.12085383",
         "0.2991895",
         "0.07317293",
         "0.2961024",
         "0.001530163",
         "-0.06986419",
         "-0.16693488",
         "0.32940742",
         "-0.026975151",
         "0.10843562",
         "-0.016099248",
         "-0.100580506",
         "0.011749377",
         "0.10955904",
         "-0.17139237",
         "0.13882478",
         "-0.01584757",
         "0.15362526",
         "-0.07099354",
         "0.0041354",
         "-0.26055875",
         "0.17677666",
         "-0.25485024",
         "0.022568142",
         "-0.33441892",
         "0.015814805",
         "0.15931341",
         "-0.52797043",
         "0.023783037",
         "0.15628645",
         "-0.34081724",
         "0.056533795",
         "-0.29654506",
         "0.23802084",
         "-0.058475576",
         "0.08998877",
         "-0.03774519",
         "-0.19230984",
         "0.10517092",
         "-0.3611655",
         "0.14624757",
         "-0.25329694",
         "-0.24722396",
         "0.14524513",
         "-0.13530537",
         "0.37481898",
         "-0.2593594",
         "0.045929704",
         "0.006426371",
         "0.013790457",
         "0.37829408",
         "-0.100395925",
         "-0.2675986",
         "0.3781749",
         "-0.08509002",
         "0.22786321",
         "0.0869678",
         "0.062115178",
         "0.31448886",
         "-0.14882381",
         "-0.121337585",
         "-0.24510562",
         "0.24789304",
         "-0.034497235",
         "0.038108572"
        ],
        [
         "KDM1A",
         "9606.ENSP00000383042",
         "-0.037153807",
         "0.038769744",
         "-0.10082144",
         "0.16551983",
         "0.32418764",
         "0.09591095",
         "0.09076634",
         "0.33621305",
         "0.33416617",
         "-0.29603058",
         "0.012117479",
         "0.05381308",
         "0.067572996",
         "0.12351878",
         "-0.040442873",
         "-0.38033512",
         "0.23932296",
         "-0.075632796",
         "-0.1966593",
         "-0.4040454",
         "0.03254523",
         "-0.30419165",
         "0.01633578",
         "-0.23002036",
         "0.06932319",
         "0.0043662162",
         "-0.3859902",
         "-0.15051536",
         "0.22380856",
         "-0.5984656",
         "-0.12555657",
         "-0.31916127",
         "0.009278463",
         "0.20234202",
         "0.2829377",
         "0.5901603",
         "-0.37841502",
         "0.20687456",
         "-0.013405023",
         "0.3738107",
         "0.51368034",
         "0.24411425",
         "-0.15106694",
         "-0.06360848",
         "-0.11113537",
         "-0.07734583",
         "0.038884234",
         "0.04555745",
         "-0.11803135",
         "0.32028762",
         "-0.13544223",
         "-0.15880604",
         "0.086261906",
         "-0.3189918",
         "-0.50293684",
         "0.32850233",
         "0.021329584",
         "0.4225297",
         "-0.29782692",
         "-0.22313558",
         "0.30496407",
         "0.0046207462",
         "0.13709746",
         "0.15834117",
         "0.5435982",
         "0.3799651",
         "0.19698137",
         "0.3608118",
         "0.009800759",
         "-0.25783452",
         "0.15355332",
         "0.058179297",
         "-0.27795163",
         "-0.2749723",
         "-0.10740297",
         "-0.13151176",
         "-0.057957716",
         "-0.2482089",
         "-0.17552425",
         "0.018321555",
         "-0.3256654",
         "-0.0035988407",
         "0.073634684",
         "0.2354467",
         "0.27995795",
         "-0.059671156",
         "0.015389846",
         "-0.543728",
         "-0.39827627",
         "-0.5389953",
         "-0.0056653926",
         "-0.6865041",
         "0.36651474",
         "0.059382983",
         "-0.056644343",
         "0.12299599",
         "0.45986605",
         "0.09104125",
         "0.26006526",
         "0.3738739",
         "0.21421732",
         "0.24754027",
         "-0.41512746",
         "0.10472882",
         "-0.09701443",
         "-0.101319075",
         "0.66144115",
         "-0.014683436",
         "0.0013883123",
         "0.3308736",
         "0.25429845",
         "-0.38301745",
         "-0.40585792",
         "0.23741858",
         "0.0443265",
         "-0.21022327",
         "0.041867014",
         "-0.0006430455",
         "0.055556715",
         "-0.11105215",
         "-0.37295452",
         "0.088924825",
         "-0.20976985",
         "0.12211143",
         "-0.48804393",
         "0.006869071",
         "-0.010846127",
         "0.05888999",
         "0.103115104",
         "0.53552914",
         "0.36969942",
         "-0.3534297",
         "0.041975364",
         "0.30293083",
         "-0.023935515",
         "0.01586507",
         "0.14633153",
         "-0.10367326",
         "0.07327901",
         "-0.02420231",
         "0.35295314",
         "-0.33035892",
         "-0.0743214",
         "0.023886811",
         "-0.044500742",
         "0.19468577",
         "-0.30238518",
         "-0.08790943",
         "-0.3546028",
         "-0.1266099",
         "-0.20314208",
         "-0.32577038",
         "0.021086134",
         "0.20870012",
         "-0.27197424",
         "-0.5523982",
         "0.2309696",
         "-0.012603501",
         "0.113026",
         "0.07503452",
         "-0.24764392",
         "0.11338347",
         "0.16368714",
         "-0.5201831",
         "0.30546138",
         "-0.333701",
         "0.106233135",
         "-0.41458732",
         "0.1482568",
         "-0.09267267",
         "0.1281568",
         "0.15347396",
         "-0.18713847",
         "0.01953163",
         "-0.10716366",
         "-0.2818126",
         "-0.52112126",
         "0.2782356",
         "0.0914623",
         "-0.2605797",
         "0.21512036",
         "-0.3481994",
         "-0.37577206",
         "-0.15831655",
         "-0.19747765",
         "0.19892561",
         "0.37935007",
         "-0.3174318",
         "-0.1879087",
         "-0.32499367",
         "0.2097349",
         "-0.2520967",
         "0.26691675",
         "-0.33378237",
         "-0.0114491815",
         "0.06420722",
         "0.033128157",
         "0.22275412",
         "0.23488498",
         "-0.41036645"
        ]
       ],
       "shape": {
        "columns": 201,
        "rows": 2
       }
      },
      "text/html": [
       "<div>\n",
       "<style scoped>\n",
       "    .dataframe tbody tr th:only-of-type {\n",
       "        vertical-align: middle;\n",
       "    }\n",
       "\n",
       "    .dataframe tbody tr th {\n",
       "        vertical-align: top;\n",
       "    }\n",
       "\n",
       "    .dataframe thead th {\n",
       "        text-align: right;\n",
       "    }\n",
       "</style>\n",
       "<table border=\"1\" class=\"dataframe\">\n",
       "  <thead>\n",
       "    <tr style=\"text-align: right;\">\n",
       "      <th></th>\n",
       "      <th>string_id</th>\n",
       "      <th>feature_0</th>\n",
       "      <th>feature_1</th>\n",
       "      <th>feature_2</th>\n",
       "      <th>feature_3</th>\n",
       "      <th>feature_4</th>\n",
       "      <th>feature_5</th>\n",
       "      <th>feature_6</th>\n",
       "      <th>feature_7</th>\n",
       "      <th>feature_8</th>\n",
       "      <th>...</th>\n",
       "      <th>feature_190</th>\n",
       "      <th>feature_191</th>\n",
       "      <th>feature_192</th>\n",
       "      <th>feature_193</th>\n",
       "      <th>feature_194</th>\n",
       "      <th>feature_195</th>\n",
       "      <th>feature_196</th>\n",
       "      <th>feature_197</th>\n",
       "      <th>feature_198</th>\n",
       "      <th>feature_199</th>\n",
       "    </tr>\n",
       "  </thead>\n",
       "  <tbody>\n",
       "    <tr>\n",
       "      <th>CISD3</th>\n",
       "      <td>9606.ENSP00000483781</td>\n",
       "      <td>0.148815</td>\n",
       "      <td>-0.100394</td>\n",
       "      <td>0.139844</td>\n",
       "      <td>-0.156749</td>\n",
       "      <td>-0.000815</td>\n",
       "      <td>0.115267</td>\n",
       "      <td>0.101778</td>\n",
       "      <td>0.158580</td>\n",
       "      <td>0.287842</td>\n",
       "      <td>...</td>\n",
       "      <td>0.227863</td>\n",
       "      <td>0.086968</td>\n",
       "      <td>0.062115</td>\n",
       "      <td>0.314489</td>\n",
       "      <td>-0.148824</td>\n",
       "      <td>-0.121338</td>\n",
       "      <td>-0.245106</td>\n",
       "      <td>0.247893</td>\n",
       "      <td>-0.034497</td>\n",
       "      <td>0.038109</td>\n",
       "    </tr>\n",
       "    <tr>\n",
       "      <th>KDM1A</th>\n",
       "      <td>9606.ENSP00000383042</td>\n",
       "      <td>-0.037154</td>\n",
       "      <td>0.038770</td>\n",
       "      <td>-0.100821</td>\n",
       "      <td>0.165520</td>\n",
       "      <td>0.324188</td>\n",
       "      <td>0.095911</td>\n",
       "      <td>0.090766</td>\n",
       "      <td>0.336213</td>\n",
       "      <td>0.334166</td>\n",
       "      <td>...</td>\n",
       "      <td>0.209735</td>\n",
       "      <td>-0.252097</td>\n",
       "      <td>0.266917</td>\n",
       "      <td>-0.333782</td>\n",
       "      <td>-0.011449</td>\n",
       "      <td>0.064207</td>\n",
       "      <td>0.033128</td>\n",
       "      <td>0.222754</td>\n",
       "      <td>0.234885</td>\n",
       "      <td>-0.410366</td>\n",
       "    </tr>\n",
       "  </tbody>\n",
       "</table>\n",
       "<p>2 rows × 201 columns</p>\n",
       "</div>"
      ],
      "text/plain": [
       "                  string_id  feature_0  feature_1  feature_2  feature_3  \\\n",
       "CISD3  9606.ENSP00000483781   0.148815  -0.100394   0.139844  -0.156749   \n",
       "KDM1A  9606.ENSP00000383042  -0.037154   0.038770  -0.100821   0.165520   \n",
       "\n",
       "       feature_4  feature_5  feature_6  feature_7  feature_8  ...  \\\n",
       "CISD3  -0.000815   0.115267   0.101778   0.158580   0.287842  ...   \n",
       "KDM1A   0.324188   0.095911   0.090766   0.336213   0.334166  ...   \n",
       "\n",
       "       feature_190  feature_191  feature_192  feature_193  feature_194  \\\n",
       "CISD3     0.227863     0.086968     0.062115     0.314489    -0.148824   \n",
       "KDM1A     0.209735    -0.252097     0.266917    -0.333782    -0.011449   \n",
       "\n",
       "       feature_195  feature_196  feature_197  feature_198  feature_199  \n",
       "CISD3    -0.121338    -0.245106     0.247893    -0.034497     0.038109  \n",
       "KDM1A     0.064207     0.033128     0.222754     0.234885    -0.410366  \n",
       "\n",
       "[2 rows x 201 columns]"
      ]
     },
     "execution_count": 12,
     "metadata": {},
     "output_type": "execute_result"
    }
   ],
   "source": [
    "new_columns = ['string_id'] + [f'feature_{i}' for i, col in enumerate(df_combined.columns) if col != 'string_id']\n",
    "\n",
    "# Reorder the DataFrame so that 'string_id' is the first column\n",
    "df_combined = df_combined[['string_id'] + [col for col in df_combined.columns if col != 'string_id']]\n",
    "df_combined.columns = new_columns\n",
    "\n",
    "df_combined.head(2)"
   ]
  },
  {
   "cell_type": "code",
   "execution_count": 13,
   "metadata": {},
   "outputs": [],
   "source": [
    "df_combined.to_csv('/itf-fi-ml/shared/users/ziyuzh/svm/data/pre_processed_features/expression_emb/exp_emb.csv',index=False)"
   ]
  }
 ],
 "metadata": {
  "kernelspec": {
   "display_name": ".venv",
   "language": "python",
   "name": "python3"
  },
  "language_info": {
   "codemirror_mode": {
    "name": "ipython",
    "version": 3
   },
   "file_extension": ".py",
   "mimetype": "text/x-python",
   "name": "python",
   "nbconvert_exporter": "python",
   "pygments_lexer": "ipython3",
   "version": "3.11.11"
  }
 },
 "nbformat": 4,
 "nbformat_minor": 2
}
