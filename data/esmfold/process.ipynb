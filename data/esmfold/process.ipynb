{
 "cells": [
  {
   "cell_type": "code",
   "execution_count": 1,
   "id": "9b60b87c",
   "metadata": {},
   "outputs": [],
   "source": [
    "import pandas as pd"
   ]
  },
  {
   "cell_type": "code",
   "execution_count": 2,
   "id": "d485e2df",
   "metadata": {},
   "outputs": [],
   "source": [
    "df = pd.read_csv('/itf-fi-ml/shared/users/ziyuzh/svm/data/esmfold/protein_embeddings.csv')"
   ]
  },
  {
   "cell_type": "code",
   "execution_count": 3,
   "id": "7d75262d",
   "metadata": {},
   "outputs": [
    {
     "data": {
      "application/vnd.microsoft.datawrangler.viewer.v0+json": {
       "columns": [
        {
         "name": "index",
         "rawType": "int64",
         "type": "integer"
        },
        {
         "name": "string_id",
         "rawType": "object",
         "type": "string"
        },
        {
         "name": "dim_0",
         "rawType": "float64",
         "type": "float"
        },
        {
         "name": "dim_1",
         "rawType": "float64",
         "type": "float"
        },
        {
         "name": "dim_2",
         "rawType": "float64",
         "type": "float"
        },
        {
         "name": "dim_3",
         "rawType": "float64",
         "type": "float"
        },
        {
         "name": "dim_4",
         "rawType": "float64",
         "type": "float"
        },
        {
         "name": "dim_5",
         "rawType": "float64",
         "type": "float"
        },
        {
         "name": "dim_6",
         "rawType": "float64",
         "type": "float"
        },
        {
         "name": "dim_7",
         "rawType": "float64",
         "type": "float"
        },
        {
         "name": "dim_8",
         "rawType": "float64",
         "type": "float"
        },
        {
         "name": "dim_9",
         "rawType": "float64",
         "type": "float"
        },
        {
         "name": "dim_10",
         "rawType": "float64",
         "type": "float"
        },
        {
         "name": "dim_11",
         "rawType": "float64",
         "type": "float"
        },
        {
         "name": "dim_12",
         "rawType": "float64",
         "type": "float"
        },
        {
         "name": "dim_13",
         "rawType": "float64",
         "type": "float"
        },
        {
         "name": "dim_14",
         "rawType": "float64",
         "type": "float"
        },
        {
         "name": "dim_15",
         "rawType": "float64",
         "type": "float"
        },
        {
         "name": "dim_16",
         "rawType": "float64",
         "type": "float"
        },
        {
         "name": "dim_17",
         "rawType": "float64",
         "type": "float"
        },
        {
         "name": "dim_18",
         "rawType": "float64",
         "type": "float"
        },
        {
         "name": "dim_19",
         "rawType": "float64",
         "type": "float"
        },
        {
         "name": "dim_20",
         "rawType": "float64",
         "type": "float"
        },
        {
         "name": "dim_21",
         "rawType": "float64",
         "type": "float"
        },
        {
         "name": "dim_22",
         "rawType": "float64",
         "type": "float"
        },
        {
         "name": "dim_23",
         "rawType": "float64",
         "type": "float"
        },
        {
         "name": "dim_24",
         "rawType": "float64",
         "type": "float"
        },
        {
         "name": "dim_25",
         "rawType": "float64",
         "type": "float"
        },
        {
         "name": "dim_26",
         "rawType": "float64",
         "type": "float"
        },
        {
         "name": "dim_27",
         "rawType": "float64",
         "type": "float"
        },
        {
         "name": "dim_28",
         "rawType": "float64",
         "type": "float"
        },
        {
         "name": "dim_29",
         "rawType": "float64",
         "type": "float"
        },
        {
         "name": "dim_30",
         "rawType": "float64",
         "type": "float"
        },
        {
         "name": "dim_31",
         "rawType": "float64",
         "type": "float"
        },
        {
         "name": "dim_32",
         "rawType": "float64",
         "type": "float"
        },
        {
         "name": "dim_33",
         "rawType": "float64",
         "type": "float"
        },
        {
         "name": "dim_34",
         "rawType": "float64",
         "type": "float"
        },
        {
         "name": "dim_35",
         "rawType": "float64",
         "type": "float"
        },
        {
         "name": "dim_36",
         "rawType": "float64",
         "type": "float"
        },
        {
         "name": "dim_37",
         "rawType": "float64",
         "type": "float"
        },
        {
         "name": "dim_38",
         "rawType": "float64",
         "type": "float"
        },
        {
         "name": "dim_39",
         "rawType": "float64",
         "type": "float"
        },
        {
         "name": "dim_40",
         "rawType": "float64",
         "type": "float"
        },
        {
         "name": "dim_41",
         "rawType": "float64",
         "type": "float"
        },
        {
         "name": "dim_42",
         "rawType": "float64",
         "type": "float"
        },
        {
         "name": "dim_43",
         "rawType": "float64",
         "type": "float"
        },
        {
         "name": "dim_44",
         "rawType": "float64",
         "type": "float"
        },
        {
         "name": "dim_45",
         "rawType": "float64",
         "type": "float"
        },
        {
         "name": "dim_46",
         "rawType": "float64",
         "type": "float"
        },
        {
         "name": "dim_47",
         "rawType": "float64",
         "type": "float"
        },
        {
         "name": "dim_48",
         "rawType": "float64",
         "type": "float"
        },
        {
         "name": "dim_49",
         "rawType": "float64",
         "type": "float"
        },
        {
         "name": "dim_50",
         "rawType": "float64",
         "type": "float"
        },
        {
         "name": "dim_51",
         "rawType": "float64",
         "type": "float"
        },
        {
         "name": "dim_52",
         "rawType": "float64",
         "type": "float"
        },
        {
         "name": "dim_53",
         "rawType": "float64",
         "type": "float"
        },
        {
         "name": "dim_54",
         "rawType": "float64",
         "type": "float"
        },
        {
         "name": "dim_55",
         "rawType": "float64",
         "type": "float"
        },
        {
         "name": "dim_56",
         "rawType": "float64",
         "type": "float"
        },
        {
         "name": "dim_57",
         "rawType": "float64",
         "type": "float"
        },
        {
         "name": "dim_58",
         "rawType": "float64",
         "type": "float"
        },
        {
         "name": "dim_59",
         "rawType": "float64",
         "type": "float"
        },
        {
         "name": "dim_60",
         "rawType": "float64",
         "type": "float"
        },
        {
         "name": "dim_61",
         "rawType": "float64",
         "type": "float"
        },
        {
         "name": "dim_62",
         "rawType": "float64",
         "type": "float"
        },
        {
         "name": "dim_63",
         "rawType": "float64",
         "type": "float"
        },
        {
         "name": "dim_64",
         "rawType": "float64",
         "type": "float"
        },
        {
         "name": "dim_65",
         "rawType": "float64",
         "type": "float"
        },
        {
         "name": "dim_66",
         "rawType": "float64",
         "type": "float"
        },
        {
         "name": "dim_67",
         "rawType": "float64",
         "type": "float"
        },
        {
         "name": "dim_68",
         "rawType": "float64",
         "type": "float"
        },
        {
         "name": "dim_69",
         "rawType": "float64",
         "type": "float"
        },
        {
         "name": "dim_70",
         "rawType": "float64",
         "type": "float"
        },
        {
         "name": "dim_71",
         "rawType": "float64",
         "type": "float"
        },
        {
         "name": "dim_72",
         "rawType": "float64",
         "type": "float"
        },
        {
         "name": "dim_73",
         "rawType": "float64",
         "type": "float"
        },
        {
         "name": "dim_74",
         "rawType": "float64",
         "type": "float"
        },
        {
         "name": "dim_75",
         "rawType": "float64",
         "type": "float"
        },
        {
         "name": "dim_76",
         "rawType": "float64",
         "type": "float"
        },
        {
         "name": "dim_77",
         "rawType": "float64",
         "type": "float"
        },
        {
         "name": "dim_78",
         "rawType": "float64",
         "type": "float"
        },
        {
         "name": "dim_79",
         "rawType": "float64",
         "type": "float"
        },
        {
         "name": "dim_80",
         "rawType": "float64",
         "type": "float"
        },
        {
         "name": "dim_81",
         "rawType": "float64",
         "type": "float"
        },
        {
         "name": "dim_82",
         "rawType": "float64",
         "type": "float"
        },
        {
         "name": "dim_83",
         "rawType": "float64",
         "type": "float"
        },
        {
         "name": "dim_84",
         "rawType": "float64",
         "type": "float"
        },
        {
         "name": "dim_85",
         "rawType": "float64",
         "type": "float"
        },
        {
         "name": "dim_86",
         "rawType": "float64",
         "type": "float"
        },
        {
         "name": "dim_87",
         "rawType": "float64",
         "type": "float"
        },
        {
         "name": "dim_88",
         "rawType": "float64",
         "type": "float"
        },
        {
         "name": "dim_89",
         "rawType": "float64",
         "type": "float"
        },
        {
         "name": "dim_90",
         "rawType": "float64",
         "type": "float"
        },
        {
         "name": "dim_91",
         "rawType": "float64",
         "type": "float"
        },
        {
         "name": "dim_92",
         "rawType": "float64",
         "type": "float"
        },
        {
         "name": "dim_93",
         "rawType": "float64",
         "type": "float"
        },
        {
         "name": "dim_94",
         "rawType": "float64",
         "type": "float"
        },
        {
         "name": "dim_95",
         "rawType": "float64",
         "type": "float"
        },
        {
         "name": "dim_96",
         "rawType": "float64",
         "type": "float"
        },
        {
         "name": "dim_97",
         "rawType": "float64",
         "type": "float"
        },
        {
         "name": "dim_98",
         "rawType": "float64",
         "type": "float"
        },
        {
         "name": "dim_99",
         "rawType": "float64",
         "type": "float"
        },
        {
         "name": "dim_100",
         "rawType": "float64",
         "type": "float"
        },
        {
         "name": "dim_101",
         "rawType": "float64",
         "type": "float"
        },
        {
         "name": "dim_102",
         "rawType": "float64",
         "type": "float"
        },
        {
         "name": "dim_103",
         "rawType": "float64",
         "type": "float"
        },
        {
         "name": "dim_104",
         "rawType": "float64",
         "type": "float"
        },
        {
         "name": "dim_105",
         "rawType": "float64",
         "type": "float"
        },
        {
         "name": "dim_106",
         "rawType": "float64",
         "type": "float"
        },
        {
         "name": "dim_107",
         "rawType": "float64",
         "type": "float"
        },
        {
         "name": "dim_108",
         "rawType": "float64",
         "type": "float"
        },
        {
         "name": "dim_109",
         "rawType": "float64",
         "type": "float"
        },
        {
         "name": "dim_110",
         "rawType": "float64",
         "type": "float"
        },
        {
         "name": "dim_111",
         "rawType": "float64",
         "type": "float"
        },
        {
         "name": "dim_112",
         "rawType": "float64",
         "type": "float"
        },
        {
         "name": "dim_113",
         "rawType": "float64",
         "type": "float"
        },
        {
         "name": "dim_114",
         "rawType": "float64",
         "type": "float"
        },
        {
         "name": "dim_115",
         "rawType": "float64",
         "type": "float"
        },
        {
         "name": "dim_116",
         "rawType": "float64",
         "type": "float"
        },
        {
         "name": "dim_117",
         "rawType": "float64",
         "type": "float"
        },
        {
         "name": "dim_118",
         "rawType": "float64",
         "type": "float"
        },
        {
         "name": "dim_119",
         "rawType": "float64",
         "type": "float"
        },
        {
         "name": "dim_120",
         "rawType": "float64",
         "type": "float"
        },
        {
         "name": "dim_121",
         "rawType": "float64",
         "type": "float"
        },
        {
         "name": "dim_122",
         "rawType": "float64",
         "type": "float"
        },
        {
         "name": "dim_123",
         "rawType": "float64",
         "type": "float"
        },
        {
         "name": "dim_124",
         "rawType": "float64",
         "type": "float"
        },
        {
         "name": "dim_125",
         "rawType": "float64",
         "type": "float"
        },
        {
         "name": "dim_126",
         "rawType": "float64",
         "type": "float"
        },
        {
         "name": "dim_127",
         "rawType": "float64",
         "type": "float"
        },
        {
         "name": "dim_128",
         "rawType": "float64",
         "type": "float"
        },
        {
         "name": "dim_129",
         "rawType": "float64",
         "type": "float"
        },
        {
         "name": "dim_130",
         "rawType": "float64",
         "type": "float"
        },
        {
         "name": "dim_131",
         "rawType": "float64",
         "type": "float"
        },
        {
         "name": "dim_132",
         "rawType": "float64",
         "type": "float"
        },
        {
         "name": "dim_133",
         "rawType": "float64",
         "type": "float"
        },
        {
         "name": "dim_134",
         "rawType": "float64",
         "type": "float"
        },
        {
         "name": "dim_135",
         "rawType": "float64",
         "type": "float"
        },
        {
         "name": "dim_136",
         "rawType": "float64",
         "type": "float"
        },
        {
         "name": "dim_137",
         "rawType": "float64",
         "type": "float"
        },
        {
         "name": "dim_138",
         "rawType": "float64",
         "type": "float"
        },
        {
         "name": "dim_139",
         "rawType": "float64",
         "type": "float"
        },
        {
         "name": "dim_140",
         "rawType": "float64",
         "type": "float"
        },
        {
         "name": "dim_141",
         "rawType": "float64",
         "type": "float"
        },
        {
         "name": "dim_142",
         "rawType": "float64",
         "type": "float"
        },
        {
         "name": "dim_143",
         "rawType": "float64",
         "type": "float"
        },
        {
         "name": "dim_144",
         "rawType": "float64",
         "type": "float"
        },
        {
         "name": "dim_145",
         "rawType": "float64",
         "type": "float"
        },
        {
         "name": "dim_146",
         "rawType": "float64",
         "type": "float"
        },
        {
         "name": "dim_147",
         "rawType": "float64",
         "type": "float"
        },
        {
         "name": "dim_148",
         "rawType": "float64",
         "type": "float"
        },
        {
         "name": "dim_149",
         "rawType": "float64",
         "type": "float"
        },
        {
         "name": "dim_150",
         "rawType": "float64",
         "type": "float"
        },
        {
         "name": "dim_151",
         "rawType": "float64",
         "type": "float"
        },
        {
         "name": "dim_152",
         "rawType": "float64",
         "type": "float"
        },
        {
         "name": "dim_153",
         "rawType": "float64",
         "type": "float"
        },
        {
         "name": "dim_154",
         "rawType": "float64",
         "type": "float"
        },
        {
         "name": "dim_155",
         "rawType": "float64",
         "type": "float"
        },
        {
         "name": "dim_156",
         "rawType": "float64",
         "type": "float"
        },
        {
         "name": "dim_157",
         "rawType": "float64",
         "type": "float"
        },
        {
         "name": "dim_158",
         "rawType": "float64",
         "type": "float"
        },
        {
         "name": "dim_159",
         "rawType": "float64",
         "type": "float"
        },
        {
         "name": "dim_160",
         "rawType": "float64",
         "type": "float"
        },
        {
         "name": "dim_161",
         "rawType": "float64",
         "type": "float"
        },
        {
         "name": "dim_162",
         "rawType": "float64",
         "type": "float"
        },
        {
         "name": "dim_163",
         "rawType": "float64",
         "type": "float"
        },
        {
         "name": "dim_164",
         "rawType": "float64",
         "type": "float"
        },
        {
         "name": "dim_165",
         "rawType": "float64",
         "type": "float"
        },
        {
         "name": "dim_166",
         "rawType": "float64",
         "type": "float"
        },
        {
         "name": "dim_167",
         "rawType": "float64",
         "type": "float"
        },
        {
         "name": "dim_168",
         "rawType": "float64",
         "type": "float"
        },
        {
         "name": "dim_169",
         "rawType": "float64",
         "type": "float"
        },
        {
         "name": "dim_170",
         "rawType": "float64",
         "type": "float"
        },
        {
         "name": "dim_171",
         "rawType": "float64",
         "type": "float"
        },
        {
         "name": "dim_172",
         "rawType": "float64",
         "type": "float"
        },
        {
         "name": "dim_173",
         "rawType": "float64",
         "type": "float"
        },
        {
         "name": "dim_174",
         "rawType": "float64",
         "type": "float"
        },
        {
         "name": "dim_175",
         "rawType": "float64",
         "type": "float"
        },
        {
         "name": "dim_176",
         "rawType": "float64",
         "type": "float"
        },
        {
         "name": "dim_177",
         "rawType": "float64",
         "type": "float"
        },
        {
         "name": "dim_178",
         "rawType": "float64",
         "type": "float"
        },
        {
         "name": "dim_179",
         "rawType": "float64",
         "type": "float"
        },
        {
         "name": "dim_180",
         "rawType": "float64",
         "type": "float"
        },
        {
         "name": "dim_181",
         "rawType": "float64",
         "type": "float"
        },
        {
         "name": "dim_182",
         "rawType": "float64",
         "type": "float"
        },
        {
         "name": "dim_183",
         "rawType": "float64",
         "type": "float"
        },
        {
         "name": "dim_184",
         "rawType": "float64",
         "type": "float"
        },
        {
         "name": "dim_185",
         "rawType": "float64",
         "type": "float"
        },
        {
         "name": "dim_186",
         "rawType": "float64",
         "type": "float"
        },
        {
         "name": "dim_187",
         "rawType": "float64",
         "type": "float"
        },
        {
         "name": "dim_188",
         "rawType": "float64",
         "type": "float"
        },
        {
         "name": "dim_189",
         "rawType": "float64",
         "type": "float"
        },
        {
         "name": "dim_190",
         "rawType": "float64",
         "type": "float"
        },
        {
         "name": "dim_191",
         "rawType": "float64",
         "type": "float"
        },
        {
         "name": "dim_192",
         "rawType": "float64",
         "type": "float"
        },
        {
         "name": "dim_193",
         "rawType": "float64",
         "type": "float"
        },
        {
         "name": "dim_194",
         "rawType": "float64",
         "type": "float"
        },
        {
         "name": "dim_195",
         "rawType": "float64",
         "type": "float"
        },
        {
         "name": "dim_196",
         "rawType": "float64",
         "type": "float"
        },
        {
         "name": "dim_197",
         "rawType": "float64",
         "type": "float"
        },
        {
         "name": "dim_198",
         "rawType": "float64",
         "type": "float"
        },
        {
         "name": "dim_199",
         "rawType": "float64",
         "type": "float"
        },
        {
         "name": "dim_200",
         "rawType": "float64",
         "type": "float"
        },
        {
         "name": "dim_201",
         "rawType": "float64",
         "type": "float"
        },
        {
         "name": "dim_202",
         "rawType": "float64",
         "type": "float"
        },
        {
         "name": "dim_203",
         "rawType": "float64",
         "type": "float"
        },
        {
         "name": "dim_204",
         "rawType": "float64",
         "type": "float"
        },
        {
         "name": "dim_205",
         "rawType": "float64",
         "type": "float"
        },
        {
         "name": "dim_206",
         "rawType": "float64",
         "type": "float"
        },
        {
         "name": "dim_207",
         "rawType": "float64",
         "type": "float"
        },
        {
         "name": "dim_208",
         "rawType": "float64",
         "type": "float"
        },
        {
         "name": "dim_209",
         "rawType": "float64",
         "type": "float"
        },
        {
         "name": "dim_210",
         "rawType": "float64",
         "type": "float"
        },
        {
         "name": "dim_211",
         "rawType": "float64",
         "type": "float"
        },
        {
         "name": "dim_212",
         "rawType": "float64",
         "type": "float"
        },
        {
         "name": "dim_213",
         "rawType": "float64",
         "type": "float"
        },
        {
         "name": "dim_214",
         "rawType": "float64",
         "type": "float"
        },
        {
         "name": "dim_215",
         "rawType": "float64",
         "type": "float"
        },
        {
         "name": "dim_216",
         "rawType": "float64",
         "type": "float"
        },
        {
         "name": "dim_217",
         "rawType": "float64",
         "type": "float"
        },
        {
         "name": "dim_218",
         "rawType": "float64",
         "type": "float"
        },
        {
         "name": "dim_219",
         "rawType": "float64",
         "type": "float"
        },
        {
         "name": "dim_220",
         "rawType": "float64",
         "type": "float"
        },
        {
         "name": "dim_221",
         "rawType": "float64",
         "type": "float"
        },
        {
         "name": "dim_222",
         "rawType": "float64",
         "type": "float"
        },
        {
         "name": "dim_223",
         "rawType": "float64",
         "type": "float"
        },
        {
         "name": "dim_224",
         "rawType": "float64",
         "type": "float"
        },
        {
         "name": "dim_225",
         "rawType": "float64",
         "type": "float"
        },
        {
         "name": "dim_226",
         "rawType": "float64",
         "type": "float"
        },
        {
         "name": "dim_227",
         "rawType": "float64",
         "type": "float"
        },
        {
         "name": "dim_228",
         "rawType": "float64",
         "type": "float"
        },
        {
         "name": "dim_229",
         "rawType": "float64",
         "type": "float"
        },
        {
         "name": "dim_230",
         "rawType": "float64",
         "type": "float"
        },
        {
         "name": "dim_231",
         "rawType": "float64",
         "type": "float"
        },
        {
         "name": "dim_232",
         "rawType": "float64",
         "type": "float"
        },
        {
         "name": "dim_233",
         "rawType": "float64",
         "type": "float"
        },
        {
         "name": "dim_234",
         "rawType": "float64",
         "type": "float"
        },
        {
         "name": "dim_235",
         "rawType": "float64",
         "type": "float"
        },
        {
         "name": "dim_236",
         "rawType": "float64",
         "type": "float"
        },
        {
         "name": "dim_237",
         "rawType": "float64",
         "type": "float"
        },
        {
         "name": "dim_238",
         "rawType": "float64",
         "type": "float"
        },
        {
         "name": "dim_239",
         "rawType": "float64",
         "type": "float"
        },
        {
         "name": "dim_240",
         "rawType": "float64",
         "type": "float"
        },
        {
         "name": "dim_241",
         "rawType": "float64",
         "type": "float"
        },
        {
         "name": "dim_242",
         "rawType": "float64",
         "type": "float"
        },
        {
         "name": "dim_243",
         "rawType": "float64",
         "type": "float"
        },
        {
         "name": "dim_244",
         "rawType": "float64",
         "type": "float"
        },
        {
         "name": "dim_245",
         "rawType": "float64",
         "type": "float"
        },
        {
         "name": "dim_246",
         "rawType": "float64",
         "type": "float"
        },
        {
         "name": "dim_247",
         "rawType": "float64",
         "type": "float"
        },
        {
         "name": "dim_248",
         "rawType": "float64",
         "type": "float"
        },
        {
         "name": "dim_249",
         "rawType": "float64",
         "type": "float"
        },
        {
         "name": "dim_250",
         "rawType": "float64",
         "type": "float"
        },
        {
         "name": "dim_251",
         "rawType": "float64",
         "type": "float"
        },
        {
         "name": "dim_252",
         "rawType": "float64",
         "type": "float"
        },
        {
         "name": "dim_253",
         "rawType": "float64",
         "type": "float"
        },
        {
         "name": "dim_254",
         "rawType": "float64",
         "type": "float"
        },
        {
         "name": "dim_255",
         "rawType": "float64",
         "type": "float"
        },
        {
         "name": "dim_256",
         "rawType": "float64",
         "type": "float"
        },
        {
         "name": "dim_257",
         "rawType": "float64",
         "type": "float"
        },
        {
         "name": "dim_258",
         "rawType": "float64",
         "type": "float"
        },
        {
         "name": "dim_259",
         "rawType": "float64",
         "type": "float"
        },
        {
         "name": "dim_260",
         "rawType": "float64",
         "type": "float"
        },
        {
         "name": "dim_261",
         "rawType": "float64",
         "type": "float"
        },
        {
         "name": "dim_262",
         "rawType": "float64",
         "type": "float"
        },
        {
         "name": "dim_263",
         "rawType": "float64",
         "type": "float"
        },
        {
         "name": "dim_264",
         "rawType": "float64",
         "type": "float"
        },
        {
         "name": "dim_265",
         "rawType": "float64",
         "type": "float"
        },
        {
         "name": "dim_266",
         "rawType": "float64",
         "type": "float"
        },
        {
         "name": "dim_267",
         "rawType": "float64",
         "type": "float"
        },
        {
         "name": "dim_268",
         "rawType": "float64",
         "type": "float"
        },
        {
         "name": "dim_269",
         "rawType": "float64",
         "type": "float"
        },
        {
         "name": "dim_270",
         "rawType": "float64",
         "type": "float"
        },
        {
         "name": "dim_271",
         "rawType": "float64",
         "type": "float"
        },
        {
         "name": "dim_272",
         "rawType": "float64",
         "type": "float"
        },
        {
         "name": "dim_273",
         "rawType": "float64",
         "type": "float"
        },
        {
         "name": "dim_274",
         "rawType": "float64",
         "type": "float"
        },
        {
         "name": "dim_275",
         "rawType": "float64",
         "type": "float"
        },
        {
         "name": "dim_276",
         "rawType": "float64",
         "type": "float"
        },
        {
         "name": "dim_277",
         "rawType": "float64",
         "type": "float"
        },
        {
         "name": "dim_278",
         "rawType": "float64",
         "type": "float"
        },
        {
         "name": "dim_279",
         "rawType": "float64",
         "type": "float"
        },
        {
         "name": "dim_280",
         "rawType": "float64",
         "type": "float"
        },
        {
         "name": "dim_281",
         "rawType": "float64",
         "type": "float"
        },
        {
         "name": "dim_282",
         "rawType": "float64",
         "type": "float"
        },
        {
         "name": "dim_283",
         "rawType": "float64",
         "type": "float"
        },
        {
         "name": "dim_284",
         "rawType": "float64",
         "type": "float"
        },
        {
         "name": "dim_285",
         "rawType": "float64",
         "type": "float"
        },
        {
         "name": "dim_286",
         "rawType": "float64",
         "type": "float"
        },
        {
         "name": "dim_287",
         "rawType": "float64",
         "type": "float"
        },
        {
         "name": "dim_288",
         "rawType": "float64",
         "type": "float"
        },
        {
         "name": "dim_289",
         "rawType": "float64",
         "type": "float"
        },
        {
         "name": "dim_290",
         "rawType": "float64",
         "type": "float"
        },
        {
         "name": "dim_291",
         "rawType": "float64",
         "type": "float"
        },
        {
         "name": "dim_292",
         "rawType": "float64",
         "type": "float"
        },
        {
         "name": "dim_293",
         "rawType": "float64",
         "type": "float"
        },
        {
         "name": "dim_294",
         "rawType": "float64",
         "type": "float"
        },
        {
         "name": "dim_295",
         "rawType": "float64",
         "type": "float"
        },
        {
         "name": "dim_296",
         "rawType": "float64",
         "type": "float"
        },
        {
         "name": "dim_297",
         "rawType": "float64",
         "type": "float"
        },
        {
         "name": "dim_298",
         "rawType": "float64",
         "type": "float"
        },
        {
         "name": "dim_299",
         "rawType": "float64",
         "type": "float"
        },
        {
         "name": "dim_300",
         "rawType": "float64",
         "type": "float"
        },
        {
         "name": "dim_301",
         "rawType": "float64",
         "type": "float"
        },
        {
         "name": "dim_302",
         "rawType": "float64",
         "type": "float"
        },
        {
         "name": "dim_303",
         "rawType": "float64",
         "type": "float"
        },
        {
         "name": "dim_304",
         "rawType": "float64",
         "type": "float"
        },
        {
         "name": "dim_305",
         "rawType": "float64",
         "type": "float"
        },
        {
         "name": "dim_306",
         "rawType": "float64",
         "type": "float"
        },
        {
         "name": "dim_307",
         "rawType": "float64",
         "type": "float"
        },
        {
         "name": "dim_308",
         "rawType": "float64",
         "type": "float"
        },
        {
         "name": "dim_309",
         "rawType": "float64",
         "type": "float"
        },
        {
         "name": "dim_310",
         "rawType": "float64",
         "type": "float"
        },
        {
         "name": "dim_311",
         "rawType": "float64",
         "type": "float"
        },
        {
         "name": "dim_312",
         "rawType": "float64",
         "type": "float"
        },
        {
         "name": "dim_313",
         "rawType": "float64",
         "type": "float"
        },
        {
         "name": "dim_314",
         "rawType": "float64",
         "type": "float"
        },
        {
         "name": "dim_315",
         "rawType": "float64",
         "type": "float"
        },
        {
         "name": "dim_316",
         "rawType": "float64",
         "type": "float"
        },
        {
         "name": "dim_317",
         "rawType": "float64",
         "type": "float"
        },
        {
         "name": "dim_318",
         "rawType": "float64",
         "type": "float"
        },
        {
         "name": "dim_319",
         "rawType": "float64",
         "type": "float"
        },
        {
         "name": "dim_320",
         "rawType": "float64",
         "type": "float"
        },
        {
         "name": "dim_321",
         "rawType": "float64",
         "type": "float"
        },
        {
         "name": "dim_322",
         "rawType": "float64",
         "type": "float"
        },
        {
         "name": "dim_323",
         "rawType": "float64",
         "type": "float"
        },
        {
         "name": "dim_324",
         "rawType": "float64",
         "type": "float"
        },
        {
         "name": "dim_325",
         "rawType": "float64",
         "type": "float"
        },
        {
         "name": "dim_326",
         "rawType": "float64",
         "type": "float"
        },
        {
         "name": "dim_327",
         "rawType": "float64",
         "type": "float"
        },
        {
         "name": "dim_328",
         "rawType": "float64",
         "type": "float"
        },
        {
         "name": "dim_329",
         "rawType": "float64",
         "type": "float"
        },
        {
         "name": "dim_330",
         "rawType": "float64",
         "type": "float"
        },
        {
         "name": "dim_331",
         "rawType": "float64",
         "type": "float"
        },
        {
         "name": "dim_332",
         "rawType": "float64",
         "type": "float"
        },
        {
         "name": "dim_333",
         "rawType": "float64",
         "type": "float"
        },
        {
         "name": "dim_334",
         "rawType": "float64",
         "type": "float"
        },
        {
         "name": "dim_335",
         "rawType": "float64",
         "type": "float"
        },
        {
         "name": "dim_336",
         "rawType": "float64",
         "type": "float"
        },
        {
         "name": "dim_337",
         "rawType": "float64",
         "type": "float"
        },
        {
         "name": "dim_338",
         "rawType": "float64",
         "type": "float"
        },
        {
         "name": "dim_339",
         "rawType": "float64",
         "type": "float"
        },
        {
         "name": "dim_340",
         "rawType": "float64",
         "type": "float"
        },
        {
         "name": "dim_341",
         "rawType": "float64",
         "type": "float"
        },
        {
         "name": "dim_342",
         "rawType": "float64",
         "type": "float"
        },
        {
         "name": "dim_343",
         "rawType": "float64",
         "type": "float"
        },
        {
         "name": "dim_344",
         "rawType": "float64",
         "type": "float"
        },
        {
         "name": "dim_345",
         "rawType": "float64",
         "type": "float"
        },
        {
         "name": "dim_346",
         "rawType": "float64",
         "type": "float"
        },
        {
         "name": "dim_347",
         "rawType": "float64",
         "type": "float"
        },
        {
         "name": "dim_348",
         "rawType": "float64",
         "type": "float"
        },
        {
         "name": "dim_349",
         "rawType": "float64",
         "type": "float"
        },
        {
         "name": "dim_350",
         "rawType": "float64",
         "type": "float"
        },
        {
         "name": "dim_351",
         "rawType": "float64",
         "type": "float"
        },
        {
         "name": "dim_352",
         "rawType": "float64",
         "type": "float"
        },
        {
         "name": "dim_353",
         "rawType": "float64",
         "type": "float"
        },
        {
         "name": "dim_354",
         "rawType": "float64",
         "type": "float"
        },
        {
         "name": "dim_355",
         "rawType": "float64",
         "type": "float"
        },
        {
         "name": "dim_356",
         "rawType": "float64",
         "type": "float"
        },
        {
         "name": "dim_357",
         "rawType": "float64",
         "type": "float"
        },
        {
         "name": "dim_358",
         "rawType": "float64",
         "type": "float"
        },
        {
         "name": "dim_359",
         "rawType": "float64",
         "type": "float"
        },
        {
         "name": "dim_360",
         "rawType": "float64",
         "type": "float"
        },
        {
         "name": "dim_361",
         "rawType": "float64",
         "type": "float"
        },
        {
         "name": "dim_362",
         "rawType": "float64",
         "type": "float"
        },
        {
         "name": "dim_363",
         "rawType": "float64",
         "type": "float"
        },
        {
         "name": "dim_364",
         "rawType": "float64",
         "type": "float"
        },
        {
         "name": "dim_365",
         "rawType": "float64",
         "type": "float"
        },
        {
         "name": "dim_366",
         "rawType": "float64",
         "type": "float"
        },
        {
         "name": "dim_367",
         "rawType": "float64",
         "type": "float"
        },
        {
         "name": "dim_368",
         "rawType": "float64",
         "type": "float"
        },
        {
         "name": "dim_369",
         "rawType": "float64",
         "type": "float"
        },
        {
         "name": "dim_370",
         "rawType": "float64",
         "type": "float"
        },
        {
         "name": "dim_371",
         "rawType": "float64",
         "type": "float"
        },
        {
         "name": "dim_372",
         "rawType": "float64",
         "type": "float"
        },
        {
         "name": "dim_373",
         "rawType": "float64",
         "type": "float"
        },
        {
         "name": "dim_374",
         "rawType": "float64",
         "type": "float"
        },
        {
         "name": "dim_375",
         "rawType": "float64",
         "type": "float"
        },
        {
         "name": "dim_376",
         "rawType": "float64",
         "type": "float"
        },
        {
         "name": "dim_377",
         "rawType": "float64",
         "type": "float"
        },
        {
         "name": "dim_378",
         "rawType": "float64",
         "type": "float"
        },
        {
         "name": "dim_379",
         "rawType": "float64",
         "type": "float"
        },
        {
         "name": "dim_380",
         "rawType": "float64",
         "type": "float"
        },
        {
         "name": "dim_381",
         "rawType": "float64",
         "type": "float"
        },
        {
         "name": "dim_382",
         "rawType": "float64",
         "type": "float"
        },
        {
         "name": "dim_383",
         "rawType": "float64",
         "type": "float"
        },
        {
         "name": "dim_384",
         "rawType": "float64",
         "type": "float"
        },
        {
         "name": "dim_385",
         "rawType": "float64",
         "type": "float"
        },
        {
         "name": "dim_386",
         "rawType": "float64",
         "type": "float"
        },
        {
         "name": "dim_387",
         "rawType": "float64",
         "type": "float"
        },
        {
         "name": "dim_388",
         "rawType": "float64",
         "type": "float"
        },
        {
         "name": "dim_389",
         "rawType": "float64",
         "type": "float"
        },
        {
         "name": "dim_390",
         "rawType": "float64",
         "type": "float"
        },
        {
         "name": "dim_391",
         "rawType": "float64",
         "type": "float"
        },
        {
         "name": "dim_392",
         "rawType": "float64",
         "type": "float"
        },
        {
         "name": "dim_393",
         "rawType": "float64",
         "type": "float"
        },
        {
         "name": "dim_394",
         "rawType": "float64",
         "type": "float"
        },
        {
         "name": "dim_395",
         "rawType": "float64",
         "type": "float"
        },
        {
         "name": "dim_396",
         "rawType": "float64",
         "type": "float"
        },
        {
         "name": "dim_397",
         "rawType": "float64",
         "type": "float"
        },
        {
         "name": "dim_398",
         "rawType": "float64",
         "type": "float"
        },
        {
         "name": "dim_399",
         "rawType": "float64",
         "type": "float"
        },
        {
         "name": "dim_400",
         "rawType": "float64",
         "type": "float"
        },
        {
         "name": "dim_401",
         "rawType": "float64",
         "type": "float"
        },
        {
         "name": "dim_402",
         "rawType": "float64",
         "type": "float"
        },
        {
         "name": "dim_403",
         "rawType": "float64",
         "type": "float"
        },
        {
         "name": "dim_404",
         "rawType": "float64",
         "type": "float"
        },
        {
         "name": "dim_405",
         "rawType": "float64",
         "type": "float"
        },
        {
         "name": "dim_406",
         "rawType": "float64",
         "type": "float"
        },
        {
         "name": "dim_407",
         "rawType": "float64",
         "type": "float"
        },
        {
         "name": "dim_408",
         "rawType": "float64",
         "type": "float"
        },
        {
         "name": "dim_409",
         "rawType": "float64",
         "type": "float"
        },
        {
         "name": "dim_410",
         "rawType": "float64",
         "type": "float"
        },
        {
         "name": "dim_411",
         "rawType": "float64",
         "type": "float"
        },
        {
         "name": "dim_412",
         "rawType": "float64",
         "type": "float"
        },
        {
         "name": "dim_413",
         "rawType": "float64",
         "type": "float"
        },
        {
         "name": "dim_414",
         "rawType": "float64",
         "type": "float"
        },
        {
         "name": "dim_415",
         "rawType": "float64",
         "type": "float"
        },
        {
         "name": "dim_416",
         "rawType": "float64",
         "type": "float"
        },
        {
         "name": "dim_417",
         "rawType": "float64",
         "type": "float"
        },
        {
         "name": "dim_418",
         "rawType": "float64",
         "type": "float"
        },
        {
         "name": "dim_419",
         "rawType": "float64",
         "type": "float"
        },
        {
         "name": "dim_420",
         "rawType": "float64",
         "type": "float"
        },
        {
         "name": "dim_421",
         "rawType": "float64",
         "type": "float"
        },
        {
         "name": "dim_422",
         "rawType": "float64",
         "type": "float"
        },
        {
         "name": "dim_423",
         "rawType": "float64",
         "type": "float"
        },
        {
         "name": "dim_424",
         "rawType": "float64",
         "type": "float"
        },
        {
         "name": "dim_425",
         "rawType": "float64",
         "type": "float"
        },
        {
         "name": "dim_426",
         "rawType": "float64",
         "type": "float"
        },
        {
         "name": "dim_427",
         "rawType": "float64",
         "type": "float"
        },
        {
         "name": "dim_428",
         "rawType": "float64",
         "type": "float"
        },
        {
         "name": "dim_429",
         "rawType": "float64",
         "type": "float"
        },
        {
         "name": "dim_430",
         "rawType": "float64",
         "type": "float"
        },
        {
         "name": "dim_431",
         "rawType": "float64",
         "type": "float"
        },
        {
         "name": "dim_432",
         "rawType": "float64",
         "type": "float"
        },
        {
         "name": "dim_433",
         "rawType": "float64",
         "type": "float"
        },
        {
         "name": "dim_434",
         "rawType": "float64",
         "type": "float"
        },
        {
         "name": "dim_435",
         "rawType": "float64",
         "type": "float"
        },
        {
         "name": "dim_436",
         "rawType": "float64",
         "type": "float"
        },
        {
         "name": "dim_437",
         "rawType": "float64",
         "type": "float"
        },
        {
         "name": "dim_438",
         "rawType": "float64",
         "type": "float"
        },
        {
         "name": "dim_439",
         "rawType": "float64",
         "type": "float"
        },
        {
         "name": "dim_440",
         "rawType": "float64",
         "type": "float"
        },
        {
         "name": "dim_441",
         "rawType": "float64",
         "type": "float"
        },
        {
         "name": "dim_442",
         "rawType": "float64",
         "type": "float"
        },
        {
         "name": "dim_443",
         "rawType": "float64",
         "type": "float"
        },
        {
         "name": "dim_444",
         "rawType": "float64",
         "type": "float"
        },
        {
         "name": "dim_445",
         "rawType": "float64",
         "type": "float"
        },
        {
         "name": "dim_446",
         "rawType": "float64",
         "type": "float"
        },
        {
         "name": "dim_447",
         "rawType": "float64",
         "type": "float"
        },
        {
         "name": "dim_448",
         "rawType": "float64",
         "type": "float"
        },
        {
         "name": "dim_449",
         "rawType": "float64",
         "type": "float"
        },
        {
         "name": "dim_450",
         "rawType": "float64",
         "type": "float"
        },
        {
         "name": "dim_451",
         "rawType": "float64",
         "type": "float"
        },
        {
         "name": "dim_452",
         "rawType": "float64",
         "type": "float"
        },
        {
         "name": "dim_453",
         "rawType": "float64",
         "type": "float"
        },
        {
         "name": "dim_454",
         "rawType": "float64",
         "type": "float"
        },
        {
         "name": "dim_455",
         "rawType": "float64",
         "type": "float"
        },
        {
         "name": "dim_456",
         "rawType": "float64",
         "type": "float"
        },
        {
         "name": "dim_457",
         "rawType": "float64",
         "type": "float"
        },
        {
         "name": "dim_458",
         "rawType": "float64",
         "type": "float"
        },
        {
         "name": "dim_459",
         "rawType": "float64",
         "type": "float"
        },
        {
         "name": "dim_460",
         "rawType": "float64",
         "type": "float"
        },
        {
         "name": "dim_461",
         "rawType": "float64",
         "type": "float"
        },
        {
         "name": "dim_462",
         "rawType": "float64",
         "type": "float"
        },
        {
         "name": "dim_463",
         "rawType": "float64",
         "type": "float"
        },
        {
         "name": "dim_464",
         "rawType": "float64",
         "type": "float"
        },
        {
         "name": "dim_465",
         "rawType": "float64",
         "type": "float"
        },
        {
         "name": "dim_466",
         "rawType": "float64",
         "type": "float"
        },
        {
         "name": "dim_467",
         "rawType": "float64",
         "type": "float"
        },
        {
         "name": "dim_468",
         "rawType": "float64",
         "type": "float"
        },
        {
         "name": "dim_469",
         "rawType": "float64",
         "type": "float"
        },
        {
         "name": "dim_470",
         "rawType": "float64",
         "type": "float"
        },
        {
         "name": "dim_471",
         "rawType": "float64",
         "type": "float"
        },
        {
         "name": "dim_472",
         "rawType": "float64",
         "type": "float"
        },
        {
         "name": "dim_473",
         "rawType": "float64",
         "type": "float"
        },
        {
         "name": "dim_474",
         "rawType": "float64",
         "type": "float"
        },
        {
         "name": "dim_475",
         "rawType": "float64",
         "type": "float"
        },
        {
         "name": "dim_476",
         "rawType": "float64",
         "type": "float"
        },
        {
         "name": "dim_477",
         "rawType": "float64",
         "type": "float"
        },
        {
         "name": "dim_478",
         "rawType": "float64",
         "type": "float"
        },
        {
         "name": "dim_479",
         "rawType": "float64",
         "type": "float"
        },
        {
         "name": "dim_480",
         "rawType": "float64",
         "type": "float"
        },
        {
         "name": "dim_481",
         "rawType": "float64",
         "type": "float"
        },
        {
         "name": "dim_482",
         "rawType": "float64",
         "type": "float"
        },
        {
         "name": "dim_483",
         "rawType": "float64",
         "type": "float"
        },
        {
         "name": "dim_484",
         "rawType": "float64",
         "type": "float"
        },
        {
         "name": "dim_485",
         "rawType": "float64",
         "type": "float"
        },
        {
         "name": "dim_486",
         "rawType": "float64",
         "type": "float"
        },
        {
         "name": "dim_487",
         "rawType": "float64",
         "type": "float"
        },
        {
         "name": "dim_488",
         "rawType": "float64",
         "type": "float"
        },
        {
         "name": "dim_489",
         "rawType": "float64",
         "type": "float"
        },
        {
         "name": "dim_490",
         "rawType": "float64",
         "type": "float"
        },
        {
         "name": "dim_491",
         "rawType": "float64",
         "type": "float"
        },
        {
         "name": "dim_492",
         "rawType": "float64",
         "type": "float"
        },
        {
         "name": "dim_493",
         "rawType": "float64",
         "type": "float"
        },
        {
         "name": "dim_494",
         "rawType": "float64",
         "type": "float"
        },
        {
         "name": "dim_495",
         "rawType": "float64",
         "type": "float"
        },
        {
         "name": "dim_496",
         "rawType": "float64",
         "type": "float"
        },
        {
         "name": "dim_497",
         "rawType": "float64",
         "type": "float"
        },
        {
         "name": "dim_498",
         "rawType": "float64",
         "type": "float"
        },
        {
         "name": "dim_499",
         "rawType": "float64",
         "type": "float"
        },
        {
         "name": "dim_500",
         "rawType": "float64",
         "type": "float"
        },
        {
         "name": "dim_501",
         "rawType": "float64",
         "type": "float"
        },
        {
         "name": "dim_502",
         "rawType": "float64",
         "type": "float"
        },
        {
         "name": "dim_503",
         "rawType": "float64",
         "type": "float"
        },
        {
         "name": "dim_504",
         "rawType": "float64",
         "type": "float"
        },
        {
         "name": "dim_505",
         "rawType": "float64",
         "type": "float"
        },
        {
         "name": "dim_506",
         "rawType": "float64",
         "type": "float"
        },
        {
         "name": "dim_507",
         "rawType": "float64",
         "type": "float"
        },
        {
         "name": "dim_508",
         "rawType": "float64",
         "type": "float"
        },
        {
         "name": "dim_509",
         "rawType": "float64",
         "type": "float"
        },
        {
         "name": "dim_510",
         "rawType": "float64",
         "type": "float"
        },
        {
         "name": "dim_511",
         "rawType": "float64",
         "type": "float"
        },
        {
         "name": "dim_512",
         "rawType": "float64",
         "type": "float"
        },
        {
         "name": "dim_513",
         "rawType": "float64",
         "type": "float"
        },
        {
         "name": "dim_514",
         "rawType": "float64",
         "type": "float"
        },
        {
         "name": "dim_515",
         "rawType": "float64",
         "type": "float"
        },
        {
         "name": "dim_516",
         "rawType": "float64",
         "type": "float"
        },
        {
         "name": "dim_517",
         "rawType": "float64",
         "type": "float"
        },
        {
         "name": "dim_518",
         "rawType": "float64",
         "type": "float"
        },
        {
         "name": "dim_519",
         "rawType": "float64",
         "type": "float"
        },
        {
         "name": "dim_520",
         "rawType": "float64",
         "type": "float"
        },
        {
         "name": "dim_521",
         "rawType": "float64",
         "type": "float"
        },
        {
         "name": "dim_522",
         "rawType": "float64",
         "type": "float"
        },
        {
         "name": "dim_523",
         "rawType": "float64",
         "type": "float"
        },
        {
         "name": "dim_524",
         "rawType": "float64",
         "type": "float"
        },
        {
         "name": "dim_525",
         "rawType": "float64",
         "type": "float"
        },
        {
         "name": "dim_526",
         "rawType": "float64",
         "type": "float"
        },
        {
         "name": "dim_527",
         "rawType": "float64",
         "type": "float"
        },
        {
         "name": "dim_528",
         "rawType": "float64",
         "type": "float"
        },
        {
         "name": "dim_529",
         "rawType": "float64",
         "type": "float"
        },
        {
         "name": "dim_530",
         "rawType": "float64",
         "type": "float"
        },
        {
         "name": "dim_531",
         "rawType": "float64",
         "type": "float"
        },
        {
         "name": "dim_532",
         "rawType": "float64",
         "type": "float"
        },
        {
         "name": "dim_533",
         "rawType": "float64",
         "type": "float"
        },
        {
         "name": "dim_534",
         "rawType": "float64",
         "type": "float"
        },
        {
         "name": "dim_535",
         "rawType": "float64",
         "type": "float"
        },
        {
         "name": "dim_536",
         "rawType": "float64",
         "type": "float"
        },
        {
         "name": "dim_537",
         "rawType": "float64",
         "type": "float"
        },
        {
         "name": "dim_538",
         "rawType": "float64",
         "type": "float"
        },
        {
         "name": "dim_539",
         "rawType": "float64",
         "type": "float"
        },
        {
         "name": "dim_540",
         "rawType": "float64",
         "type": "float"
        },
        {
         "name": "dim_541",
         "rawType": "float64",
         "type": "float"
        },
        {
         "name": "dim_542",
         "rawType": "float64",
         "type": "float"
        },
        {
         "name": "dim_543",
         "rawType": "float64",
         "type": "float"
        },
        {
         "name": "dim_544",
         "rawType": "float64",
         "type": "float"
        },
        {
         "name": "dim_545",
         "rawType": "float64",
         "type": "float"
        },
        {
         "name": "dim_546",
         "rawType": "float64",
         "type": "float"
        },
        {
         "name": "dim_547",
         "rawType": "float64",
         "type": "float"
        },
        {
         "name": "dim_548",
         "rawType": "float64",
         "type": "float"
        },
        {
         "name": "dim_549",
         "rawType": "float64",
         "type": "float"
        },
        {
         "name": "dim_550",
         "rawType": "float64",
         "type": "float"
        },
        {
         "name": "dim_551",
         "rawType": "float64",
         "type": "float"
        },
        {
         "name": "dim_552",
         "rawType": "float64",
         "type": "float"
        },
        {
         "name": "dim_553",
         "rawType": "float64",
         "type": "float"
        },
        {
         "name": "dim_554",
         "rawType": "float64",
         "type": "float"
        },
        {
         "name": "dim_555",
         "rawType": "float64",
         "type": "float"
        },
        {
         "name": "dim_556",
         "rawType": "float64",
         "type": "float"
        },
        {
         "name": "dim_557",
         "rawType": "float64",
         "type": "float"
        },
        {
         "name": "dim_558",
         "rawType": "float64",
         "type": "float"
        },
        {
         "name": "dim_559",
         "rawType": "float64",
         "type": "float"
        },
        {
         "name": "dim_560",
         "rawType": "float64",
         "type": "float"
        },
        {
         "name": "dim_561",
         "rawType": "float64",
         "type": "float"
        },
        {
         "name": "dim_562",
         "rawType": "float64",
         "type": "float"
        },
        {
         "name": "dim_563",
         "rawType": "float64",
         "type": "float"
        },
        {
         "name": "dim_564",
         "rawType": "float64",
         "type": "float"
        },
        {
         "name": "dim_565",
         "rawType": "float64",
         "type": "float"
        },
        {
         "name": "dim_566",
         "rawType": "float64",
         "type": "float"
        },
        {
         "name": "dim_567",
         "rawType": "float64",
         "type": "float"
        },
        {
         "name": "dim_568",
         "rawType": "float64",
         "type": "float"
        },
        {
         "name": "dim_569",
         "rawType": "float64",
         "type": "float"
        },
        {
         "name": "dim_570",
         "rawType": "float64",
         "type": "float"
        },
        {
         "name": "dim_571",
         "rawType": "float64",
         "type": "float"
        },
        {
         "name": "dim_572",
         "rawType": "float64",
         "type": "float"
        },
        {
         "name": "dim_573",
         "rawType": "float64",
         "type": "float"
        },
        {
         "name": "dim_574",
         "rawType": "float64",
         "type": "float"
        },
        {
         "name": "dim_575",
         "rawType": "float64",
         "type": "float"
        },
        {
         "name": "dim_576",
         "rawType": "float64",
         "type": "float"
        },
        {
         "name": "dim_577",
         "rawType": "float64",
         "type": "float"
        },
        {
         "name": "dim_578",
         "rawType": "float64",
         "type": "float"
        },
        {
         "name": "dim_579",
         "rawType": "float64",
         "type": "float"
        },
        {
         "name": "dim_580",
         "rawType": "float64",
         "type": "float"
        },
        {
         "name": "dim_581",
         "rawType": "float64",
         "type": "float"
        },
        {
         "name": "dim_582",
         "rawType": "float64",
         "type": "float"
        },
        {
         "name": "dim_583",
         "rawType": "float64",
         "type": "float"
        },
        {
         "name": "dim_584",
         "rawType": "float64",
         "type": "float"
        },
        {
         "name": "dim_585",
         "rawType": "float64",
         "type": "float"
        },
        {
         "name": "dim_586",
         "rawType": "float64",
         "type": "float"
        },
        {
         "name": "dim_587",
         "rawType": "float64",
         "type": "float"
        },
        {
         "name": "dim_588",
         "rawType": "float64",
         "type": "float"
        },
        {
         "name": "dim_589",
         "rawType": "float64",
         "type": "float"
        },
        {
         "name": "dim_590",
         "rawType": "float64",
         "type": "float"
        },
        {
         "name": "dim_591",
         "rawType": "float64",
         "type": "float"
        },
        {
         "name": "dim_592",
         "rawType": "float64",
         "type": "float"
        },
        {
         "name": "dim_593",
         "rawType": "float64",
         "type": "float"
        },
        {
         "name": "dim_594",
         "rawType": "float64",
         "type": "float"
        },
        {
         "name": "dim_595",
         "rawType": "float64",
         "type": "float"
        },
        {
         "name": "dim_596",
         "rawType": "float64",
         "type": "float"
        },
        {
         "name": "dim_597",
         "rawType": "float64",
         "type": "float"
        },
        {
         "name": "dim_598",
         "rawType": "float64",
         "type": "float"
        },
        {
         "name": "dim_599",
         "rawType": "float64",
         "type": "float"
        },
        {
         "name": "dim_600",
         "rawType": "float64",
         "type": "float"
        },
        {
         "name": "dim_601",
         "rawType": "float64",
         "type": "float"
        },
        {
         "name": "dim_602",
         "rawType": "float64",
         "type": "float"
        },
        {
         "name": "dim_603",
         "rawType": "float64",
         "type": "float"
        },
        {
         "name": "dim_604",
         "rawType": "float64",
         "type": "float"
        },
        {
         "name": "dim_605",
         "rawType": "float64",
         "type": "float"
        },
        {
         "name": "dim_606",
         "rawType": "float64",
         "type": "float"
        },
        {
         "name": "dim_607",
         "rawType": "float64",
         "type": "float"
        },
        {
         "name": "dim_608",
         "rawType": "float64",
         "type": "float"
        },
        {
         "name": "dim_609",
         "rawType": "float64",
         "type": "float"
        },
        {
         "name": "dim_610",
         "rawType": "float64",
         "type": "float"
        },
        {
         "name": "dim_611",
         "rawType": "float64",
         "type": "float"
        },
        {
         "name": "dim_612",
         "rawType": "float64",
         "type": "float"
        },
        {
         "name": "dim_613",
         "rawType": "float64",
         "type": "float"
        },
        {
         "name": "dim_614",
         "rawType": "float64",
         "type": "float"
        },
        {
         "name": "dim_615",
         "rawType": "float64",
         "type": "float"
        },
        {
         "name": "dim_616",
         "rawType": "float64",
         "type": "float"
        },
        {
         "name": "dim_617",
         "rawType": "float64",
         "type": "float"
        },
        {
         "name": "dim_618",
         "rawType": "float64",
         "type": "float"
        },
        {
         "name": "dim_619",
         "rawType": "float64",
         "type": "float"
        },
        {
         "name": "dim_620",
         "rawType": "float64",
         "type": "float"
        },
        {
         "name": "dim_621",
         "rawType": "float64",
         "type": "float"
        },
        {
         "name": "dim_622",
         "rawType": "float64",
         "type": "float"
        },
        {
         "name": "dim_623",
         "rawType": "float64",
         "type": "float"
        },
        {
         "name": "dim_624",
         "rawType": "float64",
         "type": "float"
        },
        {
         "name": "dim_625",
         "rawType": "float64",
         "type": "float"
        },
        {
         "name": "dim_626",
         "rawType": "float64",
         "type": "float"
        },
        {
         "name": "dim_627",
         "rawType": "float64",
         "type": "float"
        },
        {
         "name": "dim_628",
         "rawType": "float64",
         "type": "float"
        },
        {
         "name": "dim_629",
         "rawType": "float64",
         "type": "float"
        },
        {
         "name": "dim_630",
         "rawType": "float64",
         "type": "float"
        },
        {
         "name": "dim_631",
         "rawType": "float64",
         "type": "float"
        },
        {
         "name": "dim_632",
         "rawType": "float64",
         "type": "float"
        },
        {
         "name": "dim_633",
         "rawType": "float64",
         "type": "float"
        },
        {
         "name": "dim_634",
         "rawType": "float64",
         "type": "float"
        },
        {
         "name": "dim_635",
         "rawType": "float64",
         "type": "float"
        },
        {
         "name": "dim_636",
         "rawType": "float64",
         "type": "float"
        },
        {
         "name": "dim_637",
         "rawType": "float64",
         "type": "float"
        },
        {
         "name": "dim_638",
         "rawType": "float64",
         "type": "float"
        },
        {
         "name": "dim_639",
         "rawType": "float64",
         "type": "float"
        },
        {
         "name": "dim_640",
         "rawType": "float64",
         "type": "float"
        },
        {
         "name": "dim_641",
         "rawType": "float64",
         "type": "float"
        },
        {
         "name": "dim_642",
         "rawType": "float64",
         "type": "float"
        },
        {
         "name": "dim_643",
         "rawType": "float64",
         "type": "float"
        },
        {
         "name": "dim_644",
         "rawType": "float64",
         "type": "float"
        },
        {
         "name": "dim_645",
         "rawType": "float64",
         "type": "float"
        },
        {
         "name": "dim_646",
         "rawType": "float64",
         "type": "float"
        },
        {
         "name": "dim_647",
         "rawType": "float64",
         "type": "float"
        },
        {
         "name": "dim_648",
         "rawType": "float64",
         "type": "float"
        },
        {
         "name": "dim_649",
         "rawType": "float64",
         "type": "float"
        },
        {
         "name": "dim_650",
         "rawType": "float64",
         "type": "float"
        },
        {
         "name": "dim_651",
         "rawType": "float64",
         "type": "float"
        },
        {
         "name": "dim_652",
         "rawType": "float64",
         "type": "float"
        },
        {
         "name": "dim_653",
         "rawType": "float64",
         "type": "float"
        },
        {
         "name": "dim_654",
         "rawType": "float64",
         "type": "float"
        },
        {
         "name": "dim_655",
         "rawType": "float64",
         "type": "float"
        },
        {
         "name": "dim_656",
         "rawType": "float64",
         "type": "float"
        },
        {
         "name": "dim_657",
         "rawType": "float64",
         "type": "float"
        },
        {
         "name": "dim_658",
         "rawType": "float64",
         "type": "float"
        },
        {
         "name": "dim_659",
         "rawType": "float64",
         "type": "float"
        },
        {
         "name": "dim_660",
         "rawType": "float64",
         "type": "float"
        },
        {
         "name": "dim_661",
         "rawType": "float64",
         "type": "float"
        },
        {
         "name": "dim_662",
         "rawType": "float64",
         "type": "float"
        },
        {
         "name": "dim_663",
         "rawType": "float64",
         "type": "float"
        },
        {
         "name": "dim_664",
         "rawType": "float64",
         "type": "float"
        },
        {
         "name": "dim_665",
         "rawType": "float64",
         "type": "float"
        },
        {
         "name": "dim_666",
         "rawType": "float64",
         "type": "float"
        },
        {
         "name": "dim_667",
         "rawType": "float64",
         "type": "float"
        },
        {
         "name": "dim_668",
         "rawType": "float64",
         "type": "float"
        },
        {
         "name": "dim_669",
         "rawType": "float64",
         "type": "float"
        },
        {
         "name": "dim_670",
         "rawType": "float64",
         "type": "float"
        },
        {
         "name": "dim_671",
         "rawType": "float64",
         "type": "float"
        },
        {
         "name": "dim_672",
         "rawType": "float64",
         "type": "float"
        },
        {
         "name": "dim_673",
         "rawType": "float64",
         "type": "float"
        },
        {
         "name": "dim_674",
         "rawType": "float64",
         "type": "float"
        },
        {
         "name": "dim_675",
         "rawType": "float64",
         "type": "float"
        },
        {
         "name": "dim_676",
         "rawType": "float64",
         "type": "float"
        },
        {
         "name": "dim_677",
         "rawType": "float64",
         "type": "float"
        },
        {
         "name": "dim_678",
         "rawType": "float64",
         "type": "float"
        },
        {
         "name": "dim_679",
         "rawType": "float64",
         "type": "float"
        },
        {
         "name": "dim_680",
         "rawType": "float64",
         "type": "float"
        },
        {
         "name": "dim_681",
         "rawType": "float64",
         "type": "float"
        },
        {
         "name": "dim_682",
         "rawType": "float64",
         "type": "float"
        },
        {
         "name": "dim_683",
         "rawType": "float64",
         "type": "float"
        },
        {
         "name": "dim_684",
         "rawType": "float64",
         "type": "float"
        },
        {
         "name": "dim_685",
         "rawType": "float64",
         "type": "float"
        },
        {
         "name": "dim_686",
         "rawType": "float64",
         "type": "float"
        },
        {
         "name": "dim_687",
         "rawType": "float64",
         "type": "float"
        },
        {
         "name": "dim_688",
         "rawType": "float64",
         "type": "float"
        },
        {
         "name": "dim_689",
         "rawType": "float64",
         "type": "float"
        },
        {
         "name": "dim_690",
         "rawType": "float64",
         "type": "float"
        },
        {
         "name": "dim_691",
         "rawType": "float64",
         "type": "float"
        },
        {
         "name": "dim_692",
         "rawType": "float64",
         "type": "float"
        },
        {
         "name": "dim_693",
         "rawType": "float64",
         "type": "float"
        },
        {
         "name": "dim_694",
         "rawType": "float64",
         "type": "float"
        },
        {
         "name": "dim_695",
         "rawType": "float64",
         "type": "float"
        },
        {
         "name": "dim_696",
         "rawType": "float64",
         "type": "float"
        },
        {
         "name": "dim_697",
         "rawType": "float64",
         "type": "float"
        },
        {
         "name": "dim_698",
         "rawType": "float64",
         "type": "float"
        },
        {
         "name": "dim_699",
         "rawType": "float64",
         "type": "float"
        },
        {
         "name": "dim_700",
         "rawType": "float64",
         "type": "float"
        },
        {
         "name": "dim_701",
         "rawType": "float64",
         "type": "float"
        },
        {
         "name": "dim_702",
         "rawType": "float64",
         "type": "float"
        },
        {
         "name": "dim_703",
         "rawType": "float64",
         "type": "float"
        },
        {
         "name": "dim_704",
         "rawType": "float64",
         "type": "float"
        },
        {
         "name": "dim_705",
         "rawType": "float64",
         "type": "float"
        },
        {
         "name": "dim_706",
         "rawType": "float64",
         "type": "float"
        },
        {
         "name": "dim_707",
         "rawType": "float64",
         "type": "float"
        },
        {
         "name": "dim_708",
         "rawType": "float64",
         "type": "float"
        },
        {
         "name": "dim_709",
         "rawType": "float64",
         "type": "float"
        },
        {
         "name": "dim_710",
         "rawType": "float64",
         "type": "float"
        },
        {
         "name": "dim_711",
         "rawType": "float64",
         "type": "float"
        },
        {
         "name": "dim_712",
         "rawType": "float64",
         "type": "float"
        },
        {
         "name": "dim_713",
         "rawType": "float64",
         "type": "float"
        },
        {
         "name": "dim_714",
         "rawType": "float64",
         "type": "float"
        },
        {
         "name": "dim_715",
         "rawType": "float64",
         "type": "float"
        },
        {
         "name": "dim_716",
         "rawType": "float64",
         "type": "float"
        },
        {
         "name": "dim_717",
         "rawType": "float64",
         "type": "float"
        },
        {
         "name": "dim_718",
         "rawType": "float64",
         "type": "float"
        },
        {
         "name": "dim_719",
         "rawType": "float64",
         "type": "float"
        },
        {
         "name": "dim_720",
         "rawType": "float64",
         "type": "float"
        },
        {
         "name": "dim_721",
         "rawType": "float64",
         "type": "float"
        },
        {
         "name": "dim_722",
         "rawType": "float64",
         "type": "float"
        },
        {
         "name": "dim_723",
         "rawType": "float64",
         "type": "float"
        },
        {
         "name": "dim_724",
         "rawType": "float64",
         "type": "float"
        },
        {
         "name": "dim_725",
         "rawType": "float64",
         "type": "float"
        },
        {
         "name": "dim_726",
         "rawType": "float64",
         "type": "float"
        },
        {
         "name": "dim_727",
         "rawType": "float64",
         "type": "float"
        },
        {
         "name": "dim_728",
         "rawType": "float64",
         "type": "float"
        },
        {
         "name": "dim_729",
         "rawType": "float64",
         "type": "float"
        },
        {
         "name": "dim_730",
         "rawType": "float64",
         "type": "float"
        },
        {
         "name": "dim_731",
         "rawType": "float64",
         "type": "float"
        },
        {
         "name": "dim_732",
         "rawType": "float64",
         "type": "float"
        },
        {
         "name": "dim_733",
         "rawType": "float64",
         "type": "float"
        },
        {
         "name": "dim_734",
         "rawType": "float64",
         "type": "float"
        },
        {
         "name": "dim_735",
         "rawType": "float64",
         "type": "float"
        },
        {
         "name": "dim_736",
         "rawType": "float64",
         "type": "float"
        },
        {
         "name": "dim_737",
         "rawType": "float64",
         "type": "float"
        },
        {
         "name": "dim_738",
         "rawType": "float64",
         "type": "float"
        },
        {
         "name": "dim_739",
         "rawType": "float64",
         "type": "float"
        },
        {
         "name": "dim_740",
         "rawType": "float64",
         "type": "float"
        },
        {
         "name": "dim_741",
         "rawType": "float64",
         "type": "float"
        },
        {
         "name": "dim_742",
         "rawType": "float64",
         "type": "float"
        },
        {
         "name": "dim_743",
         "rawType": "float64",
         "type": "float"
        },
        {
         "name": "dim_744",
         "rawType": "float64",
         "type": "float"
        },
        {
         "name": "dim_745",
         "rawType": "float64",
         "type": "float"
        },
        {
         "name": "dim_746",
         "rawType": "float64",
         "type": "float"
        },
        {
         "name": "dim_747",
         "rawType": "float64",
         "type": "float"
        },
        {
         "name": "dim_748",
         "rawType": "float64",
         "type": "float"
        },
        {
         "name": "dim_749",
         "rawType": "float64",
         "type": "float"
        },
        {
         "name": "dim_750",
         "rawType": "float64",
         "type": "float"
        },
        {
         "name": "dim_751",
         "rawType": "float64",
         "type": "float"
        },
        {
         "name": "dim_752",
         "rawType": "float64",
         "type": "float"
        },
        {
         "name": "dim_753",
         "rawType": "float64",
         "type": "float"
        },
        {
         "name": "dim_754",
         "rawType": "float64",
         "type": "float"
        },
        {
         "name": "dim_755",
         "rawType": "float64",
         "type": "float"
        },
        {
         "name": "dim_756",
         "rawType": "float64",
         "type": "float"
        },
        {
         "name": "dim_757",
         "rawType": "float64",
         "type": "float"
        },
        {
         "name": "dim_758",
         "rawType": "float64",
         "type": "float"
        },
        {
         "name": "dim_759",
         "rawType": "float64",
         "type": "float"
        },
        {
         "name": "dim_760",
         "rawType": "float64",
         "type": "float"
        },
        {
         "name": "dim_761",
         "rawType": "float64",
         "type": "float"
        },
        {
         "name": "dim_762",
         "rawType": "float64",
         "type": "float"
        },
        {
         "name": "dim_763",
         "rawType": "float64",
         "type": "float"
        },
        {
         "name": "dim_764",
         "rawType": "float64",
         "type": "float"
        },
        {
         "name": "dim_765",
         "rawType": "float64",
         "type": "float"
        },
        {
         "name": "dim_766",
         "rawType": "float64",
         "type": "float"
        },
        {
         "name": "dim_767",
         "rawType": "float64",
         "type": "float"
        },
        {
         "name": "dim_768",
         "rawType": "float64",
         "type": "float"
        },
        {
         "name": "dim_769",
         "rawType": "float64",
         "type": "float"
        },
        {
         "name": "dim_770",
         "rawType": "float64",
         "type": "float"
        },
        {
         "name": "dim_771",
         "rawType": "float64",
         "type": "float"
        },
        {
         "name": "dim_772",
         "rawType": "float64",
         "type": "float"
        },
        {
         "name": "dim_773",
         "rawType": "float64",
         "type": "float"
        },
        {
         "name": "dim_774",
         "rawType": "float64",
         "type": "float"
        },
        {
         "name": "dim_775",
         "rawType": "float64",
         "type": "float"
        },
        {
         "name": "dim_776",
         "rawType": "float64",
         "type": "float"
        },
        {
         "name": "dim_777",
         "rawType": "float64",
         "type": "float"
        },
        {
         "name": "dim_778",
         "rawType": "float64",
         "type": "float"
        },
        {
         "name": "dim_779",
         "rawType": "float64",
         "type": "float"
        },
        {
         "name": "dim_780",
         "rawType": "float64",
         "type": "float"
        },
        {
         "name": "dim_781",
         "rawType": "float64",
         "type": "float"
        },
        {
         "name": "dim_782",
         "rawType": "float64",
         "type": "float"
        },
        {
         "name": "dim_783",
         "rawType": "float64",
         "type": "float"
        },
        {
         "name": "dim_784",
         "rawType": "float64",
         "type": "float"
        },
        {
         "name": "dim_785",
         "rawType": "float64",
         "type": "float"
        },
        {
         "name": "dim_786",
         "rawType": "float64",
         "type": "float"
        },
        {
         "name": "dim_787",
         "rawType": "float64",
         "type": "float"
        },
        {
         "name": "dim_788",
         "rawType": "float64",
         "type": "float"
        },
        {
         "name": "dim_789",
         "rawType": "float64",
         "type": "float"
        },
        {
         "name": "dim_790",
         "rawType": "float64",
         "type": "float"
        },
        {
         "name": "dim_791",
         "rawType": "float64",
         "type": "float"
        },
        {
         "name": "dim_792",
         "rawType": "float64",
         "type": "float"
        },
        {
         "name": "dim_793",
         "rawType": "float64",
         "type": "float"
        },
        {
         "name": "dim_794",
         "rawType": "float64",
         "type": "float"
        },
        {
         "name": "dim_795",
         "rawType": "float64",
         "type": "float"
        },
        {
         "name": "dim_796",
         "rawType": "float64",
         "type": "float"
        },
        {
         "name": "dim_797",
         "rawType": "float64",
         "type": "float"
        },
        {
         "name": "dim_798",
         "rawType": "float64",
         "type": "float"
        },
        {
         "name": "dim_799",
         "rawType": "float64",
         "type": "float"
        },
        {
         "name": "dim_800",
         "rawType": "float64",
         "type": "float"
        },
        {
         "name": "dim_801",
         "rawType": "float64",
         "type": "float"
        },
        {
         "name": "dim_802",
         "rawType": "float64",
         "type": "float"
        },
        {
         "name": "dim_803",
         "rawType": "float64",
         "type": "float"
        },
        {
         "name": "dim_804",
         "rawType": "float64",
         "type": "float"
        },
        {
         "name": "dim_805",
         "rawType": "float64",
         "type": "float"
        },
        {
         "name": "dim_806",
         "rawType": "float64",
         "type": "float"
        },
        {
         "name": "dim_807",
         "rawType": "float64",
         "type": "float"
        },
        {
         "name": "dim_808",
         "rawType": "float64",
         "type": "float"
        },
        {
         "name": "dim_809",
         "rawType": "float64",
         "type": "float"
        },
        {
         "name": "dim_810",
         "rawType": "float64",
         "type": "float"
        },
        {
         "name": "dim_811",
         "rawType": "float64",
         "type": "float"
        },
        {
         "name": "dim_812",
         "rawType": "float64",
         "type": "float"
        },
        {
         "name": "dim_813",
         "rawType": "float64",
         "type": "float"
        },
        {
         "name": "dim_814",
         "rawType": "float64",
         "type": "float"
        },
        {
         "name": "dim_815",
         "rawType": "float64",
         "type": "float"
        },
        {
         "name": "dim_816",
         "rawType": "float64",
         "type": "float"
        },
        {
         "name": "dim_817",
         "rawType": "float64",
         "type": "float"
        },
        {
         "name": "dim_818",
         "rawType": "float64",
         "type": "float"
        },
        {
         "name": "dim_819",
         "rawType": "float64",
         "type": "float"
        },
        {
         "name": "dim_820",
         "rawType": "float64",
         "type": "float"
        },
        {
         "name": "dim_821",
         "rawType": "float64",
         "type": "float"
        },
        {
         "name": "dim_822",
         "rawType": "float64",
         "type": "float"
        },
        {
         "name": "dim_823",
         "rawType": "float64",
         "type": "float"
        },
        {
         "name": "dim_824",
         "rawType": "float64",
         "type": "float"
        },
        {
         "name": "dim_825",
         "rawType": "float64",
         "type": "float"
        },
        {
         "name": "dim_826",
         "rawType": "float64",
         "type": "float"
        },
        {
         "name": "dim_827",
         "rawType": "float64",
         "type": "float"
        },
        {
         "name": "dim_828",
         "rawType": "float64",
         "type": "float"
        },
        {
         "name": "dim_829",
         "rawType": "float64",
         "type": "float"
        },
        {
         "name": "dim_830",
         "rawType": "float64",
         "type": "float"
        },
        {
         "name": "dim_831",
         "rawType": "float64",
         "type": "float"
        },
        {
         "name": "dim_832",
         "rawType": "float64",
         "type": "float"
        },
        {
         "name": "dim_833",
         "rawType": "float64",
         "type": "float"
        },
        {
         "name": "dim_834",
         "rawType": "float64",
         "type": "float"
        },
        {
         "name": "dim_835",
         "rawType": "float64",
         "type": "float"
        },
        {
         "name": "dim_836",
         "rawType": "float64",
         "type": "float"
        },
        {
         "name": "dim_837",
         "rawType": "float64",
         "type": "float"
        },
        {
         "name": "dim_838",
         "rawType": "float64",
         "type": "float"
        },
        {
         "name": "dim_839",
         "rawType": "float64",
         "type": "float"
        },
        {
         "name": "dim_840",
         "rawType": "float64",
         "type": "float"
        },
        {
         "name": "dim_841",
         "rawType": "float64",
         "type": "float"
        },
        {
         "name": "dim_842",
         "rawType": "float64",
         "type": "float"
        },
        {
         "name": "dim_843",
         "rawType": "float64",
         "type": "float"
        },
        {
         "name": "dim_844",
         "rawType": "float64",
         "type": "float"
        },
        {
         "name": "dim_845",
         "rawType": "float64",
         "type": "float"
        },
        {
         "name": "dim_846",
         "rawType": "float64",
         "type": "float"
        },
        {
         "name": "dim_847",
         "rawType": "float64",
         "type": "float"
        },
        {
         "name": "dim_848",
         "rawType": "float64",
         "type": "float"
        },
        {
         "name": "dim_849",
         "rawType": "float64",
         "type": "float"
        },
        {
         "name": "dim_850",
         "rawType": "float64",
         "type": "float"
        },
        {
         "name": "dim_851",
         "rawType": "float64",
         "type": "float"
        },
        {
         "name": "dim_852",
         "rawType": "float64",
         "type": "float"
        },
        {
         "name": "dim_853",
         "rawType": "float64",
         "type": "float"
        },
        {
         "name": "dim_854",
         "rawType": "float64",
         "type": "float"
        },
        {
         "name": "dim_855",
         "rawType": "float64",
         "type": "float"
        },
        {
         "name": "dim_856",
         "rawType": "float64",
         "type": "float"
        },
        {
         "name": "dim_857",
         "rawType": "float64",
         "type": "float"
        },
        {
         "name": "dim_858",
         "rawType": "float64",
         "type": "float"
        },
        {
         "name": "dim_859",
         "rawType": "float64",
         "type": "float"
        },
        {
         "name": "dim_860",
         "rawType": "float64",
         "type": "float"
        },
        {
         "name": "dim_861",
         "rawType": "float64",
         "type": "float"
        },
        {
         "name": "dim_862",
         "rawType": "float64",
         "type": "float"
        },
        {
         "name": "dim_863",
         "rawType": "float64",
         "type": "float"
        },
        {
         "name": "dim_864",
         "rawType": "float64",
         "type": "float"
        },
        {
         "name": "dim_865",
         "rawType": "float64",
         "type": "float"
        },
        {
         "name": "dim_866",
         "rawType": "float64",
         "type": "float"
        },
        {
         "name": "dim_867",
         "rawType": "float64",
         "type": "float"
        },
        {
         "name": "dim_868",
         "rawType": "float64",
         "type": "float"
        },
        {
         "name": "dim_869",
         "rawType": "float64",
         "type": "float"
        },
        {
         "name": "dim_870",
         "rawType": "float64",
         "type": "float"
        },
        {
         "name": "dim_871",
         "rawType": "float64",
         "type": "float"
        },
        {
         "name": "dim_872",
         "rawType": "float64",
         "type": "float"
        },
        {
         "name": "dim_873",
         "rawType": "float64",
         "type": "float"
        },
        {
         "name": "dim_874",
         "rawType": "float64",
         "type": "float"
        },
        {
         "name": "dim_875",
         "rawType": "float64",
         "type": "float"
        },
        {
         "name": "dim_876",
         "rawType": "float64",
         "type": "float"
        },
        {
         "name": "dim_877",
         "rawType": "float64",
         "type": "float"
        },
        {
         "name": "dim_878",
         "rawType": "float64",
         "type": "float"
        },
        {
         "name": "dim_879",
         "rawType": "float64",
         "type": "float"
        },
        {
         "name": "dim_880",
         "rawType": "float64",
         "type": "float"
        },
        {
         "name": "dim_881",
         "rawType": "float64",
         "type": "float"
        },
        {
         "name": "dim_882",
         "rawType": "float64",
         "type": "float"
        },
        {
         "name": "dim_883",
         "rawType": "float64",
         "type": "float"
        },
        {
         "name": "dim_884",
         "rawType": "float64",
         "type": "float"
        },
        {
         "name": "dim_885",
         "rawType": "float64",
         "type": "float"
        },
        {
         "name": "dim_886",
         "rawType": "float64",
         "type": "float"
        },
        {
         "name": "dim_887",
         "rawType": "float64",
         "type": "float"
        },
        {
         "name": "dim_888",
         "rawType": "float64",
         "type": "float"
        },
        {
         "name": "dim_889",
         "rawType": "float64",
         "type": "float"
        },
        {
         "name": "dim_890",
         "rawType": "float64",
         "type": "float"
        },
        {
         "name": "dim_891",
         "rawType": "float64",
         "type": "float"
        },
        {
         "name": "dim_892",
         "rawType": "float64",
         "type": "float"
        },
        {
         "name": "dim_893",
         "rawType": "float64",
         "type": "float"
        },
        {
         "name": "dim_894",
         "rawType": "float64",
         "type": "float"
        },
        {
         "name": "dim_895",
         "rawType": "float64",
         "type": "float"
        },
        {
         "name": "dim_896",
         "rawType": "float64",
         "type": "float"
        },
        {
         "name": "dim_897",
         "rawType": "float64",
         "type": "float"
        },
        {
         "name": "dim_898",
         "rawType": "float64",
         "type": "float"
        },
        {
         "name": "dim_899",
         "rawType": "float64",
         "type": "float"
        },
        {
         "name": "dim_900",
         "rawType": "float64",
         "type": "float"
        },
        {
         "name": "dim_901",
         "rawType": "float64",
         "type": "float"
        },
        {
         "name": "dim_902",
         "rawType": "float64",
         "type": "float"
        },
        {
         "name": "dim_903",
         "rawType": "float64",
         "type": "float"
        },
        {
         "name": "dim_904",
         "rawType": "float64",
         "type": "float"
        },
        {
         "name": "dim_905",
         "rawType": "float64",
         "type": "float"
        },
        {
         "name": "dim_906",
         "rawType": "float64",
         "type": "float"
        },
        {
         "name": "dim_907",
         "rawType": "float64",
         "type": "float"
        },
        {
         "name": "dim_908",
         "rawType": "float64",
         "type": "float"
        },
        {
         "name": "dim_909",
         "rawType": "float64",
         "type": "float"
        },
        {
         "name": "dim_910",
         "rawType": "float64",
         "type": "float"
        },
        {
         "name": "dim_911",
         "rawType": "float64",
         "type": "float"
        },
        {
         "name": "dim_912",
         "rawType": "float64",
         "type": "float"
        },
        {
         "name": "dim_913",
         "rawType": "float64",
         "type": "float"
        },
        {
         "name": "dim_914",
         "rawType": "float64",
         "type": "float"
        },
        {
         "name": "dim_915",
         "rawType": "float64",
         "type": "float"
        },
        {
         "name": "dim_916",
         "rawType": "float64",
         "type": "float"
        },
        {
         "name": "dim_917",
         "rawType": "float64",
         "type": "float"
        },
        {
         "name": "dim_918",
         "rawType": "float64",
         "type": "float"
        },
        {
         "name": "dim_919",
         "rawType": "float64",
         "type": "float"
        },
        {
         "name": "dim_920",
         "rawType": "float64",
         "type": "float"
        },
        {
         "name": "dim_921",
         "rawType": "float64",
         "type": "float"
        },
        {
         "name": "dim_922",
         "rawType": "float64",
         "type": "float"
        },
        {
         "name": "dim_923",
         "rawType": "float64",
         "type": "float"
        },
        {
         "name": "dim_924",
         "rawType": "float64",
         "type": "float"
        },
        {
         "name": "dim_925",
         "rawType": "float64",
         "type": "float"
        },
        {
         "name": "dim_926",
         "rawType": "float64",
         "type": "float"
        },
        {
         "name": "dim_927",
         "rawType": "float64",
         "type": "float"
        },
        {
         "name": "dim_928",
         "rawType": "float64",
         "type": "float"
        },
        {
         "name": "dim_929",
         "rawType": "float64",
         "type": "float"
        },
        {
         "name": "dim_930",
         "rawType": "float64",
         "type": "float"
        },
        {
         "name": "dim_931",
         "rawType": "float64",
         "type": "float"
        },
        {
         "name": "dim_932",
         "rawType": "float64",
         "type": "float"
        },
        {
         "name": "dim_933",
         "rawType": "float64",
         "type": "float"
        },
        {
         "name": "dim_934",
         "rawType": "float64",
         "type": "float"
        },
        {
         "name": "dim_935",
         "rawType": "float64",
         "type": "float"
        },
        {
         "name": "dim_936",
         "rawType": "float64",
         "type": "float"
        },
        {
         "name": "dim_937",
         "rawType": "float64",
         "type": "float"
        },
        {
         "name": "dim_938",
         "rawType": "float64",
         "type": "float"
        },
        {
         "name": "dim_939",
         "rawType": "float64",
         "type": "float"
        },
        {
         "name": "dim_940",
         "rawType": "float64",
         "type": "float"
        },
        {
         "name": "dim_941",
         "rawType": "float64",
         "type": "float"
        },
        {
         "name": "dim_942",
         "rawType": "float64",
         "type": "float"
        },
        {
         "name": "dim_943",
         "rawType": "float64",
         "type": "float"
        },
        {
         "name": "dim_944",
         "rawType": "float64",
         "type": "float"
        },
        {
         "name": "dim_945",
         "rawType": "float64",
         "type": "float"
        },
        {
         "name": "dim_946",
         "rawType": "float64",
         "type": "float"
        },
        {
         "name": "dim_947",
         "rawType": "float64",
         "type": "float"
        },
        {
         "name": "dim_948",
         "rawType": "float64",
         "type": "float"
        },
        {
         "name": "dim_949",
         "rawType": "float64",
         "type": "float"
        },
        {
         "name": "dim_950",
         "rawType": "float64",
         "type": "float"
        },
        {
         "name": "dim_951",
         "rawType": "float64",
         "type": "float"
        },
        {
         "name": "dim_952",
         "rawType": "float64",
         "type": "float"
        },
        {
         "name": "dim_953",
         "rawType": "float64",
         "type": "float"
        },
        {
         "name": "dim_954",
         "rawType": "float64",
         "type": "float"
        },
        {
         "name": "dim_955",
         "rawType": "float64",
         "type": "float"
        },
        {
         "name": "dim_956",
         "rawType": "float64",
         "type": "float"
        },
        {
         "name": "dim_957",
         "rawType": "float64",
         "type": "float"
        },
        {
         "name": "dim_958",
         "rawType": "float64",
         "type": "float"
        },
        {
         "name": "dim_959",
         "rawType": "float64",
         "type": "float"
        },
        {
         "name": "dim_960",
         "rawType": "float64",
         "type": "float"
        },
        {
         "name": "dim_961",
         "rawType": "float64",
         "type": "float"
        },
        {
         "name": "dim_962",
         "rawType": "float64",
         "type": "float"
        },
        {
         "name": "dim_963",
         "rawType": "float64",
         "type": "float"
        },
        {
         "name": "dim_964",
         "rawType": "float64",
         "type": "float"
        },
        {
         "name": "dim_965",
         "rawType": "float64",
         "type": "float"
        },
        {
         "name": "dim_966",
         "rawType": "float64",
         "type": "float"
        },
        {
         "name": "dim_967",
         "rawType": "float64",
         "type": "float"
        },
        {
         "name": "dim_968",
         "rawType": "float64",
         "type": "float"
        },
        {
         "name": "dim_969",
         "rawType": "float64",
         "type": "float"
        },
        {
         "name": "dim_970",
         "rawType": "float64",
         "type": "float"
        },
        {
         "name": "dim_971",
         "rawType": "float64",
         "type": "float"
        },
        {
         "name": "dim_972",
         "rawType": "float64",
         "type": "float"
        },
        {
         "name": "dim_973",
         "rawType": "float64",
         "type": "float"
        },
        {
         "name": "dim_974",
         "rawType": "float64",
         "type": "float"
        },
        {
         "name": "dim_975",
         "rawType": "float64",
         "type": "float"
        },
        {
         "name": "dim_976",
         "rawType": "float64",
         "type": "float"
        },
        {
         "name": "dim_977",
         "rawType": "float64",
         "type": "float"
        },
        {
         "name": "dim_978",
         "rawType": "float64",
         "type": "float"
        },
        {
         "name": "dim_979",
         "rawType": "float64",
         "type": "float"
        },
        {
         "name": "dim_980",
         "rawType": "float64",
         "type": "float"
        },
        {
         "name": "dim_981",
         "rawType": "float64",
         "type": "float"
        },
        {
         "name": "dim_982",
         "rawType": "float64",
         "type": "float"
        },
        {
         "name": "dim_983",
         "rawType": "float64",
         "type": "float"
        },
        {
         "name": "dim_984",
         "rawType": "float64",
         "type": "float"
        },
        {
         "name": "dim_985",
         "rawType": "float64",
         "type": "float"
        },
        {
         "name": "dim_986",
         "rawType": "float64",
         "type": "float"
        },
        {
         "name": "dim_987",
         "rawType": "float64",
         "type": "float"
        },
        {
         "name": "dim_988",
         "rawType": "float64",
         "type": "float"
        },
        {
         "name": "dim_989",
         "rawType": "float64",
         "type": "float"
        },
        {
         "name": "dim_990",
         "rawType": "float64",
         "type": "float"
        },
        {
         "name": "dim_991",
         "rawType": "float64",
         "type": "float"
        },
        {
         "name": "dim_992",
         "rawType": "float64",
         "type": "float"
        },
        {
         "name": "dim_993",
         "rawType": "float64",
         "type": "float"
        },
        {
         "name": "dim_994",
         "rawType": "float64",
         "type": "float"
        },
        {
         "name": "dim_995",
         "rawType": "float64",
         "type": "float"
        },
        {
         "name": "dim_996",
         "rawType": "float64",
         "type": "float"
        },
        {
         "name": "dim_997",
         "rawType": "float64",
         "type": "float"
        },
        {
         "name": "dim_998",
         "rawType": "float64",
         "type": "float"
        },
        {
         "name": "dim_999",
         "rawType": "float64",
         "type": "float"
        },
        {
         "name": "dim_1000",
         "rawType": "float64",
         "type": "float"
        },
        {
         "name": "dim_1001",
         "rawType": "float64",
         "type": "float"
        },
        {
         "name": "dim_1002",
         "rawType": "float64",
         "type": "float"
        },
        {
         "name": "dim_1003",
         "rawType": "float64",
         "type": "float"
        },
        {
         "name": "dim_1004",
         "rawType": "float64",
         "type": "float"
        },
        {
         "name": "dim_1005",
         "rawType": "float64",
         "type": "float"
        },
        {
         "name": "dim_1006",
         "rawType": "float64",
         "type": "float"
        },
        {
         "name": "dim_1007",
         "rawType": "float64",
         "type": "float"
        },
        {
         "name": "dim_1008",
         "rawType": "float64",
         "type": "float"
        },
        {
         "name": "dim_1009",
         "rawType": "float64",
         "type": "float"
        },
        {
         "name": "dim_1010",
         "rawType": "float64",
         "type": "float"
        },
        {
         "name": "dim_1011",
         "rawType": "float64",
         "type": "float"
        },
        {
         "name": "dim_1012",
         "rawType": "float64",
         "type": "float"
        },
        {
         "name": "dim_1013",
         "rawType": "float64",
         "type": "float"
        },
        {
         "name": "dim_1014",
         "rawType": "float64",
         "type": "float"
        },
        {
         "name": "dim_1015",
         "rawType": "float64",
         "type": "float"
        },
        {
         "name": "dim_1016",
         "rawType": "float64",
         "type": "float"
        },
        {
         "name": "dim_1017",
         "rawType": "float64",
         "type": "float"
        },
        {
         "name": "dim_1018",
         "rawType": "float64",
         "type": "float"
        },
        {
         "name": "dim_1019",
         "rawType": "float64",
         "type": "float"
        },
        {
         "name": "dim_1020",
         "rawType": "float64",
         "type": "float"
        },
        {
         "name": "dim_1021",
         "rawType": "float64",
         "type": "float"
        },
        {
         "name": "dim_1022",
         "rawType": "float64",
         "type": "float"
        },
        {
         "name": "dim_1023",
         "rawType": "float64",
         "type": "float"
        },
        {
         "name": "dim_1024",
         "rawType": "float64",
         "type": "float"
        },
        {
         "name": "dim_1025",
         "rawType": "float64",
         "type": "float"
        },
        {
         "name": "dim_1026",
         "rawType": "float64",
         "type": "float"
        },
        {
         "name": "dim_1027",
         "rawType": "float64",
         "type": "float"
        },
        {
         "name": "dim_1028",
         "rawType": "float64",
         "type": "float"
        },
        {
         "name": "dim_1029",
         "rawType": "float64",
         "type": "float"
        },
        {
         "name": "dim_1030",
         "rawType": "float64",
         "type": "float"
        },
        {
         "name": "dim_1031",
         "rawType": "float64",
         "type": "float"
        },
        {
         "name": "dim_1032",
         "rawType": "float64",
         "type": "float"
        },
        {
         "name": "dim_1033",
         "rawType": "float64",
         "type": "float"
        },
        {
         "name": "dim_1034",
         "rawType": "float64",
         "type": "float"
        },
        {
         "name": "dim_1035",
         "rawType": "float64",
         "type": "float"
        },
        {
         "name": "dim_1036",
         "rawType": "float64",
         "type": "float"
        },
        {
         "name": "dim_1037",
         "rawType": "float64",
         "type": "float"
        },
        {
         "name": "dim_1038",
         "rawType": "float64",
         "type": "float"
        },
        {
         "name": "dim_1039",
         "rawType": "float64",
         "type": "float"
        },
        {
         "name": "dim_1040",
         "rawType": "float64",
         "type": "float"
        },
        {
         "name": "dim_1041",
         "rawType": "float64",
         "type": "float"
        },
        {
         "name": "dim_1042",
         "rawType": "float64",
         "type": "float"
        },
        {
         "name": "dim_1043",
         "rawType": "float64",
         "type": "float"
        },
        {
         "name": "dim_1044",
         "rawType": "float64",
         "type": "float"
        },
        {
         "name": "dim_1045",
         "rawType": "float64",
         "type": "float"
        },
        {
         "name": "dim_1046",
         "rawType": "float64",
         "type": "float"
        },
        {
         "name": "dim_1047",
         "rawType": "float64",
         "type": "float"
        },
        {
         "name": "dim_1048",
         "rawType": "float64",
         "type": "float"
        },
        {
         "name": "dim_1049",
         "rawType": "float64",
         "type": "float"
        },
        {
         "name": "dim_1050",
         "rawType": "float64",
         "type": "float"
        },
        {
         "name": "dim_1051",
         "rawType": "float64",
         "type": "float"
        },
        {
         "name": "dim_1052",
         "rawType": "float64",
         "type": "float"
        },
        {
         "name": "dim_1053",
         "rawType": "float64",
         "type": "float"
        },
        {
         "name": "dim_1054",
         "rawType": "float64",
         "type": "float"
        },
        {
         "name": "dim_1055",
         "rawType": "float64",
         "type": "float"
        },
        {
         "name": "dim_1056",
         "rawType": "float64",
         "type": "float"
        },
        {
         "name": "dim_1057",
         "rawType": "float64",
         "type": "float"
        },
        {
         "name": "dim_1058",
         "rawType": "float64",
         "type": "float"
        },
        {
         "name": "dim_1059",
         "rawType": "float64",
         "type": "float"
        },
        {
         "name": "dim_1060",
         "rawType": "float64",
         "type": "float"
        },
        {
         "name": "dim_1061",
         "rawType": "float64",
         "type": "float"
        },
        {
         "name": "dim_1062",
         "rawType": "float64",
         "type": "float"
        },
        {
         "name": "dim_1063",
         "rawType": "float64",
         "type": "float"
        },
        {
         "name": "dim_1064",
         "rawType": "float64",
         "type": "float"
        },
        {
         "name": "dim_1065",
         "rawType": "float64",
         "type": "float"
        },
        {
         "name": "dim_1066",
         "rawType": "float64",
         "type": "float"
        },
        {
         "name": "dim_1067",
         "rawType": "float64",
         "type": "float"
        },
        {
         "name": "dim_1068",
         "rawType": "float64",
         "type": "float"
        },
        {
         "name": "dim_1069",
         "rawType": "float64",
         "type": "float"
        },
        {
         "name": "dim_1070",
         "rawType": "float64",
         "type": "float"
        },
        {
         "name": "dim_1071",
         "rawType": "float64",
         "type": "float"
        },
        {
         "name": "dim_1072",
         "rawType": "float64",
         "type": "float"
        },
        {
         "name": "dim_1073",
         "rawType": "float64",
         "type": "float"
        },
        {
         "name": "dim_1074",
         "rawType": "float64",
         "type": "float"
        },
        {
         "name": "dim_1075",
         "rawType": "float64",
         "type": "float"
        },
        {
         "name": "dim_1076",
         "rawType": "float64",
         "type": "float"
        },
        {
         "name": "dim_1077",
         "rawType": "float64",
         "type": "float"
        },
        {
         "name": "dim_1078",
         "rawType": "float64",
         "type": "float"
        },
        {
         "name": "dim_1079",
         "rawType": "float64",
         "type": "float"
        },
        {
         "name": "dim_1080",
         "rawType": "float64",
         "type": "float"
        },
        {
         "name": "dim_1081",
         "rawType": "float64",
         "type": "float"
        },
        {
         "name": "dim_1082",
         "rawType": "float64",
         "type": "float"
        },
        {
         "name": "dim_1083",
         "rawType": "float64",
         "type": "float"
        },
        {
         "name": "dim_1084",
         "rawType": "float64",
         "type": "float"
        },
        {
         "name": "dim_1085",
         "rawType": "float64",
         "type": "float"
        },
        {
         "name": "dim_1086",
         "rawType": "float64",
         "type": "float"
        },
        {
         "name": "dim_1087",
         "rawType": "float64",
         "type": "float"
        },
        {
         "name": "dim_1088",
         "rawType": "float64",
         "type": "float"
        },
        {
         "name": "dim_1089",
         "rawType": "float64",
         "type": "float"
        },
        {
         "name": "dim_1090",
         "rawType": "float64",
         "type": "float"
        },
        {
         "name": "dim_1091",
         "rawType": "float64",
         "type": "float"
        },
        {
         "name": "dim_1092",
         "rawType": "float64",
         "type": "float"
        },
        {
         "name": "dim_1093",
         "rawType": "float64",
         "type": "float"
        },
        {
         "name": "dim_1094",
         "rawType": "float64",
         "type": "float"
        },
        {
         "name": "dim_1095",
         "rawType": "float64",
         "type": "float"
        },
        {
         "name": "dim_1096",
         "rawType": "float64",
         "type": "float"
        },
        {
         "name": "dim_1097",
         "rawType": "float64",
         "type": "float"
        },
        {
         "name": "dim_1098",
         "rawType": "float64",
         "type": "float"
        },
        {
         "name": "dim_1099",
         "rawType": "float64",
         "type": "float"
        },
        {
         "name": "dim_1100",
         "rawType": "float64",
         "type": "float"
        },
        {
         "name": "dim_1101",
         "rawType": "float64",
         "type": "float"
        },
        {
         "name": "dim_1102",
         "rawType": "float64",
         "type": "float"
        },
        {
         "name": "dim_1103",
         "rawType": "float64",
         "type": "float"
        },
        {
         "name": "dim_1104",
         "rawType": "float64",
         "type": "float"
        },
        {
         "name": "dim_1105",
         "rawType": "float64",
         "type": "float"
        },
        {
         "name": "dim_1106",
         "rawType": "float64",
         "type": "float"
        },
        {
         "name": "dim_1107",
         "rawType": "float64",
         "type": "float"
        },
        {
         "name": "dim_1108",
         "rawType": "float64",
         "type": "float"
        },
        {
         "name": "dim_1109",
         "rawType": "float64",
         "type": "float"
        },
        {
         "name": "dim_1110",
         "rawType": "float64",
         "type": "float"
        },
        {
         "name": "dim_1111",
         "rawType": "float64",
         "type": "float"
        },
        {
         "name": "dim_1112",
         "rawType": "float64",
         "type": "float"
        },
        {
         "name": "dim_1113",
         "rawType": "float64",
         "type": "float"
        },
        {
         "name": "dim_1114",
         "rawType": "float64",
         "type": "float"
        },
        {
         "name": "dim_1115",
         "rawType": "float64",
         "type": "float"
        },
        {
         "name": "dim_1116",
         "rawType": "float64",
         "type": "float"
        },
        {
         "name": "dim_1117",
         "rawType": "float64",
         "type": "float"
        },
        {
         "name": "dim_1118",
         "rawType": "float64",
         "type": "float"
        },
        {
         "name": "dim_1119",
         "rawType": "float64",
         "type": "float"
        },
        {
         "name": "dim_1120",
         "rawType": "float64",
         "type": "float"
        },
        {
         "name": "dim_1121",
         "rawType": "float64",
         "type": "float"
        },
        {
         "name": "dim_1122",
         "rawType": "float64",
         "type": "float"
        },
        {
         "name": "dim_1123",
         "rawType": "float64",
         "type": "float"
        },
        {
         "name": "dim_1124",
         "rawType": "float64",
         "type": "float"
        },
        {
         "name": "dim_1125",
         "rawType": "float64",
         "type": "float"
        },
        {
         "name": "dim_1126",
         "rawType": "float64",
         "type": "float"
        },
        {
         "name": "dim_1127",
         "rawType": "float64",
         "type": "float"
        },
        {
         "name": "dim_1128",
         "rawType": "float64",
         "type": "float"
        },
        {
         "name": "dim_1129",
         "rawType": "float64",
         "type": "float"
        },
        {
         "name": "dim_1130",
         "rawType": "float64",
         "type": "float"
        },
        {
         "name": "dim_1131",
         "rawType": "float64",
         "type": "float"
        },
        {
         "name": "dim_1132",
         "rawType": "float64",
         "type": "float"
        },
        {
         "name": "dim_1133",
         "rawType": "float64",
         "type": "float"
        },
        {
         "name": "dim_1134",
         "rawType": "float64",
         "type": "float"
        },
        {
         "name": "dim_1135",
         "rawType": "float64",
         "type": "float"
        },
        {
         "name": "dim_1136",
         "rawType": "float64",
         "type": "float"
        },
        {
         "name": "dim_1137",
         "rawType": "float64",
         "type": "float"
        },
        {
         "name": "dim_1138",
         "rawType": "float64",
         "type": "float"
        },
        {
         "name": "dim_1139",
         "rawType": "float64",
         "type": "float"
        },
        {
         "name": "dim_1140",
         "rawType": "float64",
         "type": "float"
        },
        {
         "name": "dim_1141",
         "rawType": "float64",
         "type": "float"
        },
        {
         "name": "dim_1142",
         "rawType": "float64",
         "type": "float"
        },
        {
         "name": "dim_1143",
         "rawType": "float64",
         "type": "float"
        },
        {
         "name": "dim_1144",
         "rawType": "float64",
         "type": "float"
        },
        {
         "name": "dim_1145",
         "rawType": "float64",
         "type": "float"
        },
        {
         "name": "dim_1146",
         "rawType": "float64",
         "type": "float"
        },
        {
         "name": "dim_1147",
         "rawType": "float64",
         "type": "float"
        },
        {
         "name": "dim_1148",
         "rawType": "float64",
         "type": "float"
        },
        {
         "name": "dim_1149",
         "rawType": "float64",
         "type": "float"
        },
        {
         "name": "dim_1150",
         "rawType": "float64",
         "type": "float"
        },
        {
         "name": "dim_1151",
         "rawType": "float64",
         "type": "float"
        },
        {
         "name": "dim_1152",
         "rawType": "float64",
         "type": "float"
        },
        {
         "name": "dim_1153",
         "rawType": "float64",
         "type": "float"
        },
        {
         "name": "dim_1154",
         "rawType": "float64",
         "type": "float"
        },
        {
         "name": "dim_1155",
         "rawType": "float64",
         "type": "float"
        },
        {
         "name": "dim_1156",
         "rawType": "float64",
         "type": "float"
        },
        {
         "name": "dim_1157",
         "rawType": "float64",
         "type": "float"
        },
        {
         "name": "dim_1158",
         "rawType": "float64",
         "type": "float"
        },
        {
         "name": "dim_1159",
         "rawType": "float64",
         "type": "float"
        },
        {
         "name": "dim_1160",
         "rawType": "float64",
         "type": "float"
        },
        {
         "name": "dim_1161",
         "rawType": "float64",
         "type": "float"
        },
        {
         "name": "dim_1162",
         "rawType": "float64",
         "type": "float"
        },
        {
         "name": "dim_1163",
         "rawType": "float64",
         "type": "float"
        },
        {
         "name": "dim_1164",
         "rawType": "float64",
         "type": "float"
        },
        {
         "name": "dim_1165",
         "rawType": "float64",
         "type": "float"
        },
        {
         "name": "dim_1166",
         "rawType": "float64",
         "type": "float"
        },
        {
         "name": "dim_1167",
         "rawType": "float64",
         "type": "float"
        },
        {
         "name": "dim_1168",
         "rawType": "float64",
         "type": "float"
        },
        {
         "name": "dim_1169",
         "rawType": "float64",
         "type": "float"
        },
        {
         "name": "dim_1170",
         "rawType": "float64",
         "type": "float"
        },
        {
         "name": "dim_1171",
         "rawType": "float64",
         "type": "float"
        },
        {
         "name": "dim_1172",
         "rawType": "float64",
         "type": "float"
        },
        {
         "name": "dim_1173",
         "rawType": "float64",
         "type": "float"
        },
        {
         "name": "dim_1174",
         "rawType": "float64",
         "type": "float"
        },
        {
         "name": "dim_1175",
         "rawType": "float64",
         "type": "float"
        },
        {
         "name": "dim_1176",
         "rawType": "float64",
         "type": "float"
        },
        {
         "name": "dim_1177",
         "rawType": "float64",
         "type": "float"
        },
        {
         "name": "dim_1178",
         "rawType": "float64",
         "type": "float"
        },
        {
         "name": "dim_1179",
         "rawType": "float64",
         "type": "float"
        },
        {
         "name": "dim_1180",
         "rawType": "float64",
         "type": "float"
        },
        {
         "name": "dim_1181",
         "rawType": "float64",
         "type": "float"
        },
        {
         "name": "dim_1182",
         "rawType": "float64",
         "type": "float"
        },
        {
         "name": "dim_1183",
         "rawType": "float64",
         "type": "float"
        },
        {
         "name": "dim_1184",
         "rawType": "float64",
         "type": "float"
        },
        {
         "name": "dim_1185",
         "rawType": "float64",
         "type": "float"
        },
        {
         "name": "dim_1186",
         "rawType": "float64",
         "type": "float"
        },
        {
         "name": "dim_1187",
         "rawType": "float64",
         "type": "float"
        },
        {
         "name": "dim_1188",
         "rawType": "float64",
         "type": "float"
        },
        {
         "name": "dim_1189",
         "rawType": "float64",
         "type": "float"
        },
        {
         "name": "dim_1190",
         "rawType": "float64",
         "type": "float"
        },
        {
         "name": "dim_1191",
         "rawType": "float64",
         "type": "float"
        },
        {
         "name": "dim_1192",
         "rawType": "float64",
         "type": "float"
        },
        {
         "name": "dim_1193",
         "rawType": "float64",
         "type": "float"
        },
        {
         "name": "dim_1194",
         "rawType": "float64",
         "type": "float"
        },
        {
         "name": "dim_1195",
         "rawType": "float64",
         "type": "float"
        },
        {
         "name": "dim_1196",
         "rawType": "float64",
         "type": "float"
        },
        {
         "name": "dim_1197",
         "rawType": "float64",
         "type": "float"
        },
        {
         "name": "dim_1198",
         "rawType": "float64",
         "type": "float"
        },
        {
         "name": "dim_1199",
         "rawType": "float64",
         "type": "float"
        },
        {
         "name": "dim_1200",
         "rawType": "float64",
         "type": "float"
        },
        {
         "name": "dim_1201",
         "rawType": "float64",
         "type": "float"
        },
        {
         "name": "dim_1202",
         "rawType": "float64",
         "type": "float"
        },
        {
         "name": "dim_1203",
         "rawType": "float64",
         "type": "float"
        },
        {
         "name": "dim_1204",
         "rawType": "float64",
         "type": "float"
        },
        {
         "name": "dim_1205",
         "rawType": "float64",
         "type": "float"
        },
        {
         "name": "dim_1206",
         "rawType": "float64",
         "type": "float"
        },
        {
         "name": "dim_1207",
         "rawType": "float64",
         "type": "float"
        },
        {
         "name": "dim_1208",
         "rawType": "float64",
         "type": "float"
        },
        {
         "name": "dim_1209",
         "rawType": "float64",
         "type": "float"
        },
        {
         "name": "dim_1210",
         "rawType": "float64",
         "type": "float"
        },
        {
         "name": "dim_1211",
         "rawType": "float64",
         "type": "float"
        },
        {
         "name": "dim_1212",
         "rawType": "float64",
         "type": "float"
        },
        {
         "name": "dim_1213",
         "rawType": "float64",
         "type": "float"
        },
        {
         "name": "dim_1214",
         "rawType": "float64",
         "type": "float"
        },
        {
         "name": "dim_1215",
         "rawType": "float64",
         "type": "float"
        },
        {
         "name": "dim_1216",
         "rawType": "float64",
         "type": "float"
        },
        {
         "name": "dim_1217",
         "rawType": "float64",
         "type": "float"
        },
        {
         "name": "dim_1218",
         "rawType": "float64",
         "type": "float"
        },
        {
         "name": "dim_1219",
         "rawType": "float64",
         "type": "float"
        },
        {
         "name": "dim_1220",
         "rawType": "float64",
         "type": "float"
        },
        {
         "name": "dim_1221",
         "rawType": "float64",
         "type": "float"
        },
        {
         "name": "dim_1222",
         "rawType": "float64",
         "type": "float"
        },
        {
         "name": "dim_1223",
         "rawType": "float64",
         "type": "float"
        },
        {
         "name": "dim_1224",
         "rawType": "float64",
         "type": "float"
        },
        {
         "name": "dim_1225",
         "rawType": "float64",
         "type": "float"
        },
        {
         "name": "dim_1226",
         "rawType": "float64",
         "type": "float"
        },
        {
         "name": "dim_1227",
         "rawType": "float64",
         "type": "float"
        },
        {
         "name": "dim_1228",
         "rawType": "float64",
         "type": "float"
        },
        {
         "name": "dim_1229",
         "rawType": "float64",
         "type": "float"
        },
        {
         "name": "dim_1230",
         "rawType": "float64",
         "type": "float"
        },
        {
         "name": "dim_1231",
         "rawType": "float64",
         "type": "float"
        },
        {
         "name": "dim_1232",
         "rawType": "float64",
         "type": "float"
        },
        {
         "name": "dim_1233",
         "rawType": "float64",
         "type": "float"
        },
        {
         "name": "dim_1234",
         "rawType": "float64",
         "type": "float"
        },
        {
         "name": "dim_1235",
         "rawType": "float64",
         "type": "float"
        },
        {
         "name": "dim_1236",
         "rawType": "float64",
         "type": "float"
        },
        {
         "name": "dim_1237",
         "rawType": "float64",
         "type": "float"
        },
        {
         "name": "dim_1238",
         "rawType": "float64",
         "type": "float"
        },
        {
         "name": "dim_1239",
         "rawType": "float64",
         "type": "float"
        },
        {
         "name": "dim_1240",
         "rawType": "float64",
         "type": "float"
        },
        {
         "name": "dim_1241",
         "rawType": "float64",
         "type": "float"
        },
        {
         "name": "dim_1242",
         "rawType": "float64",
         "type": "float"
        },
        {
         "name": "dim_1243",
         "rawType": "float64",
         "type": "float"
        },
        {
         "name": "dim_1244",
         "rawType": "float64",
         "type": "float"
        },
        {
         "name": "dim_1245",
         "rawType": "float64",
         "type": "float"
        },
        {
         "name": "dim_1246",
         "rawType": "float64",
         "type": "float"
        },
        {
         "name": "dim_1247",
         "rawType": "float64",
         "type": "float"
        },
        {
         "name": "dim_1248",
         "rawType": "float64",
         "type": "float"
        },
        {
         "name": "dim_1249",
         "rawType": "float64",
         "type": "float"
        },
        {
         "name": "dim_1250",
         "rawType": "float64",
         "type": "float"
        },
        {
         "name": "dim_1251",
         "rawType": "float64",
         "type": "float"
        },
        {
         "name": "dim_1252",
         "rawType": "float64",
         "type": "float"
        },
        {
         "name": "dim_1253",
         "rawType": "float64",
         "type": "float"
        },
        {
         "name": "dim_1254",
         "rawType": "float64",
         "type": "float"
        },
        {
         "name": "dim_1255",
         "rawType": "float64",
         "type": "float"
        },
        {
         "name": "dim_1256",
         "rawType": "float64",
         "type": "float"
        },
        {
         "name": "dim_1257",
         "rawType": "float64",
         "type": "float"
        },
        {
         "name": "dim_1258",
         "rawType": "float64",
         "type": "float"
        },
        {
         "name": "dim_1259",
         "rawType": "float64",
         "type": "float"
        },
        {
         "name": "dim_1260",
         "rawType": "float64",
         "type": "float"
        },
        {
         "name": "dim_1261",
         "rawType": "float64",
         "type": "float"
        },
        {
         "name": "dim_1262",
         "rawType": "float64",
         "type": "float"
        },
        {
         "name": "dim_1263",
         "rawType": "float64",
         "type": "float"
        },
        {
         "name": "dim_1264",
         "rawType": "float64",
         "type": "float"
        },
        {
         "name": "dim_1265",
         "rawType": "float64",
         "type": "float"
        },
        {
         "name": "dim_1266",
         "rawType": "float64",
         "type": "float"
        },
        {
         "name": "dim_1267",
         "rawType": "float64",
         "type": "float"
        },
        {
         "name": "dim_1268",
         "rawType": "float64",
         "type": "float"
        },
        {
         "name": "dim_1269",
         "rawType": "float64",
         "type": "float"
        },
        {
         "name": "dim_1270",
         "rawType": "float64",
         "type": "float"
        },
        {
         "name": "dim_1271",
         "rawType": "float64",
         "type": "float"
        },
        {
         "name": "dim_1272",
         "rawType": "float64",
         "type": "float"
        },
        {
         "name": "dim_1273",
         "rawType": "float64",
         "type": "float"
        },
        {
         "name": "dim_1274",
         "rawType": "float64",
         "type": "float"
        },
        {
         "name": "dim_1275",
         "rawType": "float64",
         "type": "float"
        },
        {
         "name": "dim_1276",
         "rawType": "float64",
         "type": "float"
        },
        {
         "name": "dim_1277",
         "rawType": "float64",
         "type": "float"
        },
        {
         "name": "dim_1278",
         "rawType": "float64",
         "type": "float"
        },
        {
         "name": "dim_1279",
         "rawType": "float64",
         "type": "float"
        }
       ],
       "conversionMethod": "pd.DataFrame",
       "ref": "cc5ae2d4-4985-441b-b691-cf86b6116aef",
       "rows": [
        [
         "0",
         "ENSP00000000233",
         "-0.005823822",
         "-0.032057907",
         "-0.05552754",
         "0.056503117",
         "-0.032811202",
         "-0.13565037",
         "0.08862351",
         "-0.09961373",
         "-0.09522116",
         "0.17173526",
         "0.0695294",
         "-0.0017799342",
         "0.057675008",
         "0.13840199",
         "0.067304865",
         "0.082879774",
         "0.01953756",
         "-0.048803955",
         "-0.002837282",
         "0.111153394",
         "0.03429698",
         "0.059622545",
         "0.0439674",
         "-0.02466295",
         "0.03890104",
         "0.054800786",
         "0.09035789",
         "-0.024770334",
         "0.0073608626",
         "-0.15551376",
         "-0.038787942",
         "0.08734254",
         "-0.020013299",
         "-0.031900167",
         "-0.013659822",
         "0.121561095",
         "-0.082544126",
         "0.036222216",
         "-0.076484576",
         "0.012412812",
         "0.04427516",
         "0.06851906",
         "0.096359126",
         "-0.051482603",
         "0.102868356",
         "-0.044765823",
         "-0.124968514",
         "0.07490956",
         "-0.043127857",
         "-0.05479481",
         "-0.06655839",
         "-0.04631209",
         "0.058205687",
         "0.085299864",
         "0.085421406",
         "0.025103347",
         "-0.035005968",
         "0.01570044",
         "0.04131384",
         "-0.00653219",
         "-0.2355058",
         "-0.10502248",
         "-0.028738637",
         "-0.052976377",
         "0.009800315",
         "-0.03619493",
         "0.014564294",
         "-0.055152453",
         "0.1520855",
         "0.0093632415",
         "-0.07127995",
         "0.0034890203",
         "0.015993165",
         "-0.024971591",
         "-0.07998923",
         "-0.04472517",
         "0.018415",
         "0.011178144",
         "-0.009063574",
         "-0.021187497",
         "-0.016127717",
         "0.0034539117",
         "-0.07283984",
         "0.010063316",
         "0.034386937",
         "-0.11190915",
         "-0.01964519",
         "0.011161076",
         "0.071626075",
         "0.020222232",
         "0.08484565",
         "0.08831117",
         "-0.04011266",
         "-0.011585827",
         "0.028466972",
         "-0.010106387",
         "0.017399805",
         "0.0011762788",
         "0.028621312",
         "0.0342588",
         "0.006454621",
         "0.009233319",
         "-0.0950874",
         "-0.13534668",
         "-0.11880603",
         "-0.005908732",
         "-0.015573055",
         "0.18033919",
         "0.058614604",
         "-0.027410833",
         "-0.03807145",
         "-0.04986435",
         "-0.05895706",
         "-0.009240461",
         "-0.041135874",
         "-0.01479352",
         "-0.091539495",
         "0.09443631",
         "-0.027432308",
         "0.05061437",
         "-0.097869046",
         "-0.056523845",
         "0.044128764",
         "-0.003351046",
         "-0.0982231",
         "0.004587406",
         "0.073164105",
         "0.039010935",
         "-0.038029194",
         "-0.030365972",
         "0.024632338",
         "-0.08571494",
         "0.06236893",
         "-0.050011415",
         "0.03258449",
         "0.104785815",
         "0.15270245",
         "0.091341816",
         "-0.056043074",
         "-0.017077157",
         "0.0879996",
         "-0.118660696",
         "-0.09963825",
         "-0.08961768",
         "0.020995453",
         "0.099928014",
         "0.00056258374",
         "-0.014440391",
         "-0.04547594",
         "0.015195998",
         "0.0062175393",
         "-0.026025932",
         "0.017048715",
         "0.008606376",
         "0.05531376",
         "-0.034963083",
         "0.09924454",
         "0.1295741",
         "-0.038444526",
         "-0.031883836",
         "-0.12531547",
         "0.10559436",
         "0.055290487",
         "-0.086544774",
         "0.069891",
         "0.071103975",
         "0.019131247",
         "0.06354436",
         "0.05714564",
         "0.013030416",
         "-0.0023623137",
         "0.0022503973",
         "0.110767156",
         "0.0016761634",
         "-0.017282693",
         "-0.017152151",
         "0.0059941444",
         "0.075322606",
         "0.0062901517",
         "0.08583652",
         "0.03132522",
         "0.019554393",
         "0.14770412",
         "-0.01713691",
         "-0.047615334",
         "-0.0016272191",
         "-0.060279943",
         "0.03365998",
         "0.04512395",
         "-0.0035338684",
         "-0.03083391",
         "0.06665099",
         "-0.0755105",
         "0.028410641",
         "0.14197639",
         "0.11343438",
         "0.01760776",
         "0.06737736",
         "-0.12535073",
         "0.01071635",
         "0.056762956",
         "0.06799481",
         "-0.1293898",
         "0.0142140025",
         "-0.052102044",
         "0.02057558",
         "-0.06949557",
         "-0.06849703",
         "-0.21297686",
         "-0.16981365",
         "0.02290976",
         "0.040866904",
         "0.06230699",
         "0.033646546",
         "-0.07928888",
         "-0.041025095",
         "-0.018842207",
         "-0.04686549",
         "-0.01595682",
         "0.09126766",
         "-0.036540497",
         "0.011246091",
         "0.12872396",
         "-0.16987573",
         "-0.07178451",
         "-0.065672524",
         "-0.16179381",
         "0.0024189525",
         "-0.25107682",
         "0.05430121",
         "0.0426069",
         "-0.034426615",
         "-0.13094209",
         "-0.019668937",
         "-0.074309334",
         "0.046636123",
         "0.20587449",
         "0.037256107",
         "-0.1189616",
         "-0.10742989",
         "-0.06621182",
         "0.06449596",
         "-0.11191832",
         "0.017337376",
         "-0.015071817",
         "0.036174748",
         "0.084569",
         "-0.025600612",
         "0.09848351",
         "0.102468684",
         "-0.18466678",
         "-0.047331534",
         "-0.028392334",
         "-0.046298906",
         "0.0020087133",
         "-0.07615801",
         "-0.11753418",
         "0.08024276",
         "0.038222812",
         "-0.09060518",
         "0.0021613429",
         "-0.0071639777",
         "0.009541636",
         "0.060414176",
         "-0.050454993",
         "-0.07357873",
         "-0.03345527",
         "-0.07818033",
         "0.07365558",
         "-0.037701815",
         "0.028315773",
         "0.024278164",
         "0.0034103566",
         "0.021356415",
         "-0.040068336",
         "0.08305208",
         "0.05658467",
         "0.06370214",
         "-0.010741784",
         "-0.0056587444",
         "-0.02238389",
         "-0.080709375",
         "0.022980515",
         "0.041614328",
         "0.026346477",
         "-0.16016322",
         "-0.0676489",
         "0.06564327",
         "0.117559895",
         "0.11656035",
         "0.02552353",
         "0.11007305",
         "-0.106417894",
         "-0.0036205943",
         "-0.09669172",
         "-0.04245487",
         "0.018280573",
         "0.07913543",
         "0.060256515",
         "-0.018086566",
         "0.117750086",
         "0.052950308",
         "-0.105700366",
         "0.08070824",
         "0.083398156",
         "0.05623754",
         "-0.035267167",
         "0.0030316552",
         "-0.0049959337",
         "-0.029491302",
         "0.019536292",
         "0.04581193",
         "0.028355937",
         "-0.06848004",
         "0.046066888",
         "0.056665238",
         "-0.10527661",
         "-0.063962035",
         "-0.053442627",
         "0.006912375",
         "-0.004898278",
         "-0.034971457",
         "-0.0076270457",
         "-0.0753158",
         "-0.09029054",
         "-0.01816614",
         "0.016016182",
         "0.03836268",
         "0.017376019",
         "-0.0077182725",
         "-0.019697916",
         "-0.06207554",
         "0.047662623",
         "-0.023823172",
         "-0.12647447",
         "0.11716612",
         "0.16329743",
         "-0.021629965",
         "-0.023202632",
         "0.038039155",
         "0.029987702",
         "-0.03677547",
         "-0.03288333",
         "0.002774768",
         "-0.012197765",
         "-0.08736262",
         "0.0055770036",
         "-0.071758166",
         "0.014346948",
         "-0.08019519",
         "0.04705322",
         "0.04804544",
         "0.07157104",
         "-0.046613704",
         "0.099596396",
         "-0.006613935",
         "0.010921381",
         "-0.073273785",
         "-0.08569459",
         "0.004816687",
         "0.0012840603",
         "0.08579452",
         "-0.053298905",
         "0.014831209",
         "-0.06945386",
         "0.056219477",
         "0.11973636",
         "-0.043245077",
         "0.052689698",
         "-0.09459723",
         "0.19128959",
         "0.14365229",
         "0.0061577787",
         "-0.065111764",
         "0.06919976",
         "0.16310284",
         "0.043356575",
         "0.06664443",
         "0.15389766",
         "0.030311584",
         "0.0035946125",
         "-0.13078482",
         "0.029580673",
         "0.038195975",
         "-0.03945416",
         "-0.007030821",
         "-0.0391904",
         "0.034588758",
         "0.04790139",
         "-0.022572478",
         "0.01130269",
         "0.10037906",
         "0.04294572",
         "0.094605885",
         "0.026406765",
         "-0.117991686",
         "0.092295624",
         "0.061824556",
         "0.045559883",
         "-0.077641815",
         "0.03571562",
         "0.034527604",
         "-0.08300744",
         "0.20206884",
         "0.062348083",
         "0.113986164",
         "-0.041864567",
         "-0.0468819",
         "-0.027241273",
         "-0.092459425",
         "-0.035125144",
         "-0.0042269034",
         "0.09275102",
         "-0.03602966",
         "0.029338038",
         "0.03231347",
         "-0.00036746578",
         "0.10741249",
         "0.07710417",
         "-0.014849584",
         "0.023555253",
         "0.1332861",
         "0.031217163",
         "0.06880537",
         "0.036390208",
         "-0.055817842",
         "-0.021615313",
         "-0.0035595922",
         "0.13258457",
         "0.040083855",
         "0.00922114",
         "0.061907724",
         "0.028475879",
         "0.002381556",
         "0.081741095",
         "0.029604634",
         "0.093232356",
         "0.05182268",
         "-0.03094557",
         "0.05363706",
         "-0.066631764",
         "0.016154708",
         "0.06709848",
         "-0.16011238",
         "0.0155535275",
         "-0.065121375",
         "0.047301788",
         "0.031315602",
         "0.050464537",
         "-0.04841358",
         "-0.02945601",
         "-0.03651424",
         "-0.0024028923",
         "0.023154903",
         "0.12347643",
         "-0.020040264",
         "0.0353523",
         "0.09080081",
         "-0.009777053",
         "0.13992244",
         "0.101935364",
         "0.037949875",
         "-0.035809927",
         "-0.04672872",
         "0.09029363",
         "-0.10268452",
         "0.08249644",
         "0.084341414",
         "0.034738064",
         "0.019668996",
         "-0.061384264",
         "-0.054613445",
         "-0.024500294",
         "-0.05970302",
         "-0.018018309",
         "-0.105632894",
         "-0.06843517",
         "0.028446905",
         "-0.06410437",
         "-0.07686237",
         "0.03826207",
         "-0.03649795",
         "-0.07321895",
         "0.12506105",
         "-0.0029887296",
         "0.018484993",
         "0.033899672",
         "0.03467275",
         "-0.0090567395",
         "0.023201302",
         "-0.024054877",
         "-0.07001851",
         "-0.047733884",
         "-0.04910534",
         "0.08299531",
         "0.10834906",
         "0.043246903",
         "0.018890908",
         "-0.109462",
         "-0.05637152",
         "-0.055644725",
         "-0.046560615",
         "-0.099281125",
         "0.00010593931",
         "-0.060740206",
         "0.13733566",
         "0.06610089",
         "0.24794185",
         "0.012716275",
         "-0.06189882",
         "0.061609946",
         "0.017219307",
         "-0.018798307",
         "-0.05697278",
         "0.09949818",
         "-0.0441677",
         "-0.024653058",
         "-0.09206505",
         "0.09068637",
         "-0.111362934",
         "0.09519037",
         "-0.10504215",
         "-0.0562518",
         "-0.17109022",
         "-0.04956248",
         "-0.2025413",
         "0.08758198",
         "0.06098544",
         "0.0771284",
         "-0.044196267",
         "0.085599676",
         "0.13175401",
         "-0.020726372",
         "-0.097819716",
         "-0.0049284976",
         "-0.027776416",
         "0.05809481",
         "-0.07642118",
         "-0.16460542",
         "0.0032680423",
         "-0.055027734",
         "-0.07639003",
         "0.077613175",
         "0.053922653",
         "-0.08932658",
         "-0.019284189",
         "0.05343802",
         "0.03673997",
         "0.022844763",
         "0.0037435987",
         "0.078386016",
         "0.015278626",
         "-0.08568634",
         "0.15890756",
         "-0.0148677295",
         "-0.13152608",
         "-0.18050139",
         "-0.016069403",
         "0.0705405",
         "0.060578942",
         "-0.029944373",
         "0.09044251",
         "-0.05105458",
         "-0.011896472",
         "0.15411396",
         "-0.07013936",
         "0.09346425",
         "0.034663983",
         "0.07545614",
         "-0.0876739",
         "-0.08631802",
         "0.26460597",
         "0.038374458",
         "0.048339594",
         "-0.095811665",
         "0.16867971",
         "0.024952365",
         "0.022389142",
         "0.042353902",
         "-0.039916635",
         "-0.10028918",
         "-0.047119714",
         "0.012585186",
         "0.03173994",
         "-0.0074249757",
         "0.02102858",
         "0.052134495",
         "0.078165114",
         "-0.05260648",
         "0.07056548",
         "-0.01707328",
         "-0.054702118",
         "0.08020844",
         "0.0156789",
         "0.08734936",
         "-0.014957529",
         "0.031292964",
         "0.015193757",
         "0.059130777",
         "-0.07331727",
         "-0.0608334",
         "-0.009594835",
         "0.084423184",
         "0.027122933",
         "-0.087644756",
         "0.05349012",
         "-0.040295135",
         "-0.04055797",
         "0.02689985",
         "0.037541866",
         "-0.0047910106",
         "0.028402397",
         "0.019544557",
         "-0.00025502112",
         "0.031686287",
         "0.035241924",
         "-0.033112735",
         "-0.07103344",
         "0.069146655",
         "-0.02070974",
         "-0.011002133",
         "0.05180056",
         "-0.029064523",
         "0.011732502",
         "-0.021542719",
         "0.051538385",
         "0.01737072",
         "-0.036303308",
         "0.090993784",
         "-0.06595373",
         "-0.00138726",
         "-0.058584195",
         "0.0057327254",
         "0.043418452",
         "0.09500274",
         "-0.07855979",
         "-0.042507607",
         "0.0069460003",
         "-0.001352164",
         "-0.09489862",
         "-0.055976376",
         "-0.08925417",
         "-0.00515499",
         "0.09331776",
         "0.03051319",
         "-0.016628066",
         "0.04063615",
         "-0.03363587",
         "-0.04836623",
         "0.09135496",
         "-0.0687314",
         "0.20687222",
         "-0.0014360154",
         "-0.019413315",
         "0.021900704",
         "0.012213312",
         "-0.0059831426",
         "0.045843996",
         "0.017255997",
         "0.06303514",
         "-0.03980651",
         "-0.067471474",
         "-0.11161977",
         "0.019204121",
         "0.024331147",
         "-0.048487045",
         "-0.109747425",
         "0.022045383",
         "0.08687655",
         "0.013556467",
         "0.041321263",
         "-0.12507398",
         "0.10061186",
         "-0.07071812",
         "-0.039652392",
         "-0.0003989839",
         "-0.051279306",
         "-0.065841936",
         "0.0142870005",
         "-0.13518834",
         "0.039488077",
         "0.0026122928",
         "-0.14320874",
         "0.25311166",
         "0.035623282",
         "0.0010232435",
         "0.021141548",
         "0.12341097",
         "-0.023628542",
         "0.006823296",
         "0.023094324",
         "-0.024747793",
         "-0.009491111",
         "-0.032777168",
         "0.07116162",
         "0.02586909",
         "-0.020085312",
         "-0.112048",
         "-0.007437892",
         "-0.036886543",
         "0.23367514",
         "0.08047013",
         "0.05524343",
         "0.026440464",
         "0.009898431",
         "0.040025055",
         "0.024949409",
         "-0.033664946",
         "0.008227454",
         "-0.011639973",
         "0.041264385",
         "-0.100641415",
         "-0.044112448",
         "0.0030278403",
         "0.09078715",
         "-0.02924097",
         "-0.07145238",
         "0.13302414",
         "-0.008391563",
         "0.0743764",
         "0.043756265",
         "-0.022335859",
         "0.11918365",
         "0.052746445",
         "-0.055349533",
         "0.056123853",
         "0.044014007",
         "0.048088312",
         "0.031729147",
         "0.06511859",
         "-0.06600419",
         "-0.06801666",
         "0.12044419",
         "-0.059594717",
         "0.06638323",
         "0.07798308",
         "0.041114744",
         "-0.020475244",
         "-0.08225805",
         "-0.025100335",
         "0.04100373",
         "0.08100486",
         "0.012204776",
         "0.0043162713",
         "-0.073646784",
         "-0.12574169",
         "-0.06682695",
         "-0.023424245",
         "0.11107835",
         "0.117700905",
         "0.043603983",
         "0.019270321",
         "-0.074276745",
         "-0.0776209",
         "0.028012514",
         "0.038660485",
         "0.109369025",
         "-0.0011451138",
         "-0.029015845",
         "-0.1333343",
         "-0.0984816",
         "0.06623561",
         "0.1622106",
         "-0.078774266",
         "-0.045930475",
         "0.064934745",
         "-0.02116658",
         "-0.00996193",
         "0.0470175",
         "-0.062363107",
         "0.05351224",
         "-0.04464458",
         "-0.015937148",
         "-0.033846263",
         "0.05795731",
         "0.11021079",
         "0.024160057",
         "-0.049816333",
         "0.03022788",
         "-0.06924494",
         "-0.14087829",
         "0.04171824",
         "-0.02002237",
         "-0.12872069",
         "-0.21179496",
         "-0.03909777",
         "0.09453265",
         "-0.16381644",
         "-0.053708587",
         "-0.08028254",
         "0.07516307",
         "0.04651206",
         "-0.04559072",
         "0.10854532",
         "-0.05978938",
         "0.031657968",
         "0.092449225",
         "-0.023270786",
         "-0.11776928",
         "-0.06904492",
         "0.10078803",
         "0.07304259",
         "0.060583867",
         "-0.03959021",
         "0.008143732",
         "0.0050052097",
         "0.06495054",
         "-0.05166041",
         "-0.043065876",
         "-0.015837314",
         "0.044223297",
         "0.009072361",
         "0.07420976",
         "-0.0023781587",
         "0.09658951",
         "-0.08403348",
         "0.008001779",
         "-0.07563308",
         "0.1671156",
         "-0.024569781",
         "0.01592931",
         "0.086565904",
         "-0.08681425",
         "0.080067165",
         "-0.06348527",
         "-0.027655087",
         "0.052738283",
         "-0.16128342",
         "0.00069889624",
         "0.01327732",
         "-0.19250792",
         "-0.008872607",
         "-0.087687366",
         "0.039260983",
         "0.05131962",
         "0.061040424",
         "0.26986027",
         "0.03269416",
         "0.0112517355",
         "-0.0076252893",
         "-0.08594437",
         "-0.10122297",
         "-0.04074932",
         "0.008570292",
         "0.047138438",
         "0.14267473",
         "0.0013759471",
         "0.027814317",
         "0.09409473",
         "-0.06993025",
         "0.04746666",
         "-0.08588441",
         "0.02174557",
         "0.021654176",
         "0.021311786",
         "-0.079326056",
         "-0.064124465",
         "0.14734337",
         "0.0053757853",
         "0.010224434",
         "-0.021440102",
         "0.043949924",
         "0.033691358",
         "-0.05248751",
         "-0.013264229",
         "-0.014180417",
         "0.0061764857",
         "-0.040388476",
         "-0.073121235",
         "-0.012394433",
         "-0.09614095",
         "0.12877741",
         "0.14681987",
         "-0.04468067",
         "0.028608384",
         "0.05669045",
         "0.04457244",
         "0.010534174",
         "0.06661655",
         "0.029577736",
         "0.18479191",
         "-0.06292688",
         "0.07717085",
         "-0.068123244",
         "0.074620776",
         "-0.061726626",
         "0.0048432923",
         "-0.03662898",
         "-0.035556447",
         "0.049869657",
         "0.0060769566",
         "-0.07865915",
         "0.055350315",
         "0.11547357",
         "-0.088158235",
         "0.07619918",
         "0.073322974",
         "-0.10169355",
         "0.004358618",
         "0.062166188",
         "-0.005755577",
         "-0.17120875",
         "0.041750267",
         "-0.02026129",
         "-0.0065543004",
         "0.042185765",
         "0.034821406",
         "0.03801507",
         "0.004287723",
         "-0.10218765",
         "-0.026780935",
         "0.008590504",
         "-0.08872422",
         "-0.020833",
         "0.027251275",
         "0.044833306",
         "-0.052642547",
         "-0.021937758",
         "0.008153952",
         "0.14340836",
         "0.13532649",
         "-0.08764672",
         "-0.013732404",
         "0.025713542",
         "-0.029789792",
         "-0.046625964",
         "0.11146843",
         "0.11765879",
         "0.021376573",
         "-0.0182213",
         "0.076790474",
         "-0.1253516",
         "-0.10502481",
         "-0.13476402",
         "0.003034889",
         "0.012071533",
         "0.017004669",
         "0.1492396",
         "0.02839187",
         "0.03278531",
         "0.022126066",
         "-0.062349595",
         "0.12198866",
         "0.10837697",
         "-0.050792336",
         "0.085531764",
         "0.05671226",
         "0.061109003",
         "-0.05505885",
         "0.03193534",
         "0.09636705",
         "-0.082718134",
         "0.13166733",
         "0.06298062",
         "0.09287033",
         "-0.10286753",
         "-0.034002453",
         "-0.12110401",
         "-0.11117395",
         "0.11019029",
         "-0.017345281",
         "0.07822628",
         "-0.15024495",
         "-0.037472665",
         "0.04112331",
         "0.03175847",
         "-0.055187248",
         "0.0012913658",
         "0.10277584",
         "-0.12748653",
         "-0.12260364",
         "0.19669758",
         "0.147557",
         "-0.018472351",
         "0.024249453",
         "0.023829546",
         "-0.08900624",
         "0.07978765",
         "-0.022091841",
         "-0.03735816",
         "-0.06195451",
         "-0.05552673",
         "0.006539998",
         "-0.08448023",
         "-0.062644936",
         "0.036423005",
         "-0.09134256",
         "-0.115224905",
         "-0.12673622",
         "0.05380142",
         "0.019026952",
         "-0.057889592",
         "0.06493693",
         "0.04245848",
         "-0.047133468",
         "-0.07614374",
         "-0.034922037",
         "-0.030706534",
         "-0.017932331",
         "-0.029877197",
         "-0.1709156",
         "0.025499286",
         "-0.0014946279",
         "-0.00014817053",
         "0.034088925",
         "0.057072926",
         "-0.0019678646",
         "0.04663431",
         "0.01907776",
         "-0.026040714",
         "0.07914694",
         "-0.069745444",
         "0.12937665",
         "-0.02709305",
         "0.06845076",
         "0.0061931126",
         "-0.07303535",
         "0.0048970007",
         "0.029854823",
         "0.181328",
         "-0.06228753",
         "0.12128747",
         "0.07597906",
         "0.0051778336",
         "0.06824315",
         "-0.08333843",
         "-0.039274212",
         "-0.0016276754",
         "-0.035142045",
         "-0.041411098",
         "-0.05527025",
         "-0.08315498",
         "-0.019846063",
         "0.08497017",
         "-0.012671306",
         "0.13661739",
         "0.052187093",
         "0.01088146",
         "-0.043824423",
         "0.001186402",
         "-0.050739978",
         "-0.06118674",
         "0.033960618",
         "0.008333378",
         "0.06461589",
         "-0.00953166",
         "0.036430694",
         "0.04740538",
         "0.12087625",
         "-0.07352834",
         "-0.028974785",
         "-0.048462316",
         "0.13753603",
         "0.044054992",
         "-0.114770256",
         "0.01211679",
         "0.043627422",
         "-0.0050279256",
         "-0.0062168036",
         "-0.07240805",
         "-0.08264469",
         "0.0060220454",
         "-0.035965536",
         "0.11781443",
         "-0.10004123",
         "0.0015596404",
         "0.083272755",
         "0.156439",
         "0.0025629362",
         "0.007654434",
         "-0.039627075",
         "-0.099244885",
         "-0.0021467914",
         "0.057748098",
         "-0.00675047",
         "-0.0046127196",
         "0.06970909",
         "-0.032753162",
         "-0.09748244",
         "0.087781526",
         "0.2310467",
         "-0.06874174",
         "-0.1303324",
         "-0.09575264",
         "0.006615798",
         "0.09092666",
         "-0.029040547",
         "0.07508927",
         "0.03831447",
         "0.041956138",
         "0.04093029",
         "0.026283389",
         "0.009718754",
         "-0.10915989",
         "0.01913506",
         "0.008811517",
         "-0.044748884",
         "-0.07597107",
         "0.2113308",
         "0.1250529",
         "-0.08389483",
         "0.003283346",
         "0.09073199",
         "-0.1451851",
         "0.015995903",
         "-0.09479648",
         "0.06799728",
         "0.1010824",
         "0.04502059",
         "-0.088365294",
         "0.016180988",
         "0.10255449",
         "-0.08372197",
         "0.0043071867",
         "0.11091086",
         "-0.020471415",
         "0.008782626",
         "0.084584214",
         "-0.08024562",
         "-0.17707396",
         "0.028679948",
         "-0.16484411",
         "-0.04774717",
         "-0.13293225",
         "-0.010673031",
         "-0.044417653",
         "-0.07395714",
         "-0.04145203",
         "-0.021385867",
         "-0.025032569",
         "-0.009404075",
         "-0.082141966",
         "0.04541836",
         "0.22887334",
         "0.03862139",
         "-0.10946659",
         "0.0841817",
         "0.017428117",
         "0.05304827",
         "0.078518786",
         "-0.05430835",
         "0.058428902",
         "-0.14069942",
         "0.014267736",
         "0.007073074",
         "0.061533682",
         "0.015569369",
         "0.021696597",
         "-0.0002241744",
         "0.05768044",
         "-0.044780444",
         "0.053544268",
         "0.06744502",
         "-0.02525121",
         "-0.01022113",
         "-0.009003101",
         "0.017068572",
         "-0.012709888",
         "-0.01594504",
         "0.08710604",
         "-5.673581",
         "-0.09530252",
         "0.004692408",
         "-0.06309351",
         "-0.077779815",
         "-0.054783642",
         "-0.012180241",
         "0.04570311",
         "0.15971239",
         "0.03738392",
         "-0.04960537",
         "-0.059776444",
         "0.016875964",
         "-0.042349886",
         "0.0089209275",
         "-0.0118448725",
         "0.05526447",
         "0.05368264",
         "0.0654097",
         "0.01396753",
         "-0.032389026",
         "0.034343667",
         "0.044575665",
         "0.17627491",
         "-0.060646746",
         "0.034241438",
         "-0.018937346",
         "-0.04120628",
         "0.09025011",
         "0.13638592",
         "0.07493827",
         "-0.0072024968",
         "-0.018816292",
         "0.1756247",
         "0.0346593",
         "-0.009117171",
         "0.071721464",
         "0.11100992",
         "0.21438046",
         "0.019126058",
         "0.086569734",
         "-0.13015883",
         "0.009047618",
         "0.042943966",
         "0.064552926",
         "-0.048324935",
         "-0.053381775",
         "0.0023244997",
         "0.04709282",
         "0.022113698",
         "0.01752034",
         "-0.009789281",
         "0.017937893",
         "-0.051636275",
         "-0.006730289",
         "0.0068646134",
         "-0.08838296",
         "0.02785389",
         "0.016954962",
         "0.039598417",
         "-0.015383358",
         "0.051801417",
         "-0.06425601",
         "0.049692877",
         "0.033605024",
         "-0.14296192",
         "-0.1532987",
         "-0.09074949",
         "-0.00941236",
         "0.010884382",
         "0.20269339",
         "0.008553969",
         "-0.056505952",
         "0.18529397",
         "0.07617409",
         "0.022260953",
         "-0.0581272",
         "-0.090624705",
         "0.09976005",
         "-0.02269274",
         "-0.1345134",
         "0.084111534",
         "-0.14284456",
         "0.07663349",
         "0.04474094",
         "-0.009230433",
         "-0.003089408",
         "0.06418557",
         "-0.0058171577",
         "0.037973106",
         "0.061385337",
         "0.009517629",
         "0.013142739",
         "0.048080124",
         "0.11005546",
         "-0.021108877",
         "-0.05668423",
         "-0.050198004",
         "0.16805406",
         "0.005667658",
         "0.037769858",
         "0.10254232",
         "0.0335981",
         "0.15912329",
         "0.060465146",
         "0.018662622",
         "-0.07002381",
         "-0.08996222",
         "0.0805426",
         "-0.031139974",
         "-0.0030858365",
         "-0.085380316",
         "-0.038360376",
         "-0.009560713",
         "-0.0241971",
         "0.013263777",
         "0.006274535",
         "-0.16932692",
         "-0.018693175",
         "0.09562558"
        ],
        [
         "1",
         "ENSP00000356607",
         "0.004694117",
         "-0.0012429478",
         "-0.029768577",
         "0.10578913",
         "-0.15235472",
         "-0.047100306",
         "0.09168139",
         "0.0007372459",
         "0.032762006",
         "0.12913248",
         "-0.0063773007",
         "-0.017289037",
         "0.14214656",
         "0.12079101",
         "-0.041424643",
         "0.057957124",
         "0.05353978",
         "0.10350427",
         "-0.03212911",
         "0.08713448",
         "0.059766382",
         "-0.0066925855",
         "0.041953754",
         "-0.054286245",
         "0.10973019",
         "0.051227704",
         "0.033380337",
         "-0.07341017",
         "-0.045137163",
         "-0.07208724",
         "-0.026881406",
         "0.011393944",
         "0.026498482",
         "0.09428413",
         "0.006575263",
         "0.0741846",
         "-0.13313523",
         "0.04698161",
         "0.07085375",
         "-0.012495077",
         "0.008905382",
         "0.048227035",
         "0.15378527",
         "-0.07422857",
         "-0.013458933",
         "-0.041137584",
         "-0.006922098",
         "0.060366534",
         "-0.075586475",
         "-0.0510491",
         "-0.09610777",
         "-0.014168224",
         "0.06474972",
         "-0.00010806046",
         "-0.031639434",
         "-0.019677613",
         "-0.0281645",
         "0.055530895",
         "0.014367721",
         "-0.015594852",
         "-0.18736416",
         "-0.0463638",
         "0.008396544",
         "-0.09771938",
         "0.03239185",
         "-0.024691943",
         "0.09191448",
         "-0.00014829023",
         "0.039317098",
         "-0.011459462",
         "0.047891997",
         "-0.04308928",
         "-0.09721185",
         "-0.09893935",
         "0.036062628",
         "0.033659052",
         "-0.04169523",
         "0.06866074",
         "0.020031586",
         "-0.012404212",
         "0.012290474",
         "0.0427695",
         "-0.089597404",
         "0.09878951",
         "0.052474298",
         "-0.07195786",
         "-0.06374279",
         "0.09132149",
         "0.16396567",
         "0.019322831",
         "0.012804239",
         "0.019291019",
         "-0.07731863",
         "0.041930716",
         "0.049841527",
         "-0.053063005",
         "0.06989454",
         "-0.1446527",
         "0.09684618",
         "-0.07026008",
         "-0.1069043",
         "-0.016143959",
         "-0.10902546",
         "-0.06506647",
         "-0.088194154",
         "-0.1710431",
         "-0.030783009",
         "0.19742934",
         "-0.011072971",
         "-0.21496879",
         "0.012809466",
         "0.0050338437",
         "0.071199894",
         "0.012641599",
         "-0.06740121",
         "-0.029011078",
         "-0.11228647",
         "0.053601824",
         "-0.047091335",
         "0.12052905",
         "-0.1652517",
         "-0.037960503",
         "0.070205465",
         "-0.009653661",
         "-0.05355319",
         "-0.027676241",
         "0.13646667",
         "0.051509984",
         "0.027837614",
         "-0.009189905",
         "-0.028963875",
         "0.014145375",
         "-0.088570796",
         "-0.037566394",
         "0.07477649",
         "0.1352301",
         "0.12598132",
         "0.06922563",
         "-0.053100433",
         "-0.018765427",
         "0.042995676",
         "-0.077751935",
         "-0.05647396",
         "-0.039671175",
         "0.021511143",
         "0.17167547",
         "0.004227091",
         "0.02287613",
         "-0.029366797",
         "0.03908592",
         "-0.0032936067",
         "-0.084417686",
         "-0.030187298",
         "-0.118170135",
         "-0.025472822",
         "-0.018003086",
         "0.121869154",
         "0.063620396",
         "0.10682995",
         "-0.06869214",
         "-0.07584187",
         "0.03335086",
         "0.022562744",
         "-0.15431799",
         "-0.01940637",
         "0.059908114",
         "-0.0063913167",
         "0.01623183",
         "0.102186434",
         "-0.06215598",
         "-0.07645238",
         "0.010068506",
         "0.17684244",
         "0.04275732",
         "-0.016720826",
         "-0.08066261",
         "-0.07288734",
         "0.0052406443",
         "-0.024645776",
         "-0.009871977",
         "0.055262487",
         "0.008422906",
         "0.1441885",
         "0.05400232",
         "0.03930274",
         "0.026962623",
         "-0.058296736",
         "-0.024536656",
         "0.0010055022",
         "-0.065475725",
         "0.020656018",
         "0.13229576",
         "0.059010085",
         "-0.09852918",
         "0.11703081",
         "0.037930038",
         "-0.011869234",
         "0.04747851",
         "-0.18020117",
         "-0.020175885",
         "-0.009380006",
         "0.05941388",
         "-0.04477689",
         "0.036634028",
         "-0.015781254",
         "-0.030217193",
         "-0.04482152",
         "-0.04876475",
         "-0.094887555",
         "-0.11242416",
         "-0.05595536",
         "0.06328534",
         "0.07617068",
         "0.07290888",
         "-0.05332974",
         "0.025249679",
         "-0.1642248",
         "0.007845655",
         "0.14298375",
         "0.007576385",
         "0.096792534",
         "-0.052376054",
         "0.12073087",
         "-0.04033885",
         "0.08528619",
         "-0.053308804",
         "-0.15246369",
         "0.05130552",
         "-0.1944884",
         "0.008598178",
         "0.14616047",
         "-0.0050423373",
         "-0.11604239",
         "-0.016553855",
         "-2.2657795",
         "0.016115561",
         "0.13951162",
         "-0.049843706",
         "-0.15328003",
         "-0.083443485",
         "-0.115257174",
         "0.04847788",
         "-0.1024813",
         "0.034622565",
         "0.026255097",
         "-0.012596074",
         "0.028822748",
         "-0.026112523",
         "0.0096456325",
         "-0.008254048",
         "-0.038280297",
         "-0.013129402",
         "-0.075747184",
         "-0.046982557",
         "0.060474835",
         "-0.033964515",
         "-0.08222224",
         "0.060889624",
         "0.03687151",
         "-0.107346095",
         "0.05503589",
         "-0.02769984",
         "-0.008343954",
         "-0.015921196",
         "-0.07557585",
         "-0.07876559",
         "-0.09199928",
         "-0.05282224",
         "0.023592373",
         "0.021911252",
         "0.011169779",
         "0.057827666",
         "0.015291979",
         "0.104862906",
         "-0.050909203",
         "0.08815334",
         "0.064610064",
         "-0.018946009",
         "-0.0728686",
         "-0.041857727",
         "-0.01699436",
         "-0.08394688",
         "0.114663154",
         "0.0072428687",
         "0.029263053",
         "-0.15699647",
         "-0.03667576",
         "0.07412288",
         "0.029287152",
         "0.13336791",
         "-0.028945493",
         "0.022588465",
         "-0.18056777",
         "-0.04771073",
         "-0.035492323",
         "0.046663713",
         "-0.05659557",
         "0.10245563",
         "-0.037504826",
         "-0.04912706",
         "0.15153974",
         "0.05284334",
         "-0.11458096",
         "0.07999427",
         "0.05985056",
         "-0.03860634",
         "-0.04052323",
         "0.040034845",
         "-0.013451645",
         "-0.01292701",
         "-0.012009832",
         "-0.010555752",
         "0.0321323",
         "-0.0023458176",
         "0.016313422",
         "0.060074233",
         "-0.09729105",
         "-0.048460215",
         "-0.13870454",
         "-0.07081664",
         "0.024611292",
         "-0.062707566",
         "0.00010327328",
         "0.038403727",
         "-0.045782167",
         "0.0077378815",
         "0.10445388",
         "0.073361315",
         "-0.003887151",
         "-0.026517995",
         "0.0639759",
         "-0.0785006",
         "0.013600053",
         "-0.04715929",
         "-0.10552598",
         "0.022283098",
         "0.04584036",
         "0.0036997625",
         "-0.0040083746",
         "-0.038668778",
         "0.042222425",
         "-0.08641991",
         "-0.06400822",
         "-0.014288705",
         "-0.034856956",
         "-0.045678534",
         "-0.09814385",
         "0.0848178",
         "-0.013559476",
         "0.008610812",
         "0.040884122",
         "-0.056139298",
         "0.040177166",
         "-0.03768571",
         "0.22294722",
         "-0.036970057",
         "0.064696416",
         "-0.025334291",
         "-0.058046687",
         "0.144894",
         "-0.006122431",
         "0.054616153",
         "-0.035911713",
         "0.10623851",
         "-0.11091457",
         "0.018264905",
         "0.09015811",
         "0.03388141",
         "0.07979508",
         "-0.0077105258",
         "0.06560918",
         "0.21755825",
         "-0.04442661",
         "-0.08872948",
         "0.12029514",
         "0.24165125",
         "-0.022699367",
         "0.16535246",
         "0.07146559",
         "0.06808714",
         "-0.00901432",
         "-0.19830343",
         "-0.0025701788",
         "0.02565152",
         "0.06761137",
         "-0.03445068",
         "0.038680855",
         "-0.0046440763",
         "-0.055844285",
         "-0.017329533",
         "-0.0018187847",
         "-0.015731452",
         "0.02894629",
         "-0.07559438",
         "-0.14366019",
         "-0.14992957",
         "0.07351448",
         "0.05577242",
         "0.050522402",
         "-0.029738095",
         "0.061432082",
         "0.053107113",
         "-0.15798175",
         "0.09242978",
         "-0.031786244",
         "0.072038986",
         "-0.014997321",
         "0.019869031",
         "-0.075222485",
         "-0.06427819",
         "0.03351669",
         "-0.039995715",
         "0.03655432",
         "-0.076693855",
         "-0.026145346",
         "0.056100123",
         "0.0493154",
         "0.0873661",
         "0.12201095",
         "0.01793988",
         "-0.01921526",
         "0.09970125",
         "0.042225085",
         "0.060875203",
         "0.07001998",
         "-0.03329854",
         "0.081019804",
         "0.05362984",
         "0.07767863",
         "0.055851284",
         "0.013484627",
         "-0.067338236",
         "-0.0076380726",
         "-0.026101924",
         "0.013258417",
         "0.10657625",
         "0.047751408",
         "-0.067590006",
         "-0.036476173",
         "0.0020439604",
         "-0.06443689",
         "-0.012502763",
         "0.019588275",
         "-0.19110106",
         "-0.02197534",
         "-0.08383026",
         "0.06397192",
         "0.051000148",
         "0.043789074",
         "-0.12981164",
         "0.045157418",
         "0.009005563",
         "0.020007499",
         "-0.07688502",
         "0.042600065",
         "0.051319357",
         "0.08883188",
         "0.114041105",
         "-0.09328992",
         "0.21610427",
         "0.092983015",
         "0.02741382",
         "0.04415701",
         "-0.081816174",
         "-0.017775197",
         "-0.08939816",
         "0.040512834",
         "0.054955073",
         "0.0056279204",
         "0.1079648",
         "-0.03788957",
         "0.046981074",
         "0.09403157",
         "-0.08788455",
         "0.003319828",
         "-0.015223948",
         "-0.0502441",
         "0.06703357",
         "-0.11527456",
         "-0.083493024",
         "0.08497401",
         "-0.039500583",
         "-0.0895135",
         "-0.05773163",
         "0.031618778",
         "0.025451701",
         "0.012998164",
         "-0.026619956",
         "0.06694413",
         "0.015247247",
         "-0.055073854",
         "0.005433464",
         "0.10956299",
         "0.004353274",
         "0.022118999",
         "0.031754535",
         "0.109709255",
         "-0.055146534",
         "-0.054764487",
         "-0.04376841",
         "-0.101282306",
         "-0.12874633",
         "-0.1475193",
         "-0.03631202",
         "0.039985087",
         "0.08313564",
         "0.046964977",
         "0.1855846",
         "-0.054096695",
         "0.0022682543",
         "0.114685275",
         "-0.00138462",
         "0.00332959",
         "-0.058372624",
         "0.11328249",
         "-0.078422844",
         "0.017120613",
         "-0.09211456",
         "0.025363307",
         "-0.12536286",
         "0.19812524",
         "-0.10997028",
         "-0.06400255",
         "-0.06038552",
         "-0.10539438",
         "0.004366431",
         "0.0787567",
         "0.029742524",
         "0.05003861",
         "-0.0109130265",
         "-0.027009953",
         "0.058249354",
         "-0.025835797",
         "-0.13724731",
         "-0.003999101",
         "-0.030676756",
         "-0.027287526",
         "-0.025767649",
         "-0.2263982",
         "-0.029491121",
         "-0.12145949",
         "-0.002076683",
         "0.036613803",
         "0.067315035",
         "0.02510627",
         "-0.008755649",
         "0.08026046",
         "-0.026058774",
         "0.027271304",
         "-0.009354441",
         "0.06454273",
         "0.008568959",
         "-0.11026721",
         "0.14859514",
         "0.056982458",
         "-0.19804926",
         "-0.20361449",
         "-0.077134736",
         "-0.05889266",
         "0.11378257",
         "-0.09600034",
         "0.034258984",
         "-0.0012368388",
         "0.1441195",
         "0.28805634",
         "-0.007277015",
         "0.04557598",
         "0.025124965",
         "0.080885805",
         "-0.091632016",
         "-0.035420705",
         "0.30892915",
         "0.091352254",
         "0.07246586",
         "-0.055195",
         "0.08553406",
         "0.08689178",
         "0.028161064",
         "0.080308884",
         "-0.0042159883",
         "0.0031299915",
         "-0.039654206",
         "0.069078125",
         "0.01927931",
         "0.10344047",
         "0.01900762",
         "0.017448023",
         "0.07895201",
         "-0.02347696",
         "0.0935946",
         "0.06896753",
         "-0.04620735",
         "0.07345491",
         "0.06400617",
         "0.039402697",
         "-0.08755593",
         "-0.009640847",
         "-0.0678024",
         "-0.010466815",
         "-0.12352129",
         "-0.064867735",
         "0.047591202",
         "0.069921695",
         "-0.009589956",
         "-0.060699295",
         "0.14059006",
         "0.04174802",
         "-0.03436056",
         "-0.090565674",
         "0.14923157",
         "0.030297302",
         "0.006361728",
         "-0.072075285",
         "-0.043520354",
         "-0.0362487",
         "0.065008976",
         "-0.10632549",
         "-0.03064473",
         "0.009861827",
         "-0.124146454",
         "-0.007679343",
         "0.02649804",
         "-0.0703103",
         "0.08853409",
         "-0.034742426",
         "-0.018736873",
         "0.023569133",
         "-0.09755027",
         "0.012892589",
         "-0.039108217",
         "0.02728462",
         "0.12859575",
         "0.110567346",
         "0.04378884",
         "0.0018531459",
         "-0.12709704",
         "-0.07861315",
         "0.020197038",
         "-0.05711768",
         "-0.088803984",
         "-0.050170984",
         "-0.031673223",
         "0.11344845",
         "0.11803943",
         "-0.114471175",
         "-0.13815725",
         "0.10885289",
         "0.041654352",
         "0.06254807",
         "0.010225655",
         "0.033899732",
         "0.16288348",
         "0.131392",
         "-0.061489545",
         "0.06652127",
         "0.029654963",
         "0.0023887805",
         "0.10405833",
         "-0.02066611",
         "0.18291062",
         "-0.051465057",
         "0.033537846",
         "-0.06544096",
         "-0.100112475",
         "0.0546197",
         "0.012597453",
         "-0.058442578",
         "0.05978441",
         "0.021993946",
         "-0.08343879",
         "0.07514471",
         "-0.08703624",
         "-0.009966757",
         "0.025439644",
         "0.009756837",
         "0.015835246",
         "-0.042734534",
         "0.0012651171",
         "0.047389176",
         "-0.06689233",
         "-0.015393706",
         "-0.042744294",
         "-0.12440585",
         "0.17460985",
         "0.005364169",
         "-0.079239696",
         "-0.00297536",
         "0.08612441",
         "0.028804217",
         "-0.09101161",
         "0.187687",
         "0.017053865",
         "-0.05427097",
         "-0.028010704",
         "0.019111855",
         "0.08484751",
         "0.09603432",
         "-0.09480527",
         "0.049130373",
         "-0.101289324",
         "0.19439033",
         "0.08735458",
         "0.115776524",
         "0.066172786",
         "-0.04610519",
         "-0.05813884",
         "-0.0006667114",
         "-0.077730134",
         "-0.007916102",
         "0.028402574",
         "0.041541155",
         "-0.03600523",
         "0.025480686",
         "0.089048885",
         "0.055978667",
         "0.051680576",
         "0.00964963",
         "0.14641699",
         "0.025101937",
         "0.036352392",
         "-0.0016675735",
         "0.031283226",
         "0.013184968",
         "0.022437105",
         "-0.025400806",
         "-0.02771079",
         "0.007094035",
         "0.18045919",
         "0.097600885",
         "0.06405246",
         "-0.062037803",
         "-0.028094023",
         "0.14566398",
         "-0.020344513",
         "3.544442e-05",
         "0.08599014",
         "0.36538902",
         "0.08282131",
         "-0.027564008",
         "-0.06622335",
         "-0.025924888",
         "0.05308269",
         "0.011191599",
         "-0.100347206",
         "-0.08537693",
         "-0.1495582",
         "-0.06326006",
         "-0.01721777",
         "0.11871032",
         "0.055376332",
         "0.017813342",
         "0.13364053",
         "-0.024537552",
         "-0.09230404",
         "-0.0035033424",
         "-0.03994299",
         "0.0274466",
         "0.022603765",
         "-0.04270677",
         "-0.09711357",
         "-0.19763072",
         "0.14577825",
         "0.14581704",
         "0.018100036",
         "-0.037760124",
         "-0.018728768",
         "0.012535828",
         "0.034748334",
         "-0.043649785",
         "0.0874032",
         "0.02852665",
         "0.060247693",
         "-0.0725641",
         "-0.042108666",
         "0.033436608",
         "0.09022897",
         "0.044233605",
         "-0.04337026",
         "0.11088217",
         "-0.030951258",
         "-0.11455402",
         "0.053336356",
         "-0.05005226",
         "-0.087600276",
         "-0.077179216",
         "-0.050573472",
         "0.24918924",
         "-0.10102643",
         "-0.056938644",
         "-0.029341491",
         "0.06517629",
         "-0.0041513033",
         "-0.03154525",
         "0.18259166",
         "-0.028505407",
         "-0.066686355",
         "0.12066967",
         "-0.03198022",
         "-0.10106954",
         "-0.058893614",
         "0.0005550325",
         "0.09561312",
         "-0.047677744",
         "0.014636074",
         "-0.016399367",
         "0.0849367",
         "0.08492955",
         "-0.14896871",
         "-0.06647837",
         "0.023977475",
         "-0.023432188",
         "-0.08039315",
         "0.20005834",
         "-0.045261793",
         "0.010628334",
         "-0.06665512",
         "0.06931716",
         "-0.027050354",
         "0.12625311",
         "-0.11366521",
         "0.17442976",
         "0.0088887885",
         "0.0035813886",
         "0.028620778",
         "-0.005225286",
         "0.04251668",
         "0.07972856",
         "-0.16882299",
         "0.034907244",
         "-0.024510443",
         "-0.07062217",
         "-0.16317496",
         "0.018451814",
         "0.12581892",
         "0.044892527",
         "0.18866268",
         "0.19808125",
         "0.039968703",
         "0.06745679",
         "0.012231773",
         "-0.063722864",
         "0.012682489",
         "0.0018962221",
         "0.038493365",
         "-0.034114942",
         "0.12705524",
         "0.06254152",
         "-0.010163565",
         "0.09156026",
         "-0.18809927",
         "0.09624471",
         "-0.08146558",
         "0.02098502",
         "-0.054025084",
         "0.059002403",
         "-0.10252693",
         "0.01682579",
         "0.030396622",
         "0.10649655",
         "0.061812367",
         "-0.08855681",
         "0.0542424",
         "-0.019907443",
         "-0.17029534",
         "0.024129398",
         "0.021852294",
         "0.020452114",
         "-0.14776717",
         "0.028232856",
         "-0.013987882",
         "-0.071027964",
         "-0.029065173",
         "0.13269313",
         "-0.042807397",
         "0.037716467",
         "0.05160687",
         "0.07804165",
         "0.03049221",
         "-0.023818823",
         "0.029585514",
         "0.12016967",
         "0.03166448",
         "0.0033446243",
         "-0.18006319",
         "-0.009175716",
         "0.0011489621",
         "0.07081479",
         "-0.15139662",
         "0.034560602",
         "0.0809734",
         "-0.060288824",
         "-0.07126554",
         "0.0151314065",
         "0.07233659",
         "-0.14472297",
         "-0.033451498",
         "0.07669121",
         "-0.032667715",
         "-0.07997045",
         "0.019736063",
         "0.060054127",
         "-0.08223707",
         "0.072909616",
         "0.04184542",
         "-0.018644912",
         "0.08489581",
         "0.06456269",
         "0.050680265",
         "0.034473393",
         "-0.06756418",
         "-0.006684706",
         "-0.0013867349",
         "-0.077996776",
         "-0.053367037",
         "0.07989157",
         "-0.02441565",
         "-0.091708966",
         "0.011867813",
         "-0.03972771",
         "0.13028014",
         "0.01929314",
         "-0.015956739",
         "0.069070086",
         "0.06262954",
         "-0.1413876",
         "0.011555725",
         "0.021741582",
         "-0.024519442",
         "-0.07085662",
         "0.009900926",
         "0.089647375",
         "-0.098157085",
         "-0.08916712",
         "-0.08131603",
         "-0.076697275",
         "-0.0915017",
         "0.12034233",
         "0.11154716",
         "-0.04218342",
         "0.14148414",
         "0.040287253",
         "-0.059265275",
         "0.124634005",
         "0.008001674",
         "0.0059737107",
         "0.092487715",
         "0.11603686",
         "-0.030030586",
         "-0.0068175974",
         "-0.03804612",
         "0.1048808",
         "-0.0078965705",
         "0.06119166",
         "0.028700933",
         "-0.03837762",
         "-0.13339119",
         "-0.053985577",
         "-0.015251366",
         "-0.026947537",
         "0.054257486",
         "-0.04147524",
         "0.113648534",
         "-0.11800213",
         "-0.014496018",
         "0.039104324",
         "0.023814986",
         "-0.026452359",
         "0.095372856",
         "0.01629964",
         "-0.124496214",
         "0.054503277",
         "0.13942191",
         "0.14635338",
         "0.018323107",
         "0.08921113",
         "0.014354476",
         "0.01971146",
         "-0.08054404",
         "-0.0061944444",
         "0.0030824349",
         "0.009547005",
         "-0.07463917",
         "0.008859441",
         "-0.05411096",
         "-0.033399902",
         "0.030361032",
         "-0.099554844",
         "-0.0590453",
         "-0.09320672",
         "0.07978223",
         "-0.05421312",
         "-0.08035624",
         "0.061988033",
         "-0.005201479",
         "-0.039572965",
         "0.016458133",
         "0.026507737",
         "-0.12531628",
         "0.117773175",
         "-0.015295857",
         "-0.114462696",
         "-0.025216265",
         "0.08642339",
         "-0.03411576",
         "-0.080586396",
         "0.040338237",
         "-0.06003517",
         "0.13828632",
         "0.016305868",
         "0.0014590914",
         "0.13665429",
         "-0.009561348",
         "0.14899012",
         "-0.04569749",
         "0.1122892",
         "0.06127945",
         "-0.062658794",
         "-0.03464564",
         "-0.007905493",
         "0.11360012",
         "-0.0743803",
         "-0.03425482",
         "0.0009696032",
         "0.013568428",
         "0.11020081",
         "-0.05514448",
         "-0.077927485",
         "-0.05573174",
         "-0.013623356",
         "0.03426347",
         "-0.09716807",
         "0.0011798019",
         "0.04986658",
         "0.12992775",
         "0.016358381",
         "0.15628962",
         "0.10904219",
         "-0.08719901",
         "0.008210368",
         "-0.030069485",
         "-0.018815326",
         "0.023443017",
         "0.09286634",
         "0.05500121",
         "0.05960407",
         "-0.05443715",
         "-0.0133731",
         "0.05204066",
         "0.1079251",
         "-0.054311026",
         "-0.0012776195",
         "-0.08022836",
         "0.106429905",
         "-0.0029791421",
         "0.026678376",
         "0.07205783",
         "0.05666655",
         "0.089412466",
         "-0.021915838",
         "-0.018114882",
         "-0.1379909",
         "-0.050288618",
         "-0.0046616555",
         "0.021236729",
         "-0.087588064",
         "-0.03704511",
         "0.085795045",
         "0.031222457",
         "0.026076093",
         "0.078896955",
         "0.03191173",
         "-0.0791311",
         "0.049842875",
         "-0.05127838",
         "-0.0002759468",
         "-0.043777045",
         "0.0045259986",
         "0.043964006",
         "-0.043302488",
         "0.06491982",
         "0.11469358",
         "0.036328245",
         "-0.10976349",
         "-0.08073833",
         "0.08515136",
         "-0.10429359",
         "-0.028482938",
         "0.088733986",
         "-0.012531237",
         "0.06610856",
         "0.10550563",
         "0.03162252",
         "0.05336301",
         "-0.085159615",
         "0.08432685",
         "0.041031767",
         "-0.17818856",
         "-0.19476673",
         "0.10247031",
         "0.08603109",
         "-0.0059857634",
         "-0.0014152875",
         "0.17097317",
         "-0.03270929",
         "-0.028278613",
         "-0.012024375",
         "0.016485171",
         "0.13709676",
         "0.06916906",
         "-0.13703842",
         "-0.10149625",
         "0.08921883",
         "-0.038658082",
         "-0.055576373",
         "0.024632212",
         "-0.0021587105",
         "0.071003474",
         "0.01994004",
         "-0.016552066",
         "-0.0746727",
         "-0.08850458",
         "-0.15758069",
         "0.016917141",
         "-0.14295405",
         "-0.00705363",
         "-0.097055666",
         "-0.14641085",
         "0.004688367",
         "0.010338391",
         "0.01689873",
         "0.00998051",
         "-0.16746566",
         "-0.0646082",
         "0.061710622",
         "-0.090277344",
         "-0.05651603",
         "0.1092891",
         "0.0840114",
         "0.08262547",
         "-0.0467224",
         "-0.0039580837",
         "-0.054701045",
         "-0.14981022",
         "0.021295775",
         "-0.027473886",
         "0.011857408",
         "0.043143444",
         "0.03612652",
         "0.010360105",
         "0.10887807",
         "0.05549599",
         "0.11509163",
         "0.03474457",
         "-0.077898085",
         "-0.029408516",
         "-0.06828323",
         "0.042451497",
         "0.018540824",
         "-0.008621722",
         "0.10769643",
         "-5.923169",
         "-0.002333687",
         "0.09922679",
         "-0.05175072",
         "0.106593564",
         "0.03721851",
         "0.028069455",
         "0.04527141",
         "0.16454022",
         "0.05726575",
         "0.08296122",
         "0.020939134",
         "-0.035551436",
         "-0.09697567",
         "0.016595438",
         "-0.061875165",
         "0.054039497",
         "0.071270294",
         "0.058376536",
         "-0.009112589",
         "-0.068815626",
         "-0.027886426",
         "0.024461059",
         "0.16529708",
         "-0.015749577",
         "-0.11162515",
         "0.06501717",
         "-0.048199683",
         "0.022905182",
         "0.087357",
         "0.06716584",
         "0.0832016",
         "-0.054884262",
         "0.11037316",
         "0.10084875",
         "0.14343838",
         "-0.063282505",
         "0.0316228",
         "0.10391738",
         "0.017432146",
         "0.12821639",
         "-0.04986932",
         "0.022922438",
         "0.015808947",
         "0.01416528",
         "-0.035886757",
         "-0.082804345",
         "0.016727686",
         "-0.03328805",
         "-0.026663981",
         "0.0016088823",
         "-0.1236229",
         "0.013823405",
         "-0.01985452",
         "-0.021142313",
         "-0.01454967",
         "-0.027240692",
         "0.0919394",
         "0.05962893",
         "0.06724229",
         "-0.01596737",
         "0.029171044",
         "-0.053226497",
         "-0.0049657724",
         "0.008181397",
         "0.0028780242",
         "-0.063820645",
         "-0.12883867",
         "0.025574472",
         "0.06673172",
         "0.14223886",
         "-0.046292476",
         "-0.018525437",
         "0.1905604",
         "0.075554155",
         "-0.015333526",
         "-0.024580486",
         "-0.06232095",
         "0.11860843",
         "0.020652764",
         "-0.11193927",
         "0.08045883",
         "-0.08395844",
         "0.06641014",
         "0.057823457",
         "0.0009028004",
         "0.07939559",
         "0.060172755",
         "-0.02363947",
         "0.060829673",
         "0.12995188",
         "0.104913",
         "0.12273545",
         "-0.048067477",
         "0.13666305",
         "-0.005843768",
         "-0.11058309",
         "-0.057491865",
         "0.10817834",
         "0.0841143",
         "0.068236746",
         "0.049681924",
         "0.043499675",
         "0.10734536",
         "0.13585402",
         "0.04064772",
         "0.03169117",
         "0.027568838",
         "-0.009850805",
         "-0.049269505",
         "0.04129388",
         "-0.03979279",
         "-0.1230441",
         "0.044902813",
         "0.042829882",
         "-0.048775636",
         "0.00026421298",
         "-0.12155871",
         "0.05612994",
         "0.064332455"
        ],
        [
         "2",
         "ENSP00000427567",
         "0.027024822",
         "-0.11566287",
         "-0.0064273058",
         "0.07944956",
         "-0.014167218",
         "-0.08708973",
         "0.043267794",
         "0.05481328",
         "0.1203894",
         "0.110034525",
         "0.05842488",
         "-0.012707884",
         "0.11868606",
         "-0.02436963",
         "0.07892686",
         "0.06617378",
         "0.060654435",
         "0.066050254",
         "-0.035024654",
         "0.09569857",
         "0.024463067",
         "-0.030730613",
         "0.07266115",
         "0.018698258",
         "0.12202907",
         "0.059940513",
         "-0.007991668",
         "-0.13471302",
         "-0.06807313",
         "-0.014678933",
         "-0.08003406",
         "0.1353885",
         "0.014612343",
         "0.02565734",
         "0.07727125",
         "0.13688603",
         "-0.04025635",
         "-0.054695755",
         "0.07033132",
         "-0.057416357",
         "-0.027738228",
         "0.048402775",
         "0.09497234",
         "-0.005222436",
         "0.039199896",
         "-0.005910595",
         "0.034018103",
         "0.10488352",
         "-0.06097248",
         "-0.080273814",
         "0.028383646",
         "-0.015758146",
         "0.144472",
         "-0.01830936",
         "0.021097345",
         "0.04405304",
         "0.050634306",
         "0.02128431",
         "0.071351744",
         "-0.03813057",
         "-0.1473147",
         "0.041351102",
         "0.023965282",
         "-0.08819236",
         "0.055182807",
         "-0.041855525",
         "0.021738153",
         "-0.011933091",
         "0.050352328",
         "0.054307785",
         "0.057255108",
         "-0.028805204",
         "-0.0726535",
         "-0.05949239",
         "-0.030255271",
         "0.08511946",
         "-0.04867991",
         "0.095251046",
         "-0.084948204",
         "-0.0119243525",
         "0.009953546",
         "0.0567362",
         "6.09899e-05",
         "0.0712164",
         "0.034382142",
         "-0.12546974",
         "-0.020954998",
         "0.05275839",
         "0.13840693",
         "0.082163595",
         "-0.038523246",
         "-0.025255788",
         "-0.08071999",
         "0.055761825",
         "0.03547972",
         "0.014965735",
         "-0.046620633",
         "-0.033765737",
         "0.06960361",
         "-0.089111805",
         "-0.071741626",
         "-0.03359268",
         "-0.035995387",
         "-0.1275885",
         "-0.057154175",
         "-0.066602",
         "-0.0766982",
         "0.16280854",
         "0.027087756",
         "-0.08485532",
         "0.015198233",
         "0.015328525",
         "0.054113846",
         "0.023100305",
         "-0.061833296",
         "-0.011802178",
         "-0.0024921305",
         "0.09064152",
         "-0.014381429",
         "0.015679302",
         "-0.05990073",
         "-0.02081854",
         "0.07417941",
         "-0.011052225",
         "-0.04769929",
         "0.07739676",
         "0.114214934",
         "0.08618585",
         "0.009943222",
         "0.0005021989",
         "-0.05555172",
         "0.03380917",
         "-0.058926597",
         "-0.005777457",
         "0.059727646",
         "0.06455714",
         "0.047192454",
         "0.018691545",
         "-0.08777279",
         "-0.04885263",
         "-0.020268762",
         "-0.07931976",
         "-0.005416005",
         "-0.09185207",
         "0.0020593007",
         "0.11803921",
         "0.018980531",
         "-0.018695977",
         "-0.055419512",
         "-0.040095653",
         "-0.09361139",
         "-0.067320205",
         "-0.024827374",
         "-0.039055467",
         "-0.004144887",
         "-0.0022363262",
         "0.1739375",
         "0.07525376",
         "0.062384237",
         "0.004121102",
         "-0.07771447",
         "0.043415144",
         "0.002101391",
         "-0.058885206",
         "-0.034453277",
         "0.007441403",
         "-0.02481548",
         "-0.04042675",
         "0.12281754",
         "-0.08199143",
         "-0.052906115",
         "0.055488378",
         "0.09052947",
         "0.03728766",
         "0.03025769",
         "-0.11371868",
         "-0.034098253",
         "-0.053982966",
         "-0.011669732",
         "-0.01660542",
         "0.013922415",
         "0.06532539",
         "0.11378988",
         "0.055988386",
         "-0.04000244",
         "0.046657644",
         "0.021142941",
         "-0.04237683",
         "0.061746486",
         "-0.015172712",
         "-0.052966557",
         "0.11261062",
         "0.009209546",
         "-0.03540451",
         "0.10997595",
         "0.021663347",
         "0.0043888404",
         "0.09069106",
         "-0.12195998",
         "-0.016929232",
         "0.022514265",
         "0.04780662",
         "-0.020147026",
         "-0.0017512164",
         "-0.029628098",
         "0.04914187",
         "0.0034370285",
         "0.02761972",
         "-0.02740472",
         "-0.07020291",
         "-0.0076295645",
         "0.008601595",
         "0.05153975",
         "0.08634583",
         "0.05111233",
         "0.0283862",
         "-0.11026376",
         "0.02416349",
         "0.02579106",
         "0.041659646",
         "0.10056118",
         "-0.011488582",
         "-0.021041948",
         "0.0053470694",
         "0.08144376",
         "-0.03996378",
         "0.047055803",
         "-0.044243135",
         "-0.073138095",
         "-0.0062524467",
         "0.0785946",
         "-0.13715793",
         "0.02014843",
         "-0.03067426",
         "-3.4396188",
         "-0.017647095",
         "0.13600092",
         "0.03181278",
         "-0.108566985",
         "-0.022647427",
         "-0.06730177",
         "0.035116594",
         "-0.07191682",
         "0.048196476",
         "0.040768623",
         "-0.009141466",
         "0.0403312",
         "0.023833584",
         "0.006517249",
         "0.07459134",
         "0.048460815",
         "0.008964717",
         "0.046344437",
         "-0.058067113",
         "0.09257503",
         "0.057730794",
         "-0.04246889",
         "0.093561485",
         "0.04261104",
         "-0.017479142",
         "0.008869718",
         "0.022629747",
         "0.036825348",
         "-0.024968551",
         "-0.051060695",
         "-0.020614374",
         "-0.042118963",
         "-0.04419273",
         "0.047199816",
         "0.012987452",
         "0.040548563",
         "0.023091618",
         "0.06660986",
         "0.060455658",
         "-0.085189715",
         "0.07859647",
         "-0.0099142585",
         "0.023259027",
         "-0.07604668",
         "-0.002009529",
         "0.07933351",
         "-0.056790818",
         "0.08271438",
         "0.055529475",
         "0.03474369",
         "-0.041003898",
         "0.10795357",
         "0.058428396",
         "0.007538758",
         "0.099521704",
         "-0.0019839462",
         "0.047127925",
         "-0.089317635",
         "-0.039826993",
         "0.005698015",
         "0.055454507",
         "-0.09424231",
         "0.080839515",
         "-0.050687037",
         "-0.049431384",
         "0.118019626",
         "0.050694566",
         "-0.0450582",
         "0.01737091",
         "0.10631391",
         "0.035934575",
         "0.018931303",
         "-0.036828086",
         "-0.06910914",
         "0.042088836",
         "-0.046754267",
         "-0.053797815",
         "0.08530593",
         "-0.03693712",
         "-0.0562328",
         "-0.01845611",
         "-0.039913986",
         "-0.0015973315",
         "-0.062394362",
         "-0.13622321",
         "0.100892805",
         "-0.028143398",
         "-0.011399299",
         "-0.01749771",
         "0.03868583",
         "0.07597424",
         "0.13902627",
         "0.019473346",
         "-0.054567564",
         "-0.018454967",
         "0.030652773",
         "-0.08309375",
         "0.08212935",
         "-0.013080009",
         "-0.10194767",
         "0.07417202",
         "0.023833996",
         "0.12995808",
         "-0.009104612",
         "0.008070022",
         "0.003990256",
         "-0.0659017",
         "-0.043411188",
         "-0.08999417",
         "0.014682341",
         "-0.0809412",
         "-0.02300345",
         "0.07529399",
         "-0.028989526",
         "0.03106508",
         "0.01739906",
         "0.00087918644",
         "-0.05242879",
         "-0.073968485",
         "0.13561161",
         "-0.028306263",
         "-0.022921117",
         "-0.0539324",
         "-0.0725145",
         "0.13203056",
         "0.01026478",
         "0.01953714",
         "0.05259525",
         "0.023933768",
         "-0.02840363",
         "0.058509946",
         "0.019905057",
         "0.0058037587",
         "0.05674566",
         "-0.003224254",
         "0.035478532",
         "0.12715071",
         "-0.058770053",
         "-0.072571166",
         "0.026253695",
         "0.18437715",
         "0.030163513",
         "0.11942284",
         "0.038299106",
         "0.056197327",
         "0.020364534",
         "-0.12152599",
         "0.022149181",
         "0.015900554",
         "0.10864363",
         "-0.03561472",
         "-0.08330559",
         "-0.0006903439",
         "-0.0012525616",
         "-0.0026016776",
         "-0.03651992",
         "-0.004249622",
         "-0.026872661",
         "-0.037876382",
         "-0.071592234",
         "-0.10683831",
         "0.024742799",
         "-0.01085962",
         "0.04658493",
         "-0.014909263",
         "0.036749538",
         "0.07558047",
         "-0.022778498",
         "0.05104743",
         "-0.03606053",
         "0.06372853",
         "-0.002303533",
         "-0.0034339156",
         "-0.029313795",
         "0.0049358695",
         "0.053491708",
         "-0.08585261",
         "-0.0038258492",
         "-0.0068903873",
         "0.009538325",
         "-0.007506419",
         "0.12357589",
         "0.008772658",
         "0.14150493",
         "0.0006676294",
         "-0.06057883",
         "0.087015755",
         "0.046954766",
         "-0.004933321",
         "0.0444938",
         "-0.006684092",
         "0.09347753",
         "-0.045195255",
         "0.15248239",
         "-0.03825019",
         "-0.029908812",
         "-0.044062823",
         "-0.036183335",
         "-0.022311242",
         "-0.044394534",
         "0.016966106",
         "-0.011298495",
         "-0.09286637",
         "-0.013464183",
         "0.011908622",
         "-0.028264517",
         "-0.0047641275",
         "0.0004551042",
         "-0.16574067",
         "0.03174964",
         "-0.055768654",
         "0.0013527583",
         "0.044064213",
         "0.021164276",
         "-0.08401286",
         "0.035077047",
         "0.052589104",
         "0.010507459",
         "-0.08466912",
         "0.030926276",
         "-0.012221203",
         "0.07643934",
         "0.0056932434",
         "-0.07533125",
         "0.046329863",
         "0.120803185",
         "0.028008359",
         "0.057570748",
         "-0.008551217",
         "0.0583251",
         "-0.05629666",
         "-0.058624182",
         "0.106944874",
         "0.05804736",
         "0.10229016",
         "-0.098965876",
         "0.042286113",
         "0.047310524",
         "-0.029894475",
         "-0.018876353",
         "0.06562452",
         "-0.018116232",
         "0.03380097",
         "-0.0070737503",
         "-0.04284581",
         "0.0150145",
         "-0.043752894",
         "0.0173477",
         "-0.037517406",
         "0.020292692",
         "0.077544816",
         "0.07023695",
         "-0.035549574",
         "0.049465496",
         "0.06545384",
         "-0.050890237",
         "-0.005261453",
         "-0.009572511",
         "0.04746998",
         "-0.06572819",
         "0.00023964846",
         "0.03096994",
         "-0.0031754172",
         "-0.05628256",
         "-0.084000684",
         "-0.057025395",
         "-0.021540198",
         "-0.02641949",
         "-0.0048258817",
         "0.08458024",
         "0.074257955",
         "0.011203497",
         "0.14840667",
         "-0.055169944",
         "-0.052352186",
         "0.037415218",
         "-0.015087789",
         "0.039538138",
         "-0.096007526",
         "0.087211914",
         "-0.016516788",
         "0.023177726",
         "-0.12837705",
         "0.015528181",
         "-0.032592557",
         "0.121090114",
         "-0.023044892",
         "-0.08497275",
         "-0.036437918",
         "-0.06283949",
         "-0.10336448",
         "0.10598725",
         "0.012763369",
         "0.050099988",
         "0.0449669",
         "-0.084523864",
         "0.06310849",
         "-0.05559394",
         "-0.08144387",
         "-0.07059104",
         "-0.089120835",
         "-0.061597984",
         "0.017617967",
         "-0.04375339",
         "0.009101612",
         "-0.10817971",
         "0.060339108",
         "-0.069393374",
         "0.06489585",
         "-0.005167472",
         "0.054329365",
         "-0.003875655",
         "-0.0934536",
         "-0.0042306376",
         "0.01981546",
         "0.08040845",
         "-0.086712696",
         "-0.059698127",
         "0.053458646",
         "0.04319789",
         "-0.16112103",
         "-0.22240849",
         "0.012147885",
         "-0.000633654",
         "0.08011709",
         "-0.018242588",
         "-0.061755028",
         "0.0020630513",
         "0.08601403",
         "0.17660157",
         "-0.03749704",
         "0.013361109",
         "-0.05142218",
         "0.05856197",
         "-0.14485629",
         "-0.12042931",
         "0.09808521",
         "0.03637102",
         "0.07664219",
         "-0.0335735",
         "0.056977022",
         "0.024450023",
         "-0.010926323",
         "0.059816767",
         "0.08801216",
         "0.022630053",
         "-0.031986795",
         "0.10612769",
         "0.09206411",
         "0.098734945",
         "0.018597348",
         "0.018097019",
         "0.044042584",
         "0.07261747",
         "-0.053096388",
         "-0.0012599488",
         "-0.056059446",
         "-0.025085945",
         "0.025826553",
         "-0.0077068894",
         "-0.052937176",
         "-0.01505591",
         "-0.007375214",
         "0.006224702",
         "-0.07463938",
         "-0.081847146",
         "0.004510046",
         "0.075466946",
         "-0.0052595558",
         "-0.07556446",
         "0.093905546",
         "-0.009274104",
         "0.05726068",
         "-0.06592527",
         "0.114438966",
         "-0.017840393",
         "0.08218937",
         "0.062962465",
         "0.031298768",
         "-0.014763785",
         "0.10956478",
         "-0.01903385",
         "-0.071009256",
         "0.0441266",
         "-0.08525167",
         "-0.04344941",
         "-0.007071705",
         "-0.0028662388",
         "0.10713427",
         "-0.072842084",
         "-0.044962652",
         "0.022692887",
         "-0.035518937",
         "-0.0193956",
         "-0.053526286",
         "0.0100119505",
         "-0.01854518",
         "0.14656092",
         "0.006353531",
         "-0.0083070565",
         "-0.06880213",
         "0.043960825",
         "0.046838406",
         "-0.084415",
         "-0.12076902",
         "-0.0020373743",
         "-0.053877693",
         "0.07341895",
         "0.09778708",
         "-0.04725464",
         "-0.07069561",
         "0.089310065",
         "0.05446367",
         "0.0023381952",
         "-0.0010278595",
         "0.0630057",
         "0.049370967",
         "0.02934608",
         "-0.04677931",
         "0.05378384",
         "0.044173654",
         "0.12245874",
         "0.04613945",
         "0.029446749",
         "0.11379597",
         "-0.02219316",
         "0.027007077",
         "0.02260335",
         "-0.05980693",
         "0.06508121",
         "0.025822155",
         "-0.044532403",
         "0.0025305385",
         "-0.0028820839",
         "-0.07240852",
         "-0.031082153",
         "-0.050096866",
         "0.024718303",
         "-0.005700561",
         "0.016873566",
         "-0.023702169",
         "0.040815543",
         "-0.0038710542",
         "0.04098301",
         "-0.09296932",
         "0.018637039",
         "-0.0479146",
         "-0.06302433",
         "0.15755846",
         "-0.02242046",
         "-0.070376754",
         "0.036204547",
         "0.038854808",
         "0.0013529218",
         "-0.0023643912",
         "0.37627962",
         "0.012902607",
         "-0.09615013",
         "0.0691186",
         "-0.026073769",
         "0.06670138",
         "0.12334555",
         "-0.050947618",
         "-0.019475471",
         "-0.082431935",
         "0.18643197",
         "0.051639043",
         "0.10133862",
         "0.032976177",
         "-0.029634561",
         "-0.024853785",
         "0.016590586",
         "-0.080167204",
         "-0.02646102",
         "0.060074538",
         "0.005387803",
         "-0.093388066",
         "0.09220638",
         "0.0023424246",
         "0.06578422",
         "0.050669346",
         "0.05344626",
         "0.12890388",
         "-0.04765676",
         "0.030687757",
         "-0.03461864",
         "0.002947059",
         "0.052391402",
         "-0.020359794",
         "-0.0069155986",
         "-0.010452022",
         "0.09197272",
         "0.14930922",
         "0.043338478",
         "0.07214549",
         "0.0074005835",
         "-0.015979407",
         "0.09700075",
         "0.027272427",
         "0.06838924",
         "0.117000766",
         "0.80530024",
         "0.06105449",
         "-0.022268366",
         "-0.0336173",
         "-0.0481116",
         "0.07099176",
         "0.017293785",
         "-0.011465662",
         "-0.012956856",
         "-0.16831714",
         "-0.059982654",
         "0.01278442",
         "0.0487209",
         "0.017548084",
         "-0.08560575",
         "0.11863228",
         "-0.0120382",
         "-0.016959213",
         "0.051222246",
         "-0.028328173",
         "0.049375515",
         "-0.0046734307",
         "-0.029967625",
         "-0.080029614",
         "-0.040609144",
         "0.031213177",
         "0.082803674",
         "0.055419177",
         "0.00058863097",
         "0.064631425",
         "0.012194972",
         "0.016708724",
         "-0.09653494",
         "0.026740951",
         "0.034608245",
         "0.111397296",
         "-0.11488564",
         "-0.033856064",
         "0.0151101705",
         "0.011365248",
         "-0.037472196",
         "-0.062656544",
         "0.059919965",
         "-0.030823288",
         "-0.1298",
         "-0.0008576143",
         "-0.018092414",
         "-0.014896662",
         "-0.017111106",
         "-0.04563544",
         "0.17895779",
         "-0.033840172",
         "-0.09390693",
         "-0.05605598",
         "0.03069786",
         "-0.015370807",
         "-0.03745988",
         "0.12899415",
         "0.02781711",
         "-0.039534815",
         "0.00048516176",
         "-0.046072904",
         "-0.076532274",
         "-0.025900343",
         "-0.07215591",
         "-0.001588931",
         "-0.020545661",
         "-0.016649457",
         "0.04052025",
         "0.055642214",
         "0.024603352",
         "-0.07820049",
         "-0.00569835",
         "0.026027806",
         "0.14284074",
         "-0.14104868",
         "0.1355817",
         "0.046165287",
         "0.017136281",
         "-0.10153796",
         "0.04090801",
         "-0.061040785",
         "0.090898395",
         "-0.1258602",
         "0.14704973",
         "-0.004732713",
         "-0.0011890471",
         "0.09896268",
         "0.02487815",
         "0.00072482676",
         "-0.02264476",
         "-0.0649605",
         "0.05880354",
         "0.0034873295",
         "-0.08258076",
         "-0.11973786",
         "-0.0018886144",
         "0.13731484",
         "-0.035887387",
         "0.042020287",
         "0.15731958",
         "0.05655602",
         "0.005617849",
         "0.03570706",
         "-0.15087375",
         "0.08507977",
         "-0.08008135",
         "0.06590916",
         "-0.104812615",
         "0.10892277",
         "-0.0102832",
         "0.035819784",
         "0.091454305",
         "-0.067804955",
         "0.06513258",
         "-0.06835157",
         "0.031733572",
         "0.00397174",
         "0.022904387",
         "-0.11444686",
         "0.051988017",
         "0.03845168",
         "0.06459534",
         "0.091749005",
         "-0.076723464",
         "0.029623486",
         "-0.0025199438",
         "-0.04148991",
         "0.06971097",
         "0.011328943",
         "0.047347236",
         "0.0037480996",
         "-0.056327663",
         "-0.034510657",
         "-0.018585585",
         "-0.0336834",
         "0.10542796",
         "0.05095239",
         "0.08838979",
         "0.06678204",
         "0.11947314",
         "-0.0051363003",
         "0.006229155",
         "0.04418026",
         "0.091127634",
         "0.037707843",
         "-0.014901416",
         "-0.09303719",
         "0.09044164",
         "0.0028973904",
         "0.037418216",
         "-0.16615878",
         "-0.082112946",
         "0.085218556",
         "-0.0070778797",
         "-0.030725278",
         "-0.028574785",
         "0.009654833",
         "-0.13746274",
         "-0.031197561",
         "0.10335398",
         "0.023184948",
         "-0.046027344",
         "0.07040289",
         "-0.022953521",
         "-0.09466599",
         "0.00046623775",
         "0.018449578",
         "0.020935832",
         "0.05954294",
         "0.07553601",
         "0.05639433",
         "-0.0025706273",
         "-0.10666361",
         "-0.019514842",
         "-0.061822977",
         "-0.08179896",
         "-0.06427165",
         "-0.016788658",
         "0.050257813",
         "-0.0383301",
         "-0.012796505",
         "-0.081572846",
         "0.048155252",
         "-0.02946963",
         "0.024082065",
         "0.07126322",
         "0.089868255",
         "-0.054573387",
         "0.026098968",
         "-0.002164748",
         "-0.023932029",
         "-0.08467182",
         "0.101285286",
         "0.0049334206",
         "-0.058456868",
         "-0.013122322",
         "-0.17475241",
         "-0.04641862",
         "-0.06304318",
         "0.10627791",
         "0.05912538",
         "-0.060193833",
         "0.019118208",
         "0.01524615",
         "-0.0010046199",
         "0.0475513",
         "0.039076656",
         "0.08379512",
         "0.08586051",
         "0.09917725",
         "-0.0069315946",
         "0.01129337",
         "-0.05458201",
         "0.06303952",
         "0.03659613",
         "0.15984859",
         "0.05980554",
         "0.0530301",
         "-0.105885275",
         "0.008671205",
         "0.02177966",
         "-0.0698386",
         "-0.0030114593",
         "-0.03450551",
         "0.0087908",
         "-0.09216202",
         "0.007958913",
         "0.023769483",
         "0.11676682",
         "-0.0029650258",
         "0.05743854",
         "0.024505218",
         "-0.0878834",
         "-0.02205091",
         "0.054186683",
         "0.13238165",
         "-0.0024927573",
         "0.09840638",
         "-0.015674205",
         "0.04572811",
         "-0.041569404",
         "-0.04308635",
         "0.022365447",
         "0.12350223",
         "-0.028236425",
         "0.024357945",
         "-0.039085727",
         "-0.06547555",
         "0.018925324",
         "-0.06275998",
         "-0.04734643",
         "-0.14655645",
         "0.11667842",
         "0.01054034",
         "-0.062605284",
         "0.09494957",
         "0.044047605",
         "-0.06317555",
         "0.04340254",
         "0.019867903",
         "-0.07665956",
         "0.12614137",
         "-0.05513933",
         "-0.12836461",
         "0.0123239765",
         "0.047462963",
         "0.00014849033",
         "-0.023782065",
         "-0.0072731166",
         "-0.002999862",
         "0.09515835",
         "0.008564194",
         "0.012865176",
         "0.068294324",
         "0.0026119677",
         "0.056136042",
         "-0.010442936",
         "0.05809784",
         "0.03962654",
         "-0.041761972",
         "0.037965316",
         "-0.03685129",
         "0.017992651",
         "0.00965671",
         "0.07138476",
         "0.03759608",
         "0.10093705",
         "0.13319014",
         "-0.04371134",
         "-0.058958687",
         "-0.066043675",
         "-0.014914869",
         "0.07861614",
         "-0.11265506",
         "0.015888752",
         "0.04219551",
         "0.12705396",
         "-0.0116428295",
         "0.09359261",
         "0.08364159",
         "-0.111338966",
         "-0.032326207",
         "-0.03848716",
         "0.05925085",
         "0.052546598",
         "0.07663325",
         "0.08858127",
         "0.06538506",
         "-0.071190074",
         "-0.03474474",
         "0.11425365",
         "0.028171388",
         "-0.09398975",
         "0.081660695",
         "-0.07669765",
         "0.0070118345",
         "-0.009991699",
         "0.011691394",
         "0.08883757",
         "-0.035802845",
         "0.049962614",
         "0.008093374",
         "-0.028371911",
         "-0.0112364255",
         "-0.0391642",
         "0.00086059986",
         "-0.031363554",
         "-0.08922617",
         "0.027517479",
         "0.0145607125",
         "0.032153223",
         "-0.0217304",
         "0.031119796",
         "0.018367967",
         "-0.06408922",
         "-0.053678174",
         "0.004438907",
         "-0.03324321",
         "-0.07575838",
         "-0.01576376",
         "0.026774975",
         "-0.11045186",
         "0.09381757",
         "0.1575804",
         "0.111711495",
         "-0.024887398",
         "-0.14272392",
         "0.0373068",
         "0.030108845",
         "0.052478515",
         "0.05929999",
         "0.11907443",
         "0.0879037",
         "0.019673971",
         "0.03861947",
         "0.007751656",
         "-0.099367805",
         "0.029289115",
         "0.15065174",
         "-0.12491971",
         "-0.09242971",
         "1.1508945e-05",
         "0.08072179",
         "-0.03234542",
         "-0.018684981",
         "0.1239004",
         "0.041723166",
         "0.097277366",
         "0.009071012",
         "0.011807315",
         "0.13980946",
         "0.11354663",
         "-0.037359353",
         "-0.031721253",
         "0.046728317",
         "-0.05833738",
         "-6.3141265e-06",
         "0.02781053",
         "-0.029979087",
         "0.01230903",
         "-0.005492506",
         "-0.03971913",
         "-0.037595373",
         "-0.0648325",
         "-0.08518466",
         "-0.04085184",
         "-0.12530217",
         "-0.13182473",
         "0.001852315",
         "-0.09641887",
         "-0.06949413",
         "0.018286562",
         "0.045900792",
         "0.06700285",
         "-0.0998321",
         "-0.020370707",
         "0.042115588",
         "-0.08387413",
         "-0.14433637",
         "0.050568882",
         "0.015455005",
         "0.15253542",
         "0.036872588",
         "-0.07961782",
         "0.042412926",
         "-0.08796344",
         "0.023811195",
         "-0.055039804",
         "-0.004544975",
         "0.07228405",
         "0.058651656",
         "-0.0063699423",
         "0.019268325",
         "-0.016769545",
         "0.17380475",
         "0.08725014",
         "0.020168602",
         "-0.019787448",
         "-0.06000198",
         "0.04058387",
         "0.014800761",
         "-0.03568097",
         "0.07207013",
         "-7.272823",
         "-0.017240107",
         "0.060813025",
         "-0.07251176",
         "0.10830415",
         "0.0621217",
         "0.046136744",
         "0.0070023537",
         "0.1014949",
         "0.10265559",
         "-0.01379737",
         "0.07861521",
         "-0.03366837",
         "-0.06536044",
         "-0.10061796",
         "-0.015982077",
         "0.11550545",
         "0.08966772",
         "0.04174021",
         "-0.02086748",
         "-0.05580083",
         "0.016556425",
         "0.024132285",
         "0.051198643",
         "-0.051417828",
         "-0.12547207",
         "-0.0066373474",
         "-0.06403861",
         "-0.016438147",
         "0.06028943",
         "0.008361325",
         "0.16205646",
         "-0.04926026",
         "0.06821082",
         "0.032087203",
         "0.12722625",
         "-0.017583538",
         "0.017803337",
         "0.0034305467",
         "-0.019347234",
         "0.14757518",
         "-0.014983054",
         "-0.061664943",
         "-0.0334797",
         "-0.046906974",
         "-0.039960563",
         "-0.042600986",
         "0.018655661",
         "-0.099538185",
         "0.036226965",
         "0.025681917",
         "0.030808935",
         "0.023075439",
         "-0.007034926",
         "-0.009423492",
         "0.06590927",
         "-0.0029490693",
         "0.14157851",
         "0.018528536",
         "-0.054495264",
         "-0.06850708",
         "0.013951035",
         "0.029909749",
         "0.033936344",
         "-0.044532973",
         "0.009225545",
         "-0.036908392",
         "-0.10871447",
         "0.0057114074",
         "-0.0011705774",
         "0.13475893",
         "-0.070952155",
         "-0.001910546",
         "0.1401632",
         "0.027168203",
         "-0.03227092",
         "-0.0516325",
         "-0.112042494",
         "0.05141939",
         "-0.018362243",
         "-0.037057385",
         "0.08830599",
         "-0.10218787",
         "0.009343458",
         "-0.004338208",
         "0.009289603",
         "0.018625744",
         "0.07694775",
         "-0.023931239",
         "-0.047333244",
         "0.0794484",
         "0.04958394",
         "0.02323792",
         "-0.026587086",
         "0.07290869",
         "0.010010279",
         "-0.09311123",
         "-0.03138279",
         "-0.051995948",
         "-0.009976203",
         "0.06069318",
         "0.0286963",
         "0.07496755",
         "0.09795096",
         "0.029976372",
         "0.033263616",
         "0.03174747",
         "-0.043219265",
         "-0.05470884",
         "-0.013017269",
         "0.04887282",
         "0.054569177",
         "-0.17188781",
         "-0.012600827",
         "-0.001363788",
         "-0.016462961",
         "0.007595899",
         "-0.052450895",
         "0.049266",
         "0.029993199"
        ]
       ],
       "shape": {
        "columns": 1281,
        "rows": 3
       }
      },
      "text/html": [
       "<div>\n",
       "<style scoped>\n",
       "    .dataframe tbody tr th:only-of-type {\n",
       "        vertical-align: middle;\n",
       "    }\n",
       "\n",
       "    .dataframe tbody tr th {\n",
       "        vertical-align: top;\n",
       "    }\n",
       "\n",
       "    .dataframe thead th {\n",
       "        text-align: right;\n",
       "    }\n",
       "</style>\n",
       "<table border=\"1\" class=\"dataframe\">\n",
       "  <thead>\n",
       "    <tr style=\"text-align: right;\">\n",
       "      <th></th>\n",
       "      <th>string_id</th>\n",
       "      <th>dim_0</th>\n",
       "      <th>dim_1</th>\n",
       "      <th>dim_2</th>\n",
       "      <th>dim_3</th>\n",
       "      <th>dim_4</th>\n",
       "      <th>dim_5</th>\n",
       "      <th>dim_6</th>\n",
       "      <th>dim_7</th>\n",
       "      <th>dim_8</th>\n",
       "      <th>...</th>\n",
       "      <th>dim_1270</th>\n",
       "      <th>dim_1271</th>\n",
       "      <th>dim_1272</th>\n",
       "      <th>dim_1273</th>\n",
       "      <th>dim_1274</th>\n",
       "      <th>dim_1275</th>\n",
       "      <th>dim_1276</th>\n",
       "      <th>dim_1277</th>\n",
       "      <th>dim_1278</th>\n",
       "      <th>dim_1279</th>\n",
       "    </tr>\n",
       "  </thead>\n",
       "  <tbody>\n",
       "    <tr>\n",
       "      <th>0</th>\n",
       "      <td>ENSP00000000233</td>\n",
       "      <td>-0.005824</td>\n",
       "      <td>-0.032058</td>\n",
       "      <td>-0.055528</td>\n",
       "      <td>0.056503</td>\n",
       "      <td>-0.032811</td>\n",
       "      <td>-0.13565</td>\n",
       "      <td>0.088624</td>\n",
       "      <td>-0.099614</td>\n",
       "      <td>-0.095221</td>\n",
       "      <td>...</td>\n",
       "      <td>-0.003086</td>\n",
       "      <td>-0.085380</td>\n",
       "      <td>-0.038360</td>\n",
       "      <td>-0.009561</td>\n",
       "      <td>-0.024197</td>\n",
       "      <td>0.013264</td>\n",
       "      <td>0.006275</td>\n",
       "      <td>-0.169327</td>\n",
       "      <td>-0.018693</td>\n",
       "      <td>0.095626</td>\n",
       "    </tr>\n",
       "    <tr>\n",
       "      <th>1</th>\n",
       "      <td>ENSP00000356607</td>\n",
       "      <td>0.004694</td>\n",
       "      <td>-0.001243</td>\n",
       "      <td>-0.029769</td>\n",
       "      <td>0.105789</td>\n",
       "      <td>-0.152355</td>\n",
       "      <td>-0.04710</td>\n",
       "      <td>0.091681</td>\n",
       "      <td>0.000737</td>\n",
       "      <td>0.032762</td>\n",
       "      <td>...</td>\n",
       "      <td>0.041294</td>\n",
       "      <td>-0.039793</td>\n",
       "      <td>-0.123044</td>\n",
       "      <td>0.044903</td>\n",
       "      <td>0.042830</td>\n",
       "      <td>-0.048776</td>\n",
       "      <td>0.000264</td>\n",
       "      <td>-0.121559</td>\n",
       "      <td>0.056130</td>\n",
       "      <td>0.064332</td>\n",
       "    </tr>\n",
       "    <tr>\n",
       "      <th>2</th>\n",
       "      <td>ENSP00000427567</td>\n",
       "      <td>0.027025</td>\n",
       "      <td>-0.115663</td>\n",
       "      <td>-0.006427</td>\n",
       "      <td>0.079450</td>\n",
       "      <td>-0.014167</td>\n",
       "      <td>-0.08709</td>\n",
       "      <td>0.043268</td>\n",
       "      <td>0.054813</td>\n",
       "      <td>0.120389</td>\n",
       "      <td>...</td>\n",
       "      <td>0.048873</td>\n",
       "      <td>0.054569</td>\n",
       "      <td>-0.171888</td>\n",
       "      <td>-0.012601</td>\n",
       "      <td>-0.001364</td>\n",
       "      <td>-0.016463</td>\n",
       "      <td>0.007596</td>\n",
       "      <td>-0.052451</td>\n",
       "      <td>0.049266</td>\n",
       "      <td>0.029993</td>\n",
       "    </tr>\n",
       "  </tbody>\n",
       "</table>\n",
       "<p>3 rows × 1281 columns</p>\n",
       "</div>"
      ],
      "text/plain": [
       "         string_id     dim_0     dim_1     dim_2     dim_3     dim_4    dim_5  \\\n",
       "0  ENSP00000000233 -0.005824 -0.032058 -0.055528  0.056503 -0.032811 -0.13565   \n",
       "1  ENSP00000356607  0.004694 -0.001243 -0.029769  0.105789 -0.152355 -0.04710   \n",
       "2  ENSP00000427567  0.027025 -0.115663 -0.006427  0.079450 -0.014167 -0.08709   \n",
       "\n",
       "      dim_6     dim_7     dim_8  ...  dim_1270  dim_1271  dim_1272  dim_1273  \\\n",
       "0  0.088624 -0.099614 -0.095221  ... -0.003086 -0.085380 -0.038360 -0.009561   \n",
       "1  0.091681  0.000737  0.032762  ...  0.041294 -0.039793 -0.123044  0.044903   \n",
       "2  0.043268  0.054813  0.120389  ...  0.048873  0.054569 -0.171888 -0.012601   \n",
       "\n",
       "   dim_1274  dim_1275  dim_1276  dim_1277  dim_1278  dim_1279  \n",
       "0 -0.024197  0.013264  0.006275 -0.169327 -0.018693  0.095626  \n",
       "1  0.042830 -0.048776  0.000264 -0.121559  0.056130  0.064332  \n",
       "2 -0.001364 -0.016463  0.007596 -0.052451  0.049266  0.029993  \n",
       "\n",
       "[3 rows x 1281 columns]"
      ]
     },
     "execution_count": 3,
     "metadata": {},
     "output_type": "execute_result"
    }
   ],
   "source": [
    "df.head(3)"
   ]
  },
  {
   "cell_type": "code",
   "execution_count": 5,
   "id": "92d2bb39",
   "metadata": {},
   "outputs": [],
   "source": [
    "df['string_id'] = '9606.' + df['string_id']"
   ]
  },
  {
   "cell_type": "code",
   "execution_count": 7,
   "id": "e6dc0e3b",
   "metadata": {},
   "outputs": [],
   "source": [
    "df.rename(columns=lambda x: x.replace('dim_', 'feature_') if x.startswith('dim_') else x, inplace=True)"
   ]
  },
  {
   "cell_type": "code",
   "execution_count": 10,
   "id": "c41fa850",
   "metadata": {},
   "outputs": [],
   "source": [
    "df.to_csv('/itf-fi-ml/shared/users/ziyuzh/svm/data/esmfold/esm2.csv',index=False)"
   ]
  },
  {
   "cell_type": "code",
   "execution_count": null,
   "id": "6f80f9c1",
   "metadata": {},
   "outputs": [],
   "source": []
  }
 ],
 "metadata": {
  "kernelspec": {
   "display_name": "new_esm_env",
   "language": "python",
   "name": "python3"
  },
  "language_info": {
   "codemirror_mode": {
    "name": "ipython",
    "version": 3
   },
   "file_extension": ".py",
   "mimetype": "text/x-python",
   "name": "python",
   "nbconvert_exporter": "python",
   "pygments_lexer": "ipython3",
   "version": "3.11.11"
  }
 },
 "nbformat": 4,
 "nbformat_minor": 5
}
