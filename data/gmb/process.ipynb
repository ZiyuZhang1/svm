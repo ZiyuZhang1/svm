{
 "cells": [
  {
   "cell_type": "code",
   "execution_count": 16,
   "metadata": {},
   "outputs": [],
   "source": [
    "import pandas as pd\n",
    "import numpy as np\n",
    "import os"
   ]
  },
  {
   "cell_type": "code",
   "execution_count": 4,
   "metadata": {},
   "outputs": [
    {
     "data": {
      "application/vnd.microsoft.datawrangler.viewer.v0+json": {
       "columns": [
        {
         "name": "index",
         "rawType": "int64",
         "type": "integer"
        },
        {
         "name": "gene_ID_1    ",
         "rawType": "int64",
         "type": "integer"
        },
        {
         "name": "gene_ID_2 ",
         "rawType": "int64",
         "type": "integer"
        },
        {
         "name": " gene_symbol_1 ",
         "rawType": "object",
         "type": "string"
        },
        {
         "name": " gene_symbol_2",
         "rawType": "object",
         "type": "string"
        },
        {
         "name": "  sources",
         "rawType": "object",
         "type": "string"
        }
       ],
       "conversionMethod": "pd.DataFrame",
       "ref": "c4814f0b-a7a2-4a03-a121-dd60a243d3aa",
       "rows": [
        [
         "0",
         "1",
         "310",
         "A1BG",
         "ANXA7",
         "signaling"
        ],
        [
         "1",
         "1",
         "1026",
         "A1BG",
         "CDKN1A",
         "signaling"
        ],
        [
         "2",
         "1",
         "2886",
         "A1BG",
         "GRB7",
         "signaling"
        ]
       ],
       "shape": {
        "columns": 5,
        "rows": 3
       }
      },
      "text/html": [
       "<div>\n",
       "<style scoped>\n",
       "    .dataframe tbody tr th:only-of-type {\n",
       "        vertical-align: middle;\n",
       "    }\n",
       "\n",
       "    .dataframe tbody tr th {\n",
       "        vertical-align: top;\n",
       "    }\n",
       "\n",
       "    .dataframe thead th {\n",
       "        text-align: right;\n",
       "    }\n",
       "</style>\n",
       "<table border=\"1\" class=\"dataframe\">\n",
       "  <thead>\n",
       "    <tr style=\"text-align: right;\">\n",
       "      <th></th>\n",
       "      <th>gene_ID_1</th>\n",
       "      <th>gene_ID_2</th>\n",
       "      <th>gene_symbol_1</th>\n",
       "      <th>gene_symbol_2</th>\n",
       "      <th>sources</th>\n",
       "    </tr>\n",
       "  </thead>\n",
       "  <tbody>\n",
       "    <tr>\n",
       "      <th>0</th>\n",
       "      <td>1</td>\n",
       "      <td>310</td>\n",
       "      <td>A1BG</td>\n",
       "      <td>ANXA7</td>\n",
       "      <td>signaling</td>\n",
       "    </tr>\n",
       "    <tr>\n",
       "      <th>1</th>\n",
       "      <td>1</td>\n",
       "      <td>1026</td>\n",
       "      <td>A1BG</td>\n",
       "      <td>CDKN1A</td>\n",
       "      <td>signaling</td>\n",
       "    </tr>\n",
       "    <tr>\n",
       "      <th>2</th>\n",
       "      <td>1</td>\n",
       "      <td>2886</td>\n",
       "      <td>A1BG</td>\n",
       "      <td>GRB7</td>\n",
       "      <td>signaling</td>\n",
       "    </tr>\n",
       "  </tbody>\n",
       "</table>\n",
       "</div>"
      ],
      "text/plain": [
       "   gene_ID_1      gene_ID_2   gene_symbol_1   gene_symbol_2    sources\n",
       "0              1         310            A1BG          ANXA7  signaling\n",
       "1              1        1026            A1BG         CDKN1A  signaling\n",
       "2              1        2886            A1BG           GRB7  signaling"
      ]
     },
     "execution_count": 4,
     "metadata": {},
     "output_type": "execute_result"
    }
   ],
   "source": [
    "graph_df = pd.read_csv('/itf-fi-ml/shared/users/ziyuzh/svm/data/gmb/pcbi.1004120.s003.tsv',sep=\"\\t\")\n",
    "graph_df.head(3)"
   ]
  },
  {
   "cell_type": "code",
   "execution_count": 7,
   "metadata": {},
   "outputs": [
    {
     "data": {
      "text/plain": [
       "Index(['gene_ID_1    ', 'gene_ID_2 ', ' gene_symbol_1 ', ' gene_symbol_2',\n",
       "       '  sources'],\n",
       "      dtype='object')"
      ]
     },
     "execution_count": 7,
     "metadata": {},
     "output_type": "execute_result"
    }
   ],
   "source": [
    "graph_df.columns"
   ]
  },
  {
   "cell_type": "code",
   "execution_count": 9,
   "metadata": {},
   "outputs": [],
   "source": [
    "gene_dict1 = dict(zip(graph_df[' gene_symbol_1 '].str.strip(), graph_df['gene_ID_1    ']))\n",
    "gene_dict2 = dict(zip(graph_df[' gene_symbol_2'].str.strip(), graph_df['gene_ID_2 ']))\n"
   ]
  },
  {
   "cell_type": "code",
   "execution_count": 53,
   "metadata": {},
   "outputs": [],
   "source": [
    "for gene in gene_dict2:\n",
    "    if gene not in gene_dict1.keys():\n",
    "        gene_dict1[str(gene).strip()] = str(gene_dict2[gene]).strip()"
   ]
  },
  {
   "cell_type": "code",
   "execution_count": 54,
   "metadata": {},
   "outputs": [
    {
     "data": {
      "text/plain": [
       "(13458, 11027)"
      ]
     },
     "execution_count": 54,
     "metadata": {},
     "output_type": "execute_result"
    }
   ],
   "source": [
    "len(gene_dict1),len(gene_dict2)"
   ]
  },
  {
   "cell_type": "code",
   "execution_count": 17,
   "metadata": {},
   "outputs": [],
   "source": [
    "#### string gene_id map\n",
    "local_stringdb = os.path.join('/itf-fi-ml/shared/users/ziyuzh/svm/data/stringdb','2023')\n",
    "\n",
    "ppidf = pd.read_csv(os.path.join(local_stringdb,'9606.protein.info.v12.0.txt'), sep='\\t', header=0, usecols=['#string_protein_id', 'preferred_name'])\n",
    "ppidf['preferred_name'] = ppidf['preferred_name'].str.upper()\n",
    "stringId2name = ppidf.set_index('#string_protein_id')['preferred_name'].to_dict()\n",
    "name2stringId = ppidf.set_index('preferred_name')['#string_protein_id'].to_dict()\n",
    "ppidf = pd.read_csv(os.path.join(local_stringdb,'9606.protein.aliases.v12.0.txt'), sep='\\t', header=0, usecols=['#string_protein_id', 'alias']).drop_duplicates(['alias'], keep='first')\n",
    "ppidf['alias'] = ppidf['alias'].str.upper()\n",
    "aliases2stringId = ppidf.set_index('alias')['#string_protein_id'].to_dict()\n",
    "\n",
    "def string_convert(gene):\n",
    "    if gene in name2stringId.keys():\n",
    "        return name2stringId[gene]\n",
    "    elif gene in aliases2stringId.keys():\n",
    "        return aliases2stringId[gene]\n",
    "    else:\n",
    "        return None"
   ]
  },
  {
   "cell_type": "code",
   "execution_count": 55,
   "metadata": {},
   "outputs": [],
   "source": [
    "gene_id_df = pd.DataFrame(list(gene_dict1.items()), columns=['gene_symbol', 'gmb_id'])"
   ]
  },
  {
   "cell_type": "code",
   "execution_count": 56,
   "metadata": {},
   "outputs": [],
   "source": [
    "gene_id_df['string_id'] = gene_id_df['gene_symbol'].map(string_convert)"
   ]
  },
  {
   "cell_type": "code",
   "execution_count": 31,
   "metadata": {},
   "outputs": [
    {
     "data": {
      "application/vnd.microsoft.datawrangler.viewer.v0+json": {
       "columns": [
        {
         "name": "index",
         "rawType": "int64",
         "type": "integer"
        },
        {
         "name": "disease",
         "rawType": "object",
         "type": "string"
        },
        {
         "name": "gene",
         "rawType": "object",
         "type": "string"
        }
       ],
       "conversionMethod": "pd.DataFrame",
       "ref": "c11f9a77-9adf-4955-86dc-7da3615f0b52",
       "rows": [
        [
         "0",
         "adrenal gland diseases",
         "  3758/215/3762/1589/1585/6770/2516/6557/5573/2778/7809/1584/1586/51/1187/190/3284/7157"
        ],
        [
         "1",
         "alzheimer disease",
         "   5663/23036/348/5664/55103/10452/1191/2629/2041/10913/51435/4536/4535/351/7305/4973/5819/344558/1378/9627/8301/23607/945/5071/341/274/25902/9846/54209"
        ],
        [
         "2",
         "amino acid metabolism inborn errors",
         " 445/383/2109/3815/11234/388552/4286/275/2110/6898/7299/435/7306/5096/37/36/875/5009/3257/84343/34/89781/28976/10157/84062/8546/26258/2731/1585/2653/593/2108/686/5053/1738/35/5092/10165/2184/5095/3141/5860/4935/79803/594/1373/5184/3242/3081/1629/2639/27034"
        ],
        [
         "3",
         "amyotrophic lateral sclerosis",
         "   6647/1639/6311/57679/10133/2521/998/22920/203228/283/1804/23064/4744/23025/9217/54822/7074/155061/7415/29978/23435"
        ],
        [
         "4",
         "anemia aplastic",
         " 3458/6125/6135/7015/2187/6229/2177/2175/2176/6223/6218/55215/4683/6201/6231/6165/2189/55120/2178/6204/79728"
        ],
        [
         "5",
         "anemia hemolytic",
         "    629/51251/146059/6708/2539/3043/2035/2729/203/6710/3426/3098/6521/3075/2623/2821/7056/5277/718/10483/286/2038/3040/4179/81494/546/10661/3039/50943"
        ],
        [
         "6",
         "aneurysm",
         "    90627/66037/4035/2200/153090/5932/59/7048/7046/1281/6101/64321/4638/4088/4629"
        ],
        [
         "7",
         "arrhythmias cardiac",
         " 3759/6640/10008/10060/5308/3757/51422/287/3753/55800/387101/3762/6331/6324/10021/4878/3741/1804/387119/775/859/3784/783/9992/9722/10142/4624/463/2702/6330"
        ],
        [
         "8",
         "arterial occlusive diseases",
         " 348/54984/8613/221692/79659/23294/1284/55973/10743/2921/84159/4040/5294/80310/8882/57674/375056/6597/51530/1909/28/6943/7015/4205/55759/1008/217/3184/10400/84722/23293/8997/23209/9992/341/6387/1495/4018/22808/65264/22882/1282/1952/59"
        ],
        [
         "9",
         "arteriosclerosis",
         "    54984/8613/79659/23294/1284/55973/10743/1909/84159/4040/5294/80310/8882/375056/6597/51530/221692/28/6943/7015/4205/55759/217/23293/10400/84722/348/8997/23209/9992/341/6387/4018/22808/65264/22882/1282/1952"
        ],
        [
         "10",
         "arthritis rheumatoid",
         "    3569/5211/200734/90355/6775/7185/55937/3123/326/3135/4277/1235/115352/23569/958/3127/3118/5966/164832/3559/6583/3117/6366/11170/26191/3309/79722/4282/54665/23534/26147/7128/83648/167826/4795/3663/4855/3119/3516/3899/1493/640"
        ],
        [
         "11",
         "asthma",
         "  5089/6046/80332/85480/1118/3119/91137/1116/3570/57628/9283/3113/169026/23418/3117/3111/6821/64375/1999/4088/4589/3122/3560/56946/30009/7941/9173/94103/26953/1017/4855/90865/8809/3115/3118/84640/5144"
        ],
        [
         "12",
         "basal ganglia diseases",
         "  2580/4137/55145/7345/4724/3064/1861/11315/10228/114798/3122/2629/55737/6239/80025/23636/1981/120892/9451/4336/926/29119/57111/4905/130013/8934/6622/7473/25793/540/9627/7054/27429/1006/56922/644150/65018/3662/2512/8398/952/26058/80704/5071/23400"
        ],
        [
         "13",
         "behcet syndrome",
         " 4340/4276/29113/3595/149233/8870/3107/3106/170680/3586/54535/780/3135"
        ],
        [
         "14",
         "bile duct diseases",
         "  1656/643/120/3592/4126/7132/4853/4664/51300/4790/3595/3930/5890/182/5244/3118/23534/4485/3394/10165/8986/5155/22806/23228/3663/8647/9844/10018/3119/6689/6122"
        ],
        [
         "15",
         "blood coagulation disorders",
         " 8546/2243/5627/84343/3674/2162/2159/7454/2677/2153/3690/3257/2155/2158/3717/3998/388552/3075/90411/84062/2157/26258/2815/2812/2244/5624/2147/11093/948/89781/2165/7450/1675/7066/79803/11234/462/2266/2160/2161"
        ],
        [
         "16",
         "blood platelet disorders",
         "    11234/84343/3674/629/2812/3690/3257/3717/388552/3426/3075/84062/8546/26258/2815/7454/7056/718/11093/89781/54205/4179/81494/7066/79803/948"
        ],
        [
         "17",
         "breast neoplasms",
         "    83990/53335/11200/2192/672/51592/10884/577/80205/9497/595/57161/5892/7141/4856/4214/150094/2263/7517/7015/675/22891/5889/4046/5888/4683/208/207/5290/10371/80129/2255/5168/57178/81847/9833/29086/79728/2099/4916"
        ],
        [
         "18",
         "carbohydrate metabolism inborn errors",
         "   374291/4669/56052/6389/189/2998/9382/4125/2592/5373/4126/178/25839/5257/51251/4508/5837/411/10466/5160/4723/2997/2539/2548/5836/2588/2720/5224/79796/5261/229/7841/3920/85365/2990/2203/10195/5091/4351/1355/2584/91949/91869/5428/2582/5256/2632/57192/5162/4537/686/4728/9380/4247/1798/2799/2517/79158/84572/3423/2538/84342/51204/5255/5213/22845/51422/8813/5236/3141/4540/6448/2683/9526/4758/3425/440138"
        ],
        [
         "19",
         "carcinoma renal cell",
         "    79663/4968/79058/4233/4841/595/6421/8082/201163/3709/7030/949/2271/55193/11236/2034/7428/5546"
        ],
        [
         "20",
         "cardiomyopathies",
         "    79188/4624/5663/7273/5664/10060/5350/11155/51422/85366/4625/3728/5318/6444/6262/7168/57158/7137/6331/4646/3920/70/7112/9531/4634/1829/7709/131118/6261/4000/88/1756/7139/7414/7134/6901/859/4607/91624/8557/1832/2070/6442/1824/51778/4633/1674/1837/8048/6389"
        ],
        [
         "21",
         "cardiomyopathy hypertrophic",
         " 7273/7139/5350/51422/85366/4625/4624/7168/57158/4646/70/4634/7137/7414/7134/859/4607/91624/8557/51778/4633/8048"
        ],
        [
         "22",
         "celiac disease",
         "  5771/3558/3592/57514/2113/864/3676/10019/5996/389015/2720/84162/10477/1230/3117/1233/6311/8807/7128/167826/2829/23308/9173/59067/4650/5796/25949/5619/57178/116028/8809/4026/60468/5341/1493/29851"
        ],
        [
         "23",
         "cerebellar ataxia",
         "   3736/23064/6507/5173/9640/472/56652/6908/146057/3708/5582/55775/85300/10939/4287/6311/5428/8622/6712/773/23345/785/5521/6314/56997/255928/10528/5080/6310/25814"
        ],
        [
         "24",
         "cerebrovascular disorders",
         "   2934/2717/4524/5308/3565/241/1946/27072/8938/4538/90627/2153/6263/2921/9445/1636/3184/5144/1008/4535/351/4541/51205/51128/6346/4854/66037/4815/2147/57674/64321/2565/23209/337880/5654/2043/1495/5932/1471/65125/6101/6403/5583/1282/132789/4540/59"
        ],
        [
         "25",
         "charcot-marie-tooth disease",
         " 9927/23095/7879/8898/4747/9516/4359/26353/1959/4000/1778/81857/5376/3236/2705/121512/16/3315/1785/3735/8988/5631/8565/59341/81846/2617/10397"
        ],
        [
         "26",
         "colitis ulcerative",
         "  3458/1001/3394/2768/56946/2308/3554/11315/54361/8209/1601/5734/23308/54546/3127/3579/3717/3577/9966/54535/8764/7422/127281/3586/5307/1611/639/3172/4046/2805/167826/1738/159296/4485/55765/7128/57154/2212/8771/147/57511/64170/3663/8204/8927/3593/149233/1811/9923/3575/7850/6550/219771/9555/55722/327"
        ],
        [
         "27",
         "colorectal neoplasms",
         "    7486/55892/6447/4089/11221/999/6581/2956/650/5395/27030/657/5979/7227/324/85415/466/2778/8667/4436/79695/4088/57609/1499/8313/652/4512/673/4522/862/207/4092/3911/4763/4595/4072/5606/7048/2042/5290/4292/26585"
        ],
        [
         "28",
         "coronary artery disease",
         " 8613/79659/23294/1284/55973/10743/84159/4040/80310/221692/375056/6597/51530/8882/28/6943/7015/4205/55759/217/10400/84722/23293/8997/9992/6387/4018/22808/65264/1282/1952"
        ],
        [
         "29",
         "crohn disease",
         "   8600/157638/339479/56946/56984/3717/63027/8995/1201/6122/283234/8209/6304/5771/1601/57178/2297/5334/8863/7297/10067/55054/10221/64407/356/3559/9966/7332/10320/64127/120892/1050/4088/6774/63892/3586/8807/639/22891/5734/3976/8453/677/11262/2646/26191/159296/4485/1788/23308/134288/84619/5155/147/54901/64170/2805/11116/8204/56301/3593/6347/149233/284358/85027/80762/55600/60468/6354/253430/8927/25824"
        ],
        [
         "30",
         "death sudden",
         "    22822/29994/98/11216/6331/6662/7259/3781/23768/284252/2581/859/284217/84441/11278/2099/64848/3764/2890"
        ],
        [
         "31",
         "diabetes mellitus type 2",
         "    169792/53335/60685/9559/79571/2888/54602/3087/5078/9223/3667/63892/4853/3636/10239/9861/55323/3767/5122/4544/221895/5167/7297/6833/5506/8622/5789/23101/10363/9905/169026/6517/4760/10644/79068/6928/10296/9370/4535/7466/9055/135154/3643/83795/11132/10253/57624/54469/3172/6934/6480/5937/54536/6927/8872/2184/57118/57104/3630/116985/54901/9479/8638/8462/8567/3784/640/1852/5184/63826/94241/3651/22837"
        ],
        [
         "32",
         "dwarfism",
         "    169792/2200/2074/3481/8022/4591/2688/7474/2692/1161/8820/1280/81794/59341/7080/1482/7038/8200/389434/2260/2690/6777/2693/7253/50506/2261"
        ],
        [
         "33",
         "esophageal diseases",
         " 6657/861/4481/51196/10391/125/11178/222643/6049/7157/4613/8125/217/57707/51741/283450/23406/80724/51008/1452/7048/4293/85480/5144"
        ],
        [
         "34",
         "exophthalmos",
         "    2914/4276/4295/11116/23/29113/7253/3119/3118/3710/1493/399/115352"
        ],
        [
         "35",
         "glomerulonephritis",
         "  8542/23607/5696/6665/1285/7225/22925/4643/4855/3118/3119/3117/8741/8897/3075/81/9526/3123"
        ],
        [
         "36",
         "gout",
         "    6446/5289/7369/116085/257397/6014/40/5649/5871/2895/7536/7547/7092"
        ],
        [
         "37",
         "graves disease",
         "  2914/4276/4295/11116/23/29113/7253/3119/3118/3710/1493/399/115352"
        ],
        [
         "38",
         "head and neck neoplasms",
         " 4340/131/3265/861/3123/51196/4221/125/595/11178/51079/26278/222643/55504/3117/7157/2304/6049/217/84312/79577/51741/283450/80018/80724/3106/8125/1452/2122/7048/8626/51562/4293/5144/10391"
        ],
        [
         "39",
         "hypothalamic diseases",
         "   9049/8022/374654/22954/2688/84100/8195/123016/5626/2778/2692/129880/8820/55212/79738/54903/80184/91147/582/585/6658/2737/583"
        ],
        [
         "40",
         "leukemia b-cell",
         " 50515/472/5450/694/604/6176/10272/3662/9855/11262/596/4609/115761/602/25865/3431/254065"
        ],
        [
         "41",
         "leukemia myeloid",
         "    9321/26511/84936/57082/10499/861/7994/4330/79142/7704/2033/3815/4869/2078/63976/3717/865/5371/5914/8833/1387/2120/2322/23305/4928/7913/8522/64783/10801/57591/2000/54904/4629/5159/2521/64324/3845/3205/2122/8021/4026/153090/862"
        ],
        [
         "42",
         "lipid metabolism disorders",
         "  2717/19/1717/1203/348/411/26580/344/4547/10555/3073/2629/338/27329/5346/26119/3949/335/8882/80331/224/1200/4000/51128/1201/284119/6609/7391/5476/255738/3931/1509/2720/84823/857/5660/3074/410/285362/4864/2760/2646/5468/1593/4281/10577/427/2581/5538/4023"
        ],
        [
         "43",
         "liver cirrhosis",
         " 1656/643/3394/5890/4126/7132/4664/51300/4790/57057/3595/3930/3592/3118/23534/5155/22806/23228/3663/9844/8986/3119/6689/6122"
        ],
        [
         "44",
         "liver cirrhosis biliary",
         " 1656/643/3394/5890/4126/7132/4664/51300/4790/3595/3930/3592/3118/23534/5155/22806/23228/3663/9844/8986/3119/6689/6122"
        ],
        [
         "45",
         "lung diseases obstructive",
         "   5089/6046/123688/80332/85480/1118/3119/91137/1116/3570/57628/9283/3113/169026/23418/3117/3111/6821/64375/1999/4088/4589/3122/10144/56946/7941/9173/94103/26953/1017/53916/4855/3658/90865/3118/8809/3115/3560/84640/5144"
        ],
        [
         "46",
         "lupus erythematosus",
         " 3112/221527/3119/7917/8341/10125/6775/629/3663/1773/1797/10919/1656/3092/9474/780/4277/259197/5133/150221/4276/29113/78994/3684/7916/6941/7100/55024/3118/3117/7332/10320/1380/4439/26191/23534/3009/717/29777/8859/3122/64288/639/721/3123/100293534/63940/7918/83648/474354/2113/8870/84547/3106/115509/25780/696/1460/3687/7292/23/57176/7128/2213/4855/7741/7148/640/1997/10318/283165/286016/1493/11277/720"
        ],
        [
         "47",
         "lymphoma",
         "    1656/604/472/4869/29113/4253/3127/843/3118/238/605/399/4609/64895/673/2531/4791/80184/8301/8028/2213/3119/595/89795"
        ],
        [
         "48",
         "lysosomal storage diseases",
         "  2717/175/4669/2998/4125/348/4126/5257/411/2997/5836/2588/2629/2720/4864/2760/5261/1513/10020/2990/51128/6609/2548/5476/6448/5256/57192/3073/5660/3074/410/285362/2799/2517/79158/84572/3423/5255/5236/5224/10577/427/2581/4758/3425"
        ],
        [
         "49",
         "macular degeneration",
         "    221527/1001/1524/6785/2074/629/6499/7148/1071/59338/717/10554/10516/5961/23418/3426/259266/6103/10877/8224/7422/7078/8859/8842/718/24/5978/9709/3075/81579/2165/84839/3990/7936/81494/6048/8797/80864/7439/5654/7099/3078/1471/1797"
        ]
       ],
       "shape": {
        "columns": 2,
        "rows": 70
       }
      },
      "text/html": [
       "<div>\n",
       "<style scoped>\n",
       "    .dataframe tbody tr th:only-of-type {\n",
       "        vertical-align: middle;\n",
       "    }\n",
       "\n",
       "    .dataframe tbody tr th {\n",
       "        vertical-align: top;\n",
       "    }\n",
       "\n",
       "    .dataframe thead th {\n",
       "        text-align: right;\n",
       "    }\n",
       "</style>\n",
       "<table border=\"1\" class=\"dataframe\">\n",
       "  <thead>\n",
       "    <tr style=\"text-align: right;\">\n",
       "      <th></th>\n",
       "      <th>disease</th>\n",
       "      <th>gene</th>\n",
       "    </tr>\n",
       "  </thead>\n",
       "  <tbody>\n",
       "    <tr>\n",
       "      <th>0</th>\n",
       "      <td>adrenal gland diseases</td>\n",
       "      <td>3758/215/3762/1589/1585/6770/2516/6557/5573/...</td>\n",
       "    </tr>\n",
       "    <tr>\n",
       "      <th>1</th>\n",
       "      <td>alzheimer disease</td>\n",
       "      <td>5663/23036/348/5664/55103/10452/1191/2629/2...</td>\n",
       "    </tr>\n",
       "    <tr>\n",
       "      <th>2</th>\n",
       "      <td>amino acid metabolism inborn errors</td>\n",
       "      <td>445/383/2109/3815/11234/388552/4286/275/2110/...</td>\n",
       "    </tr>\n",
       "    <tr>\n",
       "      <th>3</th>\n",
       "      <td>amyotrophic lateral sclerosis</td>\n",
       "      <td>6647/1639/6311/57679/10133/2521/998/22920/2...</td>\n",
       "    </tr>\n",
       "    <tr>\n",
       "      <th>4</th>\n",
       "      <td>anemia aplastic</td>\n",
       "      <td>3458/6125/6135/7015/2187/6229/2177/2175/2176/...</td>\n",
       "    </tr>\n",
       "    <tr>\n",
       "      <th>...</th>\n",
       "      <td>...</td>\n",
       "      <td>...</td>\n",
       "    </tr>\n",
       "    <tr>\n",
       "      <th>65</th>\n",
       "      <td>spondylarthropathies</td>\n",
       "      <td>100507436/10085/147/4276/25949/3107/3593/3...</td>\n",
       "    </tr>\n",
       "    <tr>\n",
       "      <th>66</th>\n",
       "      <td>tauopathies</td>\n",
       "      <td>4137/5663/23036/348/5664/55103/10452/10228/25...</td>\n",
       "    </tr>\n",
       "    <tr>\n",
       "      <th>67</th>\n",
       "      <td>uveal diseases</td>\n",
       "      <td>4340/1121/4276/29113/3595/4016/149233/8870/4...</td>\n",
       "    </tr>\n",
       "    <tr>\n",
       "      <th>68</th>\n",
       "      <td>varicose veins</td>\n",
       "      <td>51438/7247/652/5629/2043/8622/83478/201456/3...</td>\n",
       "    </tr>\n",
       "    <tr>\n",
       "      <th>69</th>\n",
       "      <td>vasculitis</td>\n",
       "      <td>4340/4276/80271/29113/3595/149233/8870/3107/...</td>\n",
       "    </tr>\n",
       "  </tbody>\n",
       "</table>\n",
       "<p>70 rows × 2 columns</p>\n",
       "</div>"
      ],
      "text/plain": [
       "                                disease  \\\n",
       "0                adrenal gland diseases   \n",
       "1                     alzheimer disease   \n",
       "2   amino acid metabolism inborn errors   \n",
       "3         amyotrophic lateral sclerosis   \n",
       "4                       anemia aplastic   \n",
       "..                                  ...   \n",
       "65                 spondylarthropathies   \n",
       "66                          tauopathies   \n",
       "67                       uveal diseases   \n",
       "68                       varicose veins   \n",
       "69                           vasculitis   \n",
       "\n",
       "                                                 gene  \n",
       "0     3758/215/3762/1589/1585/6770/2516/6557/5573/...  \n",
       "1      5663/23036/348/5664/55103/10452/1191/2629/2...  \n",
       "2    445/383/2109/3815/11234/388552/4286/275/2110/...  \n",
       "3      6647/1639/6311/57679/10133/2521/998/22920/2...  \n",
       "4    3458/6125/6135/7015/2187/6229/2177/2175/2176/...  \n",
       "..                                                ...  \n",
       "65      100507436/10085/147/4276/25949/3107/3593/3...  \n",
       "66   4137/5663/23036/348/5664/55103/10452/10228/25...  \n",
       "67    4340/1121/4276/29113/3595/4016/149233/8870/4...  \n",
       "68    51438/7247/652/5629/2043/8622/83478/201456/3...  \n",
       "69    4340/4276/80271/29113/3595/149233/8870/3107/...  \n",
       "\n",
       "[70 rows x 2 columns]"
      ]
     },
     "execution_count": 31,
     "metadata": {},
     "output_type": "execute_result"
    }
   ],
   "source": [
    "disease_df = pd.read_csv('/itf-fi-ml/shared/users/ziyuzh/svm/data/gmb/pcbi.1004120.s004.tsv', sep=\";\", header=0, names=[\"disease\", \"gene\"])\n",
    "disease_df\n"
   ]
  },
  {
   "cell_type": "code",
   "execution_count": 57,
   "metadata": {},
   "outputs": [],
   "source": [
    "gene_id = []\n",
    "disease_list = []\n",
    "\n",
    "for _, row in disease_df.iterrows():\n",
    "    # Split the 'gene' column string by the '/' delimiter\n",
    "    genes = row['gene'].split('/')\n",
    "    \n",
    "    # Strip spaces from each gene and update the list\n",
    "    genes = [gene.strip() for gene in genes]\n",
    "\n",
    "    # Extend gene_id with split and stripped gene IDs\n",
    "    gene_id.extend(genes)\n",
    "    \n",
    "    # Extend disease_list with copies of the current disease, matched to the number of genes split\n",
    "    disease_list.extend([row['disease']] * len(genes))\n"
   ]
  },
  {
   "cell_type": "code",
   "execution_count": null,
   "metadata": {},
   "outputs": [],
   "source": [
    "gmb_dga = pd.DataFrame({'gmb_id': gene_id, 'disease_id': disease_list})\n"
   ]
  },
  {
   "cell_type": "code",
   "execution_count": 60,
   "metadata": {},
   "outputs": [],
   "source": [
    "# Convert 'gmb_id' in both DataFrames to strings (object type)\n",
    "gmb_dga['gmb_id'] = gmb_dga['gmb_id'].astype(str)\n",
    "gene_id_df['gmb_id'] = gene_id_df['gmb_id'].astype(str)\n",
    "\n",
    "# Now perform the merge operation\n",
    "gmb_dga = gmb_dga.merge(gene_id_df, on='gmb_id', how='left')\n"
   ]
  },
  {
   "cell_type": "code",
   "execution_count": 61,
   "metadata": {},
   "outputs": [
    {
     "data": {
      "application/vnd.microsoft.datawrangler.viewer.v0+json": {
       "columns": [
        {
         "name": "index",
         "rawType": "int64",
         "type": "integer"
        },
        {
         "name": "gmb_id",
         "rawType": "object",
         "type": "string"
        },
        {
         "name": "disease",
         "rawType": "object",
         "type": "string"
        },
        {
         "name": "gene_symbol",
         "rawType": "object",
         "type": "string"
        },
        {
         "name": "string_id",
         "rawType": "object",
         "type": "unknown"
        }
       ],
       "conversionMethod": "pd.DataFrame",
       "ref": "a3ec7c6b-f5e6-4241-9b3b-bb1141059b32",
       "rows": [
        [
         "0",
         "3758",
         "adrenal gland diseases",
         "KCNJ1",
         "9606.ENSP00000376432"
        ],
        [
         "1",
         "215",
         "adrenal gland diseases",
         "ABCD1",
         "9606.ENSP00000218104"
        ],
        [
         "2",
         "3762",
         "adrenal gland diseases",
         "KCNJ5",
         "9606.ENSP00000433295"
        ],
        [
         "3",
         "1589",
         "adrenal gland diseases",
         "CYP21A2",
         "9606.ENSP00000496625"
        ],
        [
         "4",
         "1585",
         "adrenal gland diseases",
         "CYP11B2",
         "9606.ENSP00000325822"
        ],
        [
         "5",
         "6770",
         "adrenal gland diseases",
         "STAR",
         "9606.ENSP00000276449"
        ],
        [
         "6",
         "2516",
         "adrenal gland diseases",
         "NR5A1",
         "9606.ENSP00000362690"
        ],
        [
         "7",
         "6557",
         "adrenal gland diseases",
         "SLC12A1",
         "9606.ENSP00000495332"
        ],
        [
         "8",
         "5573",
         "adrenal gland diseases",
         "PRKAR1A",
         "9606.ENSP00000376475"
        ],
        [
         "9",
         "2778",
         "adrenal gland diseases",
         "GNAS",
         "9606.ENSP00000360141"
        ],
        [
         "10",
         "7809",
         "adrenal gland diseases",
         "BSND",
         "9606.ENSP00000498282"
        ],
        [
         "11",
         "1584",
         "adrenal gland diseases",
         "CYP11B1",
         "9606.ENSP00000292427"
        ],
        [
         "12",
         "1586",
         "adrenal gland diseases",
         "CYP17A1",
         "9606.ENSP00000358903"
        ],
        [
         "13",
         "51",
         "adrenal gland diseases",
         "ACOX1",
         "9606.ENSP00000293217"
        ],
        [
         "14",
         "1187",
         "adrenal gland diseases",
         "CLCNKA",
         "9606.ENSP00000332771"
        ],
        [
         "15",
         "190",
         "adrenal gland diseases",
         "NR0B1",
         "9606.ENSP00000368253"
        ],
        [
         "16",
         "3284",
         "adrenal gland diseases",
         "HSD3B2",
         "9606.ENSP00000445122"
        ],
        [
         "17",
         "7157",
         "adrenal gland diseases",
         "TP53",
         "9606.ENSP00000269305"
        ],
        [
         "18",
         "5663",
         "alzheimer disease",
         "PSEN1",
         "9606.ENSP00000326366"
        ],
        [
         "19",
         "23036",
         "alzheimer disease",
         "ZNF292",
         "9606.ENSP00000358590"
        ],
        [
         "20",
         "348",
         "alzheimer disease",
         "APOE",
         "9606.ENSP00000252486"
        ],
        [
         "21",
         "5664",
         "alzheimer disease",
         "PSEN2",
         "9606.ENSP00000355747"
        ],
        [
         "22",
         "55103",
         "alzheimer disease",
         "RALGPS2",
         "9606.ENSP00000356607"
        ],
        [
         "23",
         "10452",
         "alzheimer disease",
         "TOMM40",
         "9606.ENSP00000410339"
        ],
        [
         "24",
         "1191",
         "alzheimer disease",
         "CLU",
         "9606.ENSP00000315130"
        ],
        [
         "25",
         "2629",
         "alzheimer disease",
         "GBA",
         "9606.ENSP00000314508"
        ],
        [
         "26",
         "2041",
         "alzheimer disease",
         "EPHA1",
         "9606.ENSP00000275815"
        ],
        [
         "27",
         "10913",
         "alzheimer disease",
         "EDAR",
         "9606.ENSP00000258443"
        ],
        [
         "28",
         "51435",
         "alzheimer disease",
         "SCARA3",
         "9606.ENSP00000301904"
        ],
        [
         "29",
         "4536",
         "alzheimer disease",
         "ND2",
         "9606.ENSP00000355046"
        ],
        [
         "30",
         "4535",
         "alzheimer disease",
         "ND1",
         "9606.ENSP00000354687"
        ],
        [
         "31",
         "351",
         "alzheimer disease",
         "APP",
         "9606.ENSP00000284981"
        ],
        [
         "32",
         "7305",
         "alzheimer disease",
         "TYROBP",
         "9606.ENSP00000262629"
        ],
        [
         "33",
         "4973",
         "alzheimer disease",
         "OLR1",
         "9606.ENSP00000309124"
        ],
        [
         "34",
         "5819",
         "alzheimer disease",
         "PVRL2",
         "9606.ENSP00000252483"
        ],
        [
         "35",
         "344558",
         "alzheimer disease",
         "SH3RF3",
         "9606.ENSP00000309186"
        ],
        [
         "36",
         "1378",
         "alzheimer disease",
         "CR1",
         "9606.ENSP00000356016"
        ],
        [
         "37",
         "9627",
         "alzheimer disease",
         "SNCAIP",
         "9606.ENSP00000261367"
        ],
        [
         "38",
         "8301",
         "alzheimer disease",
         "PICALM",
         "9606.ENSP00000377015"
        ],
        [
         "39",
         "23607",
         "alzheimer disease",
         "CD2AP",
         "9606.ENSP00000352264"
        ],
        [
         "40",
         "945",
         "alzheimer disease",
         "CD33",
         "9606.ENSP00000262262"
        ],
        [
         "41",
         "5071",
         "alzheimer disease",
         "PARK2",
         "9606.ENSP00000355865"
        ],
        [
         "42",
         "341",
         "alzheimer disease",
         "APOC1",
         "9606.ENSP00000465356"
        ],
        [
         "43",
         "274",
         "alzheimer disease",
         "BIN1",
         "9606.ENSP00000316779"
        ],
        [
         "44",
         "25902",
         "alzheimer disease",
         "MTHFD1L",
         "9606.ENSP00000478253"
        ],
        [
         "45",
         "9846",
         "alzheimer disease",
         "GAB2",
         "9606.ENSP00000354952"
        ],
        [
         "46",
         "54209",
         "alzheimer disease",
         "TREM2",
         "9606.ENSP00000362205"
        ],
        [
         "47",
         "445",
         "amino acid metabolism inborn errors",
         "ASS1",
         "9606.ENSP00000361471"
        ],
        [
         "48",
         "383",
         "amino acid metabolism inborn errors",
         "ARG1",
         "9606.ENSP00000349446"
        ],
        [
         "49",
         "2109",
         "amino acid metabolism inborn errors",
         "ETFB",
         "9606.ENSP00000346173"
        ]
       ],
       "shape": {
        "columns": 4,
        "rows": 2843
       }
      },
      "text/html": [
       "<div>\n",
       "<style scoped>\n",
       "    .dataframe tbody tr th:only-of-type {\n",
       "        vertical-align: middle;\n",
       "    }\n",
       "\n",
       "    .dataframe tbody tr th {\n",
       "        vertical-align: top;\n",
       "    }\n",
       "\n",
       "    .dataframe thead th {\n",
       "        text-align: right;\n",
       "    }\n",
       "</style>\n",
       "<table border=\"1\" class=\"dataframe\">\n",
       "  <thead>\n",
       "    <tr style=\"text-align: right;\">\n",
       "      <th></th>\n",
       "      <th>gmb_id</th>\n",
       "      <th>disease</th>\n",
       "      <th>gene_symbol</th>\n",
       "      <th>string_id</th>\n",
       "    </tr>\n",
       "  </thead>\n",
       "  <tbody>\n",
       "    <tr>\n",
       "      <th>0</th>\n",
       "      <td>3758</td>\n",
       "      <td>adrenal gland diseases</td>\n",
       "      <td>KCNJ1</td>\n",
       "      <td>9606.ENSP00000376432</td>\n",
       "    </tr>\n",
       "    <tr>\n",
       "      <th>1</th>\n",
       "      <td>215</td>\n",
       "      <td>adrenal gland diseases</td>\n",
       "      <td>ABCD1</td>\n",
       "      <td>9606.ENSP00000218104</td>\n",
       "    </tr>\n",
       "    <tr>\n",
       "      <th>2</th>\n",
       "      <td>3762</td>\n",
       "      <td>adrenal gland diseases</td>\n",
       "      <td>KCNJ5</td>\n",
       "      <td>9606.ENSP00000433295</td>\n",
       "    </tr>\n",
       "    <tr>\n",
       "      <th>3</th>\n",
       "      <td>1589</td>\n",
       "      <td>adrenal gland diseases</td>\n",
       "      <td>CYP21A2</td>\n",
       "      <td>9606.ENSP00000496625</td>\n",
       "    </tr>\n",
       "    <tr>\n",
       "      <th>4</th>\n",
       "      <td>1585</td>\n",
       "      <td>adrenal gland diseases</td>\n",
       "      <td>CYP11B2</td>\n",
       "      <td>9606.ENSP00000325822</td>\n",
       "    </tr>\n",
       "    <tr>\n",
       "      <th>...</th>\n",
       "      <td>...</td>\n",
       "      <td>...</td>\n",
       "      <td>...</td>\n",
       "      <td>...</td>\n",
       "    </tr>\n",
       "    <tr>\n",
       "      <th>2838</th>\n",
       "      <td>3586</td>\n",
       "      <td>vasculitis</td>\n",
       "      <td>IL10</td>\n",
       "      <td>9606.ENSP00000412237</td>\n",
       "    </tr>\n",
       "    <tr>\n",
       "      <th>2839</th>\n",
       "      <td>54535</td>\n",
       "      <td>vasculitis</td>\n",
       "      <td>CCHCR1</td>\n",
       "      <td>9606.ENSP00000379566</td>\n",
       "    </tr>\n",
       "    <tr>\n",
       "      <th>2840</th>\n",
       "      <td>2212</td>\n",
       "      <td>vasculitis</td>\n",
       "      <td>FCGR2A</td>\n",
       "      <td>9606.ENSP00000271450</td>\n",
       "    </tr>\n",
       "    <tr>\n",
       "      <th>2841</th>\n",
       "      <td>3106</td>\n",
       "      <td>vasculitis</td>\n",
       "      <td>HLA-B</td>\n",
       "      <td>9606.ENSP00000399168</td>\n",
       "    </tr>\n",
       "    <tr>\n",
       "      <th>2842</th>\n",
       "      <td>3135</td>\n",
       "      <td>vasculitis</td>\n",
       "      <td>HLA-G</td>\n",
       "      <td>9606.ENSP00000366024</td>\n",
       "    </tr>\n",
       "  </tbody>\n",
       "</table>\n",
       "<p>2843 rows × 4 columns</p>\n",
       "</div>"
      ],
      "text/plain": [
       "     gmb_id                 disease gene_symbol             string_id\n",
       "0      3758  adrenal gland diseases       KCNJ1  9606.ENSP00000376432\n",
       "1       215  adrenal gland diseases       ABCD1  9606.ENSP00000218104\n",
       "2      3762  adrenal gland diseases       KCNJ5  9606.ENSP00000433295\n",
       "3      1589  adrenal gland diseases     CYP21A2  9606.ENSP00000496625\n",
       "4      1585  adrenal gland diseases     CYP11B2  9606.ENSP00000325822\n",
       "...     ...                     ...         ...                   ...\n",
       "2838   3586              vasculitis        IL10  9606.ENSP00000412237\n",
       "2839  54535              vasculitis      CCHCR1  9606.ENSP00000379566\n",
       "2840   2212              vasculitis      FCGR2A  9606.ENSP00000271450\n",
       "2841   3106              vasculitis       HLA-B  9606.ENSP00000399168\n",
       "2842   3135              vasculitis       HLA-G  9606.ENSP00000366024\n",
       "\n",
       "[2843 rows x 4 columns]"
      ]
     },
     "execution_count": 61,
     "metadata": {},
     "output_type": "execute_result"
    }
   ],
   "source": [
    "gmb_dga"
   ]
  },
  {
   "cell_type": "code",
   "execution_count": 69,
   "metadata": {},
   "outputs": [],
   "source": [
    "gmb_dga = gmb_dga[~gmb_dga['string_id'].isna()]\n"
   ]
  },
  {
   "cell_type": "code",
   "execution_count": 71,
   "metadata": {},
   "outputs": [],
   "source": [
    "gmb_dga.to_csv('/itf-fi-ml/shared/users/ziyuzh/svm/data/gmb/gmb_string.csv',index=False)"
   ]
  }
 ],
 "metadata": {
  "kernelspec": {
   "display_name": ".venv",
   "language": "python",
   "name": "python3"
  },
  "language_info": {
   "codemirror_mode": {
    "name": "ipython",
    "version": 3
   },
   "file_extension": ".py",
   "mimetype": "text/x-python",
   "name": "python",
   "nbconvert_exporter": "python",
   "pygments_lexer": "ipython3",
   "version": "3.11.11"
  }
 },
 "nbformat": 4,
 "nbformat_minor": 2
}
