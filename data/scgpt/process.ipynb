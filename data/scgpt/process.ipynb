{
 "cells": [
  {
   "cell_type": "code",
   "execution_count": 1,
   "id": "6cb38136",
   "metadata": {},
   "outputs": [],
   "source": [
    "import torch\n",
    "import numpy as np\n",
    "import pandas as pd"
   ]
  },
  {
   "cell_type": "code",
   "execution_count": 2,
   "id": "066100a0",
   "metadata": {},
   "outputs": [],
   "source": [
    "import pickle\n",
    "with open('/itf-fi-ml/shared/users/ziyuzh/svm/data/scgpt/scgpt_data.pkl', 'rb') as f:\n",
    "    data = pickle.load(f)\n",
    "\n",
    "gene_ids = data['gene_ids']\n",
    "gene_embeddings = data['gene_embeddings']\n"
   ]
  },
  {
   "cell_type": "code",
   "execution_count": null,
   "id": "57ca6454",
   "metadata": {},
   "outputs": [],
   "source": [
    "with open('/itf-fi-ml/shared/users/ziyuzh/svm/data/scgpt/scgpt_ids.pkl', 'rb') as f:\n",
    "    scgpt_id_map = pickle.load(f)"
   ]
  },
  {
   "cell_type": "code",
   "execution_count": 4,
   "id": "c1025aea",
   "metadata": {},
   "outputs": [],
   "source": [
    "gene_embeddings = gene_embeddings.detach().cpu().numpy()"
   ]
  },
  {
   "cell_type": "code",
   "execution_count": 5,
   "id": "d4ab8075",
   "metadata": {},
   "outputs": [
    {
     "data": {
      "text/plain": [
       "(60697, 512)"
      ]
     },
     "execution_count": 5,
     "metadata": {},
     "output_type": "execute_result"
    }
   ],
   "source": [
    "gene_embeddings.shape"
   ]
  },
  {
   "cell_type": "code",
   "execution_count": 10,
   "id": "347322c0",
   "metadata": {},
   "outputs": [],
   "source": [
    "import os\n",
    "local_stringdb = '/itf-fi-ml/shared/users/ziyuzh/svm/data/stringdb/2023'\n",
    "\n",
    "ppidf = pd.read_csv(os.path.join(local_stringdb,'9606.protein.info.v12.0.txt'), sep='\\t', header=0, usecols=['#string_protein_id', 'preferred_name'])\n",
    "ppidf['preferred_name'] = ppidf['preferred_name'].str.upper()\n",
    "stringId2name = ppidf.set_index('#string_protein_id')['preferred_name'].to_dict()\n",
    "name2stringId = ppidf.set_index('preferred_name')['#string_protein_id'].to_dict()\n",
    "ppidf = pd.read_csv(os.path.join(local_stringdb,'9606.protein.aliases.v12.0.txt'), sep='\\t', header=0, usecols=['#string_protein_id', 'alias']).drop_duplicates(['alias'], keep='first')\n",
    "ppidf['alias'] = ppidf['alias'].str.upper()\n",
    "aliases2stringId = ppidf.set_index('alias')['#string_protein_id'].to_dict()\n",
    "\n",
    "def string_convert(gene):\n",
    "    if gene in name2stringId.keys():\n",
    "        return name2stringId[gene]\n",
    "    elif gene in aliases2stringId.keys():\n",
    "        return aliases2stringId[gene]\n",
    "    else:\n",
    "        return None"
   ]
  },
  {
   "cell_type": "code",
   "execution_count": 100,
   "id": "22c45b59",
   "metadata": {},
   "outputs": [
    {
     "data": {
      "text/plain": [
       "18918"
      ]
     },
     "execution_count": 100,
     "metadata": {},
     "output_type": "execute_result"
    }
   ],
   "source": [
    "len(set(list(scgpt_id_map['gene2id'].keys()))&set(list(name2stringId.keys())))"
   ]
  },
  {
   "cell_type": "code",
   "execution_count": 103,
   "id": "b8489625",
   "metadata": {},
   "outputs": [],
   "source": [
    "subid = []\n",
    "features_pos = []\n",
    "for id in scgpt_id_map['gene2id']:\n",
    "    if id in list(name2stringId.keys()):\n",
    "        subid.append(id)\n",
    "        features_pos.append(scgpt_id_map['gene2id'][id])"
   ]
  },
  {
   "cell_type": "code",
   "execution_count": 104,
   "id": "f5fda787",
   "metadata": {},
   "outputs": [
    {
     "data": {
      "text/plain": [
       "(18918, 18918)"
      ]
     },
     "execution_count": 104,
     "metadata": {},
     "output_type": "execute_result"
    }
   ],
   "source": [
    "len(subid),len(features_pos)"
   ]
  },
  {
   "cell_type": "code",
   "execution_count": 106,
   "id": "f6652492",
   "metadata": {},
   "outputs": [],
   "source": [
    "# Create DataFrame\n",
    "scgpt_df = pd.DataFrame(gene_embeddings[features_pos], index=subid)\n",
    "\n",
    "# Rename columns to feature_0, feature_1, ...\n",
    "scgpt_df.columns = [f'feature_{i}' for i in range(scgpt_df.shape[1])]"
   ]
  },
  {
   "cell_type": "code",
   "execution_count": 107,
   "id": "ebf1fd27",
   "metadata": {},
   "outputs": [
    {
     "data": {
      "application/vnd.microsoft.datawrangler.viewer.v0+json": {
       "columns": [
        {
         "name": "index",
         "rawType": "object",
         "type": "string"
        },
        {
         "name": "feature_0",
         "rawType": "float32",
         "type": "float"
        },
        {
         "name": "feature_1",
         "rawType": "float32",
         "type": "float"
        },
        {
         "name": "feature_2",
         "rawType": "float32",
         "type": "float"
        },
        {
         "name": "feature_3",
         "rawType": "float32",
         "type": "float"
        },
        {
         "name": "feature_4",
         "rawType": "float32",
         "type": "float"
        },
        {
         "name": "feature_5",
         "rawType": "float32",
         "type": "float"
        },
        {
         "name": "feature_6",
         "rawType": "float32",
         "type": "float"
        },
        {
         "name": "feature_7",
         "rawType": "float32",
         "type": "float"
        },
        {
         "name": "feature_8",
         "rawType": "float32",
         "type": "float"
        },
        {
         "name": "feature_9",
         "rawType": "float32",
         "type": "float"
        },
        {
         "name": "feature_10",
         "rawType": "float32",
         "type": "float"
        },
        {
         "name": "feature_11",
         "rawType": "float32",
         "type": "float"
        },
        {
         "name": "feature_12",
         "rawType": "float32",
         "type": "float"
        },
        {
         "name": "feature_13",
         "rawType": "float32",
         "type": "float"
        },
        {
         "name": "feature_14",
         "rawType": "float32",
         "type": "float"
        },
        {
         "name": "feature_15",
         "rawType": "float32",
         "type": "float"
        },
        {
         "name": "feature_16",
         "rawType": "float32",
         "type": "float"
        },
        {
         "name": "feature_17",
         "rawType": "float32",
         "type": "float"
        },
        {
         "name": "feature_18",
         "rawType": "float32",
         "type": "float"
        },
        {
         "name": "feature_19",
         "rawType": "float32",
         "type": "float"
        },
        {
         "name": "feature_20",
         "rawType": "float32",
         "type": "float"
        },
        {
         "name": "feature_21",
         "rawType": "float32",
         "type": "float"
        },
        {
         "name": "feature_22",
         "rawType": "float32",
         "type": "float"
        },
        {
         "name": "feature_23",
         "rawType": "float32",
         "type": "float"
        },
        {
         "name": "feature_24",
         "rawType": "float32",
         "type": "float"
        },
        {
         "name": "feature_25",
         "rawType": "float32",
         "type": "float"
        },
        {
         "name": "feature_26",
         "rawType": "float32",
         "type": "float"
        },
        {
         "name": "feature_27",
         "rawType": "float32",
         "type": "float"
        },
        {
         "name": "feature_28",
         "rawType": "float32",
         "type": "float"
        },
        {
         "name": "feature_29",
         "rawType": "float32",
         "type": "float"
        },
        {
         "name": "feature_30",
         "rawType": "float32",
         "type": "float"
        },
        {
         "name": "feature_31",
         "rawType": "float32",
         "type": "float"
        },
        {
         "name": "feature_32",
         "rawType": "float32",
         "type": "float"
        },
        {
         "name": "feature_33",
         "rawType": "float32",
         "type": "float"
        },
        {
         "name": "feature_34",
         "rawType": "float32",
         "type": "float"
        },
        {
         "name": "feature_35",
         "rawType": "float32",
         "type": "float"
        },
        {
         "name": "feature_36",
         "rawType": "float32",
         "type": "float"
        },
        {
         "name": "feature_37",
         "rawType": "float32",
         "type": "float"
        },
        {
         "name": "feature_38",
         "rawType": "float32",
         "type": "float"
        },
        {
         "name": "feature_39",
         "rawType": "float32",
         "type": "float"
        },
        {
         "name": "feature_40",
         "rawType": "float32",
         "type": "float"
        },
        {
         "name": "feature_41",
         "rawType": "float32",
         "type": "float"
        },
        {
         "name": "feature_42",
         "rawType": "float32",
         "type": "float"
        },
        {
         "name": "feature_43",
         "rawType": "float32",
         "type": "float"
        },
        {
         "name": "feature_44",
         "rawType": "float32",
         "type": "float"
        },
        {
         "name": "feature_45",
         "rawType": "float32",
         "type": "float"
        },
        {
         "name": "feature_46",
         "rawType": "float32",
         "type": "float"
        },
        {
         "name": "feature_47",
         "rawType": "float32",
         "type": "float"
        },
        {
         "name": "feature_48",
         "rawType": "float32",
         "type": "float"
        },
        {
         "name": "feature_49",
         "rawType": "float32",
         "type": "float"
        },
        {
         "name": "feature_50",
         "rawType": "float32",
         "type": "float"
        },
        {
         "name": "feature_51",
         "rawType": "float32",
         "type": "float"
        },
        {
         "name": "feature_52",
         "rawType": "float32",
         "type": "float"
        },
        {
         "name": "feature_53",
         "rawType": "float32",
         "type": "float"
        },
        {
         "name": "feature_54",
         "rawType": "float32",
         "type": "float"
        },
        {
         "name": "feature_55",
         "rawType": "float32",
         "type": "float"
        },
        {
         "name": "feature_56",
         "rawType": "float32",
         "type": "float"
        },
        {
         "name": "feature_57",
         "rawType": "float32",
         "type": "float"
        },
        {
         "name": "feature_58",
         "rawType": "float32",
         "type": "float"
        },
        {
         "name": "feature_59",
         "rawType": "float32",
         "type": "float"
        },
        {
         "name": "feature_60",
         "rawType": "float32",
         "type": "float"
        },
        {
         "name": "feature_61",
         "rawType": "float32",
         "type": "float"
        },
        {
         "name": "feature_62",
         "rawType": "float32",
         "type": "float"
        },
        {
         "name": "feature_63",
         "rawType": "float32",
         "type": "float"
        },
        {
         "name": "feature_64",
         "rawType": "float32",
         "type": "float"
        },
        {
         "name": "feature_65",
         "rawType": "float32",
         "type": "float"
        },
        {
         "name": "feature_66",
         "rawType": "float32",
         "type": "float"
        },
        {
         "name": "feature_67",
         "rawType": "float32",
         "type": "float"
        },
        {
         "name": "feature_68",
         "rawType": "float32",
         "type": "float"
        },
        {
         "name": "feature_69",
         "rawType": "float32",
         "type": "float"
        },
        {
         "name": "feature_70",
         "rawType": "float32",
         "type": "float"
        },
        {
         "name": "feature_71",
         "rawType": "float32",
         "type": "float"
        },
        {
         "name": "feature_72",
         "rawType": "float32",
         "type": "float"
        },
        {
         "name": "feature_73",
         "rawType": "float32",
         "type": "float"
        },
        {
         "name": "feature_74",
         "rawType": "float32",
         "type": "float"
        },
        {
         "name": "feature_75",
         "rawType": "float32",
         "type": "float"
        },
        {
         "name": "feature_76",
         "rawType": "float32",
         "type": "float"
        },
        {
         "name": "feature_77",
         "rawType": "float32",
         "type": "float"
        },
        {
         "name": "feature_78",
         "rawType": "float32",
         "type": "float"
        },
        {
         "name": "feature_79",
         "rawType": "float32",
         "type": "float"
        },
        {
         "name": "feature_80",
         "rawType": "float32",
         "type": "float"
        },
        {
         "name": "feature_81",
         "rawType": "float32",
         "type": "float"
        },
        {
         "name": "feature_82",
         "rawType": "float32",
         "type": "float"
        },
        {
         "name": "feature_83",
         "rawType": "float32",
         "type": "float"
        },
        {
         "name": "feature_84",
         "rawType": "float32",
         "type": "float"
        },
        {
         "name": "feature_85",
         "rawType": "float32",
         "type": "float"
        },
        {
         "name": "feature_86",
         "rawType": "float32",
         "type": "float"
        },
        {
         "name": "feature_87",
         "rawType": "float32",
         "type": "float"
        },
        {
         "name": "feature_88",
         "rawType": "float32",
         "type": "float"
        },
        {
         "name": "feature_89",
         "rawType": "float32",
         "type": "float"
        },
        {
         "name": "feature_90",
         "rawType": "float32",
         "type": "float"
        },
        {
         "name": "feature_91",
         "rawType": "float32",
         "type": "float"
        },
        {
         "name": "feature_92",
         "rawType": "float32",
         "type": "float"
        },
        {
         "name": "feature_93",
         "rawType": "float32",
         "type": "float"
        },
        {
         "name": "feature_94",
         "rawType": "float32",
         "type": "float"
        },
        {
         "name": "feature_95",
         "rawType": "float32",
         "type": "float"
        },
        {
         "name": "feature_96",
         "rawType": "float32",
         "type": "float"
        },
        {
         "name": "feature_97",
         "rawType": "float32",
         "type": "float"
        },
        {
         "name": "feature_98",
         "rawType": "float32",
         "type": "float"
        },
        {
         "name": "feature_99",
         "rawType": "float32",
         "type": "float"
        },
        {
         "name": "feature_100",
         "rawType": "float32",
         "type": "float"
        },
        {
         "name": "feature_101",
         "rawType": "float32",
         "type": "float"
        },
        {
         "name": "feature_102",
         "rawType": "float32",
         "type": "float"
        },
        {
         "name": "feature_103",
         "rawType": "float32",
         "type": "float"
        },
        {
         "name": "feature_104",
         "rawType": "float32",
         "type": "float"
        },
        {
         "name": "feature_105",
         "rawType": "float32",
         "type": "float"
        },
        {
         "name": "feature_106",
         "rawType": "float32",
         "type": "float"
        },
        {
         "name": "feature_107",
         "rawType": "float32",
         "type": "float"
        },
        {
         "name": "feature_108",
         "rawType": "float32",
         "type": "float"
        },
        {
         "name": "feature_109",
         "rawType": "float32",
         "type": "float"
        },
        {
         "name": "feature_110",
         "rawType": "float32",
         "type": "float"
        },
        {
         "name": "feature_111",
         "rawType": "float32",
         "type": "float"
        },
        {
         "name": "feature_112",
         "rawType": "float32",
         "type": "float"
        },
        {
         "name": "feature_113",
         "rawType": "float32",
         "type": "float"
        },
        {
         "name": "feature_114",
         "rawType": "float32",
         "type": "float"
        },
        {
         "name": "feature_115",
         "rawType": "float32",
         "type": "float"
        },
        {
         "name": "feature_116",
         "rawType": "float32",
         "type": "float"
        },
        {
         "name": "feature_117",
         "rawType": "float32",
         "type": "float"
        },
        {
         "name": "feature_118",
         "rawType": "float32",
         "type": "float"
        },
        {
         "name": "feature_119",
         "rawType": "float32",
         "type": "float"
        },
        {
         "name": "feature_120",
         "rawType": "float32",
         "type": "float"
        },
        {
         "name": "feature_121",
         "rawType": "float32",
         "type": "float"
        },
        {
         "name": "feature_122",
         "rawType": "float32",
         "type": "float"
        },
        {
         "name": "feature_123",
         "rawType": "float32",
         "type": "float"
        },
        {
         "name": "feature_124",
         "rawType": "float32",
         "type": "float"
        },
        {
         "name": "feature_125",
         "rawType": "float32",
         "type": "float"
        },
        {
         "name": "feature_126",
         "rawType": "float32",
         "type": "float"
        },
        {
         "name": "feature_127",
         "rawType": "float32",
         "type": "float"
        },
        {
         "name": "feature_128",
         "rawType": "float32",
         "type": "float"
        },
        {
         "name": "feature_129",
         "rawType": "float32",
         "type": "float"
        },
        {
         "name": "feature_130",
         "rawType": "float32",
         "type": "float"
        },
        {
         "name": "feature_131",
         "rawType": "float32",
         "type": "float"
        },
        {
         "name": "feature_132",
         "rawType": "float32",
         "type": "float"
        },
        {
         "name": "feature_133",
         "rawType": "float32",
         "type": "float"
        },
        {
         "name": "feature_134",
         "rawType": "float32",
         "type": "float"
        },
        {
         "name": "feature_135",
         "rawType": "float32",
         "type": "float"
        },
        {
         "name": "feature_136",
         "rawType": "float32",
         "type": "float"
        },
        {
         "name": "feature_137",
         "rawType": "float32",
         "type": "float"
        },
        {
         "name": "feature_138",
         "rawType": "float32",
         "type": "float"
        },
        {
         "name": "feature_139",
         "rawType": "float32",
         "type": "float"
        },
        {
         "name": "feature_140",
         "rawType": "float32",
         "type": "float"
        },
        {
         "name": "feature_141",
         "rawType": "float32",
         "type": "float"
        },
        {
         "name": "feature_142",
         "rawType": "float32",
         "type": "float"
        },
        {
         "name": "feature_143",
         "rawType": "float32",
         "type": "float"
        },
        {
         "name": "feature_144",
         "rawType": "float32",
         "type": "float"
        },
        {
         "name": "feature_145",
         "rawType": "float32",
         "type": "float"
        },
        {
         "name": "feature_146",
         "rawType": "float32",
         "type": "float"
        },
        {
         "name": "feature_147",
         "rawType": "float32",
         "type": "float"
        },
        {
         "name": "feature_148",
         "rawType": "float32",
         "type": "float"
        },
        {
         "name": "feature_149",
         "rawType": "float32",
         "type": "float"
        },
        {
         "name": "feature_150",
         "rawType": "float32",
         "type": "float"
        },
        {
         "name": "feature_151",
         "rawType": "float32",
         "type": "float"
        },
        {
         "name": "feature_152",
         "rawType": "float32",
         "type": "float"
        },
        {
         "name": "feature_153",
         "rawType": "float32",
         "type": "float"
        },
        {
         "name": "feature_154",
         "rawType": "float32",
         "type": "float"
        },
        {
         "name": "feature_155",
         "rawType": "float32",
         "type": "float"
        },
        {
         "name": "feature_156",
         "rawType": "float32",
         "type": "float"
        },
        {
         "name": "feature_157",
         "rawType": "float32",
         "type": "float"
        },
        {
         "name": "feature_158",
         "rawType": "float32",
         "type": "float"
        },
        {
         "name": "feature_159",
         "rawType": "float32",
         "type": "float"
        },
        {
         "name": "feature_160",
         "rawType": "float32",
         "type": "float"
        },
        {
         "name": "feature_161",
         "rawType": "float32",
         "type": "float"
        },
        {
         "name": "feature_162",
         "rawType": "float32",
         "type": "float"
        },
        {
         "name": "feature_163",
         "rawType": "float32",
         "type": "float"
        },
        {
         "name": "feature_164",
         "rawType": "float32",
         "type": "float"
        },
        {
         "name": "feature_165",
         "rawType": "float32",
         "type": "float"
        },
        {
         "name": "feature_166",
         "rawType": "float32",
         "type": "float"
        },
        {
         "name": "feature_167",
         "rawType": "float32",
         "type": "float"
        },
        {
         "name": "feature_168",
         "rawType": "float32",
         "type": "float"
        },
        {
         "name": "feature_169",
         "rawType": "float32",
         "type": "float"
        },
        {
         "name": "feature_170",
         "rawType": "float32",
         "type": "float"
        },
        {
         "name": "feature_171",
         "rawType": "float32",
         "type": "float"
        },
        {
         "name": "feature_172",
         "rawType": "float32",
         "type": "float"
        },
        {
         "name": "feature_173",
         "rawType": "float32",
         "type": "float"
        },
        {
         "name": "feature_174",
         "rawType": "float32",
         "type": "float"
        },
        {
         "name": "feature_175",
         "rawType": "float32",
         "type": "float"
        },
        {
         "name": "feature_176",
         "rawType": "float32",
         "type": "float"
        },
        {
         "name": "feature_177",
         "rawType": "float32",
         "type": "float"
        },
        {
         "name": "feature_178",
         "rawType": "float32",
         "type": "float"
        },
        {
         "name": "feature_179",
         "rawType": "float32",
         "type": "float"
        },
        {
         "name": "feature_180",
         "rawType": "float32",
         "type": "float"
        },
        {
         "name": "feature_181",
         "rawType": "float32",
         "type": "float"
        },
        {
         "name": "feature_182",
         "rawType": "float32",
         "type": "float"
        },
        {
         "name": "feature_183",
         "rawType": "float32",
         "type": "float"
        },
        {
         "name": "feature_184",
         "rawType": "float32",
         "type": "float"
        },
        {
         "name": "feature_185",
         "rawType": "float32",
         "type": "float"
        },
        {
         "name": "feature_186",
         "rawType": "float32",
         "type": "float"
        },
        {
         "name": "feature_187",
         "rawType": "float32",
         "type": "float"
        },
        {
         "name": "feature_188",
         "rawType": "float32",
         "type": "float"
        },
        {
         "name": "feature_189",
         "rawType": "float32",
         "type": "float"
        },
        {
         "name": "feature_190",
         "rawType": "float32",
         "type": "float"
        },
        {
         "name": "feature_191",
         "rawType": "float32",
         "type": "float"
        },
        {
         "name": "feature_192",
         "rawType": "float32",
         "type": "float"
        },
        {
         "name": "feature_193",
         "rawType": "float32",
         "type": "float"
        },
        {
         "name": "feature_194",
         "rawType": "float32",
         "type": "float"
        },
        {
         "name": "feature_195",
         "rawType": "float32",
         "type": "float"
        },
        {
         "name": "feature_196",
         "rawType": "float32",
         "type": "float"
        },
        {
         "name": "feature_197",
         "rawType": "float32",
         "type": "float"
        },
        {
         "name": "feature_198",
         "rawType": "float32",
         "type": "float"
        },
        {
         "name": "feature_199",
         "rawType": "float32",
         "type": "float"
        },
        {
         "name": "feature_200",
         "rawType": "float32",
         "type": "float"
        },
        {
         "name": "feature_201",
         "rawType": "float32",
         "type": "float"
        },
        {
         "name": "feature_202",
         "rawType": "float32",
         "type": "float"
        },
        {
         "name": "feature_203",
         "rawType": "float32",
         "type": "float"
        },
        {
         "name": "feature_204",
         "rawType": "float32",
         "type": "float"
        },
        {
         "name": "feature_205",
         "rawType": "float32",
         "type": "float"
        },
        {
         "name": "feature_206",
         "rawType": "float32",
         "type": "float"
        },
        {
         "name": "feature_207",
         "rawType": "float32",
         "type": "float"
        },
        {
         "name": "feature_208",
         "rawType": "float32",
         "type": "float"
        },
        {
         "name": "feature_209",
         "rawType": "float32",
         "type": "float"
        },
        {
         "name": "feature_210",
         "rawType": "float32",
         "type": "float"
        },
        {
         "name": "feature_211",
         "rawType": "float32",
         "type": "float"
        },
        {
         "name": "feature_212",
         "rawType": "float32",
         "type": "float"
        },
        {
         "name": "feature_213",
         "rawType": "float32",
         "type": "float"
        },
        {
         "name": "feature_214",
         "rawType": "float32",
         "type": "float"
        },
        {
         "name": "feature_215",
         "rawType": "float32",
         "type": "float"
        },
        {
         "name": "feature_216",
         "rawType": "float32",
         "type": "float"
        },
        {
         "name": "feature_217",
         "rawType": "float32",
         "type": "float"
        },
        {
         "name": "feature_218",
         "rawType": "float32",
         "type": "float"
        },
        {
         "name": "feature_219",
         "rawType": "float32",
         "type": "float"
        },
        {
         "name": "feature_220",
         "rawType": "float32",
         "type": "float"
        },
        {
         "name": "feature_221",
         "rawType": "float32",
         "type": "float"
        },
        {
         "name": "feature_222",
         "rawType": "float32",
         "type": "float"
        },
        {
         "name": "feature_223",
         "rawType": "float32",
         "type": "float"
        },
        {
         "name": "feature_224",
         "rawType": "float32",
         "type": "float"
        },
        {
         "name": "feature_225",
         "rawType": "float32",
         "type": "float"
        },
        {
         "name": "feature_226",
         "rawType": "float32",
         "type": "float"
        },
        {
         "name": "feature_227",
         "rawType": "float32",
         "type": "float"
        },
        {
         "name": "feature_228",
         "rawType": "float32",
         "type": "float"
        },
        {
         "name": "feature_229",
         "rawType": "float32",
         "type": "float"
        },
        {
         "name": "feature_230",
         "rawType": "float32",
         "type": "float"
        },
        {
         "name": "feature_231",
         "rawType": "float32",
         "type": "float"
        },
        {
         "name": "feature_232",
         "rawType": "float32",
         "type": "float"
        },
        {
         "name": "feature_233",
         "rawType": "float32",
         "type": "float"
        },
        {
         "name": "feature_234",
         "rawType": "float32",
         "type": "float"
        },
        {
         "name": "feature_235",
         "rawType": "float32",
         "type": "float"
        },
        {
         "name": "feature_236",
         "rawType": "float32",
         "type": "float"
        },
        {
         "name": "feature_237",
         "rawType": "float32",
         "type": "float"
        },
        {
         "name": "feature_238",
         "rawType": "float32",
         "type": "float"
        },
        {
         "name": "feature_239",
         "rawType": "float32",
         "type": "float"
        },
        {
         "name": "feature_240",
         "rawType": "float32",
         "type": "float"
        },
        {
         "name": "feature_241",
         "rawType": "float32",
         "type": "float"
        },
        {
         "name": "feature_242",
         "rawType": "float32",
         "type": "float"
        },
        {
         "name": "feature_243",
         "rawType": "float32",
         "type": "float"
        },
        {
         "name": "feature_244",
         "rawType": "float32",
         "type": "float"
        },
        {
         "name": "feature_245",
         "rawType": "float32",
         "type": "float"
        },
        {
         "name": "feature_246",
         "rawType": "float32",
         "type": "float"
        },
        {
         "name": "feature_247",
         "rawType": "float32",
         "type": "float"
        },
        {
         "name": "feature_248",
         "rawType": "float32",
         "type": "float"
        },
        {
         "name": "feature_249",
         "rawType": "float32",
         "type": "float"
        },
        {
         "name": "feature_250",
         "rawType": "float32",
         "type": "float"
        },
        {
         "name": "feature_251",
         "rawType": "float32",
         "type": "float"
        },
        {
         "name": "feature_252",
         "rawType": "float32",
         "type": "float"
        },
        {
         "name": "feature_253",
         "rawType": "float32",
         "type": "float"
        },
        {
         "name": "feature_254",
         "rawType": "float32",
         "type": "float"
        },
        {
         "name": "feature_255",
         "rawType": "float32",
         "type": "float"
        },
        {
         "name": "feature_256",
         "rawType": "float32",
         "type": "float"
        },
        {
         "name": "feature_257",
         "rawType": "float32",
         "type": "float"
        },
        {
         "name": "feature_258",
         "rawType": "float32",
         "type": "float"
        },
        {
         "name": "feature_259",
         "rawType": "float32",
         "type": "float"
        },
        {
         "name": "feature_260",
         "rawType": "float32",
         "type": "float"
        },
        {
         "name": "feature_261",
         "rawType": "float32",
         "type": "float"
        },
        {
         "name": "feature_262",
         "rawType": "float32",
         "type": "float"
        },
        {
         "name": "feature_263",
         "rawType": "float32",
         "type": "float"
        },
        {
         "name": "feature_264",
         "rawType": "float32",
         "type": "float"
        },
        {
         "name": "feature_265",
         "rawType": "float32",
         "type": "float"
        },
        {
         "name": "feature_266",
         "rawType": "float32",
         "type": "float"
        },
        {
         "name": "feature_267",
         "rawType": "float32",
         "type": "float"
        },
        {
         "name": "feature_268",
         "rawType": "float32",
         "type": "float"
        },
        {
         "name": "feature_269",
         "rawType": "float32",
         "type": "float"
        },
        {
         "name": "feature_270",
         "rawType": "float32",
         "type": "float"
        },
        {
         "name": "feature_271",
         "rawType": "float32",
         "type": "float"
        },
        {
         "name": "feature_272",
         "rawType": "float32",
         "type": "float"
        },
        {
         "name": "feature_273",
         "rawType": "float32",
         "type": "float"
        },
        {
         "name": "feature_274",
         "rawType": "float32",
         "type": "float"
        },
        {
         "name": "feature_275",
         "rawType": "float32",
         "type": "float"
        },
        {
         "name": "feature_276",
         "rawType": "float32",
         "type": "float"
        },
        {
         "name": "feature_277",
         "rawType": "float32",
         "type": "float"
        },
        {
         "name": "feature_278",
         "rawType": "float32",
         "type": "float"
        },
        {
         "name": "feature_279",
         "rawType": "float32",
         "type": "float"
        },
        {
         "name": "feature_280",
         "rawType": "float32",
         "type": "float"
        },
        {
         "name": "feature_281",
         "rawType": "float32",
         "type": "float"
        },
        {
         "name": "feature_282",
         "rawType": "float32",
         "type": "float"
        },
        {
         "name": "feature_283",
         "rawType": "float32",
         "type": "float"
        },
        {
         "name": "feature_284",
         "rawType": "float32",
         "type": "float"
        },
        {
         "name": "feature_285",
         "rawType": "float32",
         "type": "float"
        },
        {
         "name": "feature_286",
         "rawType": "float32",
         "type": "float"
        },
        {
         "name": "feature_287",
         "rawType": "float32",
         "type": "float"
        },
        {
         "name": "feature_288",
         "rawType": "float32",
         "type": "float"
        },
        {
         "name": "feature_289",
         "rawType": "float32",
         "type": "float"
        },
        {
         "name": "feature_290",
         "rawType": "float32",
         "type": "float"
        },
        {
         "name": "feature_291",
         "rawType": "float32",
         "type": "float"
        },
        {
         "name": "feature_292",
         "rawType": "float32",
         "type": "float"
        },
        {
         "name": "feature_293",
         "rawType": "float32",
         "type": "float"
        },
        {
         "name": "feature_294",
         "rawType": "float32",
         "type": "float"
        },
        {
         "name": "feature_295",
         "rawType": "float32",
         "type": "float"
        },
        {
         "name": "feature_296",
         "rawType": "float32",
         "type": "float"
        },
        {
         "name": "feature_297",
         "rawType": "float32",
         "type": "float"
        },
        {
         "name": "feature_298",
         "rawType": "float32",
         "type": "float"
        },
        {
         "name": "feature_299",
         "rawType": "float32",
         "type": "float"
        },
        {
         "name": "feature_300",
         "rawType": "float32",
         "type": "float"
        },
        {
         "name": "feature_301",
         "rawType": "float32",
         "type": "float"
        },
        {
         "name": "feature_302",
         "rawType": "float32",
         "type": "float"
        },
        {
         "name": "feature_303",
         "rawType": "float32",
         "type": "float"
        },
        {
         "name": "feature_304",
         "rawType": "float32",
         "type": "float"
        },
        {
         "name": "feature_305",
         "rawType": "float32",
         "type": "float"
        },
        {
         "name": "feature_306",
         "rawType": "float32",
         "type": "float"
        },
        {
         "name": "feature_307",
         "rawType": "float32",
         "type": "float"
        },
        {
         "name": "feature_308",
         "rawType": "float32",
         "type": "float"
        },
        {
         "name": "feature_309",
         "rawType": "float32",
         "type": "float"
        },
        {
         "name": "feature_310",
         "rawType": "float32",
         "type": "float"
        },
        {
         "name": "feature_311",
         "rawType": "float32",
         "type": "float"
        },
        {
         "name": "feature_312",
         "rawType": "float32",
         "type": "float"
        },
        {
         "name": "feature_313",
         "rawType": "float32",
         "type": "float"
        },
        {
         "name": "feature_314",
         "rawType": "float32",
         "type": "float"
        },
        {
         "name": "feature_315",
         "rawType": "float32",
         "type": "float"
        },
        {
         "name": "feature_316",
         "rawType": "float32",
         "type": "float"
        },
        {
         "name": "feature_317",
         "rawType": "float32",
         "type": "float"
        },
        {
         "name": "feature_318",
         "rawType": "float32",
         "type": "float"
        },
        {
         "name": "feature_319",
         "rawType": "float32",
         "type": "float"
        },
        {
         "name": "feature_320",
         "rawType": "float32",
         "type": "float"
        },
        {
         "name": "feature_321",
         "rawType": "float32",
         "type": "float"
        },
        {
         "name": "feature_322",
         "rawType": "float32",
         "type": "float"
        },
        {
         "name": "feature_323",
         "rawType": "float32",
         "type": "float"
        },
        {
         "name": "feature_324",
         "rawType": "float32",
         "type": "float"
        },
        {
         "name": "feature_325",
         "rawType": "float32",
         "type": "float"
        },
        {
         "name": "feature_326",
         "rawType": "float32",
         "type": "float"
        },
        {
         "name": "feature_327",
         "rawType": "float32",
         "type": "float"
        },
        {
         "name": "feature_328",
         "rawType": "float32",
         "type": "float"
        },
        {
         "name": "feature_329",
         "rawType": "float32",
         "type": "float"
        },
        {
         "name": "feature_330",
         "rawType": "float32",
         "type": "float"
        },
        {
         "name": "feature_331",
         "rawType": "float32",
         "type": "float"
        },
        {
         "name": "feature_332",
         "rawType": "float32",
         "type": "float"
        },
        {
         "name": "feature_333",
         "rawType": "float32",
         "type": "float"
        },
        {
         "name": "feature_334",
         "rawType": "float32",
         "type": "float"
        },
        {
         "name": "feature_335",
         "rawType": "float32",
         "type": "float"
        },
        {
         "name": "feature_336",
         "rawType": "float32",
         "type": "float"
        },
        {
         "name": "feature_337",
         "rawType": "float32",
         "type": "float"
        },
        {
         "name": "feature_338",
         "rawType": "float32",
         "type": "float"
        },
        {
         "name": "feature_339",
         "rawType": "float32",
         "type": "float"
        },
        {
         "name": "feature_340",
         "rawType": "float32",
         "type": "float"
        },
        {
         "name": "feature_341",
         "rawType": "float32",
         "type": "float"
        },
        {
         "name": "feature_342",
         "rawType": "float32",
         "type": "float"
        },
        {
         "name": "feature_343",
         "rawType": "float32",
         "type": "float"
        },
        {
         "name": "feature_344",
         "rawType": "float32",
         "type": "float"
        },
        {
         "name": "feature_345",
         "rawType": "float32",
         "type": "float"
        },
        {
         "name": "feature_346",
         "rawType": "float32",
         "type": "float"
        },
        {
         "name": "feature_347",
         "rawType": "float32",
         "type": "float"
        },
        {
         "name": "feature_348",
         "rawType": "float32",
         "type": "float"
        },
        {
         "name": "feature_349",
         "rawType": "float32",
         "type": "float"
        },
        {
         "name": "feature_350",
         "rawType": "float32",
         "type": "float"
        },
        {
         "name": "feature_351",
         "rawType": "float32",
         "type": "float"
        },
        {
         "name": "feature_352",
         "rawType": "float32",
         "type": "float"
        },
        {
         "name": "feature_353",
         "rawType": "float32",
         "type": "float"
        },
        {
         "name": "feature_354",
         "rawType": "float32",
         "type": "float"
        },
        {
         "name": "feature_355",
         "rawType": "float32",
         "type": "float"
        },
        {
         "name": "feature_356",
         "rawType": "float32",
         "type": "float"
        },
        {
         "name": "feature_357",
         "rawType": "float32",
         "type": "float"
        },
        {
         "name": "feature_358",
         "rawType": "float32",
         "type": "float"
        },
        {
         "name": "feature_359",
         "rawType": "float32",
         "type": "float"
        },
        {
         "name": "feature_360",
         "rawType": "float32",
         "type": "float"
        },
        {
         "name": "feature_361",
         "rawType": "float32",
         "type": "float"
        },
        {
         "name": "feature_362",
         "rawType": "float32",
         "type": "float"
        },
        {
         "name": "feature_363",
         "rawType": "float32",
         "type": "float"
        },
        {
         "name": "feature_364",
         "rawType": "float32",
         "type": "float"
        },
        {
         "name": "feature_365",
         "rawType": "float32",
         "type": "float"
        },
        {
         "name": "feature_366",
         "rawType": "float32",
         "type": "float"
        },
        {
         "name": "feature_367",
         "rawType": "float32",
         "type": "float"
        },
        {
         "name": "feature_368",
         "rawType": "float32",
         "type": "float"
        },
        {
         "name": "feature_369",
         "rawType": "float32",
         "type": "float"
        },
        {
         "name": "feature_370",
         "rawType": "float32",
         "type": "float"
        },
        {
         "name": "feature_371",
         "rawType": "float32",
         "type": "float"
        },
        {
         "name": "feature_372",
         "rawType": "float32",
         "type": "float"
        },
        {
         "name": "feature_373",
         "rawType": "float32",
         "type": "float"
        },
        {
         "name": "feature_374",
         "rawType": "float32",
         "type": "float"
        },
        {
         "name": "feature_375",
         "rawType": "float32",
         "type": "float"
        },
        {
         "name": "feature_376",
         "rawType": "float32",
         "type": "float"
        },
        {
         "name": "feature_377",
         "rawType": "float32",
         "type": "float"
        },
        {
         "name": "feature_378",
         "rawType": "float32",
         "type": "float"
        },
        {
         "name": "feature_379",
         "rawType": "float32",
         "type": "float"
        },
        {
         "name": "feature_380",
         "rawType": "float32",
         "type": "float"
        },
        {
         "name": "feature_381",
         "rawType": "float32",
         "type": "float"
        },
        {
         "name": "feature_382",
         "rawType": "float32",
         "type": "float"
        },
        {
         "name": "feature_383",
         "rawType": "float32",
         "type": "float"
        },
        {
         "name": "feature_384",
         "rawType": "float32",
         "type": "float"
        },
        {
         "name": "feature_385",
         "rawType": "float32",
         "type": "float"
        },
        {
         "name": "feature_386",
         "rawType": "float32",
         "type": "float"
        },
        {
         "name": "feature_387",
         "rawType": "float32",
         "type": "float"
        },
        {
         "name": "feature_388",
         "rawType": "float32",
         "type": "float"
        },
        {
         "name": "feature_389",
         "rawType": "float32",
         "type": "float"
        },
        {
         "name": "feature_390",
         "rawType": "float32",
         "type": "float"
        },
        {
         "name": "feature_391",
         "rawType": "float32",
         "type": "float"
        },
        {
         "name": "feature_392",
         "rawType": "float32",
         "type": "float"
        },
        {
         "name": "feature_393",
         "rawType": "float32",
         "type": "float"
        },
        {
         "name": "feature_394",
         "rawType": "float32",
         "type": "float"
        },
        {
         "name": "feature_395",
         "rawType": "float32",
         "type": "float"
        },
        {
         "name": "feature_396",
         "rawType": "float32",
         "type": "float"
        },
        {
         "name": "feature_397",
         "rawType": "float32",
         "type": "float"
        },
        {
         "name": "feature_398",
         "rawType": "float32",
         "type": "float"
        },
        {
         "name": "feature_399",
         "rawType": "float32",
         "type": "float"
        },
        {
         "name": "feature_400",
         "rawType": "float32",
         "type": "float"
        },
        {
         "name": "feature_401",
         "rawType": "float32",
         "type": "float"
        },
        {
         "name": "feature_402",
         "rawType": "float32",
         "type": "float"
        },
        {
         "name": "feature_403",
         "rawType": "float32",
         "type": "float"
        },
        {
         "name": "feature_404",
         "rawType": "float32",
         "type": "float"
        },
        {
         "name": "feature_405",
         "rawType": "float32",
         "type": "float"
        },
        {
         "name": "feature_406",
         "rawType": "float32",
         "type": "float"
        },
        {
         "name": "feature_407",
         "rawType": "float32",
         "type": "float"
        },
        {
         "name": "feature_408",
         "rawType": "float32",
         "type": "float"
        },
        {
         "name": "feature_409",
         "rawType": "float32",
         "type": "float"
        },
        {
         "name": "feature_410",
         "rawType": "float32",
         "type": "float"
        },
        {
         "name": "feature_411",
         "rawType": "float32",
         "type": "float"
        },
        {
         "name": "feature_412",
         "rawType": "float32",
         "type": "float"
        },
        {
         "name": "feature_413",
         "rawType": "float32",
         "type": "float"
        },
        {
         "name": "feature_414",
         "rawType": "float32",
         "type": "float"
        },
        {
         "name": "feature_415",
         "rawType": "float32",
         "type": "float"
        },
        {
         "name": "feature_416",
         "rawType": "float32",
         "type": "float"
        },
        {
         "name": "feature_417",
         "rawType": "float32",
         "type": "float"
        },
        {
         "name": "feature_418",
         "rawType": "float32",
         "type": "float"
        },
        {
         "name": "feature_419",
         "rawType": "float32",
         "type": "float"
        },
        {
         "name": "feature_420",
         "rawType": "float32",
         "type": "float"
        },
        {
         "name": "feature_421",
         "rawType": "float32",
         "type": "float"
        },
        {
         "name": "feature_422",
         "rawType": "float32",
         "type": "float"
        },
        {
         "name": "feature_423",
         "rawType": "float32",
         "type": "float"
        },
        {
         "name": "feature_424",
         "rawType": "float32",
         "type": "float"
        },
        {
         "name": "feature_425",
         "rawType": "float32",
         "type": "float"
        },
        {
         "name": "feature_426",
         "rawType": "float32",
         "type": "float"
        },
        {
         "name": "feature_427",
         "rawType": "float32",
         "type": "float"
        },
        {
         "name": "feature_428",
         "rawType": "float32",
         "type": "float"
        },
        {
         "name": "feature_429",
         "rawType": "float32",
         "type": "float"
        },
        {
         "name": "feature_430",
         "rawType": "float32",
         "type": "float"
        },
        {
         "name": "feature_431",
         "rawType": "float32",
         "type": "float"
        },
        {
         "name": "feature_432",
         "rawType": "float32",
         "type": "float"
        },
        {
         "name": "feature_433",
         "rawType": "float32",
         "type": "float"
        },
        {
         "name": "feature_434",
         "rawType": "float32",
         "type": "float"
        },
        {
         "name": "feature_435",
         "rawType": "float32",
         "type": "float"
        },
        {
         "name": "feature_436",
         "rawType": "float32",
         "type": "float"
        },
        {
         "name": "feature_437",
         "rawType": "float32",
         "type": "float"
        },
        {
         "name": "feature_438",
         "rawType": "float32",
         "type": "float"
        },
        {
         "name": "feature_439",
         "rawType": "float32",
         "type": "float"
        },
        {
         "name": "feature_440",
         "rawType": "float32",
         "type": "float"
        },
        {
         "name": "feature_441",
         "rawType": "float32",
         "type": "float"
        },
        {
         "name": "feature_442",
         "rawType": "float32",
         "type": "float"
        },
        {
         "name": "feature_443",
         "rawType": "float32",
         "type": "float"
        },
        {
         "name": "feature_444",
         "rawType": "float32",
         "type": "float"
        },
        {
         "name": "feature_445",
         "rawType": "float32",
         "type": "float"
        },
        {
         "name": "feature_446",
         "rawType": "float32",
         "type": "float"
        },
        {
         "name": "feature_447",
         "rawType": "float32",
         "type": "float"
        },
        {
         "name": "feature_448",
         "rawType": "float32",
         "type": "float"
        },
        {
         "name": "feature_449",
         "rawType": "float32",
         "type": "float"
        },
        {
         "name": "feature_450",
         "rawType": "float32",
         "type": "float"
        },
        {
         "name": "feature_451",
         "rawType": "float32",
         "type": "float"
        },
        {
         "name": "feature_452",
         "rawType": "float32",
         "type": "float"
        },
        {
         "name": "feature_453",
         "rawType": "float32",
         "type": "float"
        },
        {
         "name": "feature_454",
         "rawType": "float32",
         "type": "float"
        },
        {
         "name": "feature_455",
         "rawType": "float32",
         "type": "float"
        },
        {
         "name": "feature_456",
         "rawType": "float32",
         "type": "float"
        },
        {
         "name": "feature_457",
         "rawType": "float32",
         "type": "float"
        },
        {
         "name": "feature_458",
         "rawType": "float32",
         "type": "float"
        },
        {
         "name": "feature_459",
         "rawType": "float32",
         "type": "float"
        },
        {
         "name": "feature_460",
         "rawType": "float32",
         "type": "float"
        },
        {
         "name": "feature_461",
         "rawType": "float32",
         "type": "float"
        },
        {
         "name": "feature_462",
         "rawType": "float32",
         "type": "float"
        },
        {
         "name": "feature_463",
         "rawType": "float32",
         "type": "float"
        },
        {
         "name": "feature_464",
         "rawType": "float32",
         "type": "float"
        },
        {
         "name": "feature_465",
         "rawType": "float32",
         "type": "float"
        },
        {
         "name": "feature_466",
         "rawType": "float32",
         "type": "float"
        },
        {
         "name": "feature_467",
         "rawType": "float32",
         "type": "float"
        },
        {
         "name": "feature_468",
         "rawType": "float32",
         "type": "float"
        },
        {
         "name": "feature_469",
         "rawType": "float32",
         "type": "float"
        },
        {
         "name": "feature_470",
         "rawType": "float32",
         "type": "float"
        },
        {
         "name": "feature_471",
         "rawType": "float32",
         "type": "float"
        },
        {
         "name": "feature_472",
         "rawType": "float32",
         "type": "float"
        },
        {
         "name": "feature_473",
         "rawType": "float32",
         "type": "float"
        },
        {
         "name": "feature_474",
         "rawType": "float32",
         "type": "float"
        },
        {
         "name": "feature_475",
         "rawType": "float32",
         "type": "float"
        },
        {
         "name": "feature_476",
         "rawType": "float32",
         "type": "float"
        },
        {
         "name": "feature_477",
         "rawType": "float32",
         "type": "float"
        },
        {
         "name": "feature_478",
         "rawType": "float32",
         "type": "float"
        },
        {
         "name": "feature_479",
         "rawType": "float32",
         "type": "float"
        },
        {
         "name": "feature_480",
         "rawType": "float32",
         "type": "float"
        },
        {
         "name": "feature_481",
         "rawType": "float32",
         "type": "float"
        },
        {
         "name": "feature_482",
         "rawType": "float32",
         "type": "float"
        },
        {
         "name": "feature_483",
         "rawType": "float32",
         "type": "float"
        },
        {
         "name": "feature_484",
         "rawType": "float32",
         "type": "float"
        },
        {
         "name": "feature_485",
         "rawType": "float32",
         "type": "float"
        },
        {
         "name": "feature_486",
         "rawType": "float32",
         "type": "float"
        },
        {
         "name": "feature_487",
         "rawType": "float32",
         "type": "float"
        },
        {
         "name": "feature_488",
         "rawType": "float32",
         "type": "float"
        },
        {
         "name": "feature_489",
         "rawType": "float32",
         "type": "float"
        },
        {
         "name": "feature_490",
         "rawType": "float32",
         "type": "float"
        },
        {
         "name": "feature_491",
         "rawType": "float32",
         "type": "float"
        },
        {
         "name": "feature_492",
         "rawType": "float32",
         "type": "float"
        },
        {
         "name": "feature_493",
         "rawType": "float32",
         "type": "float"
        },
        {
         "name": "feature_494",
         "rawType": "float32",
         "type": "float"
        },
        {
         "name": "feature_495",
         "rawType": "float32",
         "type": "float"
        },
        {
         "name": "feature_496",
         "rawType": "float32",
         "type": "float"
        },
        {
         "name": "feature_497",
         "rawType": "float32",
         "type": "float"
        },
        {
         "name": "feature_498",
         "rawType": "float32",
         "type": "float"
        },
        {
         "name": "feature_499",
         "rawType": "float32",
         "type": "float"
        },
        {
         "name": "feature_500",
         "rawType": "float32",
         "type": "float"
        },
        {
         "name": "feature_501",
         "rawType": "float32",
         "type": "float"
        },
        {
         "name": "feature_502",
         "rawType": "float32",
         "type": "float"
        },
        {
         "name": "feature_503",
         "rawType": "float32",
         "type": "float"
        },
        {
         "name": "feature_504",
         "rawType": "float32",
         "type": "float"
        },
        {
         "name": "feature_505",
         "rawType": "float32",
         "type": "float"
        },
        {
         "name": "feature_506",
         "rawType": "float32",
         "type": "float"
        },
        {
         "name": "feature_507",
         "rawType": "float32",
         "type": "float"
        },
        {
         "name": "feature_508",
         "rawType": "float32",
         "type": "float"
        },
        {
         "name": "feature_509",
         "rawType": "float32",
         "type": "float"
        },
        {
         "name": "feature_510",
         "rawType": "float32",
         "type": "float"
        },
        {
         "name": "feature_511",
         "rawType": "float32",
         "type": "float"
        }
       ],
       "ref": "6dd511d9-7a23-4854-b35f-ee20979272fd",
       "rows": [
        [
         "PYDC1",
         "1.064177",
         "-1.2499819",
         "0.6296826",
         "-1.5382785",
         "0.18007573",
         "-0.94964063",
         "0.40324646",
         "0.2865242",
         "-0.1338555",
         "-0.3793183",
         "1.0169647",
         "-0.10113358",
         "0.57757074",
         "0.77441525",
         "0.65530473",
         "-1.8741908",
         "3.1110916",
         "0.96826",
         "0.36347255",
         "-0.49680513",
         "-0.8064006",
         "1.1610805",
         "0.7965478",
         "0.81654584",
         "-0.21709362",
         "0.21561274",
         "-0.8471063",
         "0.30723253",
         "0.7607929",
         "-0.858557",
         "1.6021049",
         "-0.17863695",
         "0.41056067",
         "1.0122783",
         "0.7635909",
         "2.123674",
         "0.09160332",
         "0.8258095",
         "-0.59093976",
         "2.5066252",
         "1.5492338",
         "0.17217468",
         "1.4304774",
         "1.8106511",
         "0.15672636",
         "0.025079012",
         "0.22609496",
         "-1.3449917",
         "-0.26974365",
         "0.27801764",
         "1.4478401",
         "0.2007501",
         "1.634802",
         "0.7112249",
         "0.474051",
         "0.5570437",
         "-0.23338549",
         "-0.15386382",
         "-0.23990357",
         "0.46879935",
         "-0.59754103",
         "-1.0664451",
         "-1.5190234",
         "2.9834929",
         "-1.3364705",
         "2.2727954",
         "-2.7761924",
         "-0.7285871",
         "1.0845841",
         "-0.7766708",
         "0.7599161",
         "-0.88087356",
         "-1.605837",
         "0.75257933",
         "-0.03172043",
         "1.1064105",
         "-1.1593171",
         "0.6955251",
         "-0.7479776",
         "-2.5144355",
         "0.85874814",
         "0.3779092",
         "1.454018",
         "-0.37241414",
         "-2.5290725",
         "-0.582517",
         "-1.274851",
         "-1.2949055",
         "0.09440531",
         "0.81118643",
         "-0.47072583",
         "-0.20830865",
         "2.0589757",
         "-1.2071708",
         "-0.17172909",
         "-0.45079863",
         "-1.0301046",
         "-1.4854916",
         "-3.1176925",
         "0.75170636",
         "-1.7040061",
         "-0.5725122",
         "0.7368736",
         "0.9422167",
         "-1.4824389",
         "0.5385875",
         "0.28272027",
         "0.84961915",
         "-0.43987828",
         "0.6362171",
         "0.8287483",
         "-0.420367",
         "-1.0927786",
         "0.9104207",
         "0.40515262",
         "-0.93950653",
         "-2.3364053",
         "0.102836",
         "-1.2591254",
         "-0.62375975",
         "-1.1882888",
         "-0.4705047",
         "0.6705564",
         "-1.4820665",
         "-0.15476842",
         "-1.0659504",
         "-0.013776155",
         "-0.946281",
         "0.5898121",
         "0.23813556",
         "-0.3608537",
         "-1.1441119",
         "-1.863189",
         "-0.27780628",
         "-0.33722997",
         "0.44409382",
         "1.0064145",
         "-1.5971545",
         "-0.40151614",
         "-1.1345444",
         "-1.3637033",
         "0.5348805",
         "0.24165462",
         "-0.31038377",
         "-1.8795388",
         "0.27304238",
         "-1.2671803",
         "1.0046303",
         "-0.6152086",
         "0.34308982",
         "0.90889305",
         "-1.0179259",
         "1.5235323",
         "1.4912854",
         "-2.0575879",
         "-0.17817332",
         "1.3529075",
         "-0.87419975",
         "0.52598166",
         "-0.5017413",
         "1.502905",
         "0.5763097",
         "-1.9138353",
         "-2.1297936",
         "-0.52185225",
         "-0.45219976",
         "0.79518086",
         "-0.39241484",
         "0.36846432",
         "0.7618868",
         "-0.2285584",
         "-0.40588608",
         "-0.51635385",
         "1.3652385",
         "0.21099703",
         "-2.515853",
         "-0.51356006",
         "0.86108476",
         "0.48626366",
         "2.09716",
         "-0.09445727",
         "1.7439547",
         "0.06684506",
         "1.7343322",
         "0.5578321",
         "2.9604523",
         "0.052374713",
         "-0.23731579",
         "-1.0161649",
         "-1.7241604",
         "1.9091793",
         "-0.31071472",
         "0.3536146",
         "-0.11427562",
         "0.099124864",
         "1.289854",
         "0.42847598",
         "-0.39481896",
         "-0.16770081",
         "-1.8430165",
         "-1.3342903",
         "1.8977637",
         "-0.4110161",
         "-0.77071023",
         "0.34989786",
         "1.3000131",
         "-0.039909955",
         "0.80831945",
         "0.3741948",
         "-0.81805736",
         "-0.07833275",
         "-1.3876758",
         "0.35970673",
         "-0.73990023",
         "0.8592937",
         "-1.2760205",
         "-1.6489637",
         "-0.55621624",
         "0.22182897",
         "0.595477",
         "-0.75196505",
         "-1.1487296",
         "-1.136842",
         "0.31771347",
         "-0.18313207",
         "-1.1794409",
         "-1.8888537",
         "-2.6621106",
         "-1.9516122",
         "0.7472528",
         "-0.34434018",
         "2.2562332",
         "1.1309929",
         "-0.17796214",
         "0.06921194",
         "2.5685985",
         "0.6038851",
         "0.96938795",
         "1.2249559",
         "0.44486144",
         "0.85243237",
         "-0.89834887",
         "-0.43670774",
         "0.18145743",
         "0.5983034",
         "0.12893559",
         "-0.8512291",
         "-0.89157",
         "-0.4805657",
         "-2.402337",
         "-2.145011",
         "0.7950762",
         "0.23683964",
         "1.4263638",
         "-0.4547749",
         "-1.4129901",
         "-2.089738",
         "0.40460843",
         "-1.279479",
         "1.2596868",
         "0.13061342",
         "0.29439172",
         "0.8797922",
         "1.0385449",
         "1.589723",
         "-0.68434125",
         "0.068798386",
         "-0.6046296",
         "-1.6250185",
         "-0.24121095",
         "1.3410485",
         "1.8252964",
         "-0.93390304",
         "0.020935226",
         "-0.6529101",
         "-1.71527",
         "1.0037221",
         "-0.33401847",
         "-0.6936161",
         "-0.40238604",
         "-0.5286267",
         "2.4757414",
         "-0.14128906",
         "0.3264594",
         "0.019371867",
         "-2.456949",
         "2.9109373",
         "0.58444184",
         "0.3673138",
         "-1.7830925",
         "0.55996907",
         "-2.4488258",
         "0.34231272",
         "0.58039325",
         "0.08366769",
         "-0.21236011",
         "0.6650791",
         "-0.80167574",
         "0.5488605",
         "1.2798676",
         "3.1066878",
         "-0.5144386",
         "0.879802",
         "-1.3282617",
         "0.3647412",
         "0.38941002",
         "0.45932692",
         "0.23077723",
         "2.8157163",
         "0.0040352275",
         "-0.1951643",
         "-1.5474844",
         "0.47328177",
         "-1.9978982",
         "0.2967315",
         "1.4095293",
         "-0.37175903",
         "-0.3071474",
         "0.7439797",
         "-1.0047901",
         "-0.35481387",
         "0.15227674",
         "-1.2730173",
         "-2.4599395",
         "1.2290593",
         "-0.102692276",
         "-0.9931564",
         "0.26501712",
         "0.06031829",
         "-0.36979318",
         "-1.1352797",
         "0.16638152",
         "-0.4366032",
         "1.9515451",
         "0.9946119",
         "-1.4863098",
         "-0.79456806",
         "0.7584299",
         "-1.7941808",
         "-0.70925844",
         "0.78946465",
         "-2.4827945",
         "-0.7570986",
         "0.7556397",
         "1.2564024",
         "-0.9171431",
         "-1.0198576",
         "-0.07104526",
         "-0.03019106",
         "-0.14549762",
         "0.7262502",
         "-1.9251124",
         "1.6887537",
         "0.7416947",
         "-0.4560015",
         "-1.0500385",
         "1.372192",
         "-1.0813845",
         "1.0548568",
         "-0.8049623",
         "0.05900768",
         "0.19787286",
         "0.25513995",
         "-0.6699211",
         "0.62696886",
         "-0.9856805",
         "-0.31655675",
         "-1.3104051",
         "-1.0673785",
         "0.59885293",
         "-0.6431407",
         "0.29646647",
         "1.9530044",
         "-0.014078625",
         "-0.7670853",
         "-0.24640036",
         "0.27345198",
         "-0.9894064",
         "0.41795507",
         "1.760555",
         "2.234879",
         "-0.844592",
         "0.18033895",
         "-1.0221487",
         "1.6326417",
         "-0.43905407",
         "0.1758474",
         "0.74609506",
         "0.55170876",
         "-0.29679707",
         "1.714634",
         "0.7847847",
         "-0.8991429",
         "1.568001",
         "0.14847866",
         "-1.7959297",
         "0.22582513",
         "0.85541385",
         "-0.17993899",
         "-0.80415344",
         "0.7487375",
         "1.0768898",
         "0.58811873",
         "0.13576654",
         "-1.3294231",
         "-1.0274671",
         "1.4221959",
         "-1.4955792",
         "-0.3016325",
         "-0.86978436",
         "3.2984588",
         "0.5452997",
         "0.85120463",
         "1.3478051",
         "0.9788654",
         "0.42232433",
         "0.15904453",
         "-0.7990371",
         "-1.4803611",
         "0.049558707",
         "-1.080106",
         "-1.1943003",
         "0.06974573",
         "0.817086",
         "0.6851445",
         "-0.5100497",
         "0.8012464",
         "-1.0258328",
         "0.8088768",
         "0.2648534",
         "-0.20561019",
         "0.29669803",
         "2.1302888",
         "-0.056622554",
         "0.6982749",
         "-1.3487945",
         "0.76548976",
         "-1.6200529",
         "1.7543161",
         "-1.106389",
         "-0.36128077",
         "-2.2793822",
         "-0.581749",
         "-0.9677515",
         "-0.18277122",
         "-0.5897069",
         "0.3630595",
         "-1.1040316",
         "-0.08076884",
         "-0.8019498",
         "-0.5941548",
         "-1.5590757",
         "-0.41282687",
         "3.5308561",
         "-0.24907048",
         "0.3928846",
         "-0.7776813",
         "-1.0707594",
         "1.7229922",
         "1.4775075",
         "1.7775531",
         "1.7339727",
         "-0.21469902",
         "1.3729337",
         "-0.23773095",
         "-0.4491069",
         "1.3874978",
         "-0.34568223",
         "-0.7669228",
         "1.1248134",
         "0.54182976",
         "-0.16911031",
         "0.41951433",
         "1.6352525",
         "-0.42713568",
         "1.4509649",
         "-0.5898938",
         "0.7238635",
         "-0.6891217",
         "-1.2827688",
         "0.49465576",
         "-0.6311005",
         "0.085297935",
         "1.193192",
         "1.3780191",
         "1.9248306",
         "1.1253617",
         "-1.2531214",
         "1.4368496",
         "0.8768113",
         "-0.38191694",
         "0.5796635",
         "-0.16063638",
         "-1.1293099",
         "2.6676717",
         "-1.0230554",
         "-0.031463604",
         "2.996776",
         "1.765769",
         "-0.47405878",
         "0.65374136",
         "1.3933116",
         "-0.13649043",
         "-0.5627796",
         "-2.2179034",
         "0.49957013",
         "0.7979489",
         "-0.81031096",
         "0.36473727",
         "-1.1090833",
         "-0.2639033",
         "-1.4377879"
        ],
        [
         "PYCR3",
         "-0.50075215",
         "1.5077778",
         "1.8053083",
         "-1.2613064",
         "-0.9088358",
         "-0.7522322",
         "-1.6942439",
         "1.8702955",
         "-1.3829036",
         "-1.9597574",
         "0.24390766",
         "-1.7194009",
         "0.3787205",
         "1.0172497",
         "1.0181268",
         "0.6185",
         "-1.4458287",
         "-0.3410907",
         "1.1280707",
         "0.17295697",
         "2.4635382",
         "0.19558145",
         "1.0292336",
         "-1.91429",
         "0.67667985",
         "1.6232611",
         "1.2134825",
         "-1.2795714",
         "-0.40473616",
         "-0.96704084",
         "2.5451064",
         "1.1568675",
         "1.7411231",
         "-1.2866187",
         "-1.3489206",
         "-0.008114017",
         "0.20428093",
         "0.01728703",
         "1.7591745",
         "-0.7254646",
         "-0.5270307",
         "-1.0840038",
         "-1.4562739",
         "0.4415011",
         "-0.8524876",
         "-0.07158285",
         "1.6399419",
         "0.80437946",
         "0.1527254",
         "0.7478443",
         "0.56533056",
         "1.3096727",
         "0.17910396",
         "0.73112667",
         "-0.16554727",
         "0.30882782",
         "0.6384183",
         "0.35649806",
         "0.50455886",
         "0.27449608",
         "-0.635922",
         "-0.5145824",
         "-1.6007111",
         "-1.6474885",
         "-1.3248249",
         "-0.6299303",
         "-0.25762922",
         "1.4790716",
         "0.5433383",
         "-0.26578408",
         "-0.7491298",
         "0.76054",
         "0.79970783",
         "1.7812283",
         "0.7295348",
         "1.5824468",
         "1.0831325",
         "-0.7379966",
         "0.12037629",
         "1.3931459",
         "0.10228849",
         "-1.2928121",
         "0.58605915",
         "-0.9771756",
         "-0.10835097",
         "1.063083",
         "0.71101224",
         "-0.079402015",
         "0.8623352",
         "-1.1016906",
         "-1.4276974",
         "0.8528519",
         "1.9432054",
         "-2.1716714",
         "-0.19187209",
         "-0.4424432",
         "-0.21405104",
         "-0.64599735",
         "-1.4043813",
         "-1.3895822",
         "1.6761522",
         "0.9148178",
         "-0.52323145",
         "0.6286008",
         "-1.3559777",
         "-1.7305013",
         "-1.747403",
         "-0.1419506",
         "0.6968919",
         "-1.1835799",
         "1.5010334",
         "-0.14425562",
         "-0.41185698",
         "1.058104",
         "1.5535104",
         "1.1700093",
         "0.24087463",
         "1.799223",
         "-1.068994",
         "-1.4976529",
         "0.70856327",
         "1.753975",
         "1.3996055",
         "-0.5729992",
         "-0.700782",
         "-0.16792195",
         "0.40770847",
         "-1.898623",
         "2.2445025",
         "-0.9958771",
         "1.8116034",
         "-1.8522648",
         "1.2098308",
         "1.2069993",
         "0.1329813",
         "0.61601675",
         "-0.013233773",
         "0.904743",
         "1.7232649",
         "-1.8731393",
         "1.4946017",
         "0.6879324",
         "-0.90390944",
         "1.2793431",
         "0.62727433",
         "-1.3968784",
         "0.16860378",
         "-1.4253743",
         "1.7833928",
         "-0.5696914",
         "0.58490515",
         "-0.74387383",
         "-0.7823836",
         "-0.64645064",
         "0.6696043",
         "1.29031",
         "-0.4383436",
         "-0.5761024",
         "-0.033899643",
         "-0.8427287",
         "-0.94855434",
         "1.7963799",
         "1.1888762",
         "-1.3546628",
         "0.15151308",
         "-0.1747872",
         "0.06606601",
         "0.874408",
         "-1.3330044",
         "0.18850775",
         "-1.0997283",
         "1.1220654",
         "-0.09957436",
         "0.4441348",
         "-0.6807859",
         "-0.9369732",
         "1.1489352",
         "-0.6197021",
         "1.3426123",
         "1.3149226",
         "0.29257724",
         "-0.42289522",
         "-0.6765761",
         "2.5496628",
         "1.4322356",
         "0.27873027",
         "-0.11387355",
         "-0.4875764",
         "-1.3838333",
         "-0.39980313",
         "0.5904653",
         "0.62190205",
         "0.39778966",
         "0.43193206",
         "-0.6071081",
         "-2.1685202",
         "-2.0306118",
         "0.9908431",
         "0.69965106",
         "0.6003627",
         "1.1743464",
         "1.5250314",
         "-0.90403205",
         "0.9371085",
         "1.9956677",
         "1.3035557",
         "-0.08395759",
         "0.3522763",
         "1.5790576",
         "1.8995365",
         "1.3241707",
         "-0.91870606",
         "0.25600094",
         "-1.5150406",
         "-0.5059531",
         "-1.2348588",
         "-1.0940219",
         "0.37758172",
         "-0.38705242",
         "-1.8112975",
         "-0.093061",
         "1.576663",
         "1.4269934",
         "0.28825605",
         "-1.4956868",
         "-1.6280675",
         "0.14436623",
         "-0.7981878",
         "1.0716163",
         "-0.2766082",
         "-1.557557",
         "-1.0936874",
         "-0.6562518",
         "0.18347768",
         "0.37088868",
         "-0.56491196",
         "1.6411004",
         "1.1965086",
         "-1.4060879",
         "0.18280661",
         "-0.36176124",
         "-0.95906407",
         "-1.5929508",
         "-0.33313498",
         "-0.41082582",
         "-1.4128475",
         "0.05783457",
         "1.0379199",
         "-1.981563",
         "1.5260525",
         "-1.5342106",
         "0.23970656",
         "-0.2831338",
         "-1.8581853",
         "-0.04591518",
         "-0.060709562",
         "0.7655258",
         "-0.63450813",
         "-0.121644944",
         "0.2996899",
         "0.18026829",
         "0.6458412",
         "1.1130279",
         "1.0153334",
         "1.7255281",
         "1.5869358",
         "0.8851379",
         "0.78975344",
         "-1.1908569",
         "-1.1857924",
         "1.2978047",
         "-0.11196476",
         "0.65601987",
         "0.9054588",
         "-0.37215984",
         "1.0491638",
         "-0.85155195",
         "-0.33667785",
         "0.86818933",
         "-0.25372306",
         "1.1512179",
         "1.1714094",
         "0.0131954",
         "-0.82165766",
         "-0.9145098",
         "1.7038094",
         "-1.0715009",
         "0.015455268",
         "0.05229372",
         "-1.7587074",
         "-0.95404387",
         "-1.1512668",
         "0.6489633",
         "0.44512236",
         "1.0124396",
         "0.21352632",
         "0.80186015",
         "-1.3724841",
         "-0.6449881",
         "-1.1705254",
         "1.0408446",
         "-0.44909716",
         "0.5158406",
         "-0.4416663",
         "-0.20120828",
         "0.2581783",
         "1.1387306",
         "0.48986176",
         "2.5681767",
         "1.1631405",
         "-1.3439314",
         "-0.75670373",
         "0.030115662",
         "1.0833244",
         "-1.2986798",
         "-1.7856902",
         "-1.6934828",
         "1.0594791",
         "-0.060834493",
         "-1.8969957",
         "0.19091913",
         "-1.431141",
         "-0.22801337",
         "-0.06724249",
         "-0.19676748",
         "0.681533",
         "-1.6290717",
         "-0.2624749",
         "1.9468476",
         "-1.7431619",
         "-0.1974268",
         "0.24257842",
         "-1.5458395",
         "-0.7637261",
         "-2.0309215",
         "1.1971453",
         "-1.4644105",
         "-1.6592158",
         "-0.22118415",
         "-1.6993568",
         "-1.645253",
         "0.83640796",
         "-0.99818075",
         "-0.07493575",
         "-1.757588",
         "1.7577633",
         "2.001273",
         "0.38472408",
         "0.6284063",
         "1.7233368",
         "-0.8577162",
         "1.5753483",
         "0.19396472",
         "-0.10515106",
         "1.520986",
         "-1.1596063",
         "-0.2828508",
         "1.7110585",
         "-0.81241167",
         "-1.0283802",
         "-0.7869003",
         "-0.18645746",
         "-1.0105532",
         "1.2248933",
         "0.4733172",
         "-1.0604718",
         "-0.8662278",
         "-0.8780639",
         "-1.617096",
         "-0.5466844",
         "-0.9274931",
         "-0.87263083",
         "0.6403105",
         "0.45948327",
         "-1.9560432",
         "1.7030255",
         "-1.6559716",
         "-1.6367238",
         "-0.8034219",
         "0.1593154",
         "-1.8738151",
         "-0.39542946",
         "1.7294729",
         "1.3188896",
         "1.1768289",
         "1.9682329",
         "-0.9745823",
         "0.13400802",
         "0.22571015",
         "-1.4457471",
         "0.95599794",
         "0.3221437",
         "1.0521449",
         "-1.6763821",
         "-1.8315783",
         "0.9757476",
         "-1.9610621",
         "0.32312858",
         "0.09838821",
         "-0.4512361",
         "0.33224198",
         "-1.5448861",
         "-1.2687058",
         "0.30574733",
         "0.82223517",
         "-0.59344685",
         "1.8465544",
         "-0.53618217",
         "1.2630508",
         "-2.372595",
         "-0.9072097",
         "0.602402",
         "-0.19397092",
         "1.2710894",
         "-1.6461433",
         "0.52988625",
         "-0.31640306",
         "-0.67027104",
         "-1.7238252",
         "0.7629171",
         "-0.8298338",
         "0.019995475",
         "-0.42426303",
         "1.6157885",
         "-0.9888997",
         "-1.9509041",
         "-0.6035708",
         "-0.37425825",
         "1.0056237",
         "0.2748499",
         "0.10901773",
         "0.80736095",
         "-0.9359324",
         "-0.9593984",
         "1.6191826",
         "0.6116762",
         "-0.6214147",
         "0.090732254",
         "-1.4999408",
         "-1.421568",
         "0.15339321",
         "1.3213186",
         "0.6272158",
         "-0.652916",
         "-0.3667046",
         "-0.73878247",
         "1.6738281",
         "0.5649004",
         "1.006451",
         "1.2336054",
         "-1.3000922",
         "0.50078744",
         "0.5335049",
         "0.82187754",
         "0.15700185",
         "-0.5200361",
         "-0.1868052",
         "-0.9766552",
         "-2.071017",
         "0.18062213",
         "1.9212775",
         "0.89553577",
         "-0.60268193",
         "0.22765248",
         "0.37221393",
         "-0.1374983",
         "-1.8605808",
         "-0.36640993",
         "1.6068537",
         "1.5838083",
         "1.3200842",
         "-0.35319504",
         "-0.7127941",
         "0.87141824",
         "-0.12142698",
         "0.8076248",
         "0.50345576",
         "0.4235203",
         "-0.31770027",
         "-0.993449",
         "-1.8791476",
         "-0.694544",
         "1.6046138",
         "-0.502178",
         "1.4859265",
         "1.8351351",
         "-2.0756478",
         "-0.07851515",
         "0.8897659",
         "-0.62813896",
         "0.33830732",
         "0.4585533",
         "1.8915566",
         "1.5994449",
         "0.10914013",
         "-2.3142648",
         "0.5962173",
         "-0.80799234",
         "0.98265505",
         "-2.4329145",
         "1.414541",
         "2.0074823",
         "1.0475628",
         "-0.52821624",
         "0.21215425",
         "-0.007878228",
         "0.30178708",
         "0.4420209",
         "0.30621162",
         "0.45704618",
         "-0.02194682",
         "-1.5036764"
        ],
        [
         "BAG3",
         "1.3558758",
         "-0.7433201",
         "1.5835534",
         "-0.8885432",
         "-0.5633353",
         "-1.2990013",
         "-0.28141186",
         "1.3102643",
         "1.9217778",
         "1.6418885",
         "1.5432323",
         "0.4551658",
         "-0.53642535",
         "1.5724014",
         "0.8399124",
         "-1.3979769",
         "-1.1944306",
         "-0.023382327",
         "-0.9516169",
         "0.84137267",
         "-2.0000446",
         "-0.60978055",
         "0.7030711",
         "-1.2730584",
         "0.31085375",
         "1.8676081",
         "-0.867565",
         "0.62184954",
         "0.5125631",
         "0.9538219",
         "-0.7247751",
         "-0.16087732",
         "-0.72080594",
         "0.6513938",
         "-1.0204663",
         "1.1486796",
         "1.7584959",
         "1.6916302",
         "0.34232038",
         "0.41629583",
         "-0.8919279",
         "1.6334062",
         "0.19449458",
         "1.5482756",
         "1.4527838",
         "1.9196295",
         "-0.79398966",
         "0.16063555",
         "0.1019614",
         "0.8928518",
         "-0.686356",
         "-0.21266697",
         "0.20860389",
         "-1.5245854",
         "0.90954936",
         "0.9225941",
         "0.35731724",
         "0.2739591",
         "1.4037323",
         "-0.4716138",
         "-1.5029428",
         "-1.3294288",
         "1.3288984",
         "0.43160275",
         "2.2099574",
         "0.14959309",
         "1.7165841",
         "0.5864654",
         "-1.083882",
         "-0.02817688",
         "0.75301445",
         "1.1134818",
         "0.47890243",
         "0.17748448",
         "1.6894763",
         "-2.0733995",
         "0.1781816",
         "0.7759621",
         "-1.5715779",
         "-0.9077859",
         "-0.8283057",
         "-0.2738735",
         "-0.59292597",
         "0.60767674",
         "-1.7273027",
         "1.7012967",
         "1.0257632",
         "0.516259",
         "-1.3496035",
         "0.7677654",
         "0.83275664",
         "0.4963538",
         "-0.39677104",
         "1.2960646",
         "0.42076325",
         "-0.5715762",
         "-0.8582604",
         "0.45677596",
         "1.7468816",
         "-0.16156696",
         "0.060582478",
         "-2.2758005",
         "-1.1206284",
         "0.13433713",
         "-2.030359",
         "-0.62695056",
         "1.735342",
         "0.90923995",
         "-0.6074602",
         "1.1796855",
         "-0.36646873",
         "1.1878798",
         "1.1689339",
         "-2.118327",
         "-1.6062236",
         "1.9244187",
         "-1.6506472",
         "0.054922607",
         "0.77286786",
         "0.5888313",
         "2.260306",
         "0.020399522",
         "-2.2215538",
         "1.467799",
         "-0.17201999",
         "0.90209687",
         "0.092165306",
         "1.3363376",
         "1.3828123",
         "-0.44568068",
         "0.21012214",
         "-1.1787095",
         "-2.231467",
         "-1.8720015",
         "0.56048405",
         "0.204439",
         "1.7549485",
         "0.14239988",
         "1.9433734",
         "1.8509252",
         "-0.67479867",
         "-0.021963552",
         "0.5398934",
         "-1.6119424",
         "-0.92445505",
         "-0.7239976",
         "-1.4464773",
         "-1.7958373",
         "0.60645264",
         "0.73792255",
         "0.25816813",
         "-0.82355165",
         "0.6053891",
         "-0.38837358",
         "-0.4960104",
         "0.8274783",
         "-1.8973229",
         "0.2927649",
         "-0.074500166",
         "0.749722",
         "0.36796",
         "0.51791245",
         "0.013912862",
         "1.3751901",
         "-1.7581973",
         "-1.7984992",
         "-1.9336554",
         "2.10392",
         "-0.36531085",
         "-0.5780122",
         "0.8622057",
         "2.0718815",
         "-1.8013892",
         "-1.4128876",
         "0.50682217",
         "1.1471813",
         "1.2158293",
         "1.3365198",
         "1.9399991",
         "-1.0275003",
         "0.8674681",
         "-1.1532067",
         "-1.1495415",
         "-0.21517988",
         "-1.082306",
         "0.9378771",
         "-0.9566354",
         "1.5557352",
         "0.116965055",
         "-0.7859791",
         "1.1274669",
         "1.4485496",
         "-0.05652001",
         "-0.8584956",
         "0.43152478",
         "-0.6920303",
         "-0.7143887",
         "-1.8653913",
         "1.5539337",
         "-0.3308041",
         "0.89515704",
         "1.0231375",
         "-0.14637041",
         "0.5112241",
         "0.6595472",
         "-1.0523769",
         "0.4819827",
         "1.4247668",
         "-2.7406652",
         "-1.3562388",
         "0.9467251",
         "-0.06593313",
         "-0.7621596",
         "0.38728297",
         "-0.8431433",
         "1.1473247",
         "-1.9817473",
         "-0.897896",
         "-0.5423979",
         "1.0837051",
         "-0.98609406",
         "-0.9955484",
         "-1.4025238",
         "1.0912021",
         "-0.005936619",
         "-0.25959697",
         "-1.1131246",
         "-1.4019096",
         "0.032456562",
         "1.6588213",
         "1.2715538",
         "0.32141492",
         "-1.2338636",
         "-0.005219739",
         "-1.184365",
         "0.94023955",
         "-0.6103713",
         "-0.11441545",
         "-0.6677953",
         "1.3860972",
         "-1.2665583",
         "-0.05378769",
         "0.56734484",
         "-0.47868446",
         "-1.2860116",
         "1.0473728",
         "0.50261575",
         "-2.3838692",
         "1.2254714",
         "0.7835795",
         "1.7673788",
         "-0.15909499",
         "0.8298575",
         "-2.3455615",
         "-0.27788088",
         "-1.1243112",
         "-1.1780676",
         "-0.07506132",
         "-0.6935744",
         "1.2502954",
         "1.2049563",
         "-0.89671075",
         "-0.31512594",
         "0.9653784",
         "-1.6432258",
         "-0.60874224",
         "-0.48646104",
         "1.3238559",
         "1.4087981",
         "-2.4319718",
         "1.0377849",
         "-1.4229473",
         "-0.2236229",
         "-0.7216609",
         "-0.9334841",
         "0.032240573",
         "0.60111755",
         "0.16104801",
         "1.6910385",
         "-0.35767856",
         "-0.18694001",
         "1.5644578",
         "0.56482154",
         "-1.5292207",
         "-0.5828157",
         "-1.8327024",
         "-0.38070536",
         "-0.62792027",
         "-0.5899394",
         "-1.3101445",
         "0.21880302",
         "1.1402043",
         "-0.88076407",
         "0.45228246",
         "-1.4584022",
         "1.3049676",
         "-0.67938113",
         "0.7983617",
         "-0.46138868",
         "-0.21250717",
         "1.5156336",
         "-0.2554704",
         "0.29764518",
         "0.48867443",
         "-1.647519",
         "-0.26246428",
         "0.19878297",
         "-0.42656806",
         "0.97388583",
         "0.8901632",
         "0.64053345",
         "-0.48677596",
         "-0.459322",
         "-0.0035860944",
         "1.1397021",
         "0.004493852",
         "0.05656844",
         "1.0168664",
         "0.86835057",
         "1.4056257",
         "0.91199046",
         "0.7603025",
         "-1.6847918",
         "-1.0240101",
         "0.7078217",
         "1.0826079",
         "-1.4456373",
         "-0.42713514",
         "0.81398565",
         "0.6537192",
         "-0.43478155",
         "-2.4751306",
         "0.69892085",
         "1.7504882",
         "0.7491785",
         "1.4230859",
         "0.58846635",
         "0.36336783",
         "0.6821456",
         "-1.7732582",
         "-1.0108609",
         "-0.65255135",
         "1.1724873",
         "0.39136586",
         "0.9333511",
         "1.2302741",
         "1.2424749",
         "0.6030538",
         "-0.44689262",
         "0.28942454",
         "1.2389319",
         "-1.3064898",
         "-2.3737319",
         "1.6723707",
         "1.046957",
         "0.5587162",
         "1.9459233",
         "-1.9084464",
         "-0.8430144",
         "-1.4336274",
         "0.71014637",
         "-2.074509",
         "-1.242897",
         "-0.36445442",
         "-1.4571449",
         "-0.8061506",
         "0.5216592",
         "0.01242492",
         "-1.6882845",
         "1.9959778",
         "-1.4059135",
         "0.701679",
         "-1.2773652",
         "0.36276463",
         "-0.508383",
         "-0.4400087",
         "-1.2176841",
         "1.2729322",
         "-0.16175918",
         "0.9045167",
         "0.52588016",
         "-0.08922366",
         "-1.3567951",
         "-0.44852307",
         "-1.0878706",
         "-1.6677427",
         "0.61225045",
         "-1.0067302",
         "-0.5254396",
         "0.56312305",
         "0.793172",
         "-0.7187631",
         "-0.19872943",
         "-0.14390017",
         "-0.68158025",
         "-0.98821235",
         "-0.4291316",
         "-1.4198447",
         "-0.09626641",
         "0.7733043",
         "-1.2096713",
         "0.8690016",
         "-1.3730862",
         "-0.6991271",
         "-0.99610454",
         "-0.34810293",
         "0.92224044",
         "-1.924684",
         "0.22171818",
         "-0.6734412",
         "-0.17439817",
         "0.8437965",
         "-1.2346846",
         "1.7781186",
         "-1.7388159",
         "-0.3435678",
         "-1.5701867",
         "0.25571653",
         "-0.5963971",
         "0.30336702",
         "1.4484727",
         "-0.674223",
         "1.3379233",
         "0.08429758",
         "-0.008780066",
         "1.3657011",
         "-2.2895303",
         "-0.041483324",
         "0.57523495",
         "0.7834709",
         "-1.7907903",
         "0.49356943",
         "0.7815264",
         "-1.2389857",
         "-1.3969731",
         "1.8280565",
         "0.5754344",
         "0.35114357",
         "2.065474",
         "0.88497543",
         "0.07792763",
         "-0.6351348",
         "0.9050463",
         "-0.759458",
         "0.6744638",
         "-1.9288524",
         "0.45502833",
         "1.1116266",
         "0.7268827",
         "0.7416968",
         "1.1894697",
         "-0.18070929",
         "-1.7342498",
         "0.530255",
         "2.0118093",
         "-0.029586079",
         "-0.40264875",
         "1.5680866",
         "-1.2074139",
         "0.13233437",
         "-0.80471647",
         "-0.9807906",
         "-0.06762083",
         "0.43921825",
         "0.16249907",
         "1.0581654",
         "1.6591097",
         "-2.1533773",
         "-0.28990406",
         "-0.24112323",
         "-0.05186625",
         "0.2166673",
         "-0.47379696",
         "-1.9962344",
         "-1.7542968",
         "-0.5370124",
         "1.8517582",
         "-0.6203797",
         "1.074609",
         "0.65250325",
         "-0.88248044",
         "-1.6341366",
         "2.0324893",
         "-0.9752152",
         "-1.2391056",
         "0.3653687",
         "0.9588727",
         "0.44446266",
         "-0.6723514",
         "1.1299007",
         "-1.1131207",
         "-1.0245975",
         "2.1989293",
         "2.0976562",
         "-1.6448731",
         "0.92789173",
         "-1.3306124",
         "-2.4645133",
         "-1.0104563",
         "1.7979552",
         "-1.0353717",
         "0.15441328",
         "-1.9415756",
         "0.9521178",
         "-1.3643413",
         "-1.4453614",
         "1.7882074",
         "-0.8510264",
         "1.855247",
         "1.2618904",
         "0.20577566",
         "0.81140655"
        ]
       ],
       "shape": {
        "columns": 512,
        "rows": 3
       }
      },
      "text/html": [
       "<div>\n",
       "<style scoped>\n",
       "    .dataframe tbody tr th:only-of-type {\n",
       "        vertical-align: middle;\n",
       "    }\n",
       "\n",
       "    .dataframe tbody tr th {\n",
       "        vertical-align: top;\n",
       "    }\n",
       "\n",
       "    .dataframe thead th {\n",
       "        text-align: right;\n",
       "    }\n",
       "</style>\n",
       "<table border=\"1\" class=\"dataframe\">\n",
       "  <thead>\n",
       "    <tr style=\"text-align: right;\">\n",
       "      <th></th>\n",
       "      <th>feature_0</th>\n",
       "      <th>feature_1</th>\n",
       "      <th>feature_2</th>\n",
       "      <th>feature_3</th>\n",
       "      <th>feature_4</th>\n",
       "      <th>feature_5</th>\n",
       "      <th>feature_6</th>\n",
       "      <th>feature_7</th>\n",
       "      <th>feature_8</th>\n",
       "      <th>feature_9</th>\n",
       "      <th>...</th>\n",
       "      <th>feature_502</th>\n",
       "      <th>feature_503</th>\n",
       "      <th>feature_504</th>\n",
       "      <th>feature_505</th>\n",
       "      <th>feature_506</th>\n",
       "      <th>feature_507</th>\n",
       "      <th>feature_508</th>\n",
       "      <th>feature_509</th>\n",
       "      <th>feature_510</th>\n",
       "      <th>feature_511</th>\n",
       "    </tr>\n",
       "  </thead>\n",
       "  <tbody>\n",
       "    <tr>\n",
       "      <th>PYDC1</th>\n",
       "      <td>1.064177</td>\n",
       "      <td>-1.249982</td>\n",
       "      <td>0.629683</td>\n",
       "      <td>-1.538278</td>\n",
       "      <td>0.180076</td>\n",
       "      <td>-0.949641</td>\n",
       "      <td>0.403246</td>\n",
       "      <td>0.286524</td>\n",
       "      <td>-0.133856</td>\n",
       "      <td>-0.379318</td>\n",
       "      <td>...</td>\n",
       "      <td>-0.136490</td>\n",
       "      <td>-0.562780</td>\n",
       "      <td>-2.217903</td>\n",
       "      <td>0.499570</td>\n",
       "      <td>0.797949</td>\n",
       "      <td>-0.810311</td>\n",
       "      <td>0.364737</td>\n",
       "      <td>-1.109083</td>\n",
       "      <td>-0.263903</td>\n",
       "      <td>-1.437788</td>\n",
       "    </tr>\n",
       "    <tr>\n",
       "      <th>PYCR3</th>\n",
       "      <td>-0.500752</td>\n",
       "      <td>1.507778</td>\n",
       "      <td>1.805308</td>\n",
       "      <td>-1.261306</td>\n",
       "      <td>-0.908836</td>\n",
       "      <td>-0.752232</td>\n",
       "      <td>-1.694244</td>\n",
       "      <td>1.870296</td>\n",
       "      <td>-1.382904</td>\n",
       "      <td>-1.959757</td>\n",
       "      <td>...</td>\n",
       "      <td>1.047563</td>\n",
       "      <td>-0.528216</td>\n",
       "      <td>0.212154</td>\n",
       "      <td>-0.007878</td>\n",
       "      <td>0.301787</td>\n",
       "      <td>0.442021</td>\n",
       "      <td>0.306212</td>\n",
       "      <td>0.457046</td>\n",
       "      <td>-0.021947</td>\n",
       "      <td>-1.503676</td>\n",
       "    </tr>\n",
       "    <tr>\n",
       "      <th>BAG3</th>\n",
       "      <td>1.355876</td>\n",
       "      <td>-0.743320</td>\n",
       "      <td>1.583553</td>\n",
       "      <td>-0.888543</td>\n",
       "      <td>-0.563335</td>\n",
       "      <td>-1.299001</td>\n",
       "      <td>-0.281412</td>\n",
       "      <td>1.310264</td>\n",
       "      <td>1.921778</td>\n",
       "      <td>1.641888</td>\n",
       "      <td>...</td>\n",
       "      <td>-1.941576</td>\n",
       "      <td>0.952118</td>\n",
       "      <td>-1.364341</td>\n",
       "      <td>-1.445361</td>\n",
       "      <td>1.788207</td>\n",
       "      <td>-0.851026</td>\n",
       "      <td>1.855247</td>\n",
       "      <td>1.261890</td>\n",
       "      <td>0.205776</td>\n",
       "      <td>0.811407</td>\n",
       "    </tr>\n",
       "  </tbody>\n",
       "</table>\n",
       "<p>3 rows × 512 columns</p>\n",
       "</div>"
      ],
      "text/plain": [
       "       feature_0  feature_1  feature_2  feature_3  feature_4  feature_5  \\\n",
       "PYDC1   1.064177  -1.249982   0.629683  -1.538278   0.180076  -0.949641   \n",
       "PYCR3  -0.500752   1.507778   1.805308  -1.261306  -0.908836  -0.752232   \n",
       "BAG3    1.355876  -0.743320   1.583553  -0.888543  -0.563335  -1.299001   \n",
       "\n",
       "       feature_6  feature_7  feature_8  feature_9  ...  feature_502  \\\n",
       "PYDC1   0.403246   0.286524  -0.133856  -0.379318  ...    -0.136490   \n",
       "PYCR3  -1.694244   1.870296  -1.382904  -1.959757  ...     1.047563   \n",
       "BAG3   -0.281412   1.310264   1.921778   1.641888  ...    -1.941576   \n",
       "\n",
       "       feature_503  feature_504  feature_505  feature_506  feature_507  \\\n",
       "PYDC1    -0.562780    -2.217903     0.499570     0.797949    -0.810311   \n",
       "PYCR3    -0.528216     0.212154    -0.007878     0.301787     0.442021   \n",
       "BAG3      0.952118    -1.364341    -1.445361     1.788207    -0.851026   \n",
       "\n",
       "       feature_508  feature_509  feature_510  feature_511  \n",
       "PYDC1     0.364737    -1.109083    -0.263903    -1.437788  \n",
       "PYCR3     0.306212     0.457046    -0.021947    -1.503676  \n",
       "BAG3      1.855247     1.261890     0.205776     0.811407  \n",
       "\n",
       "[3 rows x 512 columns]"
      ]
     },
     "execution_count": 107,
     "metadata": {},
     "output_type": "execute_result"
    }
   ],
   "source": [
    "scgpt_df.head(3)"
   ]
  },
  {
   "cell_type": "code",
   "execution_count": 108,
   "id": "4d251495",
   "metadata": {},
   "outputs": [],
   "source": [
    "scgpt_df['string_id'] = scgpt_df.index.map(name2stringId)"
   ]
  },
  {
   "cell_type": "code",
   "execution_count": 109,
   "id": "c71cee8c",
   "metadata": {},
   "outputs": [
    {
     "data": {
      "text/plain": [
       "18918"
      ]
     },
     "execution_count": 109,
     "metadata": {},
     "output_type": "execute_result"
    }
   ],
   "source": [
    "len(scgpt_df['string_id'].unique())"
   ]
  },
  {
   "cell_type": "code",
   "execution_count": 110,
   "id": "54fac16d",
   "metadata": {},
   "outputs": [],
   "source": [
    "scgpt_df.to_csv('/itf-fi-ml/shared/users/ziyuzh/svm/data/scgpt/scgpt_full.csv',index=False)"
   ]
  }
 ],
 "metadata": {
  "kernelspec": {
   "display_name": "new_esm_env",
   "language": "python",
   "name": "python3"
  },
  "language_info": {
   "codemirror_mode": {
    "name": "ipython",
    "version": 3
   },
   "file_extension": ".py",
   "mimetype": "text/x-python",
   "name": "python",
   "nbconvert_exporter": "python",
   "pygments_lexer": "ipython3",
   "version": "3.11.11"
  }
 },
 "nbformat": 4,
 "nbformat_minor": 5
}
