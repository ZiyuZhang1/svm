{
 "cells": [
  {
   "cell_type": "code",
   "execution_count": 1,
   "metadata": {},
   "outputs": [],
   "source": [
    "import pandas as pd"
   ]
  },
  {
   "cell_type": "code",
   "execution_count": 2,
   "metadata": {},
   "outputs": [],
   "source": [
    "all_df = pd.read_csv('/itf-fi-ml/shared/users/ziyuzh/svm/data/disgent_2020/disgenet_string.csv')"
   ]
  },
  {
   "cell_type": "code",
   "execution_count": 3,
   "metadata": {},
   "outputs": [],
   "source": [
    "disease_15_df = all_df.groupby('disease_id').filter(lambda x: len(x) > 15)"
   ]
  },
  {
   "cell_type": "code",
   "execution_count": 6,
   "metadata": {},
   "outputs": [
    {
     "data": {
      "text/plain": [
       "(7499, 3707)"
      ]
     },
     "execution_count": 6,
     "metadata": {},
     "output_type": "execute_result"
    }
   ],
   "source": [
    "len(disease_15_df),len(disease_15_df[disease_15_df['dsi']>0.5])"
   ]
  },
  {
   "cell_type": "code",
   "execution_count": 7,
   "metadata": {},
   "outputs": [],
   "source": [
    "disease_15_sei5_df = disease_15_df[disease_15_df['dsi']>0.5]"
   ]
  },
  {
   "cell_type": "code",
   "execution_count": 12,
   "metadata": {},
   "outputs": [],
   "source": [
    "disease_15_sei5_df.to_csv('/itf-fi-ml/shared/users/ziyuzh/svm/data/disgent_2020/sei_filtered_dga.csv',index = False)"
   ]
  },
  {
   "cell_type": "code",
   "execution_count": 11,
   "metadata": {},
   "outputs": [
    {
     "data": {
      "text/plain": [
       "(42,)"
      ]
     },
     "execution_count": 11,
     "metadata": {},
     "output_type": "execute_result"
    }
   ],
   "source": [
    "disease_15_sei5_df.groupby('disease_id').filter(lambda x: len(x) > 15)['disease_id'].unique().shape"
   ]
  },
  {
   "cell_type": "code",
   "execution_count": null,
   "metadata": {},
   "outputs": [],
   "source": [
    "dict1 = dict()\n",
    "for index, subdf in disease_15_df.groupby('disease_id'):\n",
    "    dict1[index]=len(subdf)"
   ]
  },
  {
   "cell_type": "code",
   "execution_count": 16,
   "metadata": {},
   "outputs": [],
   "source": [
    "dict2 = dict()\n",
    "for index, subdf in disease_15_sei5_df.groupby('disease_id'):\n",
    "    dict2[index]=len(subdf)"
   ]
  },
  {
   "cell_type": "code",
   "execution_count": 21,
   "metadata": {},
   "outputs": [
    {
     "name": "stdout",
     "output_type": "stream",
     "text": [
      "ICD10_C16\n",
      "ICD10_C18\n",
      "ICD10_C23\n",
      "ICD10_C43\n",
      "ICD10_C45\n",
      "ICD10_C50\n",
      "ICD10_C53\n",
      "ICD10_C54\n",
      "ICD10_C56\n",
      "ICD10_C61\n",
      "ICD10_C67\n",
      "ICD10_C81\n",
      "ICD10_C82\n",
      "ICD10_C92\n",
      "ICD10_D46\n",
      "ICD10_D57\n",
      "ICD10_D81\n",
      "ICD10_D83\n",
      "ICD10_D86\n",
      "ICD10_E10\n",
      "ICD10_E11\n",
      "ICD10_E66\n",
      "ICD10_E84\n",
      "ICD10_F01\n",
      "ICD10_F20\n",
      "ICD10_F31\n",
      "ICD10_F70\n",
      "ICD10_F71\n",
      "ICD10_F72\n",
      "ICD10_F90\n",
      "ICD10_G10\n",
      "ICD10_G20\n",
      "ICD10_G24\n",
      "ICD10_G30\n",
      "ICD10_G35\n",
      "ICD10_G40\n",
      "ICD10_G41\n",
      "ICD10_G43\n",
      "ICD10_G91\n",
      "ICD10_H40\n",
      "ICD10_I10\n",
      "ICD10_I25\n",
      "ICD10_I26\n",
      "ICD10_I42\n",
      "ICD10_I46\n",
      "ICD10_I50\n",
      "ICD10_I61\n",
      "ICD10_I63\n",
      "ICD10_I70\n",
      "ICD10_I95\n",
      "ICD10_J45\n",
      "ICD10_J62\n",
      "ICD10_J80\n",
      "ICD10_K25\n",
      "ICD10_K44\n",
      "ICD10_K51\n",
      "ICD10_L20\n",
      "ICD10_L23\n",
      "ICD10_L40\n",
      "ICD10_L63\n",
      "ICD10_L80\n",
      "ICD10_M16\n",
      "ICD10_M32\n",
      "ICD10_M34\n",
      "ICD10_M41\n",
      "ICD10_M45\n",
      "ICD10_N04\n",
      "ICD10_N17\n",
      "ICD10_N18\n",
      "ICD10_N46\n",
      "ICD10_N80\n",
      "ICD10_N97\n"
     ]
    }
   ],
   "source": [
    "changed = []\n",
    "for disease_id in dict1.keys():\n",
    "    if disease_id in dict1.keys():\n",
    "        if dict1[disease_id] != dict2[disease_id]:\n",
    "            changed.append(disease_id)\n",
    "            print(disease_id)"
   ]
  },
  {
   "cell_type": "code",
   "execution_count": 22,
   "metadata": {},
   "outputs": [
    {
     "data": {
      "text/plain": [
       "72"
      ]
     },
     "execution_count": 22,
     "metadata": {},
     "output_type": "execute_result"
    }
   ],
   "source": [
    "len(changed)"
   ]
  }
 ],
 "metadata": {
  "kernelspec": {
   "display_name": ".venv",
   "language": "python",
   "name": "python3"
  },
  "language_info": {
   "codemirror_mode": {
    "name": "ipython",
    "version": 3
   },
   "file_extension": ".py",
   "mimetype": "text/x-python",
   "name": "python",
   "nbconvert_exporter": "python",
   "pygments_lexer": "ipython3",
   "version": "3.11.11"
  }
 },
 "nbformat": 4,
 "nbformat_minor": 2
}
