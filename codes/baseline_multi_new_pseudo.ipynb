{
 "cells": [
  {
   "cell_type": "code",
   "execution_count": 2,
   "metadata": {},
   "outputs": [],
   "source": [
    "import pandas as pd\n",
    "import numpy as np\n",
    "import matplotlib.pyplot as plt\n",
    "import os\n",
    "import pickle\n",
    "import gseapy as gp\n",
    "import sys\n",
    "import time\n",
    "import requests"
   ]
  },
  {
   "cell_type": "markdown",
   "metadata": {},
   "source": [
    "# read data"
   ]
  },
  {
   "cell_type": "code",
   "execution_count": 3,
   "metadata": {},
   "outputs": [],
   "source": [
    "#### string gene_id map\n",
    "local_stringdb = os.path.join('/itf-fi-ml/shared/users/ziyuzh/svm/data/stringdb','2023')\n",
    "\n",
    "ppidf = pd.read_csv(os.path.join(local_stringdb,'9606.protein.info.v12.0.txt'), sep='\\t', header=0, usecols=['#string_protein_id', 'preferred_name'])\n",
    "ppidf['preferred_name'] = ppidf['preferred_name'].str.upper()\n",
    "stringId2name = ppidf.set_index('#string_protein_id')['preferred_name'].to_dict()\n",
    "name2stringId = ppidf.set_index('preferred_name')['#string_protein_id'].to_dict()\n",
    "ppidf = pd.read_csv(os.path.join(local_stringdb,'9606.protein.aliases.v12.0.txt'), sep='\\t', header=0, usecols=['#string_protein_id', 'alias']).drop_duplicates(['alias'], keep='first')\n",
    "ppidf['alias'] = ppidf['alias'].str.upper()\n",
    "aliases2stringId = ppidf.set_index('alias')['#string_protein_id'].to_dict()\n",
    "\n",
    "def string_convert(gene):\n",
    "    if gene in name2stringId.keys():\n",
    "        return name2stringId[gene]\n",
    "    elif gene in aliases2stringId.keys():\n",
    "        return aliases2stringId[gene]\n",
    "    else:\n",
    "        return None"
   ]
  },
  {
   "cell_type": "code",
   "execution_count": 5,
   "metadata": {},
   "outputs": [],
   "source": [
    "\n",
    "with open('/itf-fi-ml/shared/users/ziyuzh/svm/data/stringdb/2023/name_convert.pkl', 'wb') as file:\n",
    "    pickle.dump([stringId2name,name2stringId,aliases2stringId], file)"
   ]
  },
  {
   "cell_type": "code",
   "execution_count": 3,
   "metadata": {},
   "outputs": [],
   "source": [
    "# # ############################ string id map with uniport ######################################################### don't delete\n",
    "# ppi_features = pd.read_csv('/itf-fi-ml/shared/users/ziyuzh/svm/data/ppi_full_emb.csv')\n",
    "# ppi_features['gene_name'] = ppi_features['gene_id'].map(stringId2name)\n",
    "# ### string2uniport generated from uniport id map, stringid to uniport id\n",
    "# string2uniport = pd.read_csv('/itf-fi-ml/shared/users/ziyuzh/svm/data/uniport_id/idmapping_string.tsv',sep='\\t')\n",
    "# string_dict = dict(zip(string2uniport['From'], string2uniport['Entry']))\n",
    "# ppi_features['uniport_id'] = ppi_features['gene_id'].map(string_dict)\n",
    "# ppi_features.to_csv('/itf-fi-ml/shared/users/ziyuzh/svm/data/ppi_full_emb_uniport.csv',index=False)\n",
    "\n",
    "# ## 512 unmapped string id\n",
    "# ### unipor_id_maps generated from uniport id map, gene name to uniport id\n",
    "# unipor_id_maps = pd.read_csv('/itf-fi-ml/shared/users/ziyuzh/svm/data/uniport_id/idmapping.tsv',sep='\\t')\n",
    "# ### returns multiple uniport id for each gene name, take the first human species\n",
    "# first_to_items = unipor_id_maps.groupby('From').first().reset_index()\n",
    "# uniport_dict = dict(zip(first_to_items['From'], first_to_items['To']))\n",
    "# ppi_features.loc[ppi_features['uniport_id'].isna(), 'uniport_id'] = ppi_features.loc[ppi_features['uniport_id'].isna(), 'gene_name'].map(uniport_dict)\n",
    "# ppi_features = ppi_features.dropna(subset=['uniport_id'])\n",
    "# len(ppi_features)\n",
    "\n",
    "\n",
    "all_df = pd.read_csv('/itf-fi-ml/shared/users/ziyuzh/svm/data/disgent_2020/disgenet_string.csv')\n",
    "ppi_features = pd.read_csv('/itf-fi-ml/shared/users/ziyuzh/svm/data/ppi_full_emb_uniport.csv')"
   ]
  },
  {
   "cell_type": "code",
   "execution_count": 4,
   "metadata": {},
   "outputs": [],
   "source": [
    "def read_data(disease):\n",
    "    pos_genes_list = all_df[all_df['disease_id']==disease]['string_id']\n",
    "    df = ppi_features.iloc[:, 1:]\n",
    "    df = df.rename(columns={'gene_id': 'string_id'})\n",
    "    df['label'] = df['string_id'].isin(pos_genes_list).astype(int)\n",
    "    df.head(3)\n",
    "\n",
    "    X = df.loc[:, df.columns.str.startswith(\"network_\")].to_numpy()\n",
    "    y = df['label'].to_numpy()\n",
    "    return df, X, y"
   ]
  },
  {
   "cell_type": "code",
   "execution_count": 5,
   "metadata": {},
   "outputs": [],
   "source": [
    "# selected_diseases = ['ICD10_G20', 'ICD10_C50']\n",
    "selected_diseases = ['ICD10_G20']\n",
    "for disease in selected_diseases:\n",
    "    methods = ['ooc', 'random_negative', 'pseudo_labeling']\n",
    "    df, X, y = read_data(disease)"
   ]
  },
  {
   "cell_type": "code",
   "execution_count": 6,
   "metadata": {},
   "outputs": [
    {
     "data": {
      "text/plain": [
       "107      9606.ENSP00000389103\n",
       "172      9606.ENSP00000299138\n",
       "200      9606.ENSP00000360108\n",
       "224      9606.ENSP00000270142\n",
       "591      9606.ENSP00000298910\n",
       "                 ...         \n",
       "16871    9606.ENSP00000496339\n",
       "17092    9606.ENSP00000369822\n",
       "17135    9606.ENSP00000480474\n",
       "17985    9606.ENSP00000373627\n",
       "18056    9606.ENSP00000376776\n",
       "Name: string_id, Length: 146, dtype: object"
      ]
     },
     "execution_count": 6,
     "metadata": {},
     "output_type": "execute_result"
    }
   ],
   "source": [
    "df[df['label']==1]['string_id']"
   ]
  },
  {
   "cell_type": "markdown",
   "metadata": {},
   "source": [
    "### KEGG features (no need run, use prepared data)"
   ]
  },
  {
   "cell_type": "code",
   "execution_count": null,
   "metadata": {},
   "outputs": [],
   "source": [
    "from collections import defaultdict\n",
    "def invert_dict(original_dict):\n",
    "    inverted_dict = defaultdict(list)\n",
    "\n",
    "    for key, values in original_dict.items():\n",
    "        for value in values:\n",
    "            inverted_dict[string_convert(value)].append(key)  # Swap key and value\n",
    "\n",
    "    return dict(inverted_dict) \n",
    "\n",
    "keggs = gp.get_library(name='KEGG_2021_Human',organism='human')\n",
    "kegg_features = invert_dict(keggs)\n",
    "# Save dictionary to a Pickle file\n",
    "with open(\"/itf-fi-ml/shared/users/ziyuzh/svm/data/kegg/kegg_features.pkl\", \"wb\") as f:\n",
    "    pickle.dump(kegg_features, f)"
   ]
  },
  {
   "cell_type": "markdown",
   "metadata": {},
   "source": [
    "### CD features (no need run, use prepared data)"
   ]
  },
  {
   "cell_type": "code",
   "execution_count": 104,
   "metadata": {},
   "outputs": [],
   "source": [
    "import requests\n",
    "import time\n",
    "import pandas as pd\n",
    "\n",
    "def fetch_cd_search_results(query):\n",
    "    \"\"\"\n",
    "    Performs a batch CD-Search for a given query and returns the results as a DataFrame.\n",
    "    \n",
    "    Parameters:\n",
    "        query (str): The query sequence for CD-Search.\n",
    "    \n",
    "    Returns:\n",
    "        pd.DataFrame: The search results as a DataFrame.\n",
    "    \"\"\"\n",
    "    BWRPSB_URL = \"https://www.ncbi.nlm.nih.gov/Structure/bwrpsb/bwrpsb.cgi\"\n",
    "    \n",
    "    # Default parameters\n",
    "    params = {\n",
    "        \"useid1\": \"true\",\n",
    "        \"maxhit\": 250,\n",
    "        \"filter\": \"true\",\n",
    "        \"db\": \"cdd\",\n",
    "        \"evalue\": 0.01,\n",
    "        \"cddefl\": \"false\",\n",
    "        \"qdefl\": \"false\",\n",
    "        \"dmode\": \"rep\",\n",
    "        \"clonly\": \"false\",\n",
    "        \"tdata\": \"hits\",\n",
    "        \"queries\": query,\n",
    "    }\n",
    "    \n",
    "    # Submit search request\n",
    "    response = requests.post(BWRPSB_URL, data=params)\n",
    "    if response.status_code != 200:\n",
    "        raise Exception(f\"Error: {response.status_code} - {response.reason}\")\n",
    "    \n",
    "    # Extract request ID\n",
    "    rid = None\n",
    "    for line in response.text.split(\"\\n\"):\n",
    "        if line.startswith(\"#cdsid\"):\n",
    "            rid = line.split()[1]\n",
    "            break\n",
    "    \n",
    "    if not rid:\n",
    "        raise Exception(\"Failed to retrieve request ID\")\n",
    "    \n",
    "    # Check search status\n",
    "    while True:\n",
    "        time.sleep(5)\n",
    "        status_response = requests.post(BWRPSB_URL, data={\"tdata\": \"hits\", \"cdsid\": rid})\n",
    "        if status_response.status_code != 200:\n",
    "            raise Exception(f\"Error: {status_response.status_code} - {status_response.reason}\")\n",
    "\n",
    "        for line in status_response.text.split(\"\\n\"):\n",
    "            if line.startswith(\"#status\"):\n",
    "                status = int(line.split()[1])\n",
    "                if status == 0:\n",
    "                    break\n",
    "                elif status == 3:\n",
    "                    continue\n",
    "                else:\n",
    "                    error_messages = {\n",
    "                        1: \"Invalid request ID\",\n",
    "                        2: \"Invalid input (missing query or ID)\",\n",
    "                        4: \"Queue Manager Service error\",\n",
    "                        5: \"Data corrupted or unavailable\",\n",
    "                    }\n",
    "                    raise Exception(error_messages.get(status, \"Unknown error\"))\n",
    "        else:\n",
    "            continue\n",
    "        break\n",
    "    \n",
    "    # Retrieve results\n",
    "    result_response = requests.post(BWRPSB_URL, data={\"tdata\": params[\"tdata\"], \"cdsid\": rid})\n",
    "    if result_response.status_code != 200:\n",
    "        raise Exception(f\"Error retrieving results: {result_response.status_code}\")\n",
    "    \n",
    "    # Process results\n",
    "    filtered_data = [line for line in result_response.text.split('\\n') if not line.startswith('#') and line.strip() != '']\n",
    "    if not filtered_data:\n",
    "        return pd.DataFrame()  # Return an empty DataFrame if no data is found\n",
    "    \n",
    "    header = filtered_data[0].split('\\t')\n",
    "    data_rows = [line.split('\\t') for line in filtered_data[1:]]\n",
    "    \n",
    "    return pd.DataFrame(data_rows, columns=header)\n"
   ]
  },
  {
   "cell_type": "code",
   "execution_count": null,
   "metadata": {},
   "outputs": [],
   "source": [
    "def batch(iterable, size):\n",
    "    \"\"\"Splits an iterable into batches of given size.\"\"\"\n",
    "    for i in range(0, len(iterable), size):\n",
    "        yield iterable[i:i + size]\n",
    "\n",
    "def process_in_batches(data, func, batch_size=1000):\n",
    "    \"\"\"Applies func to each batch of data and stacks results into a single DataFrame.\"\"\"\n",
    "    results = [func(batch) for batch in batch(data, batch_size)]\n",
    "    return pd.concat(results, ignore_index=True) if results else pd.DataFrame()\n",
    "\n",
    "\n",
    "cd_results = process_in_batches(df['uniport_id'].dropna().tolist(), fetch_cd_search_results)\n",
    "cd_results['uniport_id'] = cd_results['Query'].str.split('-').str[-1].str.strip()\n",
    "cd_results = cd_results.merge(df.dropna(subset=['uniport_id'])[['uniport_id', 'string_id']], how='left', on='uniport_id')\n",
    "\n",
    "cd_dict = dict()\n",
    "for string_id, subdf in cd_results.groupby('string_id'):\n",
    "    cd_dict[string_id] = subdf['Accession'].tolist()\n",
    "\n",
    "# Save dictionary to a Pickle file\n",
    "with open(\"/itf-fi-ml/shared/users/ziyuzh/svm/data/cd/cd_features.pkl\", \"wb\") as f:\n",
    "    pickle.dump(cd_dict, f)"
   ]
  },
  {
   "cell_type": "markdown",
   "metadata": {},
   "source": [
    "### read kegg and cd features"
   ]
  },
  {
   "cell_type": "code",
   "execution_count": 3,
   "metadata": {},
   "outputs": [],
   "source": [
    "\n",
    "# Read dictionary from a Pickle file\n",
    "with open(\"/itf-fi-ml/shared/users/ziyuzh/svm/data/kegg/kegg_features.pkl\", \"rb\") as f:\n",
    "    kegg_features = pickle.load(f)\n",
    "\n",
    "# Read dictionary from a Pickle file\n",
    "with open(\"/itf-fi-ml/shared/users/ziyuzh/svm/data/cd/cd_features.pkl\", \"rb\") as f:\n",
    "    cd_features = pickle.load(f)\n"
   ]
  },
  {
   "cell_type": "code",
   "execution_count": 6,
   "metadata": {},
   "outputs": [
    {
     "name": "stdout",
     "output_type": "stream",
     "text": [
      "0.9869735533743905 0.9998526575554529\n"
     ]
    }
   ],
   "source": [
    "def merge_values(query_dict):\n",
    "    all_items = []\n",
    "    for key in query_dict:\n",
    "        all_items.extend(query_dict[key])\n",
    "    return all_items\n",
    "\n",
    "def sparsity(query_dict):\n",
    "    items = merge_values(query_dict)\n",
    "    return 1-(len(items)/(len(query_dict)*len(set(items))))\n",
    "\n",
    "print(sparsity(kegg_features),sparsity(cd_features))"
   ]
  },
  {
   "cell_type": "code",
   "execution_count": 7,
   "metadata": {},
   "outputs": [
    {
     "data": {
      "text/plain": [
       "(320, 7794)"
      ]
     },
     "execution_count": 7,
     "metadata": {},
     "output_type": "execute_result"
    }
   ],
   "source": [
    "len(set(merge_values(kegg_features))),len(kegg_features)"
   ]
  },
  {
   "cell_type": "code",
   "execution_count": 8,
   "metadata": {},
   "outputs": [
    {
     "data": {
      "text/plain": [
       "(15218, 17791)"
      ]
     },
     "execution_count": 8,
     "metadata": {},
     "output_type": "execute_result"
    }
   ],
   "source": [
    "len(set(merge_values(cd_features))),len(cd_features)"
   ]
  },
  {
   "cell_type": "markdown",
   "metadata": {},
   "source": [
    "### calculate similarility score"
   ]
  },
  {
   "cell_type": "code",
   "execution_count": 9,
   "metadata": {},
   "outputs": [],
   "source": [
    "from itertools import combinations\n",
    "\n",
    "def unique_pairs(items):\n",
    "    return list(combinations(set(items), 2))\n",
    "\n",
    "def jaccard_similarity(set1, set2):\n",
    "    intersection = len(set1.intersection(set2))\n",
    "    union = len(set1.union(set2))\n",
    "    return intersection / union if union != 0 else 0\n",
    "\n",
    "def feature_similarity(gene1,gene2,query_dict):\n",
    "    jaccard_score = jaccard_similarity(set(query_dict[gene1]), set(query_dict[gene2]))\n",
    "    return jaccard_score\n",
    "\n",
    "def pair_similarity(query_dict):\n",
    "    pairs = unique_pairs(list(query_dict.keys()))\n",
    "    score_dict = dict()\n",
    "    for pair in pairs:\n",
    "        score = feature_similarity(pair[0],pair[1],query_dict)\n",
    "        score_dict[pair] = score\n",
    "    return score_dict\n"
   ]
  },
  {
   "cell_type": "code",
   "execution_count": 10,
   "metadata": {},
   "outputs": [
    {
     "name": "stdout",
     "output_type": "stream",
     "text": [
      "0.05289568377244913\n"
     ]
    }
   ],
   "source": [
    "kegg_dict = pair_similarity(kegg_features)\n",
    "print(1 - (list(kegg_dict.values()).count(0)/len(kegg_dict)))"
   ]
  },
  {
   "cell_type": "code",
   "execution_count": 11,
   "metadata": {},
   "outputs": [
    {
     "name": "stdout",
     "output_type": "stream",
     "text": [
      "0.0030410244943560594\n"
     ]
    }
   ],
   "source": [
    "cd_dict = pair_similarity(cd_features)\n",
    "print(1 - (list(cd_dict.values()).count(0)/len(cd_dict)))"
   ]
  },
  {
   "cell_type": "code",
   "execution_count": 12,
   "metadata": {},
   "outputs": [],
   "source": [
    "# Save dictionary to a Pickle file\n",
    "with open(\"/itf-fi-ml/shared/users/ziyuzh/svm/data/kegg/kegg_sim.pkl\", \"wb\") as f:\n",
    "    pickle.dump(kegg_dict, f)\n",
    "# Save dictionary to a Pickle file\n",
    "with open(\"/itf-fi-ml/shared/users/ziyuzh/svm/data/cd/cd_sim.pkl\", \"wb\") as f:\n",
    "    pickle.dump(cd_dict, f)"
   ]
  },
  {
   "cell_type": "markdown",
   "metadata": {},
   "source": [
    "# svm"
   ]
  },
  {
   "cell_type": "code",
   "execution_count": 7,
   "metadata": {},
   "outputs": [],
   "source": [
    "from sklearn import svm\n",
    "from sklearn import metrics\n",
    "import numpy as np\n",
    "from sklearn.svm import SVC\n",
    "from sklearn.model_selection import StratifiedKFold,ParameterGrid,GridSearchCV, train_test_split\n",
    "from sklearn.metrics import classification_report, roc_auc_score\n",
    "from sklearn.metrics import precision_score, recall_score, roc_curve, auc\n",
    "from sklearn.metrics import accuracy_score, recall_score, precision_score, f1_score, classification_report, confusion_matrix\n",
    "from sklearn.cluster import AgglomerativeClustering\n",
    "from scipy.cluster.hierarchy import fcluster\n",
    "\n",
    "import matplotlib.pyplot as plt\n",
    "\n"
   ]
  },
  {
   "cell_type": "markdown",
   "metadata": {},
   "source": [
    "### mask high positive samples (based on train set)"
   ]
  },
  {
   "cell_type": "code",
   "execution_count": null,
   "metadata": {},
   "outputs": [],
   "source": [
    "def mask_enrich(train_pos):\n",
    "    enr = gp.enrichr(gene_list=train_pos.map(stringId2name),\n",
    "                    gene_sets=['KEGG_2021_Human'],\n",
    "                    organism='human', \n",
    "                    outdir=None, \n",
    "                    )\n",
    "    enr_df = enr.results\n",
    "    gene_lists = enr_df[enr_df['Adjusted P-value']<0.01]['Genes'].to_list()\n",
    "    mask_gene_pool = set()\n",
    "    for items in gene_lists:\n",
    "        genes = items.split(';')\n",
    "        mask_gene_pool.update(set(genes))\n",
    "    mask_index = df[df['string_id'].isin([string_convert(gene) for gene in list(mask_gene_pool)])].index\n",
    "    return mask_index\n",
    "\n",
    "def mask_ppi_loop(train_pos, threshold):\n",
    "    ppi_connection = pd.read_csv(os.path.join(local_stringdb,'9606.protein.links.v12.0.txt'), sep=' ', header=0).convert_dtypes().replace(0, float('nan'))\n",
    "    ppi_connection_med = ppi_connection[ppi_connection['combined_score']>threshold]\n",
    "    first_loop_genes = set(ppi_connection_med[ppi_connection_med['protein1'].isin(list(train_pos))]['protein2'].tolist())\n",
    "    mask_index = df[df['string_id'].isin(first_loop_genes)].index\n",
    "    return mask_index"
   ]
  },
  {
   "cell_type": "code",
   "execution_count": null,
   "metadata": {},
   "outputs": [],
   "source": [
    "## all 17013\n",
    "## med confidence (400) 8549\n",
    "## high confidence (700) 3692\n",
    "## highest confidence (900) 1950"
   ]
  },
  {
   "cell_type": "code",
   "execution_count": 8,
   "metadata": {},
   "outputs": [],
   "source": [
    "def average_rank_ratio(y_scores, y_test):\n",
    "    \"\"\"\n",
    "    Calculate the average predicted rank of true positives.\n",
    "\n",
    "    Parameters:\n",
    "    y_scores (array-like): Decision function scores from the classifier.\n",
    "    y_test (array-like): True binary labels (0 for negative, 1 for positive).\n",
    "\n",
    "    Returns:\n",
    "    float: The average rank of true positives.\n",
    "    \"\"\"\n",
    "    \n",
    "    # Convert inputs to numpy arrays for consistency\n",
    "    y_scores = np.array(y_scores)\n",
    "    y_test = np.array(y_test)\n",
    "\n",
    "    # Step 1: Sort scores in descending order and assign ranks\n",
    "    sorted_indices = np.argsort(-y_scores)  # Negative for descending sort\n",
    "    ranks = np.empty_like(sorted_indices)\n",
    "    ranks[sorted_indices] = np.arange(1, len(y_scores) + 1)  # Rank starts from 1\n",
    "\n",
    "    # Step 2: Identify true positives\n",
    "    true_positive_indices = np.where(y_test == 1)[0]\n",
    "\n",
    "    # Step 3: Extract ranks of true positives\n",
    "    true_positive_ranks = ranks[true_positive_indices]\n",
    "\n",
    "    # Step 4: Calculate the average rank of true positives\n",
    "    average_rank = np.mean(true_positive_ranks)\n",
    "\n",
    "    rank_ratio = average_rank/y_test.shape[0]\n",
    "\n",
    "    return round(rank_ratio,4)\n",
    "\n",
    "def eval(clf, X_train, y_train, X_test, y_test, print_result = False):\n",
    "    clf.fit(X_train, y_train)\n",
    "    y_pred = clf.predict(X_test)\n",
    "    \n",
    "    # Check if predict_proba or decision_function is available for AUROC\n",
    "    if hasattr(clf, \"predict_proba\"):\n",
    "        y_scores = clf.predict_proba(X_test)\n",
    "        if y_scores.shape[1] == 2:\n",
    "            y_scores = y_scores[:, 1]  # Use positive class probabilities for binary classification\n",
    "    elif hasattr(clf, \"decision_function\"):\n",
    "        y_scores = clf.decision_function(X_test)\n",
    "    else:\n",
    "        y_scores = None  # AUROC cannot be computed without scores\n",
    "\n",
    "    rank_ratio = average_rank_ratio(y_scores, y_test)\n",
    "\n",
    "    # Compute AUROC if scores are available\n",
    "    if y_scores is not None:\n",
    "        try:\n",
    "            auroc = roc_auc_score(y_test, y_scores, multi_class='ovr' if len(set(y_test)) > 2 else 'raise')\n",
    "        except:\n",
    "            auroc = \"AUROC computation failed (possibly due to label issues)\"\n",
    "    else:\n",
    "        auroc = \"AUROC not available (no predict_proba or decision_function)\"\n",
    "    if print_result == True:\n",
    "        # Print classification metrics\n",
    "        print(classification_report(y_test, y_pred))\n",
    "        \n",
    "        print(f\"\"\"\n",
    "        Accuracy: {accuracy_score(y_test, y_pred)}\n",
    "        Recall: {recall_score(y_test, y_pred, average=\"weighted\")}\n",
    "        Precision: {precision_score(y_test, y_pred, average=\"weighted\")}\n",
    "        F1-score: {f1_score(y_test, y_pred, average=\"weighted\")}\n",
    "        AUROC: {auroc}\n",
    "        Rank ratio: {rank_ratio * 100:.2f}%\n",
    "        \"\"\")\n",
    "        \n",
    "        print(\"Confusion Matrix:\")\n",
    "        print(confusion_matrix(y_test, y_pred))\n",
    "\n",
    "    return (\n",
    "        accuracy_score(y_test, y_pred), \n",
    "        recall_score(y_test, y_pred, average=\"weighted\"), \n",
    "        precision_score(y_test, y_pred, average=\"weighted\"), \n",
    "        f1_score(y_test, y_pred, average=\"weighted\"),\n",
    "        auroc,\n",
    "        rank_ratio\n",
    "    )\n",
    "\n",
    "\n",
    "def build_normalized_linear_kernel():\n",
    "    \"\"\"\n",
    "    Returns a function that computes a normalized linear kernel (cosine similarity).\n",
    "    The scaling factor C is optional and can adjust the magnitude of the kernel.\n",
    "    \"\"\"\n",
    "    def normalized_linear_kernel(X, Y):\n",
    "        # Step 1: Manually compute the linear kernel (dot product)\n",
    "        K = np.dot(X, Y.T)\n",
    "        \n",
    "        # Step 2: Compute norms of X and Y for normalization\n",
    "        X_norms = np.linalg.norm(X, axis=1)\n",
    "        Y_norms = np.linalg.norm(Y, axis=1)\n",
    "        \n",
    "        # Avoid division by zero\n",
    "        X_norms[X_norms == 0] = 1e-10\n",
    "        Y_norms[Y_norms == 0] = 1e-10\n",
    "        \n",
    "        # Normalize the kernel (cosine similarity)\n",
    "        normalization_matrix = np.outer(X_norms, Y_norms)\n",
    "        K_normalized = K / normalization_matrix\n",
    "        \n",
    "        return K_normalized\n",
    "    \n",
    "    return normalized_linear_kernel\n",
    "\n",
    "\n",
    "\n",
    "def build_normalized_poly_kernel(coef0=1.0, degree=2):\n",
    "    \"\"\"\n",
    "    Returns a function that computes a normalized polynomial kernel with dynamic parameters.\n",
    "    \n",
    "    Parameters:\n",
    "    - coef0: Independent term added to the dot product (default=1.0).\n",
    "    - degree: Degree of the polynomial kernel (default=2).\n",
    "    \"\"\"\n",
    "    def custom_poly_kernel(X, Y):\n",
    "        # Step 1: Compute the polynomial kernel\n",
    "        K = (np.dot(X, Y.T) + coef0) ** degree\n",
    "        \n",
    "        # Step 2: Compute self-similarities (for normalization)\n",
    "        K_self_X = (np.sum(X * X, axis=1) + coef0) ** degree  # Diagonal for X\n",
    "        K_self_Y = (np.sum(Y * Y, axis=1) + coef0) ** degree  # Diagonal for Y\n",
    "        \n",
    "        # Step 3: Avoid division by zero (replace zeros with a small number)\n",
    "        K_self_X[K_self_X == 0] = 1e-10\n",
    "        K_self_Y[K_self_Y == 0] = 1e-10\n",
    "        \n",
    "        # Step 4: Normalize the kernel\n",
    "        normalization_matrix = np.outer(np.sqrt(K_self_X), np.sqrt(K_self_Y))\n",
    "        K_normalized = K / normalization_matrix\n",
    "        \n",
    "        return K_normalized\n",
    "    \n",
    "    return custom_poly_kernel"
   ]
  },
  {
   "cell_type": "code",
   "execution_count": 9,
   "metadata": {},
   "outputs": [],
   "source": [
    "def getLinkageMat(model):\n",
    "    children = model.children_\n",
    "    cs = np.zeros(len(children))\n",
    "    N = len(model.labels_)\n",
    "    for i,child in enumerate(children):\n",
    "        count = 0\n",
    "        for idx in child:\n",
    "            count += 1 if idx < N else cs[idx - N]\n",
    "        cs[i] = count\n",
    "    return np.column_stack([children, model.distances_, cs])\n",
    "\n",
    "def calculate_proportion(hierarchical_labels,y_train):\n",
    "    proportion = []\n",
    "    unique_clusters = np.unique(hierarchical_labels)\n",
    "    # Total number of samples with label 1\n",
    "    total_y1 = np.sum(y_train == 1)\n",
    "    print('total positive',total_y1)\n",
    "    for c in unique_clusters:\n",
    "        # Indices of samples in the current cluster\n",
    "        cluster_indices = np.where(hierarchical_labels == c)[0]\n",
    "        \n",
    "        # Number of samples with label 1 in this cluster\n",
    "        cluster_y1 = np.sum(y_train[cluster_indices] == 1)\n",
    "        \n",
    "        # Calculate A_i using the corrected formula\n",
    "        A_i = len(cluster_indices) * (1 - (cluster_y1 / total_y1))\n",
    "        proportion.append(A_i)\n",
    "    return proportion\n",
    "\n",
    "def cluster_negative_sampling(hierarchical_labels,y_train,proportion,neg_size):\n",
    "    neg_cluster = []\n",
    "    all_sampled_negatives = []\n",
    "    unique_clusters = np.unique(hierarchical_labels)\n",
    "    total_proportion = sum(proportion)\n",
    "    if total_proportion == 0:\n",
    "        raise ValueError(\"Sum of proportions is zero. Check the 'proportion' calculation.\")\n",
    "\n",
    "    for index, c in enumerate(unique_clusters):\n",
    "        A_i = proportion[index]\n",
    "        neg_i = int((A_i / total_proportion) * neg_size)\n",
    "        cluster_indices = np.where(hierarchical_labels == c)[0]\n",
    "        negative_indices = np.array(cluster_indices)[y_train[cluster_indices] == 0]\n",
    "        # Check if there are enough negative samples to draw from\n",
    "        if len(negative_indices) == 0:\n",
    "            continue  \n",
    "        elif neg_i > len(negative_indices):\n",
    "            neg_i = len(negative_indices)  # Adjust to the maximum available\n",
    "        # Sample negative indices without replacement\n",
    "        sampled_indices = np.random.choice(negative_indices, size=neg_i, replace=False)\n",
    "        # Store the sampled indices and the count\n",
    "        all_sampled_negatives.extend(sampled_indices)\n",
    "        neg_cluster.append(neg_i)\n",
    "\n",
    "    return all_sampled_negatives\n",
    "\n",
    "def generate_pesudo_labels(negative_ratio,X_train,y_train):\n",
    "    neg_size = negative_ratio * np.sum(y_train == 1)\n",
    "    # clustering\n",
    "    model = AgglomerativeClustering(distance_threshold=0, n_clusters=None)\n",
    "    model = model.fit(X_train)\n",
    "    mat = getLinkageMat(model)\n",
    "    # get first level labels\n",
    "    n_clusters = 5\n",
    "    hierarchical_labels = fcluster(mat, n_clusters, criterion='maxclust')\n",
    "    # sample negatives\n",
    "    proportion = calculate_proportion(hierarchical_labels,y_train)\n",
    "    all_sampled_negatives = cluster_negative_sampling(hierarchical_labels,y_train,proportion,neg_size)\n",
    "    # return selected train set\n",
    "    positive_indices = np.where(y_train == 1)[0]\n",
    "    balanced_indices = np.concatenate([positive_indices, all_sampled_negatives])\n",
    "\n",
    "    return balanced_indices"
   ]
  },
  {
   "cell_type": "code",
   "execution_count": 10,
   "metadata": {},
   "outputs": [],
   "source": [
    "# def per_disease_val(df,X,y,methods):\n",
    "#     result_df = pd.DataFrame(columns=['method',\"fold\",\"kernel\", \"accuracy\", \"recall\", \"precision\", \"f1-score\",'auroc',\"rank_ratio\"])\n",
    "#     kf = StratifiedKFold(n_splits=5, shuffle=True, random_state=42)\n",
    "\n",
    "#     for fold, (train_idx, test_idx) in enumerate(kf.split(df, df['label'])):\n",
    "#         X_train = X[df.index.get_indexer(train_idx)]\n",
    "#         y_train = y[df.index.get_indexer(train_idx)]\n",
    "\n",
    "#         X_test = X[df.index.get_indexer(test_idx)]\n",
    "#         y_test = y[df.index.get_indexer(test_idx)]\n",
    "#         for method in methods:\n",
    "#             if method == 'ooc':\n",
    "#                 X_pos_train = X_train[np.where(y_train == 1)]\n",
    "#                 y_pos_train = y_train[np.where(y_train == 1)]\n",
    "#                 y_test_ooc = np.where(y_test == 0, -1, y_test)\n",
    "                \n",
    "#                 clf = svm.OneClassSVM(nu=0.8,kernel=build_normalized_linear_kernel())\n",
    "#                 result_df.loc[len(result_df.index)] = [\"ooc_svm\",fold,\"norm_linear\", *eval(clf, X_pos_train, y_pos_train, X_test, y_test_ooc)]\n",
    "#                 clf = svm.OneClassSVM(nu= 0.8, kernel=build_normalized_poly_kernel(degree = 3))\n",
    "#                 result_df.loc[len(result_df.index)] = [\"ooc_svm\",fold,\"norm_poly\", *eval(clf, X_pos_train, y_pos_train, X_test, y_test_ooc)]\n",
    "#                 clf = svm.OneClassSVM(nu= 0.8, kernel='rbf')\n",
    "#                 result_df.loc[len(result_df.index)] = [\"ooc_svm\",fold,\"rbf\", *eval(clf, X_pos_train, y_pos_train, X_test, y_test_ooc)]\n",
    "#             elif method == 'random_negative':\n",
    "#                 negative_indices = np.where(y_train == 0)[0]\n",
    "#                 positive_indices = np.where(y_train == 1)[0]\n",
    "#                 # Randomly select the same number of negative samples as positive samples\n",
    "#                 random_neg_indices = np.random.choice(negative_indices, size=5*len(positive_indices), replace=False)\n",
    "#                 # Combine positive and selected negative samples\n",
    "#                 balanced_indices = np.concatenate([positive_indices, random_neg_indices])\n",
    "#                 # Extract the balanced subset\n",
    "#                 X_train_balance = X_train[balanced_indices]\n",
    "#                 y_train_balance = y_train[balanced_indices] \n",
    "#                 clf = SVC(C=0.8,kernel=build_normalized_linear_kernel())\n",
    "#                 result_df.loc[len(result_df.index)] = [\"random_svm\",fold,\"norm_linear\", *eval(clf, X_train_balance, y_train_balance, X_test, y_test)]\n",
    "#                 clf = SVC(C=0.8,kernel=build_normalized_poly_kernel(degree = 3))\n",
    "#                 result_df.loc[len(result_df.index)] = [\"random_svm\",fold,\"norm_poly\", *eval(clf, X_train_balance, y_train_balance, X_test, y_test)]\n",
    "#                 clf = SVC(C=0.8,kernel='rbf')\n",
    "#                 result_df.loc[len(result_df.index)] = [\"random_svm\",fold,\"rbf\", *eval(clf, X_train_balance, y_train_balance, X_test, y_test)]\n",
    "#             elif method == 'pseudo_labeling':\n",
    "#                 negative_ratio = 5\n",
    "#                 balanced_indices = generate_pesudo_labels(negative_ratio,X_train,y_train)\n",
    "#                 X_train_balance = X_train[balanced_indices]\n",
    "#                 y_train_balance = y_train[balanced_indices]\n",
    "                \n",
    "#                 clf = SVC(C=0.8,kernel=build_normalized_linear_kernel())\n",
    "#                 result_df.loc[len(result_df.index)] = [\"pseudo_svm\",fold,\"norm_linear\", *eval(clf, X_train_balance, y_train_balance, X_test, y_test)]\n",
    "#                 clf = SVC(C=0.8,kernel=build_normalized_poly_kernel(degree = 3))\n",
    "#                 result_df.loc[len(result_df.index)] = [\"pseudo_svm\",fold,\"norm_poly\", *eval(clf, X_train_balance, y_train_balance, X_test, y_test)]\n",
    "#                 clf = SVC(C=0.8,kernel='rbf')\n",
    "#                 result_df.loc[len(result_df.index)] = [\"pseudo_svm\",fold,\"rbf\", *eval(clf, X_train_balance, y_train_balance, X_test, y_test)] \n",
    "#     return result_df"
   ]
  },
  {
   "cell_type": "code",
   "execution_count": 11,
   "metadata": {},
   "outputs": [],
   "source": [
    "def per_disease_val(df,X,y,methods):\n",
    "    result_df = pd.DataFrame(columns=['method',\"fold\",\"kernel\", \"accuracy\", \"recall\", \"precision\", \"f1-score\",'auroc',\"rank_ratio\"])\n",
    "    kf = StratifiedKFold(n_splits=5, shuffle=True, random_state=42)\n",
    "\n",
    "    for fold, (train_idx, test_idx) in enumerate(kf.split(df, df['label'])):\n",
    "        X_train = X[df.index.get_indexer(train_idx)]\n",
    "        y_train = y[df.index.get_indexer(train_idx)]\n",
    "\n",
    "        X_test = X[df.index.get_indexer(test_idx)]\n",
    "        y_test = y[df.index.get_indexer(test_idx)]\n",
    "        for method in methods:\n",
    "            if method == 'ooc':\n",
    "                X_pos_train = X_train[np.where(y_train == 1)]\n",
    "                y_pos_train = y_train[np.where(y_train == 1)]\n",
    "                X_all_test = np.vstack((X_train[np.where(y_train != 1)], X_test))\n",
    "                y_all_test = np.concatenate((y_train[np.where(y_train != 1)], y_test))\n",
    "                y_test_ooc = np.where(y_all_test == 0, -1, y_all_test)\n",
    "                \n",
    "                clf = svm.OneClassSVM(nu=0.8,kernel=build_normalized_linear_kernel())\n",
    "                result_df.loc[len(result_df.index)] = [\"ooc_svm\",fold,\"norm_linear\", *eval(clf, X_pos_train, y_pos_train, X_all_test, y_test_ooc)]\n",
    "                clf = svm.OneClassSVM(nu= 0.8, kernel=build_normalized_poly_kernel(degree = 3))\n",
    "                result_df.loc[len(result_df.index)] = [\"ooc_svm\",fold,\"norm_poly\", *eval(clf, X_pos_train, y_pos_train, X_all_test, y_test_ooc)]\n",
    "                clf = svm.OneClassSVM(nu= 0.8, kernel='rbf')\n",
    "                result_df.loc[len(result_df.index)] = [\"ooc_svm\",fold,\"rbf\", *eval(clf, X_pos_train, y_pos_train, X_all_test, y_test_ooc)]\n",
    "            elif method == 'random_negative':\n",
    "                negative_indices = np.where(y_train == 0)[0]\n",
    "                positive_indices = np.where(y_train == 1)[0]\n",
    "                # Randomly select the same number of negative samples as positive samples\n",
    "                random_neg_indices = np.random.choice(negative_indices, size=5*len(positive_indices), replace=False)\n",
    "                # Combine positive and selected negative samples\n",
    "                balanced_indices = np.concatenate([positive_indices, random_neg_indices])\n",
    "                # Extract the balanced subset\n",
    "                X_train_balance = X_train[balanced_indices]\n",
    "                y_train_balance = y_train[balanced_indices] \n",
    "                unused_neg_indices = np.setdiff1d(negative_indices, random_neg_indices)\n",
    "                X_new_test = np.vstack((X_train[unused_neg_indices], X_test))\n",
    "                y_new_test = np.concatenate((y_train[unused_neg_indices], y_test))\n",
    "\n",
    "                clf = SVC(C=0.8,kernel=build_normalized_linear_kernel())\n",
    "                result_df.loc[len(result_df.index)] = [\"random_svm\",fold,\"norm_linear\", *eval(clf, X_train_balance, y_train_balance, X_new_test, y_new_test)]\n",
    "                clf = SVC(C=0.8,kernel=build_normalized_poly_kernel(degree = 3))\n",
    "                result_df.loc[len(result_df.index)] = [\"random_svm\",fold,\"norm_poly\", *eval(clf, X_train_balance, y_train_balance, X_new_test, y_new_test)]\n",
    "                clf = SVC(C=0.8,kernel='rbf')\n",
    "                result_df.loc[len(result_df.index)] = [\"random_svm\",fold,\"rbf\", *eval(clf, X_train_balance, y_train_balance, X_new_test, y_new_test)]\n",
    "            elif method == 'pseudo_labeling':\n",
    "                negative_ratio = 5\n",
    "                balanced_indices = generate_pesudo_labels(negative_ratio,X_train,y_train)\n",
    "\n",
    "                all_train_indices = np.arange(len(y_train))\n",
    "                non_selected_indices = np.setdiff1d(all_train_indices, balanced_indices)\n",
    "\n",
    "                # Step 4: Create the new test set with non-selected training data + original test data\n",
    "                X_new_test = np.vstack((X_train[non_selected_indices], X_test))\n",
    "                y_new_test = np.concatenate((y_train[non_selected_indices], y_test))\n",
    "                clf = SVC(C=0.8,kernel=build_normalized_linear_kernel())\n",
    "                result_df.loc[len(result_df.index)] = [\"pseudo_svm\",fold,\"norm_linear\", *eval(clf, X_train_balance, y_train_balance, X_new_test, y_new_test)]\n",
    "                clf = SVC(C=0.8,kernel=build_normalized_poly_kernel(degree = 3))\n",
    "                result_df.loc[len(result_df.index)] = [\"pseudo_svm\",fold,\"norm_poly\", *eval(clf, X_train_balance, y_train_balance, X_new_test, y_new_test)]\n",
    "                clf = SVC(C=0.8,kernel='rbf')\n",
    "                result_df.loc[len(result_df.index)] = [\"pseudo_svm\",fold,\"rbf\", *eval(clf, X_train_balance, y_train_balance, X_new_test, y_new_test)] \n",
    "    return result_df"
   ]
  },
  {
   "cell_type": "code",
   "execution_count": 15,
   "metadata": {},
   "outputs": [
    {
     "name": "stdout",
     "output_type": "stream",
     "text": [
      "total positive 76\n",
      "total positive 76\n",
      "total positive 76\n",
      "total positive 76\n",
      "total positive 76\n",
      "total positive 40\n",
      "total positive 40\n",
      "total positive 40\n",
      "total positive 40\n",
      "total positive 40\n",
      "total positive 15\n",
      "total positive 15\n"
     ]
    },
    {
     "name": "stderr",
     "output_type": "stream",
     "text": [
      "/itf-fi-ml/shared/users/ziyuzh/.venv/lib64/python3.11/site-packages/sklearn/metrics/_classification.py:1565: UndefinedMetricWarning: Precision is ill-defined and being set to 0.0 in labels with no predicted samples. Use `zero_division` parameter to control this behavior.\n",
      "  _warn_prf(average, modifier, f\"{metric.capitalize()} is\", len(result))\n"
     ]
    },
    {
     "name": "stdout",
     "output_type": "stream",
     "text": [
      "total positive 16\n"
     ]
    },
    {
     "name": "stderr",
     "output_type": "stream",
     "text": [
      "/itf-fi-ml/shared/users/ziyuzh/.venv/lib64/python3.11/site-packages/sklearn/metrics/_classification.py:1565: UndefinedMetricWarning: Precision is ill-defined and being set to 0.0 in labels with no predicted samples. Use `zero_division` parameter to control this behavior.\n",
      "  _warn_prf(average, modifier, f\"{metric.capitalize()} is\", len(result))\n"
     ]
    },
    {
     "name": "stdout",
     "output_type": "stream",
     "text": [
      "total positive 15\n",
      "total positive 15\n",
      "total positive 41\n",
      "total positive 41\n",
      "total positive 42\n",
      "total positive 42\n",
      "total positive 42\n",
      "total positive 34\n",
      "total positive 34\n",
      "total positive 35\n",
      "total positive 35\n",
      "total positive 34\n"
     ]
    },
    {
     "name": "stderr",
     "output_type": "stream",
     "text": [
      "/itf-fi-ml/shared/users/ziyuzh/.venv/lib64/python3.11/site-packages/sklearn/metrics/_classification.py:1565: UndefinedMetricWarning: Precision is ill-defined and being set to 0.0 in labels with no predicted samples. Use `zero_division` parameter to control this behavior.\n",
      "  _warn_prf(average, modifier, f\"{metric.capitalize()} is\", len(result))\n"
     ]
    },
    {
     "name": "stdout",
     "output_type": "stream",
     "text": [
      "total positive 572\n"
     ]
    },
    {
     "name": "stderr",
     "output_type": "stream",
     "text": [
      "/itf-fi-ml/shared/users/ziyuzh/.venv/lib64/python3.11/site-packages/sklearn/metrics/_classification.py:1565: UndefinedMetricWarning: Precision is ill-defined and being set to 0.0 in labels with no predicted samples. Use `zero_division` parameter to control this behavior.\n",
      "  _warn_prf(average, modifier, f\"{metric.capitalize()} is\", len(result))\n",
      "/itf-fi-ml/shared/users/ziyuzh/.venv/lib64/python3.11/site-packages/sklearn/metrics/_classification.py:1565: UndefinedMetricWarning: Precision is ill-defined and being set to 0.0 in labels with no predicted samples. Use `zero_division` parameter to control this behavior.\n",
      "  _warn_prf(average, modifier, f\"{metric.capitalize()} is\", len(result))\n"
     ]
    },
    {
     "name": "stdout",
     "output_type": "stream",
     "text": [
      "total positive 572\n"
     ]
    },
    {
     "name": "stderr",
     "output_type": "stream",
     "text": [
      "/itf-fi-ml/shared/users/ziyuzh/.venv/lib64/python3.11/site-packages/sklearn/metrics/_classification.py:1565: UndefinedMetricWarning: Precision is ill-defined and being set to 0.0 in labels with no predicted samples. Use `zero_division` parameter to control this behavior.\n",
      "  _warn_prf(average, modifier, f\"{metric.capitalize()} is\", len(result))\n",
      "/itf-fi-ml/shared/users/ziyuzh/.venv/lib64/python3.11/site-packages/sklearn/metrics/_classification.py:1565: UndefinedMetricWarning: Precision is ill-defined and being set to 0.0 in labels with no predicted samples. Use `zero_division` parameter to control this behavior.\n",
      "  _warn_prf(average, modifier, f\"{metric.capitalize()} is\", len(result))\n"
     ]
    },
    {
     "name": "stdout",
     "output_type": "stream",
     "text": [
      "total positive 572\n"
     ]
    },
    {
     "name": "stderr",
     "output_type": "stream",
     "text": [
      "/itf-fi-ml/shared/users/ziyuzh/.venv/lib64/python3.11/site-packages/sklearn/metrics/_classification.py:1565: UndefinedMetricWarning: Precision is ill-defined and being set to 0.0 in labels with no predicted samples. Use `zero_division` parameter to control this behavior.\n",
      "  _warn_prf(average, modifier, f\"{metric.capitalize()} is\", len(result))\n",
      "/itf-fi-ml/shared/users/ziyuzh/.venv/lib64/python3.11/site-packages/sklearn/metrics/_classification.py:1565: UndefinedMetricWarning: Precision is ill-defined and being set to 0.0 in labels with no predicted samples. Use `zero_division` parameter to control this behavior.\n",
      "  _warn_prf(average, modifier, f\"{metric.capitalize()} is\", len(result))\n"
     ]
    },
    {
     "name": "stdout",
     "output_type": "stream",
     "text": [
      "total positive 572\n"
     ]
    },
    {
     "name": "stderr",
     "output_type": "stream",
     "text": [
      "/itf-fi-ml/shared/users/ziyuzh/.venv/lib64/python3.11/site-packages/sklearn/metrics/_classification.py:1565: UndefinedMetricWarning: Precision is ill-defined and being set to 0.0 in labels with no predicted samples. Use `zero_division` parameter to control this behavior.\n",
      "  _warn_prf(average, modifier, f\"{metric.capitalize()} is\", len(result))\n",
      "/itf-fi-ml/shared/users/ziyuzh/.venv/lib64/python3.11/site-packages/sklearn/metrics/_classification.py:1565: UndefinedMetricWarning: Precision is ill-defined and being set to 0.0 in labels with no predicted samples. Use `zero_division` parameter to control this behavior.\n",
      "  _warn_prf(average, modifier, f\"{metric.capitalize()} is\", len(result))\n"
     ]
    },
    {
     "name": "stdout",
     "output_type": "stream",
     "text": [
      "total positive 572\n"
     ]
    },
    {
     "name": "stderr",
     "output_type": "stream",
     "text": [
      "/itf-fi-ml/shared/users/ziyuzh/.venv/lib64/python3.11/site-packages/sklearn/metrics/_classification.py:1565: UndefinedMetricWarning: Precision is ill-defined and being set to 0.0 in labels with no predicted samples. Use `zero_division` parameter to control this behavior.\n",
      "  _warn_prf(average, modifier, f\"{metric.capitalize()} is\", len(result))\n"
     ]
    },
    {
     "name": "stdout",
     "output_type": "stream",
     "text": [
      "total positive 22\n",
      "total positive 22\n",
      "total positive 23\n",
      "total positive 23\n",
      "total positive 22\n"
     ]
    },
    {
     "name": "stderr",
     "output_type": "stream",
     "text": [
      "/itf-fi-ml/shared/users/ziyuzh/.venv/lib64/python3.11/site-packages/sklearn/metrics/_classification.py:1565: UndefinedMetricWarning: Precision is ill-defined and being set to 0.0 in labels with no predicted samples. Use `zero_division` parameter to control this behavior.\n",
      "  _warn_prf(average, modifier, f\"{metric.capitalize()} is\", len(result))\n",
      "/itf-fi-ml/shared/users/ziyuzh/.venv/lib64/python3.11/site-packages/sklearn/metrics/_classification.py:1565: UndefinedMetricWarning: Precision is ill-defined and being set to 0.0 in labels with no predicted samples. Use `zero_division` parameter to control this behavior.\n",
      "  _warn_prf(average, modifier, f\"{metric.capitalize()} is\", len(result))\n"
     ]
    },
    {
     "name": "stdout",
     "output_type": "stream",
     "text": [
      "total positive 21\n",
      "total positive 20\n",
      "total positive 21\n"
     ]
    },
    {
     "name": "stderr",
     "output_type": "stream",
     "text": [
      "/itf-fi-ml/shared/users/ziyuzh/.venv/lib64/python3.11/site-packages/sklearn/metrics/_classification.py:1565: UndefinedMetricWarning: Precision is ill-defined and being set to 0.0 in labels with no predicted samples. Use `zero_division` parameter to control this behavior.\n",
      "  _warn_prf(average, modifier, f\"{metric.capitalize()} is\", len(result))\n"
     ]
    },
    {
     "name": "stdout",
     "output_type": "stream",
     "text": [
      "total positive 21\n",
      "total positive 21\n",
      "total positive 99\n",
      "total positive 99\n",
      "total positive 100\n",
      "total positive 99\n",
      "total positive 99\n"
     ]
    },
    {
     "name": "stderr",
     "output_type": "stream",
     "text": [
      "/itf-fi-ml/shared/users/ziyuzh/.venv/lib64/python3.11/site-packages/sklearn/metrics/_classification.py:1565: UndefinedMetricWarning: Precision is ill-defined and being set to 0.0 in labels with no predicted samples. Use `zero_division` parameter to control this behavior.\n",
      "  _warn_prf(average, modifier, f\"{metric.capitalize()} is\", len(result))\n",
      "/itf-fi-ml/shared/users/ziyuzh/.venv/lib64/python3.11/site-packages/sklearn/metrics/_classification.py:1565: UndefinedMetricWarning: Precision is ill-defined and being set to 0.0 in labels with no predicted samples. Use `zero_division` parameter to control this behavior.\n",
      "  _warn_prf(average, modifier, f\"{metric.capitalize()} is\", len(result))\n"
     ]
    },
    {
     "name": "stdout",
     "output_type": "stream",
     "text": [
      "total positive 452\n"
     ]
    },
    {
     "name": "stderr",
     "output_type": "stream",
     "text": [
      "/itf-fi-ml/shared/users/ziyuzh/.venv/lib64/python3.11/site-packages/sklearn/metrics/_classification.py:1565: UndefinedMetricWarning: Precision is ill-defined and being set to 0.0 in labels with no predicted samples. Use `zero_division` parameter to control this behavior.\n",
      "  _warn_prf(average, modifier, f\"{metric.capitalize()} is\", len(result))\n",
      "/itf-fi-ml/shared/users/ziyuzh/.venv/lib64/python3.11/site-packages/sklearn/metrics/_classification.py:1565: UndefinedMetricWarning: Precision is ill-defined and being set to 0.0 in labels with no predicted samples. Use `zero_division` parameter to control this behavior.\n",
      "  _warn_prf(average, modifier, f\"{metric.capitalize()} is\", len(result))\n",
      "/itf-fi-ml/shared/users/ziyuzh/.venv/lib64/python3.11/site-packages/sklearn/metrics/_classification.py:1565: UndefinedMetricWarning: Precision is ill-defined and being set to 0.0 in labels with no predicted samples. Use `zero_division` parameter to control this behavior.\n",
      "  _warn_prf(average, modifier, f\"{metric.capitalize()} is\", len(result))\n"
     ]
    },
    {
     "name": "stdout",
     "output_type": "stream",
     "text": [
      "total positive 452\n"
     ]
    },
    {
     "name": "stderr",
     "output_type": "stream",
     "text": [
      "/itf-fi-ml/shared/users/ziyuzh/.venv/lib64/python3.11/site-packages/sklearn/metrics/_classification.py:1565: UndefinedMetricWarning: Precision is ill-defined and being set to 0.0 in labels with no predicted samples. Use `zero_division` parameter to control this behavior.\n",
      "  _warn_prf(average, modifier, f\"{metric.capitalize()} is\", len(result))\n",
      "/itf-fi-ml/shared/users/ziyuzh/.venv/lib64/python3.11/site-packages/sklearn/metrics/_classification.py:1565: UndefinedMetricWarning: Precision is ill-defined and being set to 0.0 in labels with no predicted samples. Use `zero_division` parameter to control this behavior.\n",
      "  _warn_prf(average, modifier, f\"{metric.capitalize()} is\", len(result))\n"
     ]
    },
    {
     "name": "stdout",
     "output_type": "stream",
     "text": [
      "total positive 452\n"
     ]
    },
    {
     "name": "stderr",
     "output_type": "stream",
     "text": [
      "/itf-fi-ml/shared/users/ziyuzh/.venv/lib64/python3.11/site-packages/sklearn/metrics/_classification.py:1565: UndefinedMetricWarning: Precision is ill-defined and being set to 0.0 in labels with no predicted samples. Use `zero_division` parameter to control this behavior.\n",
      "  _warn_prf(average, modifier, f\"{metric.capitalize()} is\", len(result))\n",
      "/itf-fi-ml/shared/users/ziyuzh/.venv/lib64/python3.11/site-packages/sklearn/metrics/_classification.py:1565: UndefinedMetricWarning: Precision is ill-defined and being set to 0.0 in labels with no predicted samples. Use `zero_division` parameter to control this behavior.\n",
      "  _warn_prf(average, modifier, f\"{metric.capitalize()} is\", len(result))\n"
     ]
    },
    {
     "name": "stdout",
     "output_type": "stream",
     "text": [
      "total positive 452\n"
     ]
    },
    {
     "name": "stderr",
     "output_type": "stream",
     "text": [
      "/itf-fi-ml/shared/users/ziyuzh/.venv/lib64/python3.11/site-packages/sklearn/metrics/_classification.py:1565: UndefinedMetricWarning: Precision is ill-defined and being set to 0.0 in labels with no predicted samples. Use `zero_division` parameter to control this behavior.\n",
      "  _warn_prf(average, modifier, f\"{metric.capitalize()} is\", len(result))\n",
      "/itf-fi-ml/shared/users/ziyuzh/.venv/lib64/python3.11/site-packages/sklearn/metrics/_classification.py:1565: UndefinedMetricWarning: Precision is ill-defined and being set to 0.0 in labels with no predicted samples. Use `zero_division` parameter to control this behavior.\n",
      "  _warn_prf(average, modifier, f\"{metric.capitalize()} is\", len(result))\n",
      "/itf-fi-ml/shared/users/ziyuzh/.venv/lib64/python3.11/site-packages/sklearn/metrics/_classification.py:1565: UndefinedMetricWarning: Precision is ill-defined and being set to 0.0 in labels with no predicted samples. Use `zero_division` parameter to control this behavior.\n",
      "  _warn_prf(average, modifier, f\"{metric.capitalize()} is\", len(result))\n"
     ]
    },
    {
     "name": "stdout",
     "output_type": "stream",
     "text": [
      "total positive 452\n"
     ]
    },
    {
     "name": "stderr",
     "output_type": "stream",
     "text": [
      "/itf-fi-ml/shared/users/ziyuzh/.venv/lib64/python3.11/site-packages/sklearn/metrics/_classification.py:1565: UndefinedMetricWarning: Precision is ill-defined and being set to 0.0 in labels with no predicted samples. Use `zero_division` parameter to control this behavior.\n",
      "  _warn_prf(average, modifier, f\"{metric.capitalize()} is\", len(result))\n",
      "/itf-fi-ml/shared/users/ziyuzh/.venv/lib64/python3.11/site-packages/sklearn/metrics/_classification.py:1565: UndefinedMetricWarning: Precision is ill-defined and being set to 0.0 in labels with no predicted samples. Use `zero_division` parameter to control this behavior.\n",
      "  _warn_prf(average, modifier, f\"{metric.capitalize()} is\", len(result))\n"
     ]
    },
    {
     "name": "stdout",
     "output_type": "stream",
     "text": [
      "total positive 159\n",
      "total positive 159\n",
      "total positive 160\n",
      "total positive 159\n",
      "total positive 159\n",
      "total positive 18\n",
      "total positive 18\n",
      "total positive 19\n",
      "total positive 19\n",
      "total positive 18\n",
      "total positive 17\n",
      "total positive 16\n",
      "total positive 17\n"
     ]
    },
    {
     "name": "stderr",
     "output_type": "stream",
     "text": [
      "/itf-fi-ml/shared/users/ziyuzh/.venv/lib64/python3.11/site-packages/sklearn/metrics/_classification.py:1565: UndefinedMetricWarning: Precision is ill-defined and being set to 0.0 in labels with no predicted samples. Use `zero_division` parameter to control this behavior.\n",
      "  _warn_prf(average, modifier, f\"{metric.capitalize()} is\", len(result))\n"
     ]
    },
    {
     "name": "stdout",
     "output_type": "stream",
     "text": [
      "total positive 17\n"
     ]
    },
    {
     "name": "stderr",
     "output_type": "stream",
     "text": [
      "/itf-fi-ml/shared/users/ziyuzh/.venv/lib64/python3.11/site-packages/sklearn/metrics/_classification.py:1565: UndefinedMetricWarning: Precision is ill-defined and being set to 0.0 in labels with no predicted samples. Use `zero_division` parameter to control this behavior.\n",
      "  _warn_prf(average, modifier, f\"{metric.capitalize()} is\", len(result))\n"
     ]
    },
    {
     "name": "stdout",
     "output_type": "stream",
     "text": [
      "total positive 17\n",
      "total positive 23\n",
      "total positive 23\n",
      "total positive 24\n",
      "total positive 23\n",
      "total positive 23\n",
      "total positive 13\n",
      "total positive 13\n",
      "total positive 14\n",
      "total positive 14\n",
      "total positive 14\n",
      "total positive 17\n"
     ]
    },
    {
     "name": "stderr",
     "output_type": "stream",
     "text": [
      "/itf-fi-ml/shared/users/ziyuzh/.venv/lib64/python3.11/site-packages/sklearn/metrics/_classification.py:1565: UndefinedMetricWarning: Precision is ill-defined and being set to 0.0 in labels with no predicted samples. Use `zero_division` parameter to control this behavior.\n",
      "  _warn_prf(average, modifier, f\"{metric.capitalize()} is\", len(result))\n"
     ]
    },
    {
     "name": "stdout",
     "output_type": "stream",
     "text": [
      "total positive 17\n"
     ]
    },
    {
     "name": "stderr",
     "output_type": "stream",
     "text": [
      "/itf-fi-ml/shared/users/ziyuzh/.venv/lib64/python3.11/site-packages/sklearn/metrics/_classification.py:1565: UndefinedMetricWarning: Precision is ill-defined and being set to 0.0 in labels with no predicted samples. Use `zero_division` parameter to control this behavior.\n",
      "  _warn_prf(average, modifier, f\"{metric.capitalize()} is\", len(result))\n"
     ]
    },
    {
     "name": "stdout",
     "output_type": "stream",
     "text": [
      "total positive 18\n",
      "total positive 18\n",
      "total positive 18\n",
      "total positive 16\n",
      "total positive 16\n",
      "total positive 16\n"
     ]
    },
    {
     "name": "stderr",
     "output_type": "stream",
     "text": [
      "/itf-fi-ml/shared/users/ziyuzh/.venv/lib64/python3.11/site-packages/sklearn/metrics/_classification.py:1565: UndefinedMetricWarning: Precision is ill-defined and being set to 0.0 in labels with no predicted samples. Use `zero_division` parameter to control this behavior.\n",
      "  _warn_prf(average, modifier, f\"{metric.capitalize()} is\", len(result))\n",
      "/itf-fi-ml/shared/users/ziyuzh/.venv/lib64/python3.11/site-packages/sklearn/metrics/_classification.py:1565: UndefinedMetricWarning: Precision is ill-defined and being set to 0.0 in labels with no predicted samples. Use `zero_division` parameter to control this behavior.\n",
      "  _warn_prf(average, modifier, f\"{metric.capitalize()} is\", len(result))\n"
     ]
    },
    {
     "name": "stdout",
     "output_type": "stream",
     "text": [
      "total positive 16\n"
     ]
    },
    {
     "name": "stderr",
     "output_type": "stream",
     "text": [
      "/itf-fi-ml/shared/users/ziyuzh/.venv/lib64/python3.11/site-packages/sklearn/metrics/_classification.py:1565: UndefinedMetricWarning: Precision is ill-defined and being set to 0.0 in labels with no predicted samples. Use `zero_division` parameter to control this behavior.\n",
      "  _warn_prf(average, modifier, f\"{metric.capitalize()} is\", len(result))\n",
      "/itf-fi-ml/shared/users/ziyuzh/.venv/lib64/python3.11/site-packages/sklearn/metrics/_classification.py:1565: UndefinedMetricWarning: Precision is ill-defined and being set to 0.0 in labels with no predicted samples. Use `zero_division` parameter to control this behavior.\n",
      "  _warn_prf(average, modifier, f\"{metric.capitalize()} is\", len(result))\n",
      "/itf-fi-ml/shared/users/ziyuzh/.venv/lib64/python3.11/site-packages/sklearn/metrics/_classification.py:1565: UndefinedMetricWarning: Precision is ill-defined and being set to 0.0 in labels with no predicted samples. Use `zero_division` parameter to control this behavior.\n",
      "  _warn_prf(average, modifier, f\"{metric.capitalize()} is\", len(result))\n",
      "/itf-fi-ml/shared/users/ziyuzh/.venv/lib64/python3.11/site-packages/sklearn/metrics/_classification.py:1565: UndefinedMetricWarning: Precision is ill-defined and being set to 0.0 in labels with no predicted samples. Use `zero_division` parameter to control this behavior.\n",
      "  _warn_prf(average, modifier, f\"{metric.capitalize()} is\", len(result))\n"
     ]
    },
    {
     "name": "stdout",
     "output_type": "stream",
     "text": [
      "total positive 16\n"
     ]
    },
    {
     "name": "stderr",
     "output_type": "stream",
     "text": [
      "/itf-fi-ml/shared/users/ziyuzh/.venv/lib64/python3.11/site-packages/sklearn/metrics/_classification.py:1565: UndefinedMetricWarning: Precision is ill-defined and being set to 0.0 in labels with no predicted samples. Use `zero_division` parameter to control this behavior.\n",
      "  _warn_prf(average, modifier, f\"{metric.capitalize()} is\", len(result))\n",
      "/itf-fi-ml/shared/users/ziyuzh/.venv/lib64/python3.11/site-packages/sklearn/metrics/_classification.py:1565: UndefinedMetricWarning: Precision is ill-defined and being set to 0.0 in labels with no predicted samples. Use `zero_division` parameter to control this behavior.\n",
      "  _warn_prf(average, modifier, f\"{metric.capitalize()} is\", len(result))\n"
     ]
    },
    {
     "name": "stdout",
     "output_type": "stream",
     "text": [
      "total positive 21\n",
      "total positive 21\n",
      "total positive 22\n",
      "total positive 22\n",
      "total positive 22\n",
      "total positive 17\n",
      "total positive 16\n",
      "total positive 17\n",
      "total positive 17\n",
      "total positive 17\n",
      "total positive 90\n",
      "total positive 90\n",
      "total positive 91\n",
      "total positive 91\n",
      "total positive 90\n",
      "total positive 230\n",
      "total positive 230\n",
      "total positive 231\n",
      "total positive 231\n",
      "total positive 230\n",
      "total positive 227\n",
      "total positive 227\n",
      "total positive 228\n",
      "total positive 227\n",
      "total positive 227\n",
      "total positive 38\n",
      "total positive 38\n",
      "total positive 39\n",
      "total positive 39\n",
      "total positive 38\n",
      "total positive 33\n",
      "total positive 32\n",
      "total positive 33\n",
      "total positive 33\n",
      "total positive 33\n",
      "total positive 751\n",
      "total positive 751\n",
      "total positive 752\n",
      "total positive 751\n",
      "total positive 751\n",
      "total positive 375\n",
      "total positive 375\n",
      "total positive 376\n",
      "total positive 375\n",
      "total positive 375\n"
     ]
    },
    {
     "name": "stderr",
     "output_type": "stream",
     "text": [
      "/itf-fi-ml/shared/users/ziyuzh/.venv/lib64/python3.11/site-packages/sklearn/metrics/_classification.py:1565: UndefinedMetricWarning: Precision is ill-defined and being set to 0.0 in labels with no predicted samples. Use `zero_division` parameter to control this behavior.\n",
      "  _warn_prf(average, modifier, f\"{metric.capitalize()} is\", len(result))\n",
      "/itf-fi-ml/shared/users/ziyuzh/.venv/lib64/python3.11/site-packages/sklearn/metrics/_classification.py:1565: UndefinedMetricWarning: Precision is ill-defined and being set to 0.0 in labels with no predicted samples. Use `zero_division` parameter to control this behavior.\n",
      "  _warn_prf(average, modifier, f\"{metric.capitalize()} is\", len(result))\n"
     ]
    },
    {
     "name": "stdout",
     "output_type": "stream",
     "text": [
      "total positive 17\n"
     ]
    },
    {
     "name": "stderr",
     "output_type": "stream",
     "text": [
      "/itf-fi-ml/shared/users/ziyuzh/.venv/lib64/python3.11/site-packages/sklearn/metrics/_classification.py:1565: UndefinedMetricWarning: Precision is ill-defined and being set to 0.0 in labels with no predicted samples. Use `zero_division` parameter to control this behavior.\n",
      "  _warn_prf(average, modifier, f\"{metric.capitalize()} is\", len(result))\n",
      "/itf-fi-ml/shared/users/ziyuzh/.venv/lib64/python3.11/site-packages/sklearn/metrics/_classification.py:1565: UndefinedMetricWarning: Precision is ill-defined and being set to 0.0 in labels with no predicted samples. Use `zero_division` parameter to control this behavior.\n",
      "  _warn_prf(average, modifier, f\"{metric.capitalize()} is\", len(result))\n"
     ]
    },
    {
     "name": "stdout",
     "output_type": "stream",
     "text": [
      "total positive 16\n",
      "total positive 17\n"
     ]
    },
    {
     "name": "stderr",
     "output_type": "stream",
     "text": [
      "/itf-fi-ml/shared/users/ziyuzh/.venv/lib64/python3.11/site-packages/sklearn/metrics/_classification.py:1565: UndefinedMetricWarning: Precision is ill-defined and being set to 0.0 in labels with no predicted samples. Use `zero_division` parameter to control this behavior.\n",
      "  _warn_prf(average, modifier, f\"{metric.capitalize()} is\", len(result))\n",
      "/itf-fi-ml/shared/users/ziyuzh/.venv/lib64/python3.11/site-packages/sklearn/metrics/_classification.py:1565: UndefinedMetricWarning: Precision is ill-defined and being set to 0.0 in labels with no predicted samples. Use `zero_division` parameter to control this behavior.\n",
      "  _warn_prf(average, modifier, f\"{metric.capitalize()} is\", len(result))\n",
      "/itf-fi-ml/shared/users/ziyuzh/.venv/lib64/python3.11/site-packages/sklearn/metrics/_classification.py:1565: UndefinedMetricWarning: Precision is ill-defined and being set to 0.0 in labels with no predicted samples. Use `zero_division` parameter to control this behavior.\n",
      "  _warn_prf(average, modifier, f\"{metric.capitalize()} is\", len(result))\n"
     ]
    },
    {
     "name": "stdout",
     "output_type": "stream",
     "text": [
      "total positive 17\n"
     ]
    },
    {
     "name": "stderr",
     "output_type": "stream",
     "text": [
      "/itf-fi-ml/shared/users/ziyuzh/.venv/lib64/python3.11/site-packages/sklearn/metrics/_classification.py:1565: UndefinedMetricWarning: Precision is ill-defined and being set to 0.0 in labels with no predicted samples. Use `zero_division` parameter to control this behavior.\n",
      "  _warn_prf(average, modifier, f\"{metric.capitalize()} is\", len(result))\n",
      "/itf-fi-ml/shared/users/ziyuzh/.venv/lib64/python3.11/site-packages/sklearn/metrics/_classification.py:1565: UndefinedMetricWarning: Precision is ill-defined and being set to 0.0 in labels with no predicted samples. Use `zero_division` parameter to control this behavior.\n",
      "  _warn_prf(average, modifier, f\"{metric.capitalize()} is\", len(result))\n",
      "/itf-fi-ml/shared/users/ziyuzh/.venv/lib64/python3.11/site-packages/sklearn/metrics/_classification.py:1565: UndefinedMetricWarning: Precision is ill-defined and being set to 0.0 in labels with no predicted samples. Use `zero_division` parameter to control this behavior.\n",
      "  _warn_prf(average, modifier, f\"{metric.capitalize()} is\", len(result))\n",
      "/itf-fi-ml/shared/users/ziyuzh/.venv/lib64/python3.11/site-packages/sklearn/metrics/_classification.py:1565: UndefinedMetricWarning: Precision is ill-defined and being set to 0.0 in labels with no predicted samples. Use `zero_division` parameter to control this behavior.\n",
      "  _warn_prf(average, modifier, f\"{metric.capitalize()} is\", len(result))\n",
      "/itf-fi-ml/shared/users/ziyuzh/.venv/lib64/python3.11/site-packages/sklearn/metrics/_classification.py:1565: UndefinedMetricWarning: Precision is ill-defined and being set to 0.0 in labels with no predicted samples. Use `zero_division` parameter to control this behavior.\n",
      "  _warn_prf(average, modifier, f\"{metric.capitalize()} is\", len(result))\n",
      "/itf-fi-ml/shared/users/ziyuzh/.venv/lib64/python3.11/site-packages/sklearn/metrics/_classification.py:1565: UndefinedMetricWarning: Precision is ill-defined and being set to 0.0 in labels with no predicted samples. Use `zero_division` parameter to control this behavior.\n",
      "  _warn_prf(average, modifier, f\"{metric.capitalize()} is\", len(result))\n"
     ]
    },
    {
     "name": "stdout",
     "output_type": "stream",
     "text": [
      "total positive 17\n"
     ]
    },
    {
     "name": "stderr",
     "output_type": "stream",
     "text": [
      "/itf-fi-ml/shared/users/ziyuzh/.venv/lib64/python3.11/site-packages/sklearn/metrics/_classification.py:1565: UndefinedMetricWarning: Precision is ill-defined and being set to 0.0 in labels with no predicted samples. Use `zero_division` parameter to control this behavior.\n",
      "  _warn_prf(average, modifier, f\"{metric.capitalize()} is\", len(result))\n",
      "/itf-fi-ml/shared/users/ziyuzh/.venv/lib64/python3.11/site-packages/sklearn/metrics/_classification.py:1565: UndefinedMetricWarning: Precision is ill-defined and being set to 0.0 in labels with no predicted samples. Use `zero_division` parameter to control this behavior.\n",
      "  _warn_prf(average, modifier, f\"{metric.capitalize()} is\", len(result))\n",
      "/itf-fi-ml/shared/users/ziyuzh/.venv/lib64/python3.11/site-packages/sklearn/metrics/_classification.py:1565: UndefinedMetricWarning: Precision is ill-defined and being set to 0.0 in labels with no predicted samples. Use `zero_division` parameter to control this behavior.\n",
      "  _warn_prf(average, modifier, f\"{metric.capitalize()} is\", len(result))\n",
      "/itf-fi-ml/shared/users/ziyuzh/.venv/lib64/python3.11/site-packages/sklearn/metrics/_classification.py:1565: UndefinedMetricWarning: Precision is ill-defined and being set to 0.0 in labels with no predicted samples. Use `zero_division` parameter to control this behavior.\n",
      "  _warn_prf(average, modifier, f\"{metric.capitalize()} is\", len(result))\n"
     ]
    },
    {
     "name": "stdout",
     "output_type": "stream",
     "text": [
      "total positive 24\n"
     ]
    },
    {
     "name": "stderr",
     "output_type": "stream",
     "text": [
      "/itf-fi-ml/shared/users/ziyuzh/.venv/lib64/python3.11/site-packages/sklearn/metrics/_classification.py:1565: UndefinedMetricWarning: Precision is ill-defined and being set to 0.0 in labels with no predicted samples. Use `zero_division` parameter to control this behavior.\n",
      "  _warn_prf(average, modifier, f\"{metric.capitalize()} is\", len(result))\n",
      "/itf-fi-ml/shared/users/ziyuzh/.venv/lib64/python3.11/site-packages/sklearn/metrics/_classification.py:1565: UndefinedMetricWarning: Precision is ill-defined and being set to 0.0 in labels with no predicted samples. Use `zero_division` parameter to control this behavior.\n",
      "  _warn_prf(average, modifier, f\"{metric.capitalize()} is\", len(result))\n"
     ]
    },
    {
     "name": "stdout",
     "output_type": "stream",
     "text": [
      "total positive 24\n"
     ]
    },
    {
     "name": "stderr",
     "output_type": "stream",
     "text": [
      "/itf-fi-ml/shared/users/ziyuzh/.venv/lib64/python3.11/site-packages/sklearn/metrics/_classification.py:1565: UndefinedMetricWarning: Precision is ill-defined and being set to 0.0 in labels with no predicted samples. Use `zero_division` parameter to control this behavior.\n",
      "  _warn_prf(average, modifier, f\"{metric.capitalize()} is\", len(result))\n",
      "/itf-fi-ml/shared/users/ziyuzh/.venv/lib64/python3.11/site-packages/sklearn/metrics/_classification.py:1565: UndefinedMetricWarning: Precision is ill-defined and being set to 0.0 in labels with no predicted samples. Use `zero_division` parameter to control this behavior.\n",
      "  _warn_prf(average, modifier, f\"{metric.capitalize()} is\", len(result))\n",
      "/itf-fi-ml/shared/users/ziyuzh/.venv/lib64/python3.11/site-packages/sklearn/metrics/_classification.py:1565: UndefinedMetricWarning: Precision is ill-defined and being set to 0.0 in labels with no predicted samples. Use `zero_division` parameter to control this behavior.\n",
      "  _warn_prf(average, modifier, f\"{metric.capitalize()} is\", len(result))\n"
     ]
    },
    {
     "name": "stdout",
     "output_type": "stream",
     "text": [
      "total positive 24\n"
     ]
    },
    {
     "name": "stderr",
     "output_type": "stream",
     "text": [
      "/itf-fi-ml/shared/users/ziyuzh/.venv/lib64/python3.11/site-packages/sklearn/metrics/_classification.py:1565: UndefinedMetricWarning: Precision is ill-defined and being set to 0.0 in labels with no predicted samples. Use `zero_division` parameter to control this behavior.\n",
      "  _warn_prf(average, modifier, f\"{metric.capitalize()} is\", len(result))\n",
      "/itf-fi-ml/shared/users/ziyuzh/.venv/lib64/python3.11/site-packages/sklearn/metrics/_classification.py:1565: UndefinedMetricWarning: Precision is ill-defined and being set to 0.0 in labels with no predicted samples. Use `zero_division` parameter to control this behavior.\n",
      "  _warn_prf(average, modifier, f\"{metric.capitalize()} is\", len(result))\n",
      "/itf-fi-ml/shared/users/ziyuzh/.venv/lib64/python3.11/site-packages/sklearn/metrics/_classification.py:1565: UndefinedMetricWarning: Precision is ill-defined and being set to 0.0 in labels with no predicted samples. Use `zero_division` parameter to control this behavior.\n",
      "  _warn_prf(average, modifier, f\"{metric.capitalize()} is\", len(result))\n"
     ]
    },
    {
     "name": "stdout",
     "output_type": "stream",
     "text": [
      "total positive 24\n"
     ]
    },
    {
     "name": "stderr",
     "output_type": "stream",
     "text": [
      "/itf-fi-ml/shared/users/ziyuzh/.venv/lib64/python3.11/site-packages/sklearn/metrics/_classification.py:1565: UndefinedMetricWarning: Precision is ill-defined and being set to 0.0 in labels with no predicted samples. Use `zero_division` parameter to control this behavior.\n",
      "  _warn_prf(average, modifier, f\"{metric.capitalize()} is\", len(result))\n",
      "/itf-fi-ml/shared/users/ziyuzh/.venv/lib64/python3.11/site-packages/sklearn/metrics/_classification.py:1565: UndefinedMetricWarning: Precision is ill-defined and being set to 0.0 in labels with no predicted samples. Use `zero_division` parameter to control this behavior.\n",
      "  _warn_prf(average, modifier, f\"{metric.capitalize()} is\", len(result))\n"
     ]
    },
    {
     "name": "stdout",
     "output_type": "stream",
     "text": [
      "total positive 24\n"
     ]
    },
    {
     "name": "stderr",
     "output_type": "stream",
     "text": [
      "/itf-fi-ml/shared/users/ziyuzh/.venv/lib64/python3.11/site-packages/sklearn/metrics/_classification.py:1565: UndefinedMetricWarning: Precision is ill-defined and being set to 0.0 in labels with no predicted samples. Use `zero_division` parameter to control this behavior.\n",
      "  _warn_prf(average, modifier, f\"{metric.capitalize()} is\", len(result))\n"
     ]
    },
    {
     "name": "stdout",
     "output_type": "stream",
     "text": [
      "total positive 29\n",
      "total positive 29\n",
      "total positive 30\n",
      "total positive 30\n",
      "total positive 30\n"
     ]
    },
    {
     "name": "stderr",
     "output_type": "stream",
     "text": [
      "/itf-fi-ml/shared/users/ziyuzh/.venv/lib64/python3.11/site-packages/sklearn/metrics/_classification.py:1565: UndefinedMetricWarning: Precision is ill-defined and being set to 0.0 in labels with no predicted samples. Use `zero_division` parameter to control this behavior.\n",
      "  _warn_prf(average, modifier, f\"{metric.capitalize()} is\", len(result))\n",
      "/itf-fi-ml/shared/users/ziyuzh/.venv/lib64/python3.11/site-packages/sklearn/metrics/_classification.py:1565: UndefinedMetricWarning: Precision is ill-defined and being set to 0.0 in labels with no predicted samples. Use `zero_division` parameter to control this behavior.\n",
      "  _warn_prf(average, modifier, f\"{metric.capitalize()} is\", len(result))\n"
     ]
    },
    {
     "name": "stdout",
     "output_type": "stream",
     "text": [
      "total positive 30\n"
     ]
    },
    {
     "name": "stderr",
     "output_type": "stream",
     "text": [
      "/itf-fi-ml/shared/users/ziyuzh/.venv/lib64/python3.11/site-packages/sklearn/metrics/_classification.py:1565: UndefinedMetricWarning: Precision is ill-defined and being set to 0.0 in labels with no predicted samples. Use `zero_division` parameter to control this behavior.\n",
      "  _warn_prf(average, modifier, f\"{metric.capitalize()} is\", len(result))\n",
      "/itf-fi-ml/shared/users/ziyuzh/.venv/lib64/python3.11/site-packages/sklearn/metrics/_classification.py:1565: UndefinedMetricWarning: Precision is ill-defined and being set to 0.0 in labels with no predicted samples. Use `zero_division` parameter to control this behavior.\n",
      "  _warn_prf(average, modifier, f\"{metric.capitalize()} is\", len(result))\n",
      "/itf-fi-ml/shared/users/ziyuzh/.venv/lib64/python3.11/site-packages/sklearn/metrics/_classification.py:1565: UndefinedMetricWarning: Precision is ill-defined and being set to 0.0 in labels with no predicted samples. Use `zero_division` parameter to control this behavior.\n",
      "  _warn_prf(average, modifier, f\"{metric.capitalize()} is\", len(result))\n",
      "/itf-fi-ml/shared/users/ziyuzh/.venv/lib64/python3.11/site-packages/sklearn/metrics/_classification.py:1565: UndefinedMetricWarning: Precision is ill-defined and being set to 0.0 in labels with no predicted samples. Use `zero_division` parameter to control this behavior.\n",
      "  _warn_prf(average, modifier, f\"{metric.capitalize()} is\", len(result))\n",
      "/itf-fi-ml/shared/users/ziyuzh/.venv/lib64/python3.11/site-packages/sklearn/metrics/_classification.py:1565: UndefinedMetricWarning: Precision is ill-defined and being set to 0.0 in labels with no predicted samples. Use `zero_division` parameter to control this behavior.\n",
      "  _warn_prf(average, modifier, f\"{metric.capitalize()} is\", len(result))\n"
     ]
    },
    {
     "name": "stdout",
     "output_type": "stream",
     "text": [
      "total positive 30\n"
     ]
    },
    {
     "name": "stderr",
     "output_type": "stream",
     "text": [
      "/itf-fi-ml/shared/users/ziyuzh/.venv/lib64/python3.11/site-packages/sklearn/metrics/_classification.py:1565: UndefinedMetricWarning: Precision is ill-defined and being set to 0.0 in labels with no predicted samples. Use `zero_division` parameter to control this behavior.\n",
      "  _warn_prf(average, modifier, f\"{metric.capitalize()} is\", len(result))\n",
      "/itf-fi-ml/shared/users/ziyuzh/.venv/lib64/python3.11/site-packages/sklearn/metrics/_classification.py:1565: UndefinedMetricWarning: Precision is ill-defined and being set to 0.0 in labels with no predicted samples. Use `zero_division` parameter to control this behavior.\n",
      "  _warn_prf(average, modifier, f\"{metric.capitalize()} is\", len(result))\n",
      "/itf-fi-ml/shared/users/ziyuzh/.venv/lib64/python3.11/site-packages/sklearn/metrics/_classification.py:1565: UndefinedMetricWarning: Precision is ill-defined and being set to 0.0 in labels with no predicted samples. Use `zero_division` parameter to control this behavior.\n",
      "  _warn_prf(average, modifier, f\"{metric.capitalize()} is\", len(result))\n",
      "/itf-fi-ml/shared/users/ziyuzh/.venv/lib64/python3.11/site-packages/sklearn/metrics/_classification.py:1565: UndefinedMetricWarning: Precision is ill-defined and being set to 0.0 in labels with no predicted samples. Use `zero_division` parameter to control this behavior.\n",
      "  _warn_prf(average, modifier, f\"{metric.capitalize()} is\", len(result))\n",
      "/itf-fi-ml/shared/users/ziyuzh/.venv/lib64/python3.11/site-packages/sklearn/metrics/_classification.py:1565: UndefinedMetricWarning: Precision is ill-defined and being set to 0.0 in labels with no predicted samples. Use `zero_division` parameter to control this behavior.\n",
      "  _warn_prf(average, modifier, f\"{metric.capitalize()} is\", len(result))\n"
     ]
    },
    {
     "name": "stdout",
     "output_type": "stream",
     "text": [
      "total positive 31\n"
     ]
    },
    {
     "name": "stderr",
     "output_type": "stream",
     "text": [
      "/itf-fi-ml/shared/users/ziyuzh/.venv/lib64/python3.11/site-packages/sklearn/metrics/_classification.py:1565: UndefinedMetricWarning: Precision is ill-defined and being set to 0.0 in labels with no predicted samples. Use `zero_division` parameter to control this behavior.\n",
      "  _warn_prf(average, modifier, f\"{metric.capitalize()} is\", len(result))\n",
      "/itf-fi-ml/shared/users/ziyuzh/.venv/lib64/python3.11/site-packages/sklearn/metrics/_classification.py:1565: UndefinedMetricWarning: Precision is ill-defined and being set to 0.0 in labels with no predicted samples. Use `zero_division` parameter to control this behavior.\n",
      "  _warn_prf(average, modifier, f\"{metric.capitalize()} is\", len(result))\n"
     ]
    },
    {
     "name": "stdout",
     "output_type": "stream",
     "text": [
      "total positive 31\n"
     ]
    },
    {
     "name": "stderr",
     "output_type": "stream",
     "text": [
      "/itf-fi-ml/shared/users/ziyuzh/.venv/lib64/python3.11/site-packages/sklearn/metrics/_classification.py:1565: UndefinedMetricWarning: Precision is ill-defined and being set to 0.0 in labels with no predicted samples. Use `zero_division` parameter to control this behavior.\n",
      "  _warn_prf(average, modifier, f\"{metric.capitalize()} is\", len(result))\n",
      "/itf-fi-ml/shared/users/ziyuzh/.venv/lib64/python3.11/site-packages/sklearn/metrics/_classification.py:1565: UndefinedMetricWarning: Precision is ill-defined and being set to 0.0 in labels with no predicted samples. Use `zero_division` parameter to control this behavior.\n",
      "  _warn_prf(average, modifier, f\"{metric.capitalize()} is\", len(result))\n"
     ]
    },
    {
     "name": "stdout",
     "output_type": "stream",
     "text": [
      "total positive 30\n"
     ]
    },
    {
     "name": "stderr",
     "output_type": "stream",
     "text": [
      "/itf-fi-ml/shared/users/ziyuzh/.venv/lib64/python3.11/site-packages/sklearn/metrics/_classification.py:1565: UndefinedMetricWarning: Precision is ill-defined and being set to 0.0 in labels with no predicted samples. Use `zero_division` parameter to control this behavior.\n",
      "  _warn_prf(average, modifier, f\"{metric.capitalize()} is\", len(result))\n",
      "/itf-fi-ml/shared/users/ziyuzh/.venv/lib64/python3.11/site-packages/sklearn/metrics/_classification.py:1565: UndefinedMetricWarning: Precision is ill-defined and being set to 0.0 in labels with no predicted samples. Use `zero_division` parameter to control this behavior.\n",
      "  _warn_prf(average, modifier, f\"{metric.capitalize()} is\", len(result))\n"
     ]
    },
    {
     "name": "stdout",
     "output_type": "stream",
     "text": [
      "total positive 30\n",
      "total positive 30\n",
      "total positive 31\n",
      "total positive 31\n",
      "total positive 30\n",
      "total positive 117\n",
      "total positive 116\n",
      "total positive 117\n",
      "total positive 117\n",
      "total positive 117\n"
     ]
    },
    {
     "name": "stderr",
     "output_type": "stream",
     "text": [
      "/itf-fi-ml/shared/users/ziyuzh/.venv/lib64/python3.11/site-packages/sklearn/metrics/_classification.py:1565: UndefinedMetricWarning: Precision is ill-defined and being set to 0.0 in labels with no predicted samples. Use `zero_division` parameter to control this behavior.\n",
      "  _warn_prf(average, modifier, f\"{metric.capitalize()} is\", len(result))\n",
      "/itf-fi-ml/shared/users/ziyuzh/.venv/lib64/python3.11/site-packages/sklearn/metrics/_classification.py:1565: UndefinedMetricWarning: Precision is ill-defined and being set to 0.0 in labels with no predicted samples. Use `zero_division` parameter to control this behavior.\n",
      "  _warn_prf(average, modifier, f\"{metric.capitalize()} is\", len(result))\n"
     ]
    },
    {
     "name": "stdout",
     "output_type": "stream",
     "text": [
      "total positive 24\n"
     ]
    },
    {
     "name": "stderr",
     "output_type": "stream",
     "text": [
      "/itf-fi-ml/shared/users/ziyuzh/.venv/lib64/python3.11/site-packages/sklearn/metrics/_classification.py:1565: UndefinedMetricWarning: Precision is ill-defined and being set to 0.0 in labels with no predicted samples. Use `zero_division` parameter to control this behavior.\n",
      "  _warn_prf(average, modifier, f\"{metric.capitalize()} is\", len(result))\n",
      "/itf-fi-ml/shared/users/ziyuzh/.venv/lib64/python3.11/site-packages/sklearn/metrics/_classification.py:1565: UndefinedMetricWarning: Precision is ill-defined and being set to 0.0 in labels with no predicted samples. Use `zero_division` parameter to control this behavior.\n",
      "  _warn_prf(average, modifier, f\"{metric.capitalize()} is\", len(result))\n",
      "/itf-fi-ml/shared/users/ziyuzh/.venv/lib64/python3.11/site-packages/sklearn/metrics/_classification.py:1565: UndefinedMetricWarning: Precision is ill-defined and being set to 0.0 in labels with no predicted samples. Use `zero_division` parameter to control this behavior.\n",
      "  _warn_prf(average, modifier, f\"{metric.capitalize()} is\", len(result))\n",
      "/itf-fi-ml/shared/users/ziyuzh/.venv/lib64/python3.11/site-packages/sklearn/metrics/_classification.py:1565: UndefinedMetricWarning: Precision is ill-defined and being set to 0.0 in labels with no predicted samples. Use `zero_division` parameter to control this behavior.\n",
      "  _warn_prf(average, modifier, f\"{metric.capitalize()} is\", len(result))\n"
     ]
    },
    {
     "name": "stdout",
     "output_type": "stream",
     "text": [
      "total positive 24\n"
     ]
    },
    {
     "name": "stderr",
     "output_type": "stream",
     "text": [
      "/itf-fi-ml/shared/users/ziyuzh/.venv/lib64/python3.11/site-packages/sklearn/metrics/_classification.py:1565: UndefinedMetricWarning: Precision is ill-defined and being set to 0.0 in labels with no predicted samples. Use `zero_division` parameter to control this behavior.\n",
      "  _warn_prf(average, modifier, f\"{metric.capitalize()} is\", len(result))\n",
      "/itf-fi-ml/shared/users/ziyuzh/.venv/lib64/python3.11/site-packages/sklearn/metrics/_classification.py:1565: UndefinedMetricWarning: Precision is ill-defined and being set to 0.0 in labels with no predicted samples. Use `zero_division` parameter to control this behavior.\n",
      "  _warn_prf(average, modifier, f\"{metric.capitalize()} is\", len(result))\n",
      "/itf-fi-ml/shared/users/ziyuzh/.venv/lib64/python3.11/site-packages/sklearn/metrics/_classification.py:1565: UndefinedMetricWarning: Precision is ill-defined and being set to 0.0 in labels with no predicted samples. Use `zero_division` parameter to control this behavior.\n",
      "  _warn_prf(average, modifier, f\"{metric.capitalize()} is\", len(result))\n"
     ]
    },
    {
     "name": "stdout",
     "output_type": "stream",
     "text": [
      "total positive 24\n"
     ]
    },
    {
     "name": "stderr",
     "output_type": "stream",
     "text": [
      "/itf-fi-ml/shared/users/ziyuzh/.venv/lib64/python3.11/site-packages/sklearn/metrics/_classification.py:1565: UndefinedMetricWarning: Precision is ill-defined and being set to 0.0 in labels with no predicted samples. Use `zero_division` parameter to control this behavior.\n",
      "  _warn_prf(average, modifier, f\"{metric.capitalize()} is\", len(result))\n",
      "/itf-fi-ml/shared/users/ziyuzh/.venv/lib64/python3.11/site-packages/sklearn/metrics/_classification.py:1565: UndefinedMetricWarning: Precision is ill-defined and being set to 0.0 in labels with no predicted samples. Use `zero_division` parameter to control this behavior.\n",
      "  _warn_prf(average, modifier, f\"{metric.capitalize()} is\", len(result))\n",
      "/itf-fi-ml/shared/users/ziyuzh/.venv/lib64/python3.11/site-packages/sklearn/metrics/_classification.py:1565: UndefinedMetricWarning: Precision is ill-defined and being set to 0.0 in labels with no predicted samples. Use `zero_division` parameter to control this behavior.\n",
      "  _warn_prf(average, modifier, f\"{metric.capitalize()} is\", len(result))\n",
      "/itf-fi-ml/shared/users/ziyuzh/.venv/lib64/python3.11/site-packages/sklearn/metrics/_classification.py:1565: UndefinedMetricWarning: Precision is ill-defined and being set to 0.0 in labels with no predicted samples. Use `zero_division` parameter to control this behavior.\n",
      "  _warn_prf(average, modifier, f\"{metric.capitalize()} is\", len(result))\n"
     ]
    },
    {
     "name": "stdout",
     "output_type": "stream",
     "text": [
      "total positive 24\n"
     ]
    },
    {
     "name": "stderr",
     "output_type": "stream",
     "text": [
      "/itf-fi-ml/shared/users/ziyuzh/.venv/lib64/python3.11/site-packages/sklearn/metrics/_classification.py:1565: UndefinedMetricWarning: Precision is ill-defined and being set to 0.0 in labels with no predicted samples. Use `zero_division` parameter to control this behavior.\n",
      "  _warn_prf(average, modifier, f\"{metric.capitalize()} is\", len(result))\n",
      "/itf-fi-ml/shared/users/ziyuzh/.venv/lib64/python3.11/site-packages/sklearn/metrics/_classification.py:1565: UndefinedMetricWarning: Precision is ill-defined and being set to 0.0 in labels with no predicted samples. Use `zero_division` parameter to control this behavior.\n",
      "  _warn_prf(average, modifier, f\"{metric.capitalize()} is\", len(result))\n",
      "/itf-fi-ml/shared/users/ziyuzh/.venv/lib64/python3.11/site-packages/sklearn/metrics/_classification.py:1565: UndefinedMetricWarning: Precision is ill-defined and being set to 0.0 in labels with no predicted samples. Use `zero_division` parameter to control this behavior.\n",
      "  _warn_prf(average, modifier, f\"{metric.capitalize()} is\", len(result))\n",
      "/itf-fi-ml/shared/users/ziyuzh/.venv/lib64/python3.11/site-packages/sklearn/metrics/_classification.py:1565: UndefinedMetricWarning: Precision is ill-defined and being set to 0.0 in labels with no predicted samples. Use `zero_division` parameter to control this behavior.\n",
      "  _warn_prf(average, modifier, f\"{metric.capitalize()} is\", len(result))\n"
     ]
    },
    {
     "name": "stdout",
     "output_type": "stream",
     "text": [
      "total positive 24\n"
     ]
    },
    {
     "name": "stderr",
     "output_type": "stream",
     "text": [
      "/itf-fi-ml/shared/users/ziyuzh/.venv/lib64/python3.11/site-packages/sklearn/metrics/_classification.py:1565: UndefinedMetricWarning: Precision is ill-defined and being set to 0.0 in labels with no predicted samples. Use `zero_division` parameter to control this behavior.\n",
      "  _warn_prf(average, modifier, f\"{metric.capitalize()} is\", len(result))\n"
     ]
    },
    {
     "name": "stdout",
     "output_type": "stream",
     "text": [
      "total positive 158\n",
      "total positive 158\n",
      "total positive 159\n",
      "total positive 159\n",
      "total positive 158\n",
      "total positive 95\n",
      "total positive 95\n",
      "total positive 96\n",
      "total positive 95\n",
      "total positive 95\n",
      "total positive 109\n",
      "total positive 108\n",
      "total positive 109\n",
      "total positive 109\n",
      "total positive 109\n",
      "total positive 53\n",
      "total positive 53\n",
      "total positive 54\n",
      "total positive 54\n",
      "total positive 54\n",
      "total positive 26\n",
      "total positive 26\n",
      "total positive 27\n",
      "total positive 27\n",
      "total positive 26\n"
     ]
    },
    {
     "name": "stderr",
     "output_type": "stream",
     "text": [
      "/itf-fi-ml/shared/users/ziyuzh/.venv/lib64/python3.11/site-packages/sklearn/metrics/_classification.py:1565: UndefinedMetricWarning: Precision is ill-defined and being set to 0.0 in labels with no predicted samples. Use `zero_division` parameter to control this behavior.\n",
      "  _warn_prf(average, modifier, f\"{metric.capitalize()} is\", len(result))\n",
      "/itf-fi-ml/shared/users/ziyuzh/.venv/lib64/python3.11/site-packages/sklearn/metrics/_classification.py:1565: UndefinedMetricWarning: Precision is ill-defined and being set to 0.0 in labels with no predicted samples. Use `zero_division` parameter to control this behavior.\n",
      "  _warn_prf(average, modifier, f\"{metric.capitalize()} is\", len(result))\n"
     ]
    },
    {
     "name": "stdout",
     "output_type": "stream",
     "text": [
      "total positive 20\n"
     ]
    },
    {
     "name": "stderr",
     "output_type": "stream",
     "text": [
      "/itf-fi-ml/shared/users/ziyuzh/.venv/lib64/python3.11/site-packages/sklearn/metrics/_classification.py:1565: UndefinedMetricWarning: Precision is ill-defined and being set to 0.0 in labels with no predicted samples. Use `zero_division` parameter to control this behavior.\n",
      "  _warn_prf(average, modifier, f\"{metric.capitalize()} is\", len(result))\n",
      "/itf-fi-ml/shared/users/ziyuzh/.venv/lib64/python3.11/site-packages/sklearn/metrics/_classification.py:1565: UndefinedMetricWarning: Precision is ill-defined and being set to 0.0 in labels with no predicted samples. Use `zero_division` parameter to control this behavior.\n",
      "  _warn_prf(average, modifier, f\"{metric.capitalize()} is\", len(result))\n",
      "/itf-fi-ml/shared/users/ziyuzh/.venv/lib64/python3.11/site-packages/sklearn/metrics/_classification.py:1565: UndefinedMetricWarning: Precision is ill-defined and being set to 0.0 in labels with no predicted samples. Use `zero_division` parameter to control this behavior.\n",
      "  _warn_prf(average, modifier, f\"{metric.capitalize()} is\", len(result))\n",
      "/itf-fi-ml/shared/users/ziyuzh/.venv/lib64/python3.11/site-packages/sklearn/metrics/_classification.py:1565: UndefinedMetricWarning: Precision is ill-defined and being set to 0.0 in labels with no predicted samples. Use `zero_division` parameter to control this behavior.\n",
      "  _warn_prf(average, modifier, f\"{metric.capitalize()} is\", len(result))\n"
     ]
    },
    {
     "name": "stdout",
     "output_type": "stream",
     "text": [
      "total positive 20\n"
     ]
    },
    {
     "name": "stderr",
     "output_type": "stream",
     "text": [
      "/itf-fi-ml/shared/users/ziyuzh/.venv/lib64/python3.11/site-packages/sklearn/metrics/_classification.py:1565: UndefinedMetricWarning: Precision is ill-defined and being set to 0.0 in labels with no predicted samples. Use `zero_division` parameter to control this behavior.\n",
      "  _warn_prf(average, modifier, f\"{metric.capitalize()} is\", len(result))\n",
      "/itf-fi-ml/shared/users/ziyuzh/.venv/lib64/python3.11/site-packages/sklearn/metrics/_classification.py:1565: UndefinedMetricWarning: Precision is ill-defined and being set to 0.0 in labels with no predicted samples. Use `zero_division` parameter to control this behavior.\n",
      "  _warn_prf(average, modifier, f\"{metric.capitalize()} is\", len(result))\n",
      "/itf-fi-ml/shared/users/ziyuzh/.venv/lib64/python3.11/site-packages/sklearn/metrics/_classification.py:1565: UndefinedMetricWarning: Precision is ill-defined and being set to 0.0 in labels with no predicted samples. Use `zero_division` parameter to control this behavior.\n",
      "  _warn_prf(average, modifier, f\"{metric.capitalize()} is\", len(result))\n",
      "/itf-fi-ml/shared/users/ziyuzh/.venv/lib64/python3.11/site-packages/sklearn/metrics/_classification.py:1565: UndefinedMetricWarning: Precision is ill-defined and being set to 0.0 in labels with no predicted samples. Use `zero_division` parameter to control this behavior.\n",
      "  _warn_prf(average, modifier, f\"{metric.capitalize()} is\", len(result))\n"
     ]
    },
    {
     "name": "stdout",
     "output_type": "stream",
     "text": [
      "total positive 20\n"
     ]
    },
    {
     "name": "stderr",
     "output_type": "stream",
     "text": [
      "/itf-fi-ml/shared/users/ziyuzh/.venv/lib64/python3.11/site-packages/sklearn/metrics/_classification.py:1565: UndefinedMetricWarning: Precision is ill-defined and being set to 0.0 in labels with no predicted samples. Use `zero_division` parameter to control this behavior.\n",
      "  _warn_prf(average, modifier, f\"{metric.capitalize()} is\", len(result))\n",
      "/itf-fi-ml/shared/users/ziyuzh/.venv/lib64/python3.11/site-packages/sklearn/metrics/_classification.py:1565: UndefinedMetricWarning: Precision is ill-defined and being set to 0.0 in labels with no predicted samples. Use `zero_division` parameter to control this behavior.\n",
      "  _warn_prf(average, modifier, f\"{metric.capitalize()} is\", len(result))\n",
      "/itf-fi-ml/shared/users/ziyuzh/.venv/lib64/python3.11/site-packages/sklearn/metrics/_classification.py:1565: UndefinedMetricWarning: Precision is ill-defined and being set to 0.0 in labels with no predicted samples. Use `zero_division` parameter to control this behavior.\n",
      "  _warn_prf(average, modifier, f\"{metric.capitalize()} is\", len(result))\n"
     ]
    },
    {
     "name": "stdout",
     "output_type": "stream",
     "text": [
      "total positive 20\n"
     ]
    },
    {
     "name": "stderr",
     "output_type": "stream",
     "text": [
      "/itf-fi-ml/shared/users/ziyuzh/.venv/lib64/python3.11/site-packages/sklearn/metrics/_classification.py:1565: UndefinedMetricWarning: Precision is ill-defined and being set to 0.0 in labels with no predicted samples. Use `zero_division` parameter to control this behavior.\n",
      "  _warn_prf(average, modifier, f\"{metric.capitalize()} is\", len(result))\n",
      "/itf-fi-ml/shared/users/ziyuzh/.venv/lib64/python3.11/site-packages/sklearn/metrics/_classification.py:1565: UndefinedMetricWarning: Precision is ill-defined and being set to 0.0 in labels with no predicted samples. Use `zero_division` parameter to control this behavior.\n",
      "  _warn_prf(average, modifier, f\"{metric.capitalize()} is\", len(result))\n",
      "/itf-fi-ml/shared/users/ziyuzh/.venv/lib64/python3.11/site-packages/sklearn/metrics/_classification.py:1565: UndefinedMetricWarning: Precision is ill-defined and being set to 0.0 in labels with no predicted samples. Use `zero_division` parameter to control this behavior.\n",
      "  _warn_prf(average, modifier, f\"{metric.capitalize()} is\", len(result))\n"
     ]
    },
    {
     "name": "stdout",
     "output_type": "stream",
     "text": [
      "total positive 20\n"
     ]
    },
    {
     "name": "stderr",
     "output_type": "stream",
     "text": [
      "/itf-fi-ml/shared/users/ziyuzh/.venv/lib64/python3.11/site-packages/sklearn/metrics/_classification.py:1565: UndefinedMetricWarning: Precision is ill-defined and being set to 0.0 in labels with no predicted samples. Use `zero_division` parameter to control this behavior.\n",
      "  _warn_prf(average, modifier, f\"{metric.capitalize()} is\", len(result))\n",
      "/itf-fi-ml/shared/users/ziyuzh/.venv/lib64/python3.11/site-packages/sklearn/metrics/_classification.py:1565: UndefinedMetricWarning: Precision is ill-defined and being set to 0.0 in labels with no predicted samples. Use `zero_division` parameter to control this behavior.\n",
      "  _warn_prf(average, modifier, f\"{metric.capitalize()} is\", len(result))\n"
     ]
    },
    {
     "name": "stdout",
     "output_type": "stream",
     "text": [
      "total positive 19\n"
     ]
    },
    {
     "name": "stderr",
     "output_type": "stream",
     "text": [
      "/itf-fi-ml/shared/users/ziyuzh/.venv/lib64/python3.11/site-packages/sklearn/metrics/_classification.py:1565: UndefinedMetricWarning: Precision is ill-defined and being set to 0.0 in labels with no predicted samples. Use `zero_division` parameter to control this behavior.\n",
      "  _warn_prf(average, modifier, f\"{metric.capitalize()} is\", len(result))\n"
     ]
    },
    {
     "name": "stdout",
     "output_type": "stream",
     "text": [
      "total positive 19\n"
     ]
    },
    {
     "name": "stderr",
     "output_type": "stream",
     "text": [
      "/itf-fi-ml/shared/users/ziyuzh/.venv/lib64/python3.11/site-packages/sklearn/metrics/_classification.py:1565: UndefinedMetricWarning: Precision is ill-defined and being set to 0.0 in labels with no predicted samples. Use `zero_division` parameter to control this behavior.\n",
      "  _warn_prf(average, modifier, f\"{metric.capitalize()} is\", len(result))\n",
      "/itf-fi-ml/shared/users/ziyuzh/.venv/lib64/python3.11/site-packages/sklearn/metrics/_classification.py:1565: UndefinedMetricWarning: Precision is ill-defined and being set to 0.0 in labels with no predicted samples. Use `zero_division` parameter to control this behavior.\n",
      "  _warn_prf(average, modifier, f\"{metric.capitalize()} is\", len(result))\n"
     ]
    },
    {
     "name": "stdout",
     "output_type": "stream",
     "text": [
      "total positive 20\n"
     ]
    },
    {
     "name": "stderr",
     "output_type": "stream",
     "text": [
      "/itf-fi-ml/shared/users/ziyuzh/.venv/lib64/python3.11/site-packages/sklearn/metrics/_classification.py:1565: UndefinedMetricWarning: Precision is ill-defined and being set to 0.0 in labels with no predicted samples. Use `zero_division` parameter to control this behavior.\n",
      "  _warn_prf(average, modifier, f\"{metric.capitalize()} is\", len(result))\n"
     ]
    },
    {
     "name": "stdout",
     "output_type": "stream",
     "text": [
      "total positive 19\n"
     ]
    },
    {
     "name": "stderr",
     "output_type": "stream",
     "text": [
      "/itf-fi-ml/shared/users/ziyuzh/.venv/lib64/python3.11/site-packages/sklearn/metrics/_classification.py:1565: UndefinedMetricWarning: Precision is ill-defined and being set to 0.0 in labels with no predicted samples. Use `zero_division` parameter to control this behavior.\n",
      "  _warn_prf(average, modifier, f\"{metric.capitalize()} is\", len(result))\n"
     ]
    },
    {
     "name": "stdout",
     "output_type": "stream",
     "text": [
      "total positive 19\n"
     ]
    },
    {
     "name": "stderr",
     "output_type": "stream",
     "text": [
      "/itf-fi-ml/shared/users/ziyuzh/.venv/lib64/python3.11/site-packages/sklearn/metrics/_classification.py:1565: UndefinedMetricWarning: Precision is ill-defined and being set to 0.0 in labels with no predicted samples. Use `zero_division` parameter to control this behavior.\n",
      "  _warn_prf(average, modifier, f\"{metric.capitalize()} is\", len(result))\n"
     ]
    },
    {
     "name": "stdout",
     "output_type": "stream",
     "text": [
      "total positive 29\n",
      "total positive 29\n",
      "total positive 30\n",
      "total positive 30\n",
      "total positive 30\n",
      "total positive 133\n",
      "total positive 132\n",
      "total positive 133\n",
      "total positive 133\n",
      "total positive 133\n",
      "total positive 13\n",
      "total positive 13\n"
     ]
    },
    {
     "name": "stderr",
     "output_type": "stream",
     "text": [
      "/itf-fi-ml/shared/users/ziyuzh/.venv/lib64/python3.11/site-packages/sklearn/metrics/_classification.py:1565: UndefinedMetricWarning: Precision is ill-defined and being set to 0.0 in labels with no predicted samples. Use `zero_division` parameter to control this behavior.\n",
      "  _warn_prf(average, modifier, f\"{metric.capitalize()} is\", len(result))\n"
     ]
    },
    {
     "name": "stdout",
     "output_type": "stream",
     "text": [
      "total positive 14\n"
     ]
    },
    {
     "name": "stderr",
     "output_type": "stream",
     "text": [
      "/itf-fi-ml/shared/users/ziyuzh/.venv/lib64/python3.11/site-packages/sklearn/metrics/_classification.py:1565: UndefinedMetricWarning: Precision is ill-defined and being set to 0.0 in labels with no predicted samples. Use `zero_division` parameter to control this behavior.\n",
      "  _warn_prf(average, modifier, f\"{metric.capitalize()} is\", len(result))\n"
     ]
    },
    {
     "name": "stdout",
     "output_type": "stream",
     "text": [
      "total positive 14\n",
      "total positive 14\n",
      "total positive 137\n",
      "total positive 136\n",
      "total positive 137\n",
      "total positive 137\n",
      "total positive 137\n",
      "total positive 17\n",
      "total positive 17\n",
      "total positive 18\n",
      "total positive 18\n"
     ]
    },
    {
     "name": "stderr",
     "output_type": "stream",
     "text": [
      "/itf-fi-ml/shared/users/ziyuzh/.venv/lib64/python3.11/site-packages/sklearn/metrics/_classification.py:1565: UndefinedMetricWarning: Precision is ill-defined and being set to 0.0 in labels with no predicted samples. Use `zero_division` parameter to control this behavior.\n",
      "  _warn_prf(average, modifier, f\"{metric.capitalize()} is\", len(result))\n"
     ]
    },
    {
     "name": "stdout",
     "output_type": "stream",
     "text": [
      "total positive 18\n",
      "total positive 128\n",
      "total positive 128\n",
      "total positive 128\n",
      "total positive 128\n",
      "total positive 128\n",
      "total positive 22\n",
      "total positive 22\n",
      "total positive 23\n",
      "total positive 23\n",
      "total positive 22\n",
      "total positive 39\n",
      "total positive 39\n",
      "total positive 40\n",
      "total positive 39\n",
      "total positive 39\n",
      "total positive 55\n",
      "total positive 55\n",
      "total positive 56\n",
      "total positive 55\n",
      "total positive 55\n",
      "total positive 44\n",
      "total positive 44\n",
      "total positive 44\n",
      "total positive 44\n",
      "total positive 44\n",
      "total positive 164\n",
      "total positive 164\n",
      "total positive 164\n",
      "total positive 164\n",
      "total positive 164\n",
      "total positive 13\n",
      "total positive 12\n",
      "total positive 13\n",
      "total positive 13\n",
      "total positive 13\n",
      "total positive 42\n",
      "total positive 42\n",
      "total positive 43\n",
      "total positive 43\n",
      "total positive 42\n",
      "total positive 14\n",
      "total positive 14\n",
      "total positive 15\n",
      "total positive 15\n",
      "total positive 14\n",
      "total positive 51\n",
      "total positive 51\n",
      "total positive 52\n",
      "total positive 51\n",
      "total positive 51\n",
      "total positive 60\n",
      "total positive 60\n",
      "total positive 60\n",
      "total positive 60\n",
      "total positive 60\n",
      "total positive 50\n",
      "total positive 50\n",
      "total positive 51\n",
      "total positive 51\n",
      "total positive 50\n",
      "total positive 57\n",
      "total positive 56\n",
      "total positive 57\n",
      "total positive 57\n",
      "total positive 57\n",
      "total positive 63\n",
      "total positive 63\n",
      "total positive 64\n",
      "total positive 63\n",
      "total positive 63\n",
      "total positive 13\n",
      "total positive 13\n"
     ]
    },
    {
     "name": "stderr",
     "output_type": "stream",
     "text": [
      "/itf-fi-ml/shared/users/ziyuzh/.venv/lib64/python3.11/site-packages/sklearn/metrics/_classification.py:1565: UndefinedMetricWarning: Precision is ill-defined and being set to 0.0 in labels with no predicted samples. Use `zero_division` parameter to control this behavior.\n",
      "  _warn_prf(average, modifier, f\"{metric.capitalize()} is\", len(result))\n"
     ]
    },
    {
     "name": "stdout",
     "output_type": "stream",
     "text": [
      "total positive 14\n",
      "total positive 14\n",
      "total positive 14\n",
      "total positive 31\n",
      "total positive 31\n",
      "total positive 32\n",
      "total positive 31\n",
      "total positive 31\n",
      "total positive 14\n",
      "total positive 14\n",
      "total positive 15\n"
     ]
    },
    {
     "name": "stderr",
     "output_type": "stream",
     "text": [
      "/itf-fi-ml/shared/users/ziyuzh/.venv/lib64/python3.11/site-packages/sklearn/metrics/_classification.py:1565: UndefinedMetricWarning: Precision is ill-defined and being set to 0.0 in labels with no predicted samples. Use `zero_division` parameter to control this behavior.\n",
      "  _warn_prf(average, modifier, f\"{metric.capitalize()} is\", len(result))\n"
     ]
    },
    {
     "name": "stdout",
     "output_type": "stream",
     "text": [
      "total positive 15\n"
     ]
    },
    {
     "name": "stderr",
     "output_type": "stream",
     "text": [
      "/itf-fi-ml/shared/users/ziyuzh/.venv/lib64/python3.11/site-packages/sklearn/metrics/_classification.py:1565: UndefinedMetricWarning: Precision is ill-defined and being set to 0.0 in labels with no predicted samples. Use `zero_division` parameter to control this behavior.\n",
      "  _warn_prf(average, modifier, f\"{metric.capitalize()} is\", len(result))\n"
     ]
    },
    {
     "name": "stdout",
     "output_type": "stream",
     "text": [
      "total positive 14\n",
      "total positive 90\n",
      "total positive 90\n",
      "total positive 91\n",
      "total positive 91\n",
      "total positive 90\n",
      "total positive 33\n",
      "total positive 32\n",
      "total positive 33\n",
      "total positive 33\n",
      "total positive 33\n",
      "total positive 33\n",
      "total positive 32\n"
     ]
    },
    {
     "name": "stderr",
     "output_type": "stream",
     "text": [
      "/itf-fi-ml/shared/users/ziyuzh/.venv/lib64/python3.11/site-packages/sklearn/metrics/_classification.py:1565: UndefinedMetricWarning: Precision is ill-defined and being set to 0.0 in labels with no predicted samples. Use `zero_division` parameter to control this behavior.\n",
      "  _warn_prf(average, modifier, f\"{metric.capitalize()} is\", len(result))\n"
     ]
    },
    {
     "name": "stdout",
     "output_type": "stream",
     "text": [
      "total positive 33\n"
     ]
    },
    {
     "name": "stderr",
     "output_type": "stream",
     "text": [
      "/itf-fi-ml/shared/users/ziyuzh/.venv/lib64/python3.11/site-packages/sklearn/metrics/_classification.py:1565: UndefinedMetricWarning: Precision is ill-defined and being set to 0.0 in labels with no predicted samples. Use `zero_division` parameter to control this behavior.\n",
      "  _warn_prf(average, modifier, f\"{metric.capitalize()} is\", len(result))\n"
     ]
    },
    {
     "name": "stdout",
     "output_type": "stream",
     "text": [
      "total positive 33\n",
      "total positive 33\n",
      "total positive 21\n",
      "total positive 20\n",
      "total positive 21\n",
      "total positive 21\n",
      "total positive 21\n",
      "total positive 64\n",
      "total positive 64\n",
      "total positive 64\n",
      "total positive 64\n",
      "total positive 64\n",
      "total positive 75\n",
      "total positive 75\n",
      "total positive 76\n",
      "total positive 75\n",
      "total positive 75\n",
      "total positive 81\n",
      "total positive 80\n",
      "total positive 81\n",
      "total positive 81\n",
      "total positive 81\n",
      "total positive 74\n",
      "total positive 74\n",
      "total positive 75\n",
      "total positive 75\n",
      "total positive 74\n",
      "total positive 131\n",
      "total positive 131\n",
      "total positive 132\n",
      "total positive 131\n",
      "total positive 131\n",
      "total positive 26\n",
      "total positive 26\n",
      "total positive 27\n",
      "total positive 27\n",
      "total positive 26\n"
     ]
    }
   ],
   "source": [
    "selected_diseases = (\n",
    "    all_df.groupby('disease_id')\n",
    "    .filter(lambda x: len(x) > 15)\n",
    "    ['disease_id']\n",
    "    .unique()\n",
    "    .tolist()\n",
    ")\n",
    "# selected_diseases = ['ICD10_G20', 'ICD10_C50']\n",
    "all_results = []\n",
    "\n",
    "for disease in selected_diseases:\n",
    "    methods = ['ooc', 'random_negative', 'pseudo_labeling']\n",
    "    df, X, y = read_data(disease)\n",
    "    result_df = per_disease_val(df, X, y, methods)\n",
    "\n",
    "    # Calculate mean metrics\n",
    "    mean_df = result_df.groupby(['method', 'kernel'])[['accuracy', 'recall', 'precision', \n",
    "                                                       'f1-score', 'auroc', 'rank_ratio']].mean().reset_index()\n",
    "    \n",
    "    # Keep the row with the lowest rank_ratio for each method\n",
    "    mean_df = mean_df.loc[mean_df.groupby('method')['rank_ratio'].idxmin()].reset_index(drop=True)\n",
    "\n",
    "    # Add disease information\n",
    "    mean_df['disease'] = disease\n",
    "\n",
    "    # Append to all_results list\n",
    "    all_results.append(mean_df)\n",
    "\n",
    "# Concatenate all results into a single DataFrame\n",
    "final_result = pd.concat(all_results, ignore_index=True)"
   ]
  },
  {
   "cell_type": "code",
   "execution_count": 16,
   "metadata": {},
   "outputs": [],
   "source": [
    "final_result.to_csv('/itf-fi-ml/shared/users/ziyuzh/svm/results/all_test.csv',index=False)"
   ]
  },
  {
   "cell_type": "code",
   "execution_count": 17,
   "metadata": {},
   "outputs": [
    {
     "data": {
      "text/html": [
       "<div>\n",
       "<style scoped>\n",
       "    .dataframe tbody tr th:only-of-type {\n",
       "        vertical-align: middle;\n",
       "    }\n",
       "\n",
       "    .dataframe tbody tr th {\n",
       "        vertical-align: top;\n",
       "    }\n",
       "\n",
       "    .dataframe thead th {\n",
       "        text-align: right;\n",
       "    }\n",
       "</style>\n",
       "<table border=\"1\" class=\"dataframe\">\n",
       "  <thead>\n",
       "    <tr style=\"text-align: right;\">\n",
       "      <th></th>\n",
       "      <th>method</th>\n",
       "      <th>kernel</th>\n",
       "      <th>accuracy</th>\n",
       "      <th>recall</th>\n",
       "      <th>precision</th>\n",
       "      <th>f1-score</th>\n",
       "      <th>auroc</th>\n",
       "      <th>rank_ratio</th>\n",
       "      <th>disease</th>\n",
       "    </tr>\n",
       "  </thead>\n",
       "  <tbody>\n",
       "    <tr>\n",
       "      <th>0</th>\n",
       "      <td>ooc_svm</td>\n",
       "      <td>norm_poly</td>\n",
       "      <td>0.996275</td>\n",
       "      <td>0.996275</td>\n",
       "      <td>0.998279</td>\n",
       "      <td>0.997242</td>\n",
       "      <td>0.900764</td>\n",
       "      <td>0.09966</td>\n",
       "      <td>ICD10_C16</td>\n",
       "    </tr>\n",
       "    <tr>\n",
       "      <th>1</th>\n",
       "      <td>pseudo_svm</td>\n",
       "      <td>norm_linear</td>\n",
       "      <td>0.970253</td>\n",
       "      <td>0.970253</td>\n",
       "      <td>0.998654</td>\n",
       "      <td>0.983953</td>\n",
       "      <td>0.921781</td>\n",
       "      <td>0.07864</td>\n",
       "      <td>ICD10_C16</td>\n",
       "    </tr>\n",
       "    <tr>\n",
       "      <th>2</th>\n",
       "      <td>random_svm</td>\n",
       "      <td>norm_linear</td>\n",
       "      <td>0.970166</td>\n",
       "      <td>0.970166</td>\n",
       "      <td>0.998654</td>\n",
       "      <td>0.983907</td>\n",
       "      <td>0.921517</td>\n",
       "      <td>0.07892</td>\n",
       "      <td>ICD10_C16</td>\n",
       "    </tr>\n",
       "    <tr>\n",
       "      <th>3</th>\n",
       "      <td>ooc_svm</td>\n",
       "      <td>norm_poly</td>\n",
       "      <td>0.997028</td>\n",
       "      <td>0.997028</td>\n",
       "      <td>0.999050</td>\n",
       "      <td>0.998020</td>\n",
       "      <td>0.896439</td>\n",
       "      <td>0.10380</td>\n",
       "      <td>ICD10_C18</td>\n",
       "    </tr>\n",
       "    <tr>\n",
       "      <th>4</th>\n",
       "      <td>pseudo_svm</td>\n",
       "      <td>rbf</td>\n",
       "      <td>0.979396</td>\n",
       "      <td>0.979396</td>\n",
       "      <td>0.999174</td>\n",
       "      <td>0.989086</td>\n",
       "      <td>0.923816</td>\n",
       "      <td>0.07644</td>\n",
       "      <td>ICD10_C18</td>\n",
       "    </tr>\n",
       "    <tr>\n",
       "      <th>...</th>\n",
       "      <td>...</td>\n",
       "      <td>...</td>\n",
       "      <td>...</td>\n",
       "      <td>...</td>\n",
       "      <td>...</td>\n",
       "      <td>...</td>\n",
       "      <td>...</td>\n",
       "      <td>...</td>\n",
       "      <td>...</td>\n",
       "    </tr>\n",
       "    <tr>\n",
       "      <th>211</th>\n",
       "      <td>pseudo_svm</td>\n",
       "      <td>rbf</td>\n",
       "      <td>0.972024</td>\n",
       "      <td>0.972024</td>\n",
       "      <td>0.997074</td>\n",
       "      <td>0.984153</td>\n",
       "      <td>0.871784</td>\n",
       "      <td>0.12888</td>\n",
       "      <td>ICD10_N80</td>\n",
       "    </tr>\n",
       "    <tr>\n",
       "      <th>212</th>\n",
       "      <td>random_svm</td>\n",
       "      <td>rbf</td>\n",
       "      <td>0.971595</td>\n",
       "      <td>0.971595</td>\n",
       "      <td>0.997073</td>\n",
       "      <td>0.983931</td>\n",
       "      <td>0.870868</td>\n",
       "      <td>0.12980</td>\n",
       "      <td>ICD10_N80</td>\n",
       "    </tr>\n",
       "    <tr>\n",
       "      <th>213</th>\n",
       "      <td>ooc_svm</td>\n",
       "      <td>norm_linear</td>\n",
       "      <td>0.999153</td>\n",
       "      <td>0.999153</td>\n",
       "      <td>0.999368</td>\n",
       "      <td>0.999256</td>\n",
       "      <td>0.908378</td>\n",
       "      <td>0.09178</td>\n",
       "      <td>ICD10_N97</td>\n",
       "    </tr>\n",
       "    <tr>\n",
       "      <th>214</th>\n",
       "      <td>pseudo_svm</td>\n",
       "      <td>rbf</td>\n",
       "      <td>0.985369</td>\n",
       "      <td>0.985369</td>\n",
       "      <td>0.999498</td>\n",
       "      <td>0.992299</td>\n",
       "      <td>0.913964</td>\n",
       "      <td>0.08620</td>\n",
       "      <td>ICD10_N97</td>\n",
       "    </tr>\n",
       "    <tr>\n",
       "      <th>215</th>\n",
       "      <td>random_svm</td>\n",
       "      <td>rbf</td>\n",
       "      <td>0.985316</td>\n",
       "      <td>0.985316</td>\n",
       "      <td>0.999498</td>\n",
       "      <td>0.992272</td>\n",
       "      <td>0.913769</td>\n",
       "      <td>0.08642</td>\n",
       "      <td>ICD10_N97</td>\n",
       "    </tr>\n",
       "  </tbody>\n",
       "</table>\n",
       "<p>216 rows × 9 columns</p>\n",
       "</div>"
      ],
      "text/plain": [
       "         method       kernel  accuracy    recall  precision  f1-score  \\\n",
       "0       ooc_svm    norm_poly  0.996275  0.996275   0.998279  0.997242   \n",
       "1    pseudo_svm  norm_linear  0.970253  0.970253   0.998654  0.983953   \n",
       "2    random_svm  norm_linear  0.970166  0.970166   0.998654  0.983907   \n",
       "3       ooc_svm    norm_poly  0.997028  0.997028   0.999050  0.998020   \n",
       "4    pseudo_svm          rbf  0.979396  0.979396   0.999174  0.989086   \n",
       "..          ...          ...       ...       ...        ...       ...   \n",
       "211  pseudo_svm          rbf  0.972024  0.972024   0.997074  0.984153   \n",
       "212  random_svm          rbf  0.971595  0.971595   0.997073  0.983931   \n",
       "213     ooc_svm  norm_linear  0.999153  0.999153   0.999368  0.999256   \n",
       "214  pseudo_svm          rbf  0.985369  0.985369   0.999498  0.992299   \n",
       "215  random_svm          rbf  0.985316  0.985316   0.999498  0.992272   \n",
       "\n",
       "        auroc  rank_ratio    disease  \n",
       "0    0.900764     0.09966  ICD10_C16  \n",
       "1    0.921781     0.07864  ICD10_C16  \n",
       "2    0.921517     0.07892  ICD10_C16  \n",
       "3    0.896439     0.10380  ICD10_C18  \n",
       "4    0.923816     0.07644  ICD10_C18  \n",
       "..        ...         ...        ...  \n",
       "211  0.871784     0.12888  ICD10_N80  \n",
       "212  0.870868     0.12980  ICD10_N80  \n",
       "213  0.908378     0.09178  ICD10_N97  \n",
       "214  0.913964     0.08620  ICD10_N97  \n",
       "215  0.913769     0.08642  ICD10_N97  \n",
       "\n",
       "[216 rows x 9 columns]"
      ]
     },
     "execution_count": 17,
     "metadata": {},
     "output_type": "execute_result"
    }
   ],
   "source": [
    "final_result"
   ]
  },
  {
   "cell_type": "code",
   "execution_count": null,
   "metadata": {},
   "outputs": [],
   "source": []
  }
 ],
 "metadata": {
  "kernelspec": {
   "display_name": ".venv",
   "language": "python",
   "name": "python3"
  },
  "language_info": {
   "codemirror_mode": {
    "name": "ipython",
    "version": 3
   },
   "file_extension": ".py",
   "mimetype": "text/x-python",
   "name": "python",
   "nbconvert_exporter": "python",
   "pygments_lexer": "ipython3",
   "version": "3.11.11"
  }
 },
 "nbformat": 4,
 "nbformat_minor": 2
}
