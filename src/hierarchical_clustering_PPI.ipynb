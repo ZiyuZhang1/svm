{
 "cells": [
  {
   "cell_type": "code",
   "execution_count": 1,
   "id": "2b1a90ef",
   "metadata": {},
   "outputs": [],
   "source": [
    "import pandas as pd\n"
   ]
  },
  {
   "cell_type": "code",
   "execution_count": 2,
   "id": "3de95945",
   "metadata": {},
   "outputs": [
    {
     "data": {
      "application/vnd.microsoft.datawrangler.viewer.v0+json": {
       "columns": [
        {
         "name": "index",
         "rawType": "int64",
         "type": "integer"
        },
        {
         "name": "string_id",
         "rawType": "object",
         "type": "string"
        },
        {
         "name": "feature_0",
         "rawType": "float64",
         "type": "float"
        },
        {
         "name": "feature_1",
         "rawType": "float64",
         "type": "float"
        },
        {
         "name": "feature_2",
         "rawType": "float64",
         "type": "float"
        },
        {
         "name": "feature_3",
         "rawType": "float64",
         "type": "float"
        },
        {
         "name": "feature_4",
         "rawType": "float64",
         "type": "float"
        },
        {
         "name": "feature_5",
         "rawType": "float64",
         "type": "float"
        },
        {
         "name": "feature_6",
         "rawType": "float64",
         "type": "float"
        },
        {
         "name": "feature_7",
         "rawType": "float64",
         "type": "float"
        },
        {
         "name": "feature_8",
         "rawType": "float64",
         "type": "float"
        },
        {
         "name": "feature_9",
         "rawType": "float64",
         "type": "float"
        },
        {
         "name": "feature_10",
         "rawType": "float64",
         "type": "float"
        },
        {
         "name": "feature_11",
         "rawType": "float64",
         "type": "float"
        },
        {
         "name": "feature_12",
         "rawType": "float64",
         "type": "float"
        },
        {
         "name": "feature_13",
         "rawType": "float64",
         "type": "float"
        },
        {
         "name": "feature_14",
         "rawType": "float64",
         "type": "float"
        },
        {
         "name": "feature_15",
         "rawType": "float64",
         "type": "float"
        },
        {
         "name": "feature_16",
         "rawType": "float64",
         "type": "float"
        },
        {
         "name": "feature_17",
         "rawType": "float64",
         "type": "float"
        },
        {
         "name": "feature_18",
         "rawType": "float64",
         "type": "float"
        },
        {
         "name": "feature_19",
         "rawType": "float64",
         "type": "float"
        },
        {
         "name": "feature_20",
         "rawType": "float64",
         "type": "float"
        },
        {
         "name": "feature_21",
         "rawType": "float64",
         "type": "float"
        },
        {
         "name": "feature_22",
         "rawType": "float64",
         "type": "float"
        },
        {
         "name": "feature_23",
         "rawType": "float64",
         "type": "float"
        },
        {
         "name": "feature_24",
         "rawType": "float64",
         "type": "float"
        },
        {
         "name": "feature_25",
         "rawType": "float64",
         "type": "float"
        },
        {
         "name": "feature_26",
         "rawType": "float64",
         "type": "float"
        },
        {
         "name": "feature_27",
         "rawType": "float64",
         "type": "float"
        },
        {
         "name": "feature_28",
         "rawType": "float64",
         "type": "float"
        },
        {
         "name": "feature_29",
         "rawType": "float64",
         "type": "float"
        },
        {
         "name": "feature_30",
         "rawType": "float64",
         "type": "float"
        },
        {
         "name": "feature_31",
         "rawType": "float64",
         "type": "float"
        },
        {
         "name": "feature_32",
         "rawType": "float64",
         "type": "float"
        },
        {
         "name": "feature_33",
         "rawType": "float64",
         "type": "float"
        },
        {
         "name": "feature_34",
         "rawType": "float64",
         "type": "float"
        },
        {
         "name": "feature_35",
         "rawType": "float64",
         "type": "float"
        },
        {
         "name": "feature_36",
         "rawType": "float64",
         "type": "float"
        },
        {
         "name": "feature_37",
         "rawType": "float64",
         "type": "float"
        },
        {
         "name": "feature_38",
         "rawType": "float64",
         "type": "float"
        },
        {
         "name": "feature_39",
         "rawType": "float64",
         "type": "float"
        },
        {
         "name": "feature_40",
         "rawType": "float64",
         "type": "float"
        },
        {
         "name": "feature_41",
         "rawType": "float64",
         "type": "float"
        },
        {
         "name": "feature_42",
         "rawType": "float64",
         "type": "float"
        },
        {
         "name": "feature_43",
         "rawType": "float64",
         "type": "float"
        },
        {
         "name": "feature_44",
         "rawType": "float64",
         "type": "float"
        },
        {
         "name": "feature_45",
         "rawType": "float64",
         "type": "float"
        },
        {
         "name": "feature_46",
         "rawType": "float64",
         "type": "float"
        },
        {
         "name": "feature_47",
         "rawType": "float64",
         "type": "float"
        },
        {
         "name": "feature_48",
         "rawType": "float64",
         "type": "float"
        },
        {
         "name": "feature_49",
         "rawType": "float64",
         "type": "float"
        },
        {
         "name": "feature_50",
         "rawType": "float64",
         "type": "float"
        },
        {
         "name": "feature_51",
         "rawType": "float64",
         "type": "float"
        },
        {
         "name": "feature_52",
         "rawType": "float64",
         "type": "float"
        },
        {
         "name": "feature_53",
         "rawType": "float64",
         "type": "float"
        },
        {
         "name": "feature_54",
         "rawType": "float64",
         "type": "float"
        },
        {
         "name": "feature_55",
         "rawType": "float64",
         "type": "float"
        },
        {
         "name": "feature_56",
         "rawType": "float64",
         "type": "float"
        },
        {
         "name": "feature_57",
         "rawType": "float64",
         "type": "float"
        },
        {
         "name": "feature_58",
         "rawType": "float64",
         "type": "float"
        },
        {
         "name": "feature_59",
         "rawType": "float64",
         "type": "float"
        },
        {
         "name": "feature_60",
         "rawType": "float64",
         "type": "float"
        },
        {
         "name": "feature_61",
         "rawType": "float64",
         "type": "float"
        },
        {
         "name": "feature_62",
         "rawType": "float64",
         "type": "float"
        },
        {
         "name": "feature_63",
         "rawType": "float64",
         "type": "float"
        },
        {
         "name": "feature_64",
         "rawType": "float64",
         "type": "float"
        },
        {
         "name": "feature_65",
         "rawType": "float64",
         "type": "float"
        },
        {
         "name": "feature_66",
         "rawType": "float64",
         "type": "float"
        },
        {
         "name": "feature_67",
         "rawType": "float64",
         "type": "float"
        },
        {
         "name": "feature_68",
         "rawType": "float64",
         "type": "float"
        },
        {
         "name": "feature_69",
         "rawType": "float64",
         "type": "float"
        },
        {
         "name": "feature_70",
         "rawType": "float64",
         "type": "float"
        },
        {
         "name": "feature_71",
         "rawType": "float64",
         "type": "float"
        },
        {
         "name": "feature_72",
         "rawType": "float64",
         "type": "float"
        },
        {
         "name": "feature_73",
         "rawType": "float64",
         "type": "float"
        },
        {
         "name": "feature_74",
         "rawType": "float64",
         "type": "float"
        },
        {
         "name": "feature_75",
         "rawType": "float64",
         "type": "float"
        },
        {
         "name": "feature_76",
         "rawType": "float64",
         "type": "float"
        },
        {
         "name": "feature_77",
         "rawType": "float64",
         "type": "float"
        },
        {
         "name": "feature_78",
         "rawType": "float64",
         "type": "float"
        },
        {
         "name": "feature_79",
         "rawType": "float64",
         "type": "float"
        },
        {
         "name": "feature_80",
         "rawType": "float64",
         "type": "float"
        },
        {
         "name": "feature_81",
         "rawType": "float64",
         "type": "float"
        },
        {
         "name": "feature_82",
         "rawType": "float64",
         "type": "float"
        },
        {
         "name": "feature_83",
         "rawType": "float64",
         "type": "float"
        },
        {
         "name": "feature_84",
         "rawType": "float64",
         "type": "float"
        },
        {
         "name": "feature_85",
         "rawType": "float64",
         "type": "float"
        },
        {
         "name": "feature_86",
         "rawType": "float64",
         "type": "float"
        },
        {
         "name": "feature_87",
         "rawType": "float64",
         "type": "float"
        },
        {
         "name": "feature_88",
         "rawType": "float64",
         "type": "float"
        },
        {
         "name": "feature_89",
         "rawType": "float64",
         "type": "float"
        },
        {
         "name": "feature_90",
         "rawType": "float64",
         "type": "float"
        },
        {
         "name": "feature_91",
         "rawType": "float64",
         "type": "float"
        },
        {
         "name": "feature_92",
         "rawType": "float64",
         "type": "float"
        },
        {
         "name": "feature_93",
         "rawType": "float64",
         "type": "float"
        },
        {
         "name": "feature_94",
         "rawType": "float64",
         "type": "float"
        },
        {
         "name": "feature_95",
         "rawType": "float64",
         "type": "float"
        },
        {
         "name": "feature_96",
         "rawType": "float64",
         "type": "float"
        },
        {
         "name": "feature_97",
         "rawType": "float64",
         "type": "float"
        },
        {
         "name": "feature_98",
         "rawType": "float64",
         "type": "float"
        },
        {
         "name": "feature_99",
         "rawType": "float64",
         "type": "float"
        },
        {
         "name": "feature_100",
         "rawType": "float64",
         "type": "float"
        },
        {
         "name": "feature_101",
         "rawType": "float64",
         "type": "float"
        },
        {
         "name": "feature_102",
         "rawType": "float64",
         "type": "float"
        },
        {
         "name": "feature_103",
         "rawType": "float64",
         "type": "float"
        },
        {
         "name": "feature_104",
         "rawType": "float64",
         "type": "float"
        },
        {
         "name": "feature_105",
         "rawType": "float64",
         "type": "float"
        },
        {
         "name": "feature_106",
         "rawType": "float64",
         "type": "float"
        },
        {
         "name": "feature_107",
         "rawType": "float64",
         "type": "float"
        },
        {
         "name": "feature_108",
         "rawType": "float64",
         "type": "float"
        },
        {
         "name": "feature_109",
         "rawType": "float64",
         "type": "float"
        },
        {
         "name": "feature_110",
         "rawType": "float64",
         "type": "float"
        },
        {
         "name": "feature_111",
         "rawType": "float64",
         "type": "float"
        },
        {
         "name": "feature_112",
         "rawType": "float64",
         "type": "float"
        },
        {
         "name": "feature_113",
         "rawType": "float64",
         "type": "float"
        },
        {
         "name": "feature_114",
         "rawType": "float64",
         "type": "float"
        },
        {
         "name": "feature_115",
         "rawType": "float64",
         "type": "float"
        },
        {
         "name": "feature_116",
         "rawType": "float64",
         "type": "float"
        },
        {
         "name": "feature_117",
         "rawType": "float64",
         "type": "float"
        },
        {
         "name": "feature_118",
         "rawType": "float64",
         "type": "float"
        },
        {
         "name": "feature_119",
         "rawType": "float64",
         "type": "float"
        },
        {
         "name": "feature_120",
         "rawType": "float64",
         "type": "float"
        },
        {
         "name": "feature_121",
         "rawType": "float64",
         "type": "float"
        },
        {
         "name": "feature_122",
         "rawType": "float64",
         "type": "float"
        },
        {
         "name": "feature_123",
         "rawType": "float64",
         "type": "float"
        },
        {
         "name": "feature_124",
         "rawType": "float64",
         "type": "float"
        },
        {
         "name": "feature_125",
         "rawType": "float64",
         "type": "float"
        },
        {
         "name": "feature_126",
         "rawType": "float64",
         "type": "float"
        },
        {
         "name": "feature_127",
         "rawType": "float64",
         "type": "float"
        },
        {
         "name": "label",
         "rawType": "int64",
         "type": "integer"
        }
       ],
       "conversionMethod": "pd.DataFrame",
       "ref": "0728afde-ce66-4284-8faf-a0df6d612129",
       "rows": [
        [
         "0",
         "9606.ENSP00000000233",
         "0.15572567",
         "-0.3542087",
         "-0.119712986",
         "0.07760424",
         "-0.088752076",
         "-0.08413789",
         "-0.19433686",
         "0.2456409",
         "-0.01303399",
         "0.10865199",
         "0.17546096",
         "0.17286175",
         "0.15831888",
         "0.34340888",
         "0.14320251",
         "0.15288028",
         "0.054797653",
         "-0.24390239",
         "-0.14588934",
         "-0.14742349",
         "0.0014919031",
         "-0.2801667",
         "-0.47345552",
         "0.069490686",
         "0.0015317085",
         "0.10566946",
         "-0.1712909",
         "-0.2595732",
         "0.13902089",
         "0.34468743",
         "-0.081863135",
         "0.3098772",
         "-0.08731106",
         "0.020701727",
         "0.01424227",
         "0.08617071",
         "-0.0813557",
         "-0.17464909",
         "-0.2553006",
         "0.24629328",
         "0.45077097",
         "0.0530039",
         "-0.045681737",
         "0.22678187",
         "-0.16136412",
         "-0.13411053",
         "-0.005801465",
         "-0.0060345796",
         "0.0959481",
         "-0.13123961",
         "-0.16607969",
         "-0.054220516",
         "0.33607012",
         "0.05642151",
         "0.21704552",
         "-0.028905263",
         "0.08784998",
         "-0.0668341",
         "-0.3233997",
         "-0.124321535",
         "-0.041305233",
         "-0.29819617",
         "-0.15315318",
         "0.40176192",
         "-0.3273058",
         "-0.17733374",
         "0.017375072",
         "-0.029874772",
         "-0.086488955",
         "-0.21845958",
         "0.0149381915",
         "0.12235301",
         "-0.027443044",
         "-0.0235142",
         "-0.036937594",
         "0.0073682335",
         "0.07450727",
         "0.29808408",
         "0.03923472",
         "0.02533038",
         "-0.024125487",
         "-0.08181991",
         "0.09720245",
         "-0.30430284",
         "-0.05420159",
         "0.038562946",
         "-0.0402972",
         "-0.083405964",
         "-0.14319398",
         "-0.05041397",
         "-0.17996341",
         "-0.15698048",
         "0.14581257",
         "0.046729375",
         "-0.097668886",
         "-0.0692635",
         "0.13233782",
         "0.09729834",
         "-0.07943668",
         "-0.07613588",
         "-0.010617064",
         "-0.18328393",
         "-0.12121702",
         "-0.09634005",
         "-0.05104796",
         "0.16060935",
         "0.0462533",
         "0.013444166",
         "0.09746297",
         "-0.48142144",
         "0.05244795",
         "-0.09812158",
         "0.11322306",
         "-0.04564454",
         "-0.019373436",
         "0.139552",
         "0.09306432",
         "0.14703974",
         "0.04128846",
         "0.09482608",
         "0.21913658",
         "-0.58006006",
         "-0.04432379",
         "0.10480931",
         "0.02170212",
         "0.040533405",
         "0.40103078",
         "-0.25195175",
         "0"
        ],
        [
         "1",
         "9606.ENSP00000356607",
         "-0.025839107",
         "-0.114900626",
         "0.26567903",
         "-0.25183615",
         "-0.07881174",
         "0.17815185",
         "0.069153",
         "-0.101697944",
         "0.3286112",
         "-0.016503371",
         "-0.05556962",
         "0.3390314",
         "0.0791902",
         "0.35997194",
         "0.08845183",
         "0.01776817",
         "0.17815225",
         "0.32212037",
         "-0.36279184",
         "0.114190504",
         "0.009628133",
         "-0.055739153",
         "0.124075554",
         "0.112332195",
         "0.02684817",
         "-0.22611663",
         "-0.15357077",
         "-0.33912435",
         "-0.0778011",
         "0.19909936",
         "-0.17122535",
         "0.19654918",
         "0.18979974",
         "0.26042646",
         "-0.09023441",
         "-0.22144853",
         "0.13501848",
         "0.283059",
         "-0.2046412",
         "0.5171574",
         "0.38569522",
         "-0.12449716",
         "0.04817515",
         "-0.055871077",
         "-0.17548454",
         "0.1619768",
         "-0.03190524",
         "-0.09892507",
         "-0.28497836",
         "0.45523423",
         "-0.10827679",
         "0.14412992",
         "-0.12272516",
         "0.022896677",
         "-0.13281955",
         "0.051251505",
         "0.21478298",
         "-0.0032526713",
         "-0.252617",
         "0.058632944",
         "-0.1280193",
         "-0.356065",
         "-0.11606554",
         "0.14257522",
         "-0.33386514",
         "-0.1731292",
         "-0.007004515",
         "0.14998975",
         "-0.28906703",
         "-0.14912571",
         "-0.18015458",
         "0.16324246",
         "0.18958269",
         "-0.35041383",
         "0.08363176",
         "-0.2702189",
         "0.16785778",
         "-0.016827425",
         "0.339685",
         "-0.18777154",
         "0.19134122",
         "-0.08760152",
         "0.14703302",
         "0.017648395",
         "0.35001108",
         "-0.049975324",
         "0.01767534",
         "-0.02489447",
         "-0.08513618",
         "0.16105893",
         "-0.13980293",
         "0.11154276",
         "-0.1522064",
         "0.036248818",
         "0.28998572",
         "0.18880625",
         "0.26712307",
         "-0.19557962",
         "0.24665119",
         "-0.055141136",
         "-0.1539465",
         "-0.40604028",
         "-0.14055556",
         "-0.076984994",
         "-0.11690941",
         "0.07563145",
         "-0.020481566",
         "0.23319517",
         "0.30463746",
         "-0.07292229",
         "0.066495",
         "-0.08303186",
         "0.08489387",
         "-0.04637537",
         "-0.17235765",
         "-0.043943096",
         "0.11172223",
         "-0.031202639",
         "0.034927625",
         "-0.16705169",
         "-0.22863926",
         "-0.1332754",
         "-0.17143117",
         "0.096777506",
         "0.048151277",
         "0.0022559299",
         "0.04557235",
         "-0.426953",
         "0"
        ],
        [
         "2",
         "9606.ENSP00000427567",
         "0.2971663",
         "-0.26043007",
         "-0.21190572",
         "-0.5120672",
         "0.040382545",
         "-0.011765829",
         "-0.21615443",
         "-0.05708657",
         "-0.06217203",
         "-0.28977153",
         "0.052076347",
         "-0.12830433",
         "0.19937886",
         "0.2110355",
         "0.2395093",
         "-0.18537726",
         "0.2386777",
         "0.32073042",
         "-0.017225366",
         "0.04447568",
         "0.20890658",
         "-0.21264698",
         "-0.34041885",
         "-0.07991469",
         "0.14334701",
         "0.22249162",
         "-0.13556819",
         "0.036547877",
         "0.05726336",
         "0.013740232",
         "-0.04058106",
         "0.18286596",
         "0.23978195",
         "-0.06321644",
         "0.110390514",
         "-0.026373206",
         "-0.46132004",
         "0.29354456",
         "0.046591274",
         "-0.12787367",
         "-0.1024994",
         "-0.07106384",
         "0.35832712",
         "0.04425958",
         "-0.29201484",
         "-0.041357234",
         "0.0026129473",
         "-0.255514",
         "-0.09270037",
         "0.042564612",
         "-0.21168876",
         "0.047196947",
         "0.10518618",
         "0.33619937",
         "-0.034667525",
         "-0.12729308",
         "0.41204846",
         "-0.32745293",
         "-0.16879684",
         "-0.20434095",
         "-0.2544752",
         "-0.2036786",
         "-0.27859738",
         "0.3517034",
         "0.07647791",
         "-0.041917223",
         "-0.15447302",
         "-0.2040564",
         "-0.24328874",
         "-0.24635999",
         "-0.011969064",
         "0.25749195",
         "0.19748315",
         "-0.0012345293",
         "-0.1776288",
         "-0.08125049",
         "0.02389174",
         "0.1651036",
         "0.1724646",
         "-0.23298119",
         "-0.113915764",
         "-0.23417076",
         "-0.259954",
         "-0.2055291",
         "0.042139906",
         "0.04182455",
         "-0.05722585",
         "-0.15420122",
         "-0.15465824",
         "0.011815143",
         "-0.32961884",
         "-0.04073137",
         "-0.053290483",
         "0.43794358",
         "-0.16975613",
         "0.07676223",
         "0.21588731",
         "-0.027652722",
         "-0.17497472",
         "-0.30938435",
         "0.000773957",
         "-0.071945846",
         "0.15644756",
         "0.11456969",
         "-0.0064158146",
         "0.24060062",
         "-0.22441132",
         "0.13608922",
         "-0.011637406",
         "-0.434153",
         "-0.23677535",
         "0.10153654",
         "0.111588575",
         "-0.0463481",
         "-0.1209951",
         "0.13033608",
         "-0.013597761",
         "-0.2059229",
         "-0.25288054",
         "-0.15024944",
         "-0.2918006",
         "-0.021340407",
         "-0.07109202",
         "-0.009000731",
         "0.056501973",
         "0.1693984",
         "0.25436047",
         "-0.3257642",
         "0"
        ]
       ],
       "shape": {
        "columns": 130,
        "rows": 3
       }
      },
      "text/html": [
       "<div>\n",
       "<style scoped>\n",
       "    .dataframe tbody tr th:only-of-type {\n",
       "        vertical-align: middle;\n",
       "    }\n",
       "\n",
       "    .dataframe tbody tr th {\n",
       "        vertical-align: top;\n",
       "    }\n",
       "\n",
       "    .dataframe thead th {\n",
       "        text-align: right;\n",
       "    }\n",
       "</style>\n",
       "<table border=\"1\" class=\"dataframe\">\n",
       "  <thead>\n",
       "    <tr style=\"text-align: right;\">\n",
       "      <th></th>\n",
       "      <th>string_id</th>\n",
       "      <th>feature_0</th>\n",
       "      <th>feature_1</th>\n",
       "      <th>feature_2</th>\n",
       "      <th>feature_3</th>\n",
       "      <th>feature_4</th>\n",
       "      <th>feature_5</th>\n",
       "      <th>feature_6</th>\n",
       "      <th>feature_7</th>\n",
       "      <th>feature_8</th>\n",
       "      <th>...</th>\n",
       "      <th>feature_119</th>\n",
       "      <th>feature_120</th>\n",
       "      <th>feature_121</th>\n",
       "      <th>feature_122</th>\n",
       "      <th>feature_123</th>\n",
       "      <th>feature_124</th>\n",
       "      <th>feature_125</th>\n",
       "      <th>feature_126</th>\n",
       "      <th>feature_127</th>\n",
       "      <th>label</th>\n",
       "    </tr>\n",
       "  </thead>\n",
       "  <tbody>\n",
       "    <tr>\n",
       "      <th>0</th>\n",
       "      <td>9606.ENSP00000000233</td>\n",
       "      <td>0.155726</td>\n",
       "      <td>-0.354209</td>\n",
       "      <td>-0.119713</td>\n",
       "      <td>0.077604</td>\n",
       "      <td>-0.088752</td>\n",
       "      <td>-0.084138</td>\n",
       "      <td>-0.194337</td>\n",
       "      <td>0.245641</td>\n",
       "      <td>-0.013034</td>\n",
       "      <td>...</td>\n",
       "      <td>0.094826</td>\n",
       "      <td>0.219137</td>\n",
       "      <td>-0.580060</td>\n",
       "      <td>-0.044324</td>\n",
       "      <td>0.104809</td>\n",
       "      <td>0.021702</td>\n",
       "      <td>0.040533</td>\n",
       "      <td>0.401031</td>\n",
       "      <td>-0.251952</td>\n",
       "      <td>0</td>\n",
       "    </tr>\n",
       "    <tr>\n",
       "      <th>1</th>\n",
       "      <td>9606.ENSP00000356607</td>\n",
       "      <td>-0.025839</td>\n",
       "      <td>-0.114901</td>\n",
       "      <td>0.265679</td>\n",
       "      <td>-0.251836</td>\n",
       "      <td>-0.078812</td>\n",
       "      <td>0.178152</td>\n",
       "      <td>0.069153</td>\n",
       "      <td>-0.101698</td>\n",
       "      <td>0.328611</td>\n",
       "      <td>...</td>\n",
       "      <td>-0.167052</td>\n",
       "      <td>-0.228639</td>\n",
       "      <td>-0.133275</td>\n",
       "      <td>-0.171431</td>\n",
       "      <td>0.096778</td>\n",
       "      <td>0.048151</td>\n",
       "      <td>0.002256</td>\n",
       "      <td>0.045572</td>\n",
       "      <td>-0.426953</td>\n",
       "      <td>0</td>\n",
       "    </tr>\n",
       "    <tr>\n",
       "      <th>2</th>\n",
       "      <td>9606.ENSP00000427567</td>\n",
       "      <td>0.297166</td>\n",
       "      <td>-0.260430</td>\n",
       "      <td>-0.211906</td>\n",
       "      <td>-0.512067</td>\n",
       "      <td>0.040383</td>\n",
       "      <td>-0.011766</td>\n",
       "      <td>-0.216154</td>\n",
       "      <td>-0.057087</td>\n",
       "      <td>-0.062172</td>\n",
       "      <td>...</td>\n",
       "      <td>-0.150249</td>\n",
       "      <td>-0.291801</td>\n",
       "      <td>-0.021340</td>\n",
       "      <td>-0.071092</td>\n",
       "      <td>-0.009001</td>\n",
       "      <td>0.056502</td>\n",
       "      <td>0.169398</td>\n",
       "      <td>0.254360</td>\n",
       "      <td>-0.325764</td>\n",
       "      <td>0</td>\n",
       "    </tr>\n",
       "  </tbody>\n",
       "</table>\n",
       "<p>3 rows × 130 columns</p>\n",
       "</div>"
      ],
      "text/plain": [
       "              string_id  feature_0  feature_1  feature_2  feature_3  \\\n",
       "0  9606.ENSP00000000233   0.155726  -0.354209  -0.119713   0.077604   \n",
       "1  9606.ENSP00000356607  -0.025839  -0.114901   0.265679  -0.251836   \n",
       "2  9606.ENSP00000427567   0.297166  -0.260430  -0.211906  -0.512067   \n",
       "\n",
       "   feature_4  feature_5  feature_6  feature_7  feature_8  ...  feature_119  \\\n",
       "0  -0.088752  -0.084138  -0.194337   0.245641  -0.013034  ...     0.094826   \n",
       "1  -0.078812   0.178152   0.069153  -0.101698   0.328611  ...    -0.167052   \n",
       "2   0.040383  -0.011766  -0.216154  -0.057087  -0.062172  ...    -0.150249   \n",
       "\n",
       "   feature_120  feature_121  feature_122  feature_123  feature_124  \\\n",
       "0     0.219137    -0.580060    -0.044324     0.104809     0.021702   \n",
       "1    -0.228639    -0.133275    -0.171431     0.096778     0.048151   \n",
       "2    -0.291801    -0.021340    -0.071092    -0.009001     0.056502   \n",
       "\n",
       "   feature_125  feature_126  feature_127  label  \n",
       "0     0.040533     0.401031    -0.251952      0  \n",
       "1     0.002256     0.045572    -0.426953      0  \n",
       "2     0.169398     0.254360    -0.325764      0  \n",
       "\n",
       "[3 rows x 130 columns]"
      ]
     },
     "execution_count": 2,
     "metadata": {},
     "output_type": "execute_result"
    }
   ],
   "source": [
    "feature_df = pd.read_csv('/itf-fi-ml/shared/users/ziyuzh/svm/data/ppi_full_emb.csv')\n",
    "feature_df.head(3)"
   ]
  },
  {
   "cell_type": "code",
   "execution_count": 5,
   "id": "20ff3179",
   "metadata": {},
   "outputs": [
    {
     "data": {
      "application/vnd.microsoft.datawrangler.viewer.v0+json": {
       "columns": [
        {
         "name": "string_id",
         "rawType": "object",
         "type": "string"
        },
        {
         "name": "feature_0",
         "rawType": "float64",
         "type": "float"
        },
        {
         "name": "feature_1",
         "rawType": "float64",
         "type": "float"
        },
        {
         "name": "feature_2",
         "rawType": "float64",
         "type": "float"
        },
        {
         "name": "feature_3",
         "rawType": "float64",
         "type": "float"
        },
        {
         "name": "feature_4",
         "rawType": "float64",
         "type": "float"
        },
        {
         "name": "feature_5",
         "rawType": "float64",
         "type": "float"
        },
        {
         "name": "feature_6",
         "rawType": "float64",
         "type": "float"
        },
        {
         "name": "feature_7",
         "rawType": "float64",
         "type": "float"
        },
        {
         "name": "feature_8",
         "rawType": "float64",
         "type": "float"
        },
        {
         "name": "feature_9",
         "rawType": "float64",
         "type": "float"
        },
        {
         "name": "feature_10",
         "rawType": "float64",
         "type": "float"
        },
        {
         "name": "feature_11",
         "rawType": "float64",
         "type": "float"
        },
        {
         "name": "feature_12",
         "rawType": "float64",
         "type": "float"
        },
        {
         "name": "feature_13",
         "rawType": "float64",
         "type": "float"
        },
        {
         "name": "feature_14",
         "rawType": "float64",
         "type": "float"
        },
        {
         "name": "feature_15",
         "rawType": "float64",
         "type": "float"
        },
        {
         "name": "feature_16",
         "rawType": "float64",
         "type": "float"
        },
        {
         "name": "feature_17",
         "rawType": "float64",
         "type": "float"
        },
        {
         "name": "feature_18",
         "rawType": "float64",
         "type": "float"
        },
        {
         "name": "feature_19",
         "rawType": "float64",
         "type": "float"
        },
        {
         "name": "feature_20",
         "rawType": "float64",
         "type": "float"
        },
        {
         "name": "feature_21",
         "rawType": "float64",
         "type": "float"
        },
        {
         "name": "feature_22",
         "rawType": "float64",
         "type": "float"
        },
        {
         "name": "feature_23",
         "rawType": "float64",
         "type": "float"
        },
        {
         "name": "feature_24",
         "rawType": "float64",
         "type": "float"
        },
        {
         "name": "feature_25",
         "rawType": "float64",
         "type": "float"
        },
        {
         "name": "feature_26",
         "rawType": "float64",
         "type": "float"
        },
        {
         "name": "feature_27",
         "rawType": "float64",
         "type": "float"
        },
        {
         "name": "feature_28",
         "rawType": "float64",
         "type": "float"
        },
        {
         "name": "feature_29",
         "rawType": "float64",
         "type": "float"
        },
        {
         "name": "feature_30",
         "rawType": "float64",
         "type": "float"
        },
        {
         "name": "feature_31",
         "rawType": "float64",
         "type": "float"
        },
        {
         "name": "feature_32",
         "rawType": "float64",
         "type": "float"
        },
        {
         "name": "feature_33",
         "rawType": "float64",
         "type": "float"
        },
        {
         "name": "feature_34",
         "rawType": "float64",
         "type": "float"
        },
        {
         "name": "feature_35",
         "rawType": "float64",
         "type": "float"
        },
        {
         "name": "feature_36",
         "rawType": "float64",
         "type": "float"
        },
        {
         "name": "feature_37",
         "rawType": "float64",
         "type": "float"
        },
        {
         "name": "feature_38",
         "rawType": "float64",
         "type": "float"
        },
        {
         "name": "feature_39",
         "rawType": "float64",
         "type": "float"
        },
        {
         "name": "feature_40",
         "rawType": "float64",
         "type": "float"
        },
        {
         "name": "feature_41",
         "rawType": "float64",
         "type": "float"
        },
        {
         "name": "feature_42",
         "rawType": "float64",
         "type": "float"
        },
        {
         "name": "feature_43",
         "rawType": "float64",
         "type": "float"
        },
        {
         "name": "feature_44",
         "rawType": "float64",
         "type": "float"
        },
        {
         "name": "feature_45",
         "rawType": "float64",
         "type": "float"
        },
        {
         "name": "feature_46",
         "rawType": "float64",
         "type": "float"
        },
        {
         "name": "feature_47",
         "rawType": "float64",
         "type": "float"
        },
        {
         "name": "feature_48",
         "rawType": "float64",
         "type": "float"
        },
        {
         "name": "feature_49",
         "rawType": "float64",
         "type": "float"
        },
        {
         "name": "feature_50",
         "rawType": "float64",
         "type": "float"
        },
        {
         "name": "feature_51",
         "rawType": "float64",
         "type": "float"
        },
        {
         "name": "feature_52",
         "rawType": "float64",
         "type": "float"
        },
        {
         "name": "feature_53",
         "rawType": "float64",
         "type": "float"
        },
        {
         "name": "feature_54",
         "rawType": "float64",
         "type": "float"
        },
        {
         "name": "feature_55",
         "rawType": "float64",
         "type": "float"
        },
        {
         "name": "feature_56",
         "rawType": "float64",
         "type": "float"
        },
        {
         "name": "feature_57",
         "rawType": "float64",
         "type": "float"
        },
        {
         "name": "feature_58",
         "rawType": "float64",
         "type": "float"
        },
        {
         "name": "feature_59",
         "rawType": "float64",
         "type": "float"
        },
        {
         "name": "feature_60",
         "rawType": "float64",
         "type": "float"
        },
        {
         "name": "feature_61",
         "rawType": "float64",
         "type": "float"
        },
        {
         "name": "feature_62",
         "rawType": "float64",
         "type": "float"
        },
        {
         "name": "feature_63",
         "rawType": "float64",
         "type": "float"
        },
        {
         "name": "feature_64",
         "rawType": "float64",
         "type": "float"
        },
        {
         "name": "feature_65",
         "rawType": "float64",
         "type": "float"
        },
        {
         "name": "feature_66",
         "rawType": "float64",
         "type": "float"
        },
        {
         "name": "feature_67",
         "rawType": "float64",
         "type": "float"
        },
        {
         "name": "feature_68",
         "rawType": "float64",
         "type": "float"
        },
        {
         "name": "feature_69",
         "rawType": "float64",
         "type": "float"
        },
        {
         "name": "feature_70",
         "rawType": "float64",
         "type": "float"
        },
        {
         "name": "feature_71",
         "rawType": "float64",
         "type": "float"
        },
        {
         "name": "feature_72",
         "rawType": "float64",
         "type": "float"
        },
        {
         "name": "feature_73",
         "rawType": "float64",
         "type": "float"
        },
        {
         "name": "feature_74",
         "rawType": "float64",
         "type": "float"
        },
        {
         "name": "feature_75",
         "rawType": "float64",
         "type": "float"
        },
        {
         "name": "feature_76",
         "rawType": "float64",
         "type": "float"
        },
        {
         "name": "feature_77",
         "rawType": "float64",
         "type": "float"
        },
        {
         "name": "feature_78",
         "rawType": "float64",
         "type": "float"
        },
        {
         "name": "feature_79",
         "rawType": "float64",
         "type": "float"
        },
        {
         "name": "feature_80",
         "rawType": "float64",
         "type": "float"
        },
        {
         "name": "feature_81",
         "rawType": "float64",
         "type": "float"
        },
        {
         "name": "feature_82",
         "rawType": "float64",
         "type": "float"
        },
        {
         "name": "feature_83",
         "rawType": "float64",
         "type": "float"
        },
        {
         "name": "feature_84",
         "rawType": "float64",
         "type": "float"
        },
        {
         "name": "feature_85",
         "rawType": "float64",
         "type": "float"
        },
        {
         "name": "feature_86",
         "rawType": "float64",
         "type": "float"
        },
        {
         "name": "feature_87",
         "rawType": "float64",
         "type": "float"
        },
        {
         "name": "feature_88",
         "rawType": "float64",
         "type": "float"
        },
        {
         "name": "feature_89",
         "rawType": "float64",
         "type": "float"
        },
        {
         "name": "feature_90",
         "rawType": "float64",
         "type": "float"
        },
        {
         "name": "feature_91",
         "rawType": "float64",
         "type": "float"
        },
        {
         "name": "feature_92",
         "rawType": "float64",
         "type": "float"
        },
        {
         "name": "feature_93",
         "rawType": "float64",
         "type": "float"
        },
        {
         "name": "feature_94",
         "rawType": "float64",
         "type": "float"
        },
        {
         "name": "feature_95",
         "rawType": "float64",
         "type": "float"
        },
        {
         "name": "feature_96",
         "rawType": "float64",
         "type": "float"
        },
        {
         "name": "feature_97",
         "rawType": "float64",
         "type": "float"
        },
        {
         "name": "feature_98",
         "rawType": "float64",
         "type": "float"
        },
        {
         "name": "feature_99",
         "rawType": "float64",
         "type": "float"
        },
        {
         "name": "feature_100",
         "rawType": "float64",
         "type": "float"
        },
        {
         "name": "feature_101",
         "rawType": "float64",
         "type": "float"
        },
        {
         "name": "feature_102",
         "rawType": "float64",
         "type": "float"
        },
        {
         "name": "feature_103",
         "rawType": "float64",
         "type": "float"
        },
        {
         "name": "feature_104",
         "rawType": "float64",
         "type": "float"
        },
        {
         "name": "feature_105",
         "rawType": "float64",
         "type": "float"
        },
        {
         "name": "feature_106",
         "rawType": "float64",
         "type": "float"
        },
        {
         "name": "feature_107",
         "rawType": "float64",
         "type": "float"
        },
        {
         "name": "feature_108",
         "rawType": "float64",
         "type": "float"
        },
        {
         "name": "feature_109",
         "rawType": "float64",
         "type": "float"
        },
        {
         "name": "feature_110",
         "rawType": "float64",
         "type": "float"
        },
        {
         "name": "feature_111",
         "rawType": "float64",
         "type": "float"
        },
        {
         "name": "feature_112",
         "rawType": "float64",
         "type": "float"
        },
        {
         "name": "feature_113",
         "rawType": "float64",
         "type": "float"
        },
        {
         "name": "feature_114",
         "rawType": "float64",
         "type": "float"
        },
        {
         "name": "feature_115",
         "rawType": "float64",
         "type": "float"
        },
        {
         "name": "feature_116",
         "rawType": "float64",
         "type": "float"
        },
        {
         "name": "feature_117",
         "rawType": "float64",
         "type": "float"
        },
        {
         "name": "feature_118",
         "rawType": "float64",
         "type": "float"
        },
        {
         "name": "feature_119",
         "rawType": "float64",
         "type": "float"
        },
        {
         "name": "feature_120",
         "rawType": "float64",
         "type": "float"
        },
        {
         "name": "feature_121",
         "rawType": "float64",
         "type": "float"
        },
        {
         "name": "feature_122",
         "rawType": "float64",
         "type": "float"
        },
        {
         "name": "feature_123",
         "rawType": "float64",
         "type": "float"
        },
        {
         "name": "feature_124",
         "rawType": "float64",
         "type": "float"
        },
        {
         "name": "feature_125",
         "rawType": "float64",
         "type": "float"
        },
        {
         "name": "feature_126",
         "rawType": "float64",
         "type": "float"
        },
        {
         "name": "feature_127",
         "rawType": "float64",
         "type": "float"
        },
        {
         "name": "label",
         "rawType": "int64",
         "type": "integer"
        }
       ],
       "conversionMethod": "pd.DataFrame",
       "ref": "3082b762-ffc9-4435-acf8-6d1944bf26da",
       "rows": [
        [
         "9606.ENSP00000000233",
         "0.15572567",
         "-0.3542087",
         "-0.119712986",
         "0.07760424",
         "-0.088752076",
         "-0.08413789",
         "-0.19433686",
         "0.2456409",
         "-0.01303399",
         "0.10865199",
         "0.17546096",
         "0.17286175",
         "0.15831888",
         "0.34340888",
         "0.14320251",
         "0.15288028",
         "0.054797653",
         "-0.24390239",
         "-0.14588934",
         "-0.14742349",
         "0.0014919031",
         "-0.2801667",
         "-0.47345552",
         "0.069490686",
         "0.0015317085",
         "0.10566946",
         "-0.1712909",
         "-0.2595732",
         "0.13902089",
         "0.34468743",
         "-0.081863135",
         "0.3098772",
         "-0.08731106",
         "0.020701727",
         "0.01424227",
         "0.08617071",
         "-0.0813557",
         "-0.17464909",
         "-0.2553006",
         "0.24629328",
         "0.45077097",
         "0.0530039",
         "-0.045681737",
         "0.22678187",
         "-0.16136412",
         "-0.13411053",
         "-0.005801465",
         "-0.0060345796",
         "0.0959481",
         "-0.13123961",
         "-0.16607969",
         "-0.054220516",
         "0.33607012",
         "0.05642151",
         "0.21704552",
         "-0.028905263",
         "0.08784998",
         "-0.0668341",
         "-0.3233997",
         "-0.124321535",
         "-0.041305233",
         "-0.29819617",
         "-0.15315318",
         "0.40176192",
         "-0.3273058",
         "-0.17733374",
         "0.017375072",
         "-0.029874772",
         "-0.086488955",
         "-0.21845958",
         "0.0149381915",
         "0.12235301",
         "-0.027443044",
         "-0.0235142",
         "-0.036937594",
         "0.0073682335",
         "0.07450727",
         "0.29808408",
         "0.03923472",
         "0.02533038",
         "-0.024125487",
         "-0.08181991",
         "0.09720245",
         "-0.30430284",
         "-0.05420159",
         "0.038562946",
         "-0.0402972",
         "-0.083405964",
         "-0.14319398",
         "-0.05041397",
         "-0.17996341",
         "-0.15698048",
         "0.14581257",
         "0.046729375",
         "-0.097668886",
         "-0.0692635",
         "0.13233782",
         "0.09729834",
         "-0.07943668",
         "-0.07613588",
         "-0.010617064",
         "-0.18328393",
         "-0.12121702",
         "-0.09634005",
         "-0.05104796",
         "0.16060935",
         "0.0462533",
         "0.013444166",
         "0.09746297",
         "-0.48142144",
         "0.05244795",
         "-0.09812158",
         "0.11322306",
         "-0.04564454",
         "-0.019373436",
         "0.139552",
         "0.09306432",
         "0.14703974",
         "0.04128846",
         "0.09482608",
         "0.21913658",
         "-0.58006006",
         "-0.04432379",
         "0.10480931",
         "0.02170212",
         "0.040533405",
         "0.40103078",
         "-0.25195175",
         "0"
        ],
        [
         "9606.ENSP00000356607",
         "-0.025839107",
         "-0.114900626",
         "0.26567903",
         "-0.25183615",
         "-0.07881174",
         "0.17815185",
         "0.069153",
         "-0.101697944",
         "0.3286112",
         "-0.016503371",
         "-0.05556962",
         "0.3390314",
         "0.0791902",
         "0.35997194",
         "0.08845183",
         "0.01776817",
         "0.17815225",
         "0.32212037",
         "-0.36279184",
         "0.114190504",
         "0.009628133",
         "-0.055739153",
         "0.124075554",
         "0.112332195",
         "0.02684817",
         "-0.22611663",
         "-0.15357077",
         "-0.33912435",
         "-0.0778011",
         "0.19909936",
         "-0.17122535",
         "0.19654918",
         "0.18979974",
         "0.26042646",
         "-0.09023441",
         "-0.22144853",
         "0.13501848",
         "0.283059",
         "-0.2046412",
         "0.5171574",
         "0.38569522",
         "-0.12449716",
         "0.04817515",
         "-0.055871077",
         "-0.17548454",
         "0.1619768",
         "-0.03190524",
         "-0.09892507",
         "-0.28497836",
         "0.45523423",
         "-0.10827679",
         "0.14412992",
         "-0.12272516",
         "0.022896677",
         "-0.13281955",
         "0.051251505",
         "0.21478298",
         "-0.0032526713",
         "-0.252617",
         "0.058632944",
         "-0.1280193",
         "-0.356065",
         "-0.11606554",
         "0.14257522",
         "-0.33386514",
         "-0.1731292",
         "-0.007004515",
         "0.14998975",
         "-0.28906703",
         "-0.14912571",
         "-0.18015458",
         "0.16324246",
         "0.18958269",
         "-0.35041383",
         "0.08363176",
         "-0.2702189",
         "0.16785778",
         "-0.016827425",
         "0.339685",
         "-0.18777154",
         "0.19134122",
         "-0.08760152",
         "0.14703302",
         "0.017648395",
         "0.35001108",
         "-0.049975324",
         "0.01767534",
         "-0.02489447",
         "-0.08513618",
         "0.16105893",
         "-0.13980293",
         "0.11154276",
         "-0.1522064",
         "0.036248818",
         "0.28998572",
         "0.18880625",
         "0.26712307",
         "-0.19557962",
         "0.24665119",
         "-0.055141136",
         "-0.1539465",
         "-0.40604028",
         "-0.14055556",
         "-0.076984994",
         "-0.11690941",
         "0.07563145",
         "-0.020481566",
         "0.23319517",
         "0.30463746",
         "-0.07292229",
         "0.066495",
         "-0.08303186",
         "0.08489387",
         "-0.04637537",
         "-0.17235765",
         "-0.043943096",
         "0.11172223",
         "-0.031202639",
         "0.034927625",
         "-0.16705169",
         "-0.22863926",
         "-0.1332754",
         "-0.17143117",
         "0.096777506",
         "0.048151277",
         "0.0022559299",
         "0.04557235",
         "-0.426953",
         "0"
        ],
        [
         "9606.ENSP00000427567",
         "0.2971663",
         "-0.26043007",
         "-0.21190572",
         "-0.5120672",
         "0.040382545",
         "-0.011765829",
         "-0.21615443",
         "-0.05708657",
         "-0.06217203",
         "-0.28977153",
         "0.052076347",
         "-0.12830433",
         "0.19937886",
         "0.2110355",
         "0.2395093",
         "-0.18537726",
         "0.2386777",
         "0.32073042",
         "-0.017225366",
         "0.04447568",
         "0.20890658",
         "-0.21264698",
         "-0.34041885",
         "-0.07991469",
         "0.14334701",
         "0.22249162",
         "-0.13556819",
         "0.036547877",
         "0.05726336",
         "0.013740232",
         "-0.04058106",
         "0.18286596",
         "0.23978195",
         "-0.06321644",
         "0.110390514",
         "-0.026373206",
         "-0.46132004",
         "0.29354456",
         "0.046591274",
         "-0.12787367",
         "-0.1024994",
         "-0.07106384",
         "0.35832712",
         "0.04425958",
         "-0.29201484",
         "-0.041357234",
         "0.0026129473",
         "-0.255514",
         "-0.09270037",
         "0.042564612",
         "-0.21168876",
         "0.047196947",
         "0.10518618",
         "0.33619937",
         "-0.034667525",
         "-0.12729308",
         "0.41204846",
         "-0.32745293",
         "-0.16879684",
         "-0.20434095",
         "-0.2544752",
         "-0.2036786",
         "-0.27859738",
         "0.3517034",
         "0.07647791",
         "-0.041917223",
         "-0.15447302",
         "-0.2040564",
         "-0.24328874",
         "-0.24635999",
         "-0.011969064",
         "0.25749195",
         "0.19748315",
         "-0.0012345293",
         "-0.1776288",
         "-0.08125049",
         "0.02389174",
         "0.1651036",
         "0.1724646",
         "-0.23298119",
         "-0.113915764",
         "-0.23417076",
         "-0.259954",
         "-0.2055291",
         "0.042139906",
         "0.04182455",
         "-0.05722585",
         "-0.15420122",
         "-0.15465824",
         "0.011815143",
         "-0.32961884",
         "-0.04073137",
         "-0.053290483",
         "0.43794358",
         "-0.16975613",
         "0.07676223",
         "0.21588731",
         "-0.027652722",
         "-0.17497472",
         "-0.30938435",
         "0.000773957",
         "-0.071945846",
         "0.15644756",
         "0.11456969",
         "-0.0064158146",
         "0.24060062",
         "-0.22441132",
         "0.13608922",
         "-0.011637406",
         "-0.434153",
         "-0.23677535",
         "0.10153654",
         "0.111588575",
         "-0.0463481",
         "-0.1209951",
         "0.13033608",
         "-0.013597761",
         "-0.2059229",
         "-0.25288054",
         "-0.15024944",
         "-0.2918006",
         "-0.021340407",
         "-0.07109202",
         "-0.009000731",
         "0.056501973",
         "0.1693984",
         "0.25436047",
         "-0.3257642",
         "0"
        ]
       ],
       "shape": {
        "columns": 129,
        "rows": 3
       }
      },
      "text/html": [
       "<div>\n",
       "<style scoped>\n",
       "    .dataframe tbody tr th:only-of-type {\n",
       "        vertical-align: middle;\n",
       "    }\n",
       "\n",
       "    .dataframe tbody tr th {\n",
       "        vertical-align: top;\n",
       "    }\n",
       "\n",
       "    .dataframe thead th {\n",
       "        text-align: right;\n",
       "    }\n",
       "</style>\n",
       "<table border=\"1\" class=\"dataframe\">\n",
       "  <thead>\n",
       "    <tr style=\"text-align: right;\">\n",
       "      <th></th>\n",
       "      <th>feature_0</th>\n",
       "      <th>feature_1</th>\n",
       "      <th>feature_2</th>\n",
       "      <th>feature_3</th>\n",
       "      <th>feature_4</th>\n",
       "      <th>feature_5</th>\n",
       "      <th>feature_6</th>\n",
       "      <th>feature_7</th>\n",
       "      <th>feature_8</th>\n",
       "      <th>feature_9</th>\n",
       "      <th>...</th>\n",
       "      <th>feature_119</th>\n",
       "      <th>feature_120</th>\n",
       "      <th>feature_121</th>\n",
       "      <th>feature_122</th>\n",
       "      <th>feature_123</th>\n",
       "      <th>feature_124</th>\n",
       "      <th>feature_125</th>\n",
       "      <th>feature_126</th>\n",
       "      <th>feature_127</th>\n",
       "      <th>label</th>\n",
       "    </tr>\n",
       "    <tr>\n",
       "      <th>string_id</th>\n",
       "      <th></th>\n",
       "      <th></th>\n",
       "      <th></th>\n",
       "      <th></th>\n",
       "      <th></th>\n",
       "      <th></th>\n",
       "      <th></th>\n",
       "      <th></th>\n",
       "      <th></th>\n",
       "      <th></th>\n",
       "      <th></th>\n",
       "      <th></th>\n",
       "      <th></th>\n",
       "      <th></th>\n",
       "      <th></th>\n",
       "      <th></th>\n",
       "      <th></th>\n",
       "      <th></th>\n",
       "      <th></th>\n",
       "      <th></th>\n",
       "      <th></th>\n",
       "    </tr>\n",
       "  </thead>\n",
       "  <tbody>\n",
       "    <tr>\n",
       "      <th>9606.ENSP00000000233</th>\n",
       "      <td>0.155726</td>\n",
       "      <td>-0.354209</td>\n",
       "      <td>-0.119713</td>\n",
       "      <td>0.077604</td>\n",
       "      <td>-0.088752</td>\n",
       "      <td>-0.084138</td>\n",
       "      <td>-0.194337</td>\n",
       "      <td>0.245641</td>\n",
       "      <td>-0.013034</td>\n",
       "      <td>0.108652</td>\n",
       "      <td>...</td>\n",
       "      <td>0.094826</td>\n",
       "      <td>0.219137</td>\n",
       "      <td>-0.580060</td>\n",
       "      <td>-0.044324</td>\n",
       "      <td>0.104809</td>\n",
       "      <td>0.021702</td>\n",
       "      <td>0.040533</td>\n",
       "      <td>0.401031</td>\n",
       "      <td>-0.251952</td>\n",
       "      <td>0</td>\n",
       "    </tr>\n",
       "    <tr>\n",
       "      <th>9606.ENSP00000356607</th>\n",
       "      <td>-0.025839</td>\n",
       "      <td>-0.114901</td>\n",
       "      <td>0.265679</td>\n",
       "      <td>-0.251836</td>\n",
       "      <td>-0.078812</td>\n",
       "      <td>0.178152</td>\n",
       "      <td>0.069153</td>\n",
       "      <td>-0.101698</td>\n",
       "      <td>0.328611</td>\n",
       "      <td>-0.016503</td>\n",
       "      <td>...</td>\n",
       "      <td>-0.167052</td>\n",
       "      <td>-0.228639</td>\n",
       "      <td>-0.133275</td>\n",
       "      <td>-0.171431</td>\n",
       "      <td>0.096778</td>\n",
       "      <td>0.048151</td>\n",
       "      <td>0.002256</td>\n",
       "      <td>0.045572</td>\n",
       "      <td>-0.426953</td>\n",
       "      <td>0</td>\n",
       "    </tr>\n",
       "    <tr>\n",
       "      <th>9606.ENSP00000427567</th>\n",
       "      <td>0.297166</td>\n",
       "      <td>-0.260430</td>\n",
       "      <td>-0.211906</td>\n",
       "      <td>-0.512067</td>\n",
       "      <td>0.040383</td>\n",
       "      <td>-0.011766</td>\n",
       "      <td>-0.216154</td>\n",
       "      <td>-0.057087</td>\n",
       "      <td>-0.062172</td>\n",
       "      <td>-0.289772</td>\n",
       "      <td>...</td>\n",
       "      <td>-0.150249</td>\n",
       "      <td>-0.291801</td>\n",
       "      <td>-0.021340</td>\n",
       "      <td>-0.071092</td>\n",
       "      <td>-0.009001</td>\n",
       "      <td>0.056502</td>\n",
       "      <td>0.169398</td>\n",
       "      <td>0.254360</td>\n",
       "      <td>-0.325764</td>\n",
       "      <td>0</td>\n",
       "    </tr>\n",
       "  </tbody>\n",
       "</table>\n",
       "<p>3 rows × 129 columns</p>\n",
       "</div>"
      ],
      "text/plain": [
       "                      feature_0  feature_1  feature_2  feature_3  feature_4  \\\n",
       "string_id                                                                     \n",
       "9606.ENSP00000000233   0.155726  -0.354209  -0.119713   0.077604  -0.088752   \n",
       "9606.ENSP00000356607  -0.025839  -0.114901   0.265679  -0.251836  -0.078812   \n",
       "9606.ENSP00000427567   0.297166  -0.260430  -0.211906  -0.512067   0.040383   \n",
       "\n",
       "                      feature_5  feature_6  feature_7  feature_8  feature_9  \\\n",
       "string_id                                                                     \n",
       "9606.ENSP00000000233  -0.084138  -0.194337   0.245641  -0.013034   0.108652   \n",
       "9606.ENSP00000356607   0.178152   0.069153  -0.101698   0.328611  -0.016503   \n",
       "9606.ENSP00000427567  -0.011766  -0.216154  -0.057087  -0.062172  -0.289772   \n",
       "\n",
       "                      ...  feature_119  feature_120  feature_121  feature_122  \\\n",
       "string_id             ...                                                       \n",
       "9606.ENSP00000000233  ...     0.094826     0.219137    -0.580060    -0.044324   \n",
       "9606.ENSP00000356607  ...    -0.167052    -0.228639    -0.133275    -0.171431   \n",
       "9606.ENSP00000427567  ...    -0.150249    -0.291801    -0.021340    -0.071092   \n",
       "\n",
       "                      feature_123  feature_124  feature_125  feature_126  \\\n",
       "string_id                                                                  \n",
       "9606.ENSP00000000233     0.104809     0.021702     0.040533     0.401031   \n",
       "9606.ENSP00000356607     0.096778     0.048151     0.002256     0.045572   \n",
       "9606.ENSP00000427567    -0.009001     0.056502     0.169398     0.254360   \n",
       "\n",
       "                      feature_127  label  \n",
       "string_id                                 \n",
       "9606.ENSP00000000233    -0.251952      0  \n",
       "9606.ENSP00000356607    -0.426953      0  \n",
       "9606.ENSP00000427567    -0.325764      0  \n",
       "\n",
       "[3 rows x 129 columns]"
      ]
     },
     "execution_count": 5,
     "metadata": {},
     "output_type": "execute_result"
    }
   ],
   "source": [
    "feature_df.set_index('string_id', inplace=True)\n",
    "feature_df.head(3)"
   ]
  },
  {
   "cell_type": "code",
   "execution_count": null,
   "id": "cdd54982",
   "metadata": {},
   "outputs": [],
   "source": [
    "from scipy.cluster.hierarchy import fcluster, linkage"
   ]
  },
  {
   "cell_type": "code",
   "execution_count": 7,
   "id": "550b0634",
   "metadata": {},
   "outputs": [],
   "source": [
    "# Compute linkage matrix once\n",
    "mat = linkage(feature_df.values, method='ward')\n",
    "\n",
    "# Get labels for desired number of clusters\n",
    "n_clusters = 5\n",
    "hierarchical_labels = fcluster(mat, n_clusters, criterion='maxclust')"
   ]
  },
  {
   "cell_type": "code",
   "execution_count": 10,
   "id": "02657c7d",
   "metadata": {},
   "outputs": [],
   "source": [
    "save_info = (feature_df.index.to_list(),mat)"
   ]
  },
  {
   "cell_type": "code",
   "execution_count": 12,
   "id": "d03b344a",
   "metadata": {},
   "outputs": [],
   "source": [
    "import pickle\n",
    "# Save the linkage matrix to a file\n",
    "with open('/itf-fi-ml/shared/users/ziyuzh/baseline/src/linkage_matrix.pkl', 'wb') as f:\n",
    "    pickle.dump(save_info, f)"
   ]
  },
  {
   "cell_type": "code",
   "execution_count": 14,
   "id": "6911a928",
   "metadata": {},
   "outputs": [
    {
     "data": {
      "text/plain": [
       "[1, 2, 3, 4, 5]"
      ]
     },
     "execution_count": 14,
     "metadata": {},
     "output_type": "execute_result"
    }
   ],
   "source": [
    "list(range(1,6))"
   ]
  },
  {
   "cell_type": "code",
   "execution_count": 17,
   "id": "853638f7",
   "metadata": {},
   "outputs": [
    {
     "data": {
      "text/plain": [
       "(10962, 1307, 427)"
      ]
     },
     "execution_count": 17,
     "metadata": {},
     "output_type": "execute_result"
    }
   ],
   "source": [
    "import numpy as np\n",
    "np.count_nonzero(hierarchical_labels == 5),np.count_nonzero(hierarchical_labels == 4),np.count_nonzero(hierarchical_labels == 3)"
   ]
  },
  {
   "cell_type": "code",
   "execution_count": 21,
   "id": "aea026a1",
   "metadata": {},
   "outputs": [
    {
     "data": {
      "text/plain": [
       "array(['9606.ENSP00000000233', '9606.ENSP00000356607',\n",
       "       '9606.ENSP00000427567', ..., '9606.ENSP00000497579',\n",
       "       '9606.ENSP00000421131', '9606.ENSP00000482038'], dtype='<U20')"
      ]
     },
     "execution_count": 21,
     "metadata": {},
     "output_type": "execute_result"
    }
   ],
   "source": [
    "np.array(feature_df.index.to_list())[np.where(hierarchical_labels == 5)[0]]"
   ]
  },
  {
   "cell_type": "code",
   "execution_count": 26,
   "id": "6816438b",
   "metadata": {},
   "outputs": [
    {
     "data": {
      "text/plain": [
       "array([    6,    10,    17, ..., 19593, 19615, 19619])"
      ]
     },
     "execution_count": 26,
     "metadata": {},
     "output_type": "execute_result"
    }
   ],
   "source": [
    "np.where(hierarchical_labels == 2)[0]"
   ]
  },
  {
   "cell_type": "code",
   "execution_count": null,
   "id": "33f08c9d",
   "metadata": {},
   "outputs": [],
   "source": []
  }
 ],
 "metadata": {
  "kernelspec": {
   "display_name": ".venv",
   "language": "python",
   "name": "python3"
  },
  "language_info": {
   "codemirror_mode": {
    "name": "ipython",
    "version": 3
   },
   "file_extension": ".py",
   "mimetype": "text/x-python",
   "name": "python",
   "nbconvert_exporter": "python",
   "pygments_lexer": "ipython3",
   "version": "3.11.11"
  }
 },
 "nbformat": 4,
 "nbformat_minor": 5
}
